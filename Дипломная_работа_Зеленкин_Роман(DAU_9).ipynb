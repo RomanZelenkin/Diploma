{
  "nbformat": 4,
  "nbformat_minor": 0,
  "metadata": {
    "colab": {
      "name": "Дипломная работа-Зеленкин Роман(DAU-9).ipynb",
      "provenance": [],
      "collapsed_sections": [],
      "toc_visible": true
    },
    "kernelspec": {
      "name": "python3",
      "display_name": "Python 3"
    },
    "language_info": {
      "name": "python"
    }
  },
  "cells": [
    {
      "cell_type": "markdown",
      "source": [
        "**Дипломная работа по программе “Аналитик данных с нуля до middle”**\n",
        "\n",
        "**Роман Зеленкин (DAU-9)**\n"
      ],
      "metadata": {
        "id": "AWbhByJeqK7d"
      }
    },
    {
      "cell_type": "markdown",
      "source": [
        "# Тема работы\n",
        "**\"Анализ данных о видеоиграх (поиск инсайтов, составление рекомендаций стейкхолдерам, построение функции рекомендаций игр)\"**."
      ],
      "metadata": {
        "id": "JY5DxSoD3PgJ"
      }
    },
    {
      "cell_type": "markdown",
      "source": [
        "# Цель работы \n",
        "Основные цели работы:\n",
        "* провести анализ данных о видеоиграх\n",
        "* выявить особенности в имеющихся данных и сформировать рекомендации стейкхолдерам на их основе\n",
        "* реализовать на основе данных функцию рекомендаций, которая будет предлагать видеоигры на основе опыта пользователя.\n"
      ],
      "metadata": {
        "id": "LcZWlkQrDE6c"
      }
    },
    {
      "cell_type": "markdown",
      "source": [
        "# Основные шаги \n",
        "для достижения поставленной цели:\n",
        "1. Знакомство со структурой и содержанием набора данных и их описание.\n",
        "2. Предварительная обработка и изучение имеющихся данных.\n",
        "3. Работа с данными:\n",
        "  * вывод основных статистик\n",
        "  * построение визуализаций \n",
        "4. Составление рекомендаций стейкхолдерам.\n",
        "5. Создание функции рекомендаций:\n",
        "  * выбор оптимального типа рекомендательной системы\n",
        "  * отбор ключевых слов в описании игровых тайтлов\n",
        "  * преобразование метаданных видеоигр\n",
        "  * реализация функции рекомендаций\n",
        "  * проверка работоспособности функции\n",
        "6. Подведение итогов.\n"
      ],
      "metadata": {
        "id": "0AvPQHtCnAPS"
      }
    },
    {
      "cell_type": "markdown",
      "source": [
        "# 1.Описание данных"
      ],
      "metadata": {
        "id": "qMwUdXsw2zOK"
      }
    },
    {
      "cell_type": "markdown",
      "source": [
        "Набор данных [\"Games of All Time from Metacritic\"](https://www.kaggle.com/datasets/xcherry/games-of-all-time-from-metacritic) взят c ресурса [Kaggle](https://www.kaggle.com/).\n",
        "\n",
        "\n",
        "Датасет содержит информацию по 8831 игре, представленной в списке выпущенных игр за всё время и на всех платформах с сайта-агрегатора [Metacritic](https://www.metacritic.com/).\n",
        "\n",
        "Датасет содержит следующие столбцы:\n",
        "* game_name - название видеоигры\n",
        "* meta_score - средняя оценка, выставленная критиками\n",
        "* user_score - средняя оценка, выставленная пользователями (переведена в соответствующий оценкам критиков разряд)\n",
        "* platform - игровая платформа, на которой представлена игра\n",
        "* description - описание игры (сюжет, элементы геймплея и т.д.)\n",
        "* url - страница игры на сайте [Metacritic](https://www.metacritic.com/)\n",
        "* developer - студия-разработчик игры\n",
        "* genre - игровой жанр\n",
        "* type - тип игры (одиночная/многопользовательская)\n",
        "* rating - возрастной рейтинг игры."
      ],
      "metadata": {
        "id": "0swnT9aB2-f8"
      }
    },
    {
      "cell_type": "markdown",
      "source": [
        "## Знакомство с датасетом."
      ],
      "metadata": {
        "id": "oOwQ9QKpgAjl"
      }
    },
    {
      "cell_type": "code",
      "execution_count": null,
      "metadata": {
        "id": "W0FYdTrCezyg"
      },
      "outputs": [],
      "source": [
        "import pandas as pd\n",
        "import matplotlib.pyplot as plt\n",
        "import seaborn as sns\n",
        "import numpy as np\n",
        "import plotly\n",
        "import plotly.graph_objs as go\n",
        "import plotly.express as px"
      ]
    },
    {
      "cell_type": "code",
      "source": [
        "from pylab import rcParams\n",
        "rcParams['figure.figsize'] = 11,7"
      ],
      "metadata": {
        "id": "UpMmmKUJERFK"
      },
      "execution_count": null,
      "outputs": []
    },
    {
      "cell_type": "code",
      "source": [
        "df = pd.read_csv('games_of_all_time.csv')\n",
        "df.head()"
      ],
      "metadata": {
        "colab": {
          "base_uri": "https://localhost:8080/",
          "height": 600
        },
        "id": "qVYWjiSBfIx8",
        "outputId": "579e8afd-20f5-4fac-d8ad-c7e5c1a37097"
      },
      "execution_count": null,
      "outputs": [
        {
          "output_type": "execute_result",
          "data": {
            "text/plain": [
              "                              game_name  meta_score  user_score  \\\n",
              "0  The Legend of Zelda: Ocarina of Time        99.0        91.0   \n",
              "1                    Super Mario Galaxy        97.0        91.0   \n",
              "2                  Super Mario Galaxy 2        97.0        91.0   \n",
              "3                         Metroid Prime        97.0        89.0   \n",
              "4                   Super Mario Odyssey        97.0        89.0   \n",
              "\n",
              "          platform                                        description  \\\n",
              "0  ['nintendo-64']  As a young boy, Link is tricked by Ganondorf, ...   \n",
              "1          ['wii']  [Metacritic's 2007 Wii Game of the Year] The u...   \n",
              "2          ['wii']  Super Mario Galaxy 2, the sequel to the galaxy...   \n",
              "3     ['gamecube']  Samus returns in a new mission to unravel the ...   \n",
              "4       ['switch']  New Evolution of Mario Sandbox-Style Gameplay....   \n",
              "\n",
              "                                                 url            developer  \\\n",
              "0  https://www.metacritic.com/game/nintendo-64/th...             Nintendo   \n",
              "1  https://www.metacritic.com/game/wii/super-mari...             Nintendo   \n",
              "2  https://www.metacritic.com/game/wii/super-mari...  Nintendo EAD Tokyo    \n",
              "3  https://www.metacritic.com/game/gamecube/metro...        Retro Studios   \n",
              "4  https://www.metacritic.com/game/switch/super-m...             Nintendo   \n",
              "\n",
              "                                             genre          type rating  \n",
              "0                  ['Action Adventure', 'Fantasy']  singleplayer      E  \n",
              "1                   ['Action', 'Platformer', '3D']  singleplayer      E  \n",
              "2                   ['Action', 'Platformer', '3D']  singleplayer      E  \n",
              "3  ['Action', 'Shooter', 'First-Person', 'Sci-Fi']  singleplayer      T  \n",
              "4                   ['Action', 'Platformer', '3D']  singleplayer   E10+  "
            ],
            "text/html": [
              "\n",
              "  <div id=\"df-8088de9b-e46f-4490-aa4f-e5f032ce61ca\">\n",
              "    <div class=\"colab-df-container\">\n",
              "      <div>\n",
              "<style scoped>\n",
              "    .dataframe tbody tr th:only-of-type {\n",
              "        vertical-align: middle;\n",
              "    }\n",
              "\n",
              "    .dataframe tbody tr th {\n",
              "        vertical-align: top;\n",
              "    }\n",
              "\n",
              "    .dataframe thead th {\n",
              "        text-align: right;\n",
              "    }\n",
              "</style>\n",
              "<table border=\"1\" class=\"dataframe\">\n",
              "  <thead>\n",
              "    <tr style=\"text-align: right;\">\n",
              "      <th></th>\n",
              "      <th>game_name</th>\n",
              "      <th>meta_score</th>\n",
              "      <th>user_score</th>\n",
              "      <th>platform</th>\n",
              "      <th>description</th>\n",
              "      <th>url</th>\n",
              "      <th>developer</th>\n",
              "      <th>genre</th>\n",
              "      <th>type</th>\n",
              "      <th>rating</th>\n",
              "    </tr>\n",
              "  </thead>\n",
              "  <tbody>\n",
              "    <tr>\n",
              "      <th>0</th>\n",
              "      <td>The Legend of Zelda: Ocarina of Time</td>\n",
              "      <td>99.0</td>\n",
              "      <td>91.0</td>\n",
              "      <td>['nintendo-64']</td>\n",
              "      <td>As a young boy, Link is tricked by Ganondorf, ...</td>\n",
              "      <td>https://www.metacritic.com/game/nintendo-64/th...</td>\n",
              "      <td>Nintendo</td>\n",
              "      <td>['Action Adventure', 'Fantasy']</td>\n",
              "      <td>singleplayer</td>\n",
              "      <td>E</td>\n",
              "    </tr>\n",
              "    <tr>\n",
              "      <th>1</th>\n",
              "      <td>Super Mario Galaxy</td>\n",
              "      <td>97.0</td>\n",
              "      <td>91.0</td>\n",
              "      <td>['wii']</td>\n",
              "      <td>[Metacritic's 2007 Wii Game of the Year] The u...</td>\n",
              "      <td>https://www.metacritic.com/game/wii/super-mari...</td>\n",
              "      <td>Nintendo</td>\n",
              "      <td>['Action', 'Platformer', '3D']</td>\n",
              "      <td>singleplayer</td>\n",
              "      <td>E</td>\n",
              "    </tr>\n",
              "    <tr>\n",
              "      <th>2</th>\n",
              "      <td>Super Mario Galaxy 2</td>\n",
              "      <td>97.0</td>\n",
              "      <td>91.0</td>\n",
              "      <td>['wii']</td>\n",
              "      <td>Super Mario Galaxy 2, the sequel to the galaxy...</td>\n",
              "      <td>https://www.metacritic.com/game/wii/super-mari...</td>\n",
              "      <td>Nintendo EAD Tokyo</td>\n",
              "      <td>['Action', 'Platformer', '3D']</td>\n",
              "      <td>singleplayer</td>\n",
              "      <td>E</td>\n",
              "    </tr>\n",
              "    <tr>\n",
              "      <th>3</th>\n",
              "      <td>Metroid Prime</td>\n",
              "      <td>97.0</td>\n",
              "      <td>89.0</td>\n",
              "      <td>['gamecube']</td>\n",
              "      <td>Samus returns in a new mission to unravel the ...</td>\n",
              "      <td>https://www.metacritic.com/game/gamecube/metro...</td>\n",
              "      <td>Retro Studios</td>\n",
              "      <td>['Action', 'Shooter', 'First-Person', 'Sci-Fi']</td>\n",
              "      <td>singleplayer</td>\n",
              "      <td>T</td>\n",
              "    </tr>\n",
              "    <tr>\n",
              "      <th>4</th>\n",
              "      <td>Super Mario Odyssey</td>\n",
              "      <td>97.0</td>\n",
              "      <td>89.0</td>\n",
              "      <td>['switch']</td>\n",
              "      <td>New Evolution of Mario Sandbox-Style Gameplay....</td>\n",
              "      <td>https://www.metacritic.com/game/switch/super-m...</td>\n",
              "      <td>Nintendo</td>\n",
              "      <td>['Action', 'Platformer', '3D']</td>\n",
              "      <td>singleplayer</td>\n",
              "      <td>E10+</td>\n",
              "    </tr>\n",
              "  </tbody>\n",
              "</table>\n",
              "</div>\n",
              "      <button class=\"colab-df-convert\" onclick=\"convertToInteractive('df-8088de9b-e46f-4490-aa4f-e5f032ce61ca')\"\n",
              "              title=\"Convert this dataframe to an interactive table.\"\n",
              "              style=\"display:none;\">\n",
              "        \n",
              "  <svg xmlns=\"http://www.w3.org/2000/svg\" height=\"24px\"viewBox=\"0 0 24 24\"\n",
              "       width=\"24px\">\n",
              "    <path d=\"M0 0h24v24H0V0z\" fill=\"none\"/>\n",
              "    <path d=\"M18.56 5.44l.94 2.06.94-2.06 2.06-.94-2.06-.94-.94-2.06-.94 2.06-2.06.94zm-11 1L8.5 8.5l.94-2.06 2.06-.94-2.06-.94L8.5 2.5l-.94 2.06-2.06.94zm10 10l.94 2.06.94-2.06 2.06-.94-2.06-.94-.94-2.06-.94 2.06-2.06.94z\"/><path d=\"M17.41 7.96l-1.37-1.37c-.4-.4-.92-.59-1.43-.59-.52 0-1.04.2-1.43.59L10.3 9.45l-7.72 7.72c-.78.78-.78 2.05 0 2.83L4 21.41c.39.39.9.59 1.41.59.51 0 1.02-.2 1.41-.59l7.78-7.78 2.81-2.81c.8-.78.8-2.07 0-2.86zM5.41 20L4 18.59l7.72-7.72 1.47 1.35L5.41 20z\"/>\n",
              "  </svg>\n",
              "      </button>\n",
              "      \n",
              "  <style>\n",
              "    .colab-df-container {\n",
              "      display:flex;\n",
              "      flex-wrap:wrap;\n",
              "      gap: 12px;\n",
              "    }\n",
              "\n",
              "    .colab-df-convert {\n",
              "      background-color: #E8F0FE;\n",
              "      border: none;\n",
              "      border-radius: 50%;\n",
              "      cursor: pointer;\n",
              "      display: none;\n",
              "      fill: #1967D2;\n",
              "      height: 32px;\n",
              "      padding: 0 0 0 0;\n",
              "      width: 32px;\n",
              "    }\n",
              "\n",
              "    .colab-df-convert:hover {\n",
              "      background-color: #E2EBFA;\n",
              "      box-shadow: 0px 1px 2px rgba(60, 64, 67, 0.3), 0px 1px 3px 1px rgba(60, 64, 67, 0.15);\n",
              "      fill: #174EA6;\n",
              "    }\n",
              "\n",
              "    [theme=dark] .colab-df-convert {\n",
              "      background-color: #3B4455;\n",
              "      fill: #D2E3FC;\n",
              "    }\n",
              "\n",
              "    [theme=dark] .colab-df-convert:hover {\n",
              "      background-color: #434B5C;\n",
              "      box-shadow: 0px 1px 3px 1px rgba(0, 0, 0, 0.15);\n",
              "      filter: drop-shadow(0px 1px 2px rgba(0, 0, 0, 0.3));\n",
              "      fill: #FFFFFF;\n",
              "    }\n",
              "  </style>\n",
              "\n",
              "      <script>\n",
              "        const buttonEl =\n",
              "          document.querySelector('#df-8088de9b-e46f-4490-aa4f-e5f032ce61ca button.colab-df-convert');\n",
              "        buttonEl.style.display =\n",
              "          google.colab.kernel.accessAllowed ? 'block' : 'none';\n",
              "\n",
              "        async function convertToInteractive(key) {\n",
              "          const element = document.querySelector('#df-8088de9b-e46f-4490-aa4f-e5f032ce61ca');\n",
              "          const dataTable =\n",
              "            await google.colab.kernel.invokeFunction('convertToInteractive',\n",
              "                                                     [key], {});\n",
              "          if (!dataTable) return;\n",
              "\n",
              "          const docLinkHtml = 'Like what you see? Visit the ' +\n",
              "            '<a target=\"_blank\" href=https://colab.research.google.com/notebooks/data_table.ipynb>data table notebook</a>'\n",
              "            + ' to learn more about interactive tables.';\n",
              "          element.innerHTML = '';\n",
              "          dataTable['output_type'] = 'display_data';\n",
              "          await google.colab.output.renderOutput(dataTable, element);\n",
              "          const docLink = document.createElement('div');\n",
              "          docLink.innerHTML = docLinkHtml;\n",
              "          element.appendChild(docLink);\n",
              "        }\n",
              "      </script>\n",
              "    </div>\n",
              "  </div>\n",
              "  "
            ]
          },
          "metadata": {},
          "execution_count": 3
        }
      ]
    },
    {
      "cell_type": "code",
      "source": [
        "df.columns"
      ],
      "metadata": {
        "colab": {
          "base_uri": "https://localhost:8080/"
        },
        "id": "0ZosdQeD0czX",
        "outputId": "f688a755-81a9-4268-8a32-1a5ac1d039e7"
      },
      "execution_count": null,
      "outputs": [
        {
          "output_type": "execute_result",
          "data": {
            "text/plain": [
              "Index(['game_name', 'meta_score', 'user_score', 'platform', 'description',\n",
              "       'url', 'developer', 'genre', 'type', 'rating'],\n",
              "      dtype='object')"
            ]
          },
          "metadata": {},
          "execution_count": 4
        }
      ]
    },
    {
      "cell_type": "code",
      "source": [
        "df.info()"
      ],
      "metadata": {
        "colab": {
          "base_uri": "https://localhost:8080/"
        },
        "id": "SNltW9Gvfp_E",
        "outputId": "05df0c04-9dd9-4288-8d6b-9b1215626432"
      },
      "execution_count": null,
      "outputs": [
        {
          "output_type": "stream",
          "name": "stdout",
          "text": [
            "<class 'pandas.core.frame.DataFrame'>\n",
            "RangeIndex: 8831 entries, 0 to 8830\n",
            "Data columns (total 10 columns):\n",
            " #   Column       Non-Null Count  Dtype  \n",
            "---  ------       --------------  -----  \n",
            " 0   game_name    8831 non-null   object \n",
            " 1   meta_score   8831 non-null   float64\n",
            " 2   user_score   8831 non-null   float64\n",
            " 3   platform     8831 non-null   object \n",
            " 4   description  8831 non-null   object \n",
            " 5   url          8831 non-null   object \n",
            " 6   developer    8821 non-null   object \n",
            " 7   genre        8827 non-null   object \n",
            " 8   type         6727 non-null   object \n",
            " 9   rating       7691 non-null   object \n",
            "dtypes: float64(2), object(8)\n",
            "memory usage: 690.0+ KB\n"
          ]
        }
      ]
    },
    {
      "cell_type": "markdown",
      "source": [
        "# 2.Предварительная обработка и изучение имеющихся данных."
      ],
      "metadata": {
        "id": "W5RPqJ_Cge3b"
      }
    },
    {
      "cell_type": "markdown",
      "source": [
        "Сделаю приписку 'Rating_' к содержимому столбца 'rating'. Это важно, так как в дальнейшем необходимо будет отличать обозначения возрастного рейтинга от простых букв."
      ],
      "metadata": {
        "id": "nOSL5z-qgXAD"
      }
    },
    {
      "cell_type": "code",
      "source": [
        "df.rating.value_counts()"
      ],
      "metadata": {
        "colab": {
          "base_uri": "https://localhost:8080/"
        },
        "id": "FgC3K7WQjI3Z",
        "outputId": "81dd130c-9de5-4d5a-a434-ff54a087a1a8"
      },
      "execution_count": null,
      "outputs": [
        {
          "output_type": "execute_result",
          "data": {
            "text/plain": [
              "T       2636\n",
              "E       2371\n",
              "M       1535\n",
              "E10+    1128\n",
              "RP        14\n",
              "K-A        6\n",
              "AO         1\n",
              "Name: rating, dtype: int64"
            ]
          },
          "metadata": {},
          "execution_count": 7
        }
      ]
    },
    {
      "cell_type": "code",
      "source": [
        "df.rating = 'rating_'+df.rating "
      ],
      "metadata": {
        "id": "0ciV-ybRgWYS"
      },
      "execution_count": null,
      "outputs": []
    },
    {
      "cell_type": "markdown",
      "source": [
        "Так как рейтинг 'K-A' в 1998 году был упразднён, и его заменил рейтинг 'E', имеет смысл объединить эти значения в одно."
      ],
      "metadata": {
        "id": "lWXfUUH72H3F"
      }
    },
    {
      "cell_type": "code",
      "source": [
        "df.loc[(df.rating == 'rating_K-A'), 'rating'] = 'rating_E'"
      ],
      "metadata": {
        "id": "Twc3EFfO4NUP"
      },
      "execution_count": null,
      "outputs": []
    },
    {
      "cell_type": "code",
      "source": [
        "df.rating.value_counts()"
      ],
      "metadata": {
        "colab": {
          "base_uri": "https://localhost:8080/"
        },
        "id": "62bmG7mHwfQd",
        "outputId": "bc2db3ad-9590-41c3-8c95-28b42202290d"
      },
      "execution_count": null,
      "outputs": [
        {
          "output_type": "execute_result",
          "data": {
            "text/plain": [
              "rating_T       2636\n",
              "rating_E       2377\n",
              "rating_M       1535\n",
              "rating_E10+    1128\n",
              "rating_RP        14\n",
              "rating_AO         1\n",
              "Name: rating, dtype: int64"
            ]
          },
          "metadata": {},
          "execution_count": 8
        }
      ]
    },
    {
      "cell_type": "markdown",
      "source": [
        "В столбцах 'developer', 'genre', 'type' и 'rating' есть пропуски в значениях. \n",
        "\n",
        "Заполню их значением 'NULL'."
      ],
      "metadata": {
        "id": "sMec4cdVgGmo"
      }
    },
    {
      "cell_type": "code",
      "source": [
        "df.fillna('NULL', inplace = True)"
      ],
      "metadata": {
        "id": "bXRcEHUXhnCX"
      },
      "execution_count": null,
      "outputs": []
    },
    {
      "cell_type": "code",
      "source": [
        "df.info()"
      ],
      "metadata": {
        "colab": {
          "base_uri": "https://localhost:8080/"
        },
        "id": "KIcrIkRlhjZH",
        "outputId": "a5fac2d0-0c84-4cf8-9dc7-0cf938fa4e64"
      },
      "execution_count": null,
      "outputs": [
        {
          "output_type": "stream",
          "name": "stdout",
          "text": [
            "<class 'pandas.core.frame.DataFrame'>\n",
            "RangeIndex: 8831 entries, 0 to 8830\n",
            "Data columns (total 10 columns):\n",
            " #   Column       Non-Null Count  Dtype  \n",
            "---  ------       --------------  -----  \n",
            " 0   game_name    8831 non-null   object \n",
            " 1   meta_score   8831 non-null   float64\n",
            " 2   user_score   8831 non-null   float64\n",
            " 3   platform     8831 non-null   object \n",
            " 4   description  8831 non-null   object \n",
            " 5   url          8831 non-null   object \n",
            " 6   developer    8831 non-null   object \n",
            " 7   genre        8831 non-null   object \n",
            " 8   type         8831 non-null   object \n",
            " 9   rating       8831 non-null   object \n",
            "dtypes: float64(2), object(8)\n",
            "memory usage: 690.0+ KB\n"
          ]
        }
      ]
    },
    {
      "cell_type": "markdown",
      "source": [
        "## Проверка на наличие строчек - дубликатов в данных."
      ],
      "metadata": {
        "id": "vjAGzrCFiD9t"
      }
    },
    {
      "cell_type": "code",
      "source": [
        "df.drop_duplicates(inplace = True)"
      ],
      "metadata": {
        "id": "4kG8RKtri0do"
      },
      "execution_count": null,
      "outputs": []
    },
    {
      "cell_type": "code",
      "source": [
        "df.info()"
      ],
      "metadata": {
        "colab": {
          "base_uri": "https://localhost:8080/"
        },
        "id": "qQ7GHfGEi4Bh",
        "outputId": "344af402-5be1-49b0-9d2b-0164f1324ae8"
      },
      "execution_count": null,
      "outputs": [
        {
          "output_type": "stream",
          "name": "stdout",
          "text": [
            "<class 'pandas.core.frame.DataFrame'>\n",
            "Int64Index: 8831 entries, 0 to 8830\n",
            "Data columns (total 10 columns):\n",
            " #   Column       Non-Null Count  Dtype  \n",
            "---  ------       --------------  -----  \n",
            " 0   game_name    8831 non-null   object \n",
            " 1   meta_score   8831 non-null   float64\n",
            " 2   user_score   8831 non-null   float64\n",
            " 3   platform     8831 non-null   object \n",
            " 4   description  8831 non-null   object \n",
            " 5   url          8831 non-null   object \n",
            " 6   developer    8831 non-null   object \n",
            " 7   genre        8831 non-null   object \n",
            " 8   type         8831 non-null   object \n",
            " 9   rating       8831 non-null   object \n",
            "dtypes: float64(2), object(8)\n",
            "memory usage: 758.9+ KB\n"
          ]
        }
      ]
    },
    {
      "cell_type": "markdown",
      "source": [
        "## Проверка названия игр на уникальность."
      ],
      "metadata": {
        "id": "9TK8w3V2i9hJ"
      }
    },
    {
      "cell_type": "code",
      "source": [
        "df.game_name.nunique()"
      ],
      "metadata": {
        "colab": {
          "base_uri": "https://localhost:8080/"
        },
        "id": "LR1UxoYFhkOn",
        "outputId": "c2c74a21-1291-4333-e48f-cceaf7dec949"
      },
      "execution_count": null,
      "outputs": [
        {
          "output_type": "execute_result",
          "data": {
            "text/plain": [
              "8831"
            ]
          },
          "metadata": {},
          "execution_count": 13
        }
      ]
    },
    {
      "cell_type": "markdown",
      "source": [
        "Все указанные в наборе данных игры имеют уникальное название."
      ],
      "metadata": {
        "id": "yJXXnXvstNAi"
      }
    },
    {
      "cell_type": "markdown",
      "source": [
        "## Оценки, выставленные критиками и пользователями."
      ],
      "metadata": {
        "id": "biXKtN94kYsW"
      }
    },
    {
      "cell_type": "code",
      "source": [
        "df.meta_score.value_counts(ascending = False)"
      ],
      "metadata": {
        "colab": {
          "base_uri": "https://localhost:8080/"
        },
        "id": "7INvnM45jVhJ",
        "outputId": "c07c4a41-eaa7-41ed-f1ee-a8a2d44b0c87"
      },
      "execution_count": null,
      "outputs": [
        {
          "output_type": "execute_result",
          "data": {
            "text/plain": [
              "80.00    371\n",
              "77.00    352\n",
              "76.00    345\n",
              "74.00    344\n",
              "72.00    289\n",
              "        ... \n",
              "96.80      1\n",
              "76.75      1\n",
              "44.50      1\n",
              "50.50      1\n",
              "46.67      1\n",
              "Name: meta_score, Length: 297, dtype: int64"
            ]
          },
          "metadata": {},
          "execution_count": 14
        }
      ]
    },
    {
      "cell_type": "code",
      "source": [
        "df.user_score.value_counts(ascending = False)"
      ],
      "metadata": {
        "colab": {
          "base_uri": "https://localhost:8080/"
        },
        "outputId": "9ba95ce1-dea8-44e3-c830-58b7eeadb975",
        "id": "xrEk542zknsz"
      },
      "execution_count": null,
      "outputs": [
        {
          "output_type": "execute_result",
          "data": {
            "text/plain": [
              "77.0    316\n",
              "75.0    300\n",
              "76.0    289\n",
              "78.0    286\n",
              "73.0    264\n",
              "       ... \n",
              "76.2      1\n",
              "81.2      1\n",
              "81.4      1\n",
              "79.2      1\n",
              "38.3      1\n",
              "Name: user_score, Length: 301, dtype: int64"
            ]
          },
          "metadata": {},
          "execution_count": 15
        }
      ]
    },
    {
      "cell_type": "code",
      "source": [
        "df[['meta_score', 'user_score']].describe()"
      ],
      "metadata": {
        "colab": {
          "base_uri": "https://localhost:8080/",
          "height": 300
        },
        "outputId": "86d8108a-521f-436b-e48e-fc799deacebc",
        "id": "1nTKT2fMkns1"
      },
      "execution_count": null,
      "outputs": [
        {
          "output_type": "execute_result",
          "data": {
            "text/plain": [
              "        meta_score   user_score\n",
              "count  8831.000000  8831.000000\n",
              "mean     70.876621    69.903918\n",
              "std      12.181944    13.161456\n",
              "min      11.000000     2.000000\n",
              "25%      63.000000    63.000000\n",
              "50%      73.000000    72.800000\n",
              "75%      80.000000    79.000000\n",
              "max      99.000000    98.000000"
            ],
            "text/html": [
              "\n",
              "  <div id=\"df-486a2f95-ac2a-4d88-8c89-1f2e43326d18\">\n",
              "    <div class=\"colab-df-container\">\n",
              "      <div>\n",
              "<style scoped>\n",
              "    .dataframe tbody tr th:only-of-type {\n",
              "        vertical-align: middle;\n",
              "    }\n",
              "\n",
              "    .dataframe tbody tr th {\n",
              "        vertical-align: top;\n",
              "    }\n",
              "\n",
              "    .dataframe thead th {\n",
              "        text-align: right;\n",
              "    }\n",
              "</style>\n",
              "<table border=\"1\" class=\"dataframe\">\n",
              "  <thead>\n",
              "    <tr style=\"text-align: right;\">\n",
              "      <th></th>\n",
              "      <th>meta_score</th>\n",
              "      <th>user_score</th>\n",
              "    </tr>\n",
              "  </thead>\n",
              "  <tbody>\n",
              "    <tr>\n",
              "      <th>count</th>\n",
              "      <td>8831.000000</td>\n",
              "      <td>8831.000000</td>\n",
              "    </tr>\n",
              "    <tr>\n",
              "      <th>mean</th>\n",
              "      <td>70.876621</td>\n",
              "      <td>69.903918</td>\n",
              "    </tr>\n",
              "    <tr>\n",
              "      <th>std</th>\n",
              "      <td>12.181944</td>\n",
              "      <td>13.161456</td>\n",
              "    </tr>\n",
              "    <tr>\n",
              "      <th>min</th>\n",
              "      <td>11.000000</td>\n",
              "      <td>2.000000</td>\n",
              "    </tr>\n",
              "    <tr>\n",
              "      <th>25%</th>\n",
              "      <td>63.000000</td>\n",
              "      <td>63.000000</td>\n",
              "    </tr>\n",
              "    <tr>\n",
              "      <th>50%</th>\n",
              "      <td>73.000000</td>\n",
              "      <td>72.800000</td>\n",
              "    </tr>\n",
              "    <tr>\n",
              "      <th>75%</th>\n",
              "      <td>80.000000</td>\n",
              "      <td>79.000000</td>\n",
              "    </tr>\n",
              "    <tr>\n",
              "      <th>max</th>\n",
              "      <td>99.000000</td>\n",
              "      <td>98.000000</td>\n",
              "    </tr>\n",
              "  </tbody>\n",
              "</table>\n",
              "</div>\n",
              "      <button class=\"colab-df-convert\" onclick=\"convertToInteractive('df-486a2f95-ac2a-4d88-8c89-1f2e43326d18')\"\n",
              "              title=\"Convert this dataframe to an interactive table.\"\n",
              "              style=\"display:none;\">\n",
              "        \n",
              "  <svg xmlns=\"http://www.w3.org/2000/svg\" height=\"24px\"viewBox=\"0 0 24 24\"\n",
              "       width=\"24px\">\n",
              "    <path d=\"M0 0h24v24H0V0z\" fill=\"none\"/>\n",
              "    <path d=\"M18.56 5.44l.94 2.06.94-2.06 2.06-.94-2.06-.94-.94-2.06-.94 2.06-2.06.94zm-11 1L8.5 8.5l.94-2.06 2.06-.94-2.06-.94L8.5 2.5l-.94 2.06-2.06.94zm10 10l.94 2.06.94-2.06 2.06-.94-2.06-.94-.94-2.06-.94 2.06-2.06.94z\"/><path d=\"M17.41 7.96l-1.37-1.37c-.4-.4-.92-.59-1.43-.59-.52 0-1.04.2-1.43.59L10.3 9.45l-7.72 7.72c-.78.78-.78 2.05 0 2.83L4 21.41c.39.39.9.59 1.41.59.51 0 1.02-.2 1.41-.59l7.78-7.78 2.81-2.81c.8-.78.8-2.07 0-2.86zM5.41 20L4 18.59l7.72-7.72 1.47 1.35L5.41 20z\"/>\n",
              "  </svg>\n",
              "      </button>\n",
              "      \n",
              "  <style>\n",
              "    .colab-df-container {\n",
              "      display:flex;\n",
              "      flex-wrap:wrap;\n",
              "      gap: 12px;\n",
              "    }\n",
              "\n",
              "    .colab-df-convert {\n",
              "      background-color: #E8F0FE;\n",
              "      border: none;\n",
              "      border-radius: 50%;\n",
              "      cursor: pointer;\n",
              "      display: none;\n",
              "      fill: #1967D2;\n",
              "      height: 32px;\n",
              "      padding: 0 0 0 0;\n",
              "      width: 32px;\n",
              "    }\n",
              "\n",
              "    .colab-df-convert:hover {\n",
              "      background-color: #E2EBFA;\n",
              "      box-shadow: 0px 1px 2px rgba(60, 64, 67, 0.3), 0px 1px 3px 1px rgba(60, 64, 67, 0.15);\n",
              "      fill: #174EA6;\n",
              "    }\n",
              "\n",
              "    [theme=dark] .colab-df-convert {\n",
              "      background-color: #3B4455;\n",
              "      fill: #D2E3FC;\n",
              "    }\n",
              "\n",
              "    [theme=dark] .colab-df-convert:hover {\n",
              "      background-color: #434B5C;\n",
              "      box-shadow: 0px 1px 3px 1px rgba(0, 0, 0, 0.15);\n",
              "      filter: drop-shadow(0px 1px 2px rgba(0, 0, 0, 0.3));\n",
              "      fill: #FFFFFF;\n",
              "    }\n",
              "  </style>\n",
              "\n",
              "      <script>\n",
              "        const buttonEl =\n",
              "          document.querySelector('#df-486a2f95-ac2a-4d88-8c89-1f2e43326d18 button.colab-df-convert');\n",
              "        buttonEl.style.display =\n",
              "          google.colab.kernel.accessAllowed ? 'block' : 'none';\n",
              "\n",
              "        async function convertToInteractive(key) {\n",
              "          const element = document.querySelector('#df-486a2f95-ac2a-4d88-8c89-1f2e43326d18');\n",
              "          const dataTable =\n",
              "            await google.colab.kernel.invokeFunction('convertToInteractive',\n",
              "                                                     [key], {});\n",
              "          if (!dataTable) return;\n",
              "\n",
              "          const docLinkHtml = 'Like what you see? Visit the ' +\n",
              "            '<a target=\"_blank\" href=https://colab.research.google.com/notebooks/data_table.ipynb>data table notebook</a>'\n",
              "            + ' to learn more about interactive tables.';\n",
              "          element.innerHTML = '';\n",
              "          dataTable['output_type'] = 'display_data';\n",
              "          await google.colab.output.renderOutput(dataTable, element);\n",
              "          const docLink = document.createElement('div');\n",
              "          docLink.innerHTML = docLinkHtml;\n",
              "          element.appendChild(docLink);\n",
              "        }\n",
              "      </script>\n",
              "    </div>\n",
              "  </div>\n",
              "  "
            ]
          },
          "metadata": {},
          "execution_count": 16
        }
      ]
    },
    {
      "cell_type": "markdown",
      "source": [
        "В оценках критиков и пользователей наблюдаются экстремально низкие значения по сравнению с модами и средними значениями по оценкам."
      ],
      "metadata": {
        "id": "xeeL3NJNtVLu"
      }
    },
    {
      "cell_type": "markdown",
      "source": [
        "## Просмотр игровых платформ, для которых выпускаются игры."
      ],
      "metadata": {
        "id": "yDkU_d1IlsM1"
      }
    },
    {
      "cell_type": "code",
      "source": [
        "df.platform.value_counts()"
      ],
      "metadata": {
        "colab": {
          "base_uri": "https://localhost:8080/"
        },
        "id": "xudMbM0al-Bz",
        "outputId": "f1f4cc38-d3e8-47c8-cd4d-c5b1893752ff"
      },
      "execution_count": null,
      "outputs": [
        {
          "output_type": "execute_result",
          "data": {
            "text/plain": [
              "['pc']                                                              1995\n",
              "['playstation-4']                                                    607\n",
              "['switch']                                                           509\n",
              "['playstation-2']                                                    488\n",
              "['xbox-360']                                                         462\n",
              "                                                                    ... \n",
              "['xbox-360', 'wii', '3ds', 'playstation-vita']                         1\n",
              "['pc', 'xbox-360', 'playstation-3', 'wii', 'ds']                       1\n",
              "['switch', 'xbox-series-x', 'pc', 'playstation-4']                     1\n",
              "['xbox', 'gamecube', 'pc']                                             1\n",
              "['xbox-360', 'xbox-one', 'ds', 'playstation-3', 'playstation-4']       1\n",
              "Name: platform, Length: 506, dtype: int64"
            ]
          },
          "metadata": {},
          "execution_count": 17
        }
      ]
    },
    {
      "cell_type": "markdown",
      "source": [
        "Среди игровых тайтлов есть как игры, выпущенные эксклюзивно для конкретной платформы, так и представленные сразу на нескольких устройствах."
      ],
      "metadata": {
        "id": "QgJigLYtmFqm"
      }
    },
    {
      "cell_type": "markdown",
      "source": [
        "## Проверка описаний к видеоиграм на наличие дублей."
      ],
      "metadata": {
        "id": "KiTWJf4JmsjQ"
      }
    },
    {
      "cell_type": "code",
      "source": [
        "df.description.value_counts().to_frame()"
      ],
      "metadata": {
        "colab": {
          "base_uri": "https://localhost:8080/",
          "height": 832
        },
        "id": "0NcZjoDqm0LZ",
        "outputId": "2bcc027b-9639-47a9-f58f-8ec5c29c41f5"
      },
      "execution_count": null,
      "outputs": [
        {
          "output_type": "execute_result",
          "data": {
            "text/plain": [
              "                                                    description\n",
              "None                                                         65\n",
              "The game involves players creating and destroyi...            4\n",
              "Kentucky Route Zero is a magical realistic adve...            3\n",
              "Players can now take on the role of a Transform...            3\n",
              "KickBeat offers players several innovative ways...            3\n",
              "...                                                         ...\n",
              "The World Next Door is a narrative-driven, acti...            1\n",
              "Although he is best known for his speed and bas...            1\n",
              "This is a first-person grappling hook explorati...            1\n",
              "Putting the player in the shoes of Desmond Phoe...            1\n",
              "You are underground thrill-seeker turned spy Xa...            1\n",
              "\n",
              "[8668 rows x 1 columns]"
            ],
            "text/html": [
              "\n",
              "  <div id=\"df-ef131484-807c-4aea-9e6e-7cc651475e4e\">\n",
              "    <div class=\"colab-df-container\">\n",
              "      <div>\n",
              "<style scoped>\n",
              "    .dataframe tbody tr th:only-of-type {\n",
              "        vertical-align: middle;\n",
              "    }\n",
              "\n",
              "    .dataframe tbody tr th {\n",
              "        vertical-align: top;\n",
              "    }\n",
              "\n",
              "    .dataframe thead th {\n",
              "        text-align: right;\n",
              "    }\n",
              "</style>\n",
              "<table border=\"1\" class=\"dataframe\">\n",
              "  <thead>\n",
              "    <tr style=\"text-align: right;\">\n",
              "      <th></th>\n",
              "      <th>description</th>\n",
              "    </tr>\n",
              "  </thead>\n",
              "  <tbody>\n",
              "    <tr>\n",
              "      <th>None</th>\n",
              "      <td>65</td>\n",
              "    </tr>\n",
              "    <tr>\n",
              "      <th>The game involves players creating and destroying various types of blocks in a three dimensional environment. The player takes an avatar that can destroy or create blocks, forming fantastic structures, creations and artwork across the various multiplayer servers in multiple game modes.</th>\n",
              "      <td>4</td>\n",
              "    </tr>\n",
              "    <tr>\n",
              "      <th>Kentucky Route Zero is a magical realistic adventure game about a secret highway in the caves beneath Kentucky, and the mysterious folks who travel it.</th>\n",
              "      <td>3</td>\n",
              "    </tr>\n",
              "    <tr>\n",
              "      <th>Players can now take on the role of a Transformers character in the final, epic war that will determine the survival of their entire race.</th>\n",
              "      <td>3</td>\n",
              "    </tr>\n",
              "    <tr>\n",
              "      <th>KickBeat offers players several innovative ways to interact with music. The game combines beat-matching mechanics with an acrobatic style of martial arts, turning every song into a raucous battle. The game also features a music analyzer that allows players to create new tracks from their own music libraries.</th>\n",
              "      <td>3</td>\n",
              "    </tr>\n",
              "    <tr>\n",
              "      <th>...</th>\n",
              "      <td>...</td>\n",
              "    </tr>\n",
              "    <tr>\n",
              "      <th>The World Next Door is a narrative-driven, action-adventure game that follows Jun, a rebellious teen girl trapped in a parallel world inhabited by magical creatures. Inspired by the emotional storytelling and thrilling action of both anime and indie games, players can expect to meet and develop friendships with an eclectic cast of characters while uncovering the mysteries hidden within this world.</th>\n",
              "      <td>1</td>\n",
              "    </tr>\n",
              "    <tr>\n",
              "      <th>Although he is best known for his speed and base-stealing ability, the Mets' Jose Reyes is also one of the most well-rounded players in the game and is the first player in baseball history to have more than 63 steals, 120 runs, 192 hits, and 19 homers in a single season. Reyes led the Major League in 2006 with 17 triples and 64 stolen bases and set a new Mets club record with 104 hits at Shea Stadium. Also an avid video gamer and long time fan of 2K Sports’ products, All-Star Shortstop Jose Reyes is a natural fit as the official spokesperson for this year's edition of the critically acclaimed Major League Baseball 2K series. [2K Sports]</th>\n",
              "      <td>1</td>\n",
              "    </tr>\n",
              "    <tr>\n",
              "      <th>This is a first-person grappling hook exploration game. Soar through the ruins of a fallen world and discover the secrets of the ancients. Windlands has been developed primarily for Virtual Reality headsets, but is also an experience for those without headsets.</th>\n",
              "      <td>1</td>\n",
              "    </tr>\n",
              "    <tr>\n",
              "      <th>Putting the player in the shoes of Desmond Phoenix, a skilled pilot in command of sophisticated ships equipped with various types of powerful weapons, DOGOS invites you to explore 14 original open world levels completely made in 3D, giving players the opportunity to meet goals from any angle they can imagine! Intensive action, an insane amount of shooting and explosions, (not kidding a lot of explosions), all accompanied by an incredible and catchy soundtrack.</th>\n",
              "      <td>1</td>\n",
              "    </tr>\n",
              "    <tr>\n",
              "      <th>You are underground thrill-seeker turned spy Xander Cage. Can you stop the evil Anarchy 99 organizaton before it unleashes an assault on Earth? Tackle a variety of pulse-pounding, action-packed levels. Face 11 menacing missions, featuring 3 motorcycle tracks. Master an array of high-tech secret agent weapons.</th>\n",
              "      <td>1</td>\n",
              "    </tr>\n",
              "  </tbody>\n",
              "</table>\n",
              "<p>8668 rows × 1 columns</p>\n",
              "</div>\n",
              "      <button class=\"colab-df-convert\" onclick=\"convertToInteractive('df-ef131484-807c-4aea-9e6e-7cc651475e4e')\"\n",
              "              title=\"Convert this dataframe to an interactive table.\"\n",
              "              style=\"display:none;\">\n",
              "        \n",
              "  <svg xmlns=\"http://www.w3.org/2000/svg\" height=\"24px\"viewBox=\"0 0 24 24\"\n",
              "       width=\"24px\">\n",
              "    <path d=\"M0 0h24v24H0V0z\" fill=\"none\"/>\n",
              "    <path d=\"M18.56 5.44l.94 2.06.94-2.06 2.06-.94-2.06-.94-.94-2.06-.94 2.06-2.06.94zm-11 1L8.5 8.5l.94-2.06 2.06-.94-2.06-.94L8.5 2.5l-.94 2.06-2.06.94zm10 10l.94 2.06.94-2.06 2.06-.94-2.06-.94-.94-2.06-.94 2.06-2.06.94z\"/><path d=\"M17.41 7.96l-1.37-1.37c-.4-.4-.92-.59-1.43-.59-.52 0-1.04.2-1.43.59L10.3 9.45l-7.72 7.72c-.78.78-.78 2.05 0 2.83L4 21.41c.39.39.9.59 1.41.59.51 0 1.02-.2 1.41-.59l7.78-7.78 2.81-2.81c.8-.78.8-2.07 0-2.86zM5.41 20L4 18.59l7.72-7.72 1.47 1.35L5.41 20z\"/>\n",
              "  </svg>\n",
              "      </button>\n",
              "      \n",
              "  <style>\n",
              "    .colab-df-container {\n",
              "      display:flex;\n",
              "      flex-wrap:wrap;\n",
              "      gap: 12px;\n",
              "    }\n",
              "\n",
              "    .colab-df-convert {\n",
              "      background-color: #E8F0FE;\n",
              "      border: none;\n",
              "      border-radius: 50%;\n",
              "      cursor: pointer;\n",
              "      display: none;\n",
              "      fill: #1967D2;\n",
              "      height: 32px;\n",
              "      padding: 0 0 0 0;\n",
              "      width: 32px;\n",
              "    }\n",
              "\n",
              "    .colab-df-convert:hover {\n",
              "      background-color: #E2EBFA;\n",
              "      box-shadow: 0px 1px 2px rgba(60, 64, 67, 0.3), 0px 1px 3px 1px rgba(60, 64, 67, 0.15);\n",
              "      fill: #174EA6;\n",
              "    }\n",
              "\n",
              "    [theme=dark] .colab-df-convert {\n",
              "      background-color: #3B4455;\n",
              "      fill: #D2E3FC;\n",
              "    }\n",
              "\n",
              "    [theme=dark] .colab-df-convert:hover {\n",
              "      background-color: #434B5C;\n",
              "      box-shadow: 0px 1px 3px 1px rgba(0, 0, 0, 0.15);\n",
              "      filter: drop-shadow(0px 1px 2px rgba(0, 0, 0, 0.3));\n",
              "      fill: #FFFFFF;\n",
              "    }\n",
              "  </style>\n",
              "\n",
              "      <script>\n",
              "        const buttonEl =\n",
              "          document.querySelector('#df-ef131484-807c-4aea-9e6e-7cc651475e4e button.colab-df-convert');\n",
              "        buttonEl.style.display =\n",
              "          google.colab.kernel.accessAllowed ? 'block' : 'none';\n",
              "\n",
              "        async function convertToInteractive(key) {\n",
              "          const element = document.querySelector('#df-ef131484-807c-4aea-9e6e-7cc651475e4e');\n",
              "          const dataTable =\n",
              "            await google.colab.kernel.invokeFunction('convertToInteractive',\n",
              "                                                     [key], {});\n",
              "          if (!dataTable) return;\n",
              "\n",
              "          const docLinkHtml = 'Like what you see? Visit the ' +\n",
              "            '<a target=\"_blank\" href=https://colab.research.google.com/notebooks/data_table.ipynb>data table notebook</a>'\n",
              "            + ' to learn more about interactive tables.';\n",
              "          element.innerHTML = '';\n",
              "          dataTable['output_type'] = 'display_data';\n",
              "          await google.colab.output.renderOutput(dataTable, element);\n",
              "          const docLink = document.createElement('div');\n",
              "          docLink.innerHTML = docLinkHtml;\n",
              "          element.appendChild(docLink);\n",
              "        }\n",
              "      </script>\n",
              "    </div>\n",
              "  </div>\n",
              "  "
            ]
          },
          "metadata": {},
          "execution_count": 18
        }
      ]
    },
    {
      "cell_type": "code",
      "source": [
        "df.loc[df.description == \n",
        "       'The game involves players creating and destroying various types of blocks in a three dimensional environment. The player takes an avatar that can destroy or create blocks, forming fantastic structures, creations and artwork across the various multiplayer servers in multiple game modes.']"
      ],
      "metadata": {
        "colab": {
          "base_uri": "https://localhost:8080/",
          "height": 517
        },
        "id": "MwhGZAG-ny8k",
        "outputId": "1028c313-022d-498d-8928-66e23d8a5dd7"
      },
      "execution_count": null,
      "outputs": [
        {
          "output_type": "execute_result",
          "data": {
            "text/plain": [
              "                                game_name  meta_score  user_score  \\\n",
              "49                              Minecraft        93.0        80.0   \n",
              "482   Minecraft: PlayStation Vita Edition        84.0        74.0   \n",
              "3210  Minecraft: New Nintendo 3DS Edition        62.0        70.0   \n",
              "6583             Minecraft: Wii U Edition        77.0        74.0   \n",
              "\n",
              "                  platform                                        description  \\\n",
              "49                  ['pc']  The game involves players creating and destroy...   \n",
              "482   ['playstation-vita']  The game involves players creating and destroy...   \n",
              "3210               ['3ds']  The game involves players creating and destroy...   \n",
              "6583             ['wii-u']  The game involves players creating and destroy...   \n",
              "\n",
              "                                                    url   developer  \\\n",
              "49         https://www.metacritic.com/game/pc/minecraft   Mojang AB   \n",
              "482   https://www.metacritic.com/game/playstation-vi...  4J Studios   \n",
              "3210  https://www.metacritic.com/game/3ds/minecraft-...       Notch   \n",
              "6583  https://www.metacritic.com/game/wii-u/minecraf...  4J Studios   \n",
              "\n",
              "                                                  genre          type  \\\n",
              "49    ['Action Adventure', 'Adventure', '3D', 'Sandb...   multiplayer   \n",
              "482   ['Action Adventure', 'Adventure', '3D', 'Sandb...   multiplayer   \n",
              "3210                    ['Action Adventure', 'Sandbox']  singleplayer   \n",
              "6583                    ['Action Adventure', 'Sandbox']          NULL   \n",
              "\n",
              "           rating  \n",
              "49           NULL  \n",
              "482   rating_E10+  \n",
              "3210  rating_E10+  \n",
              "6583  rating_E10+  "
            ],
            "text/html": [
              "\n",
              "  <div id=\"df-0b0114d9-707c-4bdb-abf7-e6f6f9bbd44d\">\n",
              "    <div class=\"colab-df-container\">\n",
              "      <div>\n",
              "<style scoped>\n",
              "    .dataframe tbody tr th:only-of-type {\n",
              "        vertical-align: middle;\n",
              "    }\n",
              "\n",
              "    .dataframe tbody tr th {\n",
              "        vertical-align: top;\n",
              "    }\n",
              "\n",
              "    .dataframe thead th {\n",
              "        text-align: right;\n",
              "    }\n",
              "</style>\n",
              "<table border=\"1\" class=\"dataframe\">\n",
              "  <thead>\n",
              "    <tr style=\"text-align: right;\">\n",
              "      <th></th>\n",
              "      <th>game_name</th>\n",
              "      <th>meta_score</th>\n",
              "      <th>user_score</th>\n",
              "      <th>platform</th>\n",
              "      <th>description</th>\n",
              "      <th>url</th>\n",
              "      <th>developer</th>\n",
              "      <th>genre</th>\n",
              "      <th>type</th>\n",
              "      <th>rating</th>\n",
              "    </tr>\n",
              "  </thead>\n",
              "  <tbody>\n",
              "    <tr>\n",
              "      <th>49</th>\n",
              "      <td>Minecraft</td>\n",
              "      <td>93.0</td>\n",
              "      <td>80.0</td>\n",
              "      <td>['pc']</td>\n",
              "      <td>The game involves players creating and destroy...</td>\n",
              "      <td>https://www.metacritic.com/game/pc/minecraft</td>\n",
              "      <td>Mojang AB</td>\n",
              "      <td>['Action Adventure', 'Adventure', '3D', 'Sandb...</td>\n",
              "      <td>multiplayer</td>\n",
              "      <td>NULL</td>\n",
              "    </tr>\n",
              "    <tr>\n",
              "      <th>482</th>\n",
              "      <td>Minecraft: PlayStation Vita Edition</td>\n",
              "      <td>84.0</td>\n",
              "      <td>74.0</td>\n",
              "      <td>['playstation-vita']</td>\n",
              "      <td>The game involves players creating and destroy...</td>\n",
              "      <td>https://www.metacritic.com/game/playstation-vi...</td>\n",
              "      <td>4J Studios</td>\n",
              "      <td>['Action Adventure', 'Adventure', '3D', 'Sandb...</td>\n",
              "      <td>multiplayer</td>\n",
              "      <td>rating_E10+</td>\n",
              "    </tr>\n",
              "    <tr>\n",
              "      <th>3210</th>\n",
              "      <td>Minecraft: New Nintendo 3DS Edition</td>\n",
              "      <td>62.0</td>\n",
              "      <td>70.0</td>\n",
              "      <td>['3ds']</td>\n",
              "      <td>The game involves players creating and destroy...</td>\n",
              "      <td>https://www.metacritic.com/game/3ds/minecraft-...</td>\n",
              "      <td>Notch</td>\n",
              "      <td>['Action Adventure', 'Sandbox']</td>\n",
              "      <td>singleplayer</td>\n",
              "      <td>rating_E10+</td>\n",
              "    </tr>\n",
              "    <tr>\n",
              "      <th>6583</th>\n",
              "      <td>Minecraft: Wii U Edition</td>\n",
              "      <td>77.0</td>\n",
              "      <td>74.0</td>\n",
              "      <td>['wii-u']</td>\n",
              "      <td>The game involves players creating and destroy...</td>\n",
              "      <td>https://www.metacritic.com/game/wii-u/minecraf...</td>\n",
              "      <td>4J Studios</td>\n",
              "      <td>['Action Adventure', 'Sandbox']</td>\n",
              "      <td>NULL</td>\n",
              "      <td>rating_E10+</td>\n",
              "    </tr>\n",
              "  </tbody>\n",
              "</table>\n",
              "</div>\n",
              "      <button class=\"colab-df-convert\" onclick=\"convertToInteractive('df-0b0114d9-707c-4bdb-abf7-e6f6f9bbd44d')\"\n",
              "              title=\"Convert this dataframe to an interactive table.\"\n",
              "              style=\"display:none;\">\n",
              "        \n",
              "  <svg xmlns=\"http://www.w3.org/2000/svg\" height=\"24px\"viewBox=\"0 0 24 24\"\n",
              "       width=\"24px\">\n",
              "    <path d=\"M0 0h24v24H0V0z\" fill=\"none\"/>\n",
              "    <path d=\"M18.56 5.44l.94 2.06.94-2.06 2.06-.94-2.06-.94-.94-2.06-.94 2.06-2.06.94zm-11 1L8.5 8.5l.94-2.06 2.06-.94-2.06-.94L8.5 2.5l-.94 2.06-2.06.94zm10 10l.94 2.06.94-2.06 2.06-.94-2.06-.94-.94-2.06-.94 2.06-2.06.94z\"/><path d=\"M17.41 7.96l-1.37-1.37c-.4-.4-.92-.59-1.43-.59-.52 0-1.04.2-1.43.59L10.3 9.45l-7.72 7.72c-.78.78-.78 2.05 0 2.83L4 21.41c.39.39.9.59 1.41.59.51 0 1.02-.2 1.41-.59l7.78-7.78 2.81-2.81c.8-.78.8-2.07 0-2.86zM5.41 20L4 18.59l7.72-7.72 1.47 1.35L5.41 20z\"/>\n",
              "  </svg>\n",
              "      </button>\n",
              "      \n",
              "  <style>\n",
              "    .colab-df-container {\n",
              "      display:flex;\n",
              "      flex-wrap:wrap;\n",
              "      gap: 12px;\n",
              "    }\n",
              "\n",
              "    .colab-df-convert {\n",
              "      background-color: #E8F0FE;\n",
              "      border: none;\n",
              "      border-radius: 50%;\n",
              "      cursor: pointer;\n",
              "      display: none;\n",
              "      fill: #1967D2;\n",
              "      height: 32px;\n",
              "      padding: 0 0 0 0;\n",
              "      width: 32px;\n",
              "    }\n",
              "\n",
              "    .colab-df-convert:hover {\n",
              "      background-color: #E2EBFA;\n",
              "      box-shadow: 0px 1px 2px rgba(60, 64, 67, 0.3), 0px 1px 3px 1px rgba(60, 64, 67, 0.15);\n",
              "      fill: #174EA6;\n",
              "    }\n",
              "\n",
              "    [theme=dark] .colab-df-convert {\n",
              "      background-color: #3B4455;\n",
              "      fill: #D2E3FC;\n",
              "    }\n",
              "\n",
              "    [theme=dark] .colab-df-convert:hover {\n",
              "      background-color: #434B5C;\n",
              "      box-shadow: 0px 1px 3px 1px rgba(0, 0, 0, 0.15);\n",
              "      filter: drop-shadow(0px 1px 2px rgba(0, 0, 0, 0.3));\n",
              "      fill: #FFFFFF;\n",
              "    }\n",
              "  </style>\n",
              "\n",
              "      <script>\n",
              "        const buttonEl =\n",
              "          document.querySelector('#df-0b0114d9-707c-4bdb-abf7-e6f6f9bbd44d button.colab-df-convert');\n",
              "        buttonEl.style.display =\n",
              "          google.colab.kernel.accessAllowed ? 'block' : 'none';\n",
              "\n",
              "        async function convertToInteractive(key) {\n",
              "          const element = document.querySelector('#df-0b0114d9-707c-4bdb-abf7-e6f6f9bbd44d');\n",
              "          const dataTable =\n",
              "            await google.colab.kernel.invokeFunction('convertToInteractive',\n",
              "                                                     [key], {});\n",
              "          if (!dataTable) return;\n",
              "\n",
              "          const docLinkHtml = 'Like what you see? Visit the ' +\n",
              "            '<a target=\"_blank\" href=https://colab.research.google.com/notebooks/data_table.ipynb>data table notebook</a>'\n",
              "            + ' to learn more about interactive tables.';\n",
              "          element.innerHTML = '';\n",
              "          dataTable['output_type'] = 'display_data';\n",
              "          await google.colab.output.renderOutput(dataTable, element);\n",
              "          const docLink = document.createElement('div');\n",
              "          docLink.innerHTML = docLinkHtml;\n",
              "          element.appendChild(docLink);\n",
              "        }\n",
              "      </script>\n",
              "    </div>\n",
              "  </div>\n",
              "  "
            ]
          },
          "metadata": {},
          "execution_count": 19
        }
      ]
    },
    {
      "cell_type": "markdown",
      "source": [
        "Думаю, что описания намеренно дублировали либо для игр одной франшизы со схожим сюжетом, либо для разных изданий одного игрового тайтла.\n"
      ],
      "metadata": {
        "id": "-An2JG_lqE9J"
      }
    },
    {
      "cell_type": "markdown",
      "source": [
        "У нескольких игр описание помечено как 'None'. Заменю их на 'NULL', аналогично другим пропускам значений."
      ],
      "metadata": {
        "id": "ubSzO9d6_1TH"
      }
    },
    {
      "cell_type": "code",
      "source": [
        "df.loc[(df.description == 'None'), 'description'] = 'NULL'"
      ],
      "metadata": {
        "id": "YhV0IYbcADVO"
      },
      "execution_count": null,
      "outputs": []
    },
    {
      "cell_type": "markdown",
      "source": [
        "## Проверка уникальности ссылок на страницы игр на metacritic.com."
      ],
      "metadata": {
        "id": "FZ0mGsOirGnS"
      }
    },
    {
      "cell_type": "code",
      "source": [
        "df.url.nunique()"
      ],
      "metadata": {
        "colab": {
          "base_uri": "https://localhost:8080/"
        },
        "id": "YbBb5mpvrXem",
        "outputId": "7920ae2e-dbe4-4328-9edd-e556ce34d343"
      },
      "execution_count": null,
      "outputs": [
        {
          "output_type": "execute_result",
          "data": {
            "text/plain": [
              "8831"
            ]
          },
          "metadata": {},
          "execution_count": 21
        }
      ]
    },
    {
      "cell_type": "markdown",
      "source": [
        "Каждая ссылка на страницу игры уникальна."
      ],
      "metadata": {
        "id": "aO0wb321wKXK"
      }
    },
    {
      "cell_type": "markdown",
      "source": [
        "## Разработчики игр."
      ],
      "metadata": {
        "id": "jL4XzngesTga"
      }
    },
    {
      "cell_type": "code",
      "source": [
        "df.developer.value_counts()"
      ],
      "metadata": {
        "colab": {
          "base_uri": "https://localhost:8080/"
        },
        "id": "1fAROfbEsdGh",
        "outputId": "52677dc2-5660-44a3-cca5-50d7f0f8841a"
      },
      "execution_count": null,
      "outputs": [
        {
          "output_type": "execute_result",
          "data": {
            "text/plain": [
              "Capcom            150\n",
              "Nintendo          130\n",
              "Telltale Games    104\n",
              "Konami             86\n",
              "Square Enix        76\n",
              "                 ... \n",
              "Starcolt            1\n",
              "Hot Lava Games      1\n",
              "V1 Interactive      1\n",
              "BeeWorks            1\n",
              "Kenny Creanor       1\n",
              "Name: developer, Length: 2928, dtype: int64"
            ]
          },
          "metadata": {},
          "execution_count": 22
        }
      ]
    },
    {
      "cell_type": "markdown",
      "source": [
        "Есть как известные разработчики с большим количеством выпущенных игр, так и студии с единственным игровым продуктом."
      ],
      "metadata": {
        "id": "XloYXAIVsssx"
      }
    },
    {
      "cell_type": "markdown",
      "source": [
        "## Игровые жанры."
      ],
      "metadata": {
        "id": "orcvIuwatKA5"
      }
    },
    {
      "cell_type": "code",
      "source": [
        "df.genre.value_counts()"
      ],
      "metadata": {
        "colab": {
          "base_uri": "https://localhost:8080/"
        },
        "id": "bQCFk6kkwVRf",
        "outputId": "173f19c8-f337-455c-eca1-1b698ac5c266"
      },
      "execution_count": null,
      "outputs": [
        {
          "output_type": "execute_result",
          "data": {
            "text/plain": [
              "['Action', 'Platformer', '2D']                                                       403\n",
              "['Role-Playing', 'Action RPG']                                                       303\n",
              "['Action', 'General']                                                                270\n",
              "['Adventure', 'General']                                                             204\n",
              "['Action', 'Platformer', '3D']                                                       175\n",
              "                                                                                    ... \n",
              "['Action', 'Action Adventure', 'Shooter', 'Open-World', 'Third-Person', 'Sci-Fi']      1\n",
              "['Strategy', 'Adventure', 'Real-Time', '3D', 'First-Person', 'Sci-Fi', 'Command']      1\n",
              "['Adventure', 'Puzzle', 'General', '3D', 'First-Person']                               1\n",
              "['General', 'Role-Playing', 'Console-style RPG', 'Roguelike']                          1\n",
              "['Action Adventure', 'Modern', 'Sci-Fi', 'Open-World']                                 1\n",
              "Name: genre, Length: 1307, dtype: int64"
            ]
          },
          "metadata": {},
          "execution_count": 23
        }
      ]
    },
    {
      "cell_type": "markdown",
      "source": [
        "Игры в большинстве не ограничиваются одним жанром. Присутствуют как популярные жанровые комбинации, так и уникальные сочетания."
      ],
      "metadata": {
        "id": "JCwJDp31we2W"
      }
    },
    {
      "cell_type": "markdown",
      "source": [
        "## Типы игр."
      ],
      "metadata": {
        "id": "BUr0EoFZw39I"
      }
    },
    {
      "cell_type": "code",
      "source": [
        "df.type.value_counts()"
      ],
      "metadata": {
        "colab": {
          "base_uri": "https://localhost:8080/"
        },
        "id": "kNFQziZjxHXp",
        "outputId": "d669342d-fd8d-449f-a010-f535ee60958d"
      },
      "execution_count": null,
      "outputs": [
        {
          "output_type": "execute_result",
          "data": {
            "text/plain": [
              "singleplayer    3527\n",
              "multiplayer     3200\n",
              "NULL            2104\n",
              "Name: type, dtype: int64"
            ]
          },
          "metadata": {},
          "execution_count": 24
        }
      ]
    },
    {
      "cell_type": "markdown",
      "source": [
        "По имеющимся данным, одиночные и мультиплеерные игры занимают примерно равные доли."
      ],
      "metadata": {
        "id": "NjTPec47xOd1"
      }
    },
    {
      "cell_type": "markdown",
      "source": [
        "## Возрастной рейтинг."
      ],
      "metadata": {
        "id": "Kbfn91RoxBuE"
      }
    },
    {
      "cell_type": "code",
      "source": [
        "df.rating.value_counts()"
      ],
      "metadata": {
        "colab": {
          "base_uri": "https://localhost:8080/"
        },
        "id": "iOQdeTuCxxdA",
        "outputId": "28960d20-7237-458a-f6d7-43faa345133e"
      },
      "execution_count": null,
      "outputs": [
        {
          "output_type": "execute_result",
          "data": {
            "text/plain": [
              "rating_T       2636\n",
              "rating_E       2377\n",
              "rating_M       1535\n",
              "NULL           1140\n",
              "rating_E10+    1128\n",
              "rating_RP        14\n",
              "rating_AO         1\n",
              "Name: rating, dtype: int64"
            ]
          },
          "metadata": {},
          "execution_count": 25
        }
      ]
    },
    {
      "cell_type": "markdown",
      "source": [
        "Представленные в датасете игры получили различные рейтинги (всего 6).\n",
        "\n",
        "Больше всего игр с рейтингом \"TEEN\" - от 13 лет и старше.\n",
        "\n",
        "Также замечу, что в данных есть 14 игровых тайтлов, отмеченных рейтингом 'RP' - это означает, что игра ожидает присвоения рейтинга."
      ],
      "metadata": {
        "id": "f1dDSGjIyVY7"
      }
    },
    {
      "cell_type": "markdown",
      "source": [
        "# 3.Работа с данными\n",
        "Основные статистики по данным с визуализациями."
      ],
      "metadata": {
        "id": "hFcUptyH2XGP"
      }
    },
    {
      "cell_type": "markdown",
      "source": [
        "## Оценки пользователей и критиков."
      ],
      "metadata": {
        "id": "YfjAI-N3BSx4"
      }
    },
    {
      "cell_type": "markdown",
      "source": [
        "Распределение оценок"
      ],
      "metadata": {
        "id": "MA-jNs0wGM8n"
      }
    },
    {
      "cell_type": "code",
      "source": [
        "df[['meta_score', 'user_score']].describe()"
      ],
      "metadata": {
        "colab": {
          "base_uri": "https://localhost:8080/",
          "height": 300
        },
        "id": "PXvJqb5zl2t8",
        "outputId": "6a6d9b75-59f6-4b6d-844e-b333f8890668"
      },
      "execution_count": null,
      "outputs": [
        {
          "output_type": "execute_result",
          "data": {
            "text/plain": [
              "        meta_score   user_score\n",
              "count  8831.000000  8831.000000\n",
              "mean     70.876621    69.903918\n",
              "std      12.181944    13.161456\n",
              "min      11.000000     2.000000\n",
              "25%      63.000000    63.000000\n",
              "50%      73.000000    72.800000\n",
              "75%      80.000000    79.000000\n",
              "max      99.000000    98.000000"
            ],
            "text/html": [
              "\n",
              "  <div id=\"df-c9e52670-76b5-4d6c-97b6-76a8477ce667\">\n",
              "    <div class=\"colab-df-container\">\n",
              "      <div>\n",
              "<style scoped>\n",
              "    .dataframe tbody tr th:only-of-type {\n",
              "        vertical-align: middle;\n",
              "    }\n",
              "\n",
              "    .dataframe tbody tr th {\n",
              "        vertical-align: top;\n",
              "    }\n",
              "\n",
              "    .dataframe thead th {\n",
              "        text-align: right;\n",
              "    }\n",
              "</style>\n",
              "<table border=\"1\" class=\"dataframe\">\n",
              "  <thead>\n",
              "    <tr style=\"text-align: right;\">\n",
              "      <th></th>\n",
              "      <th>meta_score</th>\n",
              "      <th>user_score</th>\n",
              "    </tr>\n",
              "  </thead>\n",
              "  <tbody>\n",
              "    <tr>\n",
              "      <th>count</th>\n",
              "      <td>8831.000000</td>\n",
              "      <td>8831.000000</td>\n",
              "    </tr>\n",
              "    <tr>\n",
              "      <th>mean</th>\n",
              "      <td>70.876621</td>\n",
              "      <td>69.903918</td>\n",
              "    </tr>\n",
              "    <tr>\n",
              "      <th>std</th>\n",
              "      <td>12.181944</td>\n",
              "      <td>13.161456</td>\n",
              "    </tr>\n",
              "    <tr>\n",
              "      <th>min</th>\n",
              "      <td>11.000000</td>\n",
              "      <td>2.000000</td>\n",
              "    </tr>\n",
              "    <tr>\n",
              "      <th>25%</th>\n",
              "      <td>63.000000</td>\n",
              "      <td>63.000000</td>\n",
              "    </tr>\n",
              "    <tr>\n",
              "      <th>50%</th>\n",
              "      <td>73.000000</td>\n",
              "      <td>72.800000</td>\n",
              "    </tr>\n",
              "    <tr>\n",
              "      <th>75%</th>\n",
              "      <td>80.000000</td>\n",
              "      <td>79.000000</td>\n",
              "    </tr>\n",
              "    <tr>\n",
              "      <th>max</th>\n",
              "      <td>99.000000</td>\n",
              "      <td>98.000000</td>\n",
              "    </tr>\n",
              "  </tbody>\n",
              "</table>\n",
              "</div>\n",
              "      <button class=\"colab-df-convert\" onclick=\"convertToInteractive('df-c9e52670-76b5-4d6c-97b6-76a8477ce667')\"\n",
              "              title=\"Convert this dataframe to an interactive table.\"\n",
              "              style=\"display:none;\">\n",
              "        \n",
              "  <svg xmlns=\"http://www.w3.org/2000/svg\" height=\"24px\"viewBox=\"0 0 24 24\"\n",
              "       width=\"24px\">\n",
              "    <path d=\"M0 0h24v24H0V0z\" fill=\"none\"/>\n",
              "    <path d=\"M18.56 5.44l.94 2.06.94-2.06 2.06-.94-2.06-.94-.94-2.06-.94 2.06-2.06.94zm-11 1L8.5 8.5l.94-2.06 2.06-.94-2.06-.94L8.5 2.5l-.94 2.06-2.06.94zm10 10l.94 2.06.94-2.06 2.06-.94-2.06-.94-.94-2.06-.94 2.06-2.06.94z\"/><path d=\"M17.41 7.96l-1.37-1.37c-.4-.4-.92-.59-1.43-.59-.52 0-1.04.2-1.43.59L10.3 9.45l-7.72 7.72c-.78.78-.78 2.05 0 2.83L4 21.41c.39.39.9.59 1.41.59.51 0 1.02-.2 1.41-.59l7.78-7.78 2.81-2.81c.8-.78.8-2.07 0-2.86zM5.41 20L4 18.59l7.72-7.72 1.47 1.35L5.41 20z\"/>\n",
              "  </svg>\n",
              "      </button>\n",
              "      \n",
              "  <style>\n",
              "    .colab-df-container {\n",
              "      display:flex;\n",
              "      flex-wrap:wrap;\n",
              "      gap: 12px;\n",
              "    }\n",
              "\n",
              "    .colab-df-convert {\n",
              "      background-color: #E8F0FE;\n",
              "      border: none;\n",
              "      border-radius: 50%;\n",
              "      cursor: pointer;\n",
              "      display: none;\n",
              "      fill: #1967D2;\n",
              "      height: 32px;\n",
              "      padding: 0 0 0 0;\n",
              "      width: 32px;\n",
              "    }\n",
              "\n",
              "    .colab-df-convert:hover {\n",
              "      background-color: #E2EBFA;\n",
              "      box-shadow: 0px 1px 2px rgba(60, 64, 67, 0.3), 0px 1px 3px 1px rgba(60, 64, 67, 0.15);\n",
              "      fill: #174EA6;\n",
              "    }\n",
              "\n",
              "    [theme=dark] .colab-df-convert {\n",
              "      background-color: #3B4455;\n",
              "      fill: #D2E3FC;\n",
              "    }\n",
              "\n",
              "    [theme=dark] .colab-df-convert:hover {\n",
              "      background-color: #434B5C;\n",
              "      box-shadow: 0px 1px 3px 1px rgba(0, 0, 0, 0.15);\n",
              "      filter: drop-shadow(0px 1px 2px rgba(0, 0, 0, 0.3));\n",
              "      fill: #FFFFFF;\n",
              "    }\n",
              "  </style>\n",
              "\n",
              "      <script>\n",
              "        const buttonEl =\n",
              "          document.querySelector('#df-c9e52670-76b5-4d6c-97b6-76a8477ce667 button.colab-df-convert');\n",
              "        buttonEl.style.display =\n",
              "          google.colab.kernel.accessAllowed ? 'block' : 'none';\n",
              "\n",
              "        async function convertToInteractive(key) {\n",
              "          const element = document.querySelector('#df-c9e52670-76b5-4d6c-97b6-76a8477ce667');\n",
              "          const dataTable =\n",
              "            await google.colab.kernel.invokeFunction('convertToInteractive',\n",
              "                                                     [key], {});\n",
              "          if (!dataTable) return;\n",
              "\n",
              "          const docLinkHtml = 'Like what you see? Visit the ' +\n",
              "            '<a target=\"_blank\" href=https://colab.research.google.com/notebooks/data_table.ipynb>data table notebook</a>'\n",
              "            + ' to learn more about interactive tables.';\n",
              "          element.innerHTML = '';\n",
              "          dataTable['output_type'] = 'display_data';\n",
              "          await google.colab.output.renderOutput(dataTable, element);\n",
              "          const docLink = document.createElement('div');\n",
              "          docLink.innerHTML = docLinkHtml;\n",
              "          element.appendChild(docLink);\n",
              "        }\n",
              "      </script>\n",
              "    </div>\n",
              "  </div>\n",
              "  "
            ]
          },
          "metadata": {},
          "execution_count": 26
        }
      ]
    },
    {
      "cell_type": "code",
      "source": [
        "y0 = df['meta_score']\n",
        "y1 = df['user_score']\n",
        "\n",
        "fig = go.Figure()\n",
        "fig.add_trace(go.Box(y=y0, name = 'Meta score',marker_color = 'lightblue'))\n",
        "fig.add_trace(go.Box(y=y1, name = 'User score',marker_color = 'blue'))\n",
        "\n",
        "fig.update_layout(\n",
        "    yaxis_title='Распределение средних оценок')\n",
        "\n",
        "fig.show()"
      ],
      "metadata": {
        "colab": {
          "base_uri": "https://localhost:8080/",
          "height": 542
        },
        "outputId": "0e923369-937d-4d73-cf50-006f16982865",
        "id": "rbegkCA97JkE"
      },
      "execution_count": null,
      "outputs": [
        {
          "output_type": "display_data",
          "data": {
            "text/html": [
              "<html>\n",
              "<head><meta charset=\"utf-8\" /></head>\n",
              "<body>\n",
              "    <div>            <script src=\"https://cdnjs.cloudflare.com/ajax/libs/mathjax/2.7.5/MathJax.js?config=TeX-AMS-MML_SVG\"></script><script type=\"text/javascript\">if (window.MathJax) {MathJax.Hub.Config({SVG: {font: \"STIX-Web\"}});}</script>                <script type=\"text/javascript\">window.PlotlyConfig = {MathJaxConfig: 'local'};</script>\n",
              "        <script src=\"https://cdn.plot.ly/plotly-2.8.3.min.js\"></script>                <div id=\"97945f09-2f40-47f1-9ac7-3cc1c9823748\" class=\"plotly-graph-div\" style=\"height:525px; width:100%;\"></div>            <script type=\"text/javascript\">                                    window.PLOTLYENV=window.PLOTLYENV || {};                                    if (document.getElementById(\"97945f09-2f40-47f1-9ac7-3cc1c9823748\")) {                    Plotly.newPlot(                        \"97945f09-2f40-47f1-9ac7-3cc1c9823748\",                        [{\"marker\":{\"color\":\"lightblue\"},\"name\":\"Meta score\",\"y\":[99.0,97.0,97.0,97.0,97.0,97.0,97.0,97.0,96.0,96.0,96.0,96.0,96.0,96.0,95.0,95.0,95.0,95.0,95.0,95.0,95.0,95.0,95.0,94.0,94.0,94.0,94.0,94.0,94.0,94.0,94.0,94.0,94.0,94.0,94.0,94.0,94.0,94.0,94.0,93.0,93.0,93.0,93.0,93.0,93.0,93.0,93.0,93.0,93.0,93.0,93.0,93.0,93.0,93.0,93.0,93.0,93.0,93.0,93.0,93.0,93.0,93.0,93.0,93.0,93.0,93.0,93.0,93.0,92.0,92.0,92.0,92.0,92.0,92.0,92.0,92.0,92.0,92.0,92.0,92.0,92.0,92.0,92.0,92.0,92.0,92.0,92.0,92.0,92.0,92.0,92.0,92.0,92.0,92.0,92.0,92.0,92.0,92.0,92.0,92.0,92.0,92.0,92.0,92.0,92.0,91.0,91.0,91.0,91.0,91.0,91.0,91.0,91.0,91.0,91.0,91.0,91.0,91.0,91.0,91.0,91.0,91.0,91.0,91.0,91.0,91.0,91.0,91.0,91.0,91.0,91.0,91.0,91.0,91.0,91.0,91.0,91.0,91.0,91.0,91.0,91.0,91.0,91.0,91.0,91.0,91.0,91.0,91.0,91.0,91.0,91.0,91.0,91.0,91.0,91.0,91.0,91.0,91.0,91.0,91.0,91.0,91.0,91.0,91.0,91.0,91.0,90.0,90.0,90.0,90.0,90.0,90.0,90.0,90.0,90.0,90.0,90.0,90.0,90.0,90.0,90.0,90.0,90.0,90.0,90.0,90.0,90.0,90.0,90.0,90.0,90.0,90.0,90.0,90.0,90.0,90.0,90.0,90.0,90.0,90.0,90.0,90.0,90.0,90.0,90.0,90.0,90.0,90.0,90.0,90.0,90.0,90.0,90.0,90.0,90.0,90.0,90.0,88.0,88.0,88.0,88.0,88.0,88.0,88.0,88.0,88.0,88.0,88.0,88.0,88.0,88.0,88.0,88.0,88.0,88.0,88.0,88.0,88.0,88.0,88.0,88.0,88.0,88.0,88.0,88.0,88.0,88.0,88.0,88.0,88.0,88.0,88.0,88.0,88.0,88.0,88.0,88.0,88.0,88.0,88.0,88.0,88.0,88.0,88.0,86.0,86.0,86.0,86.0,86.0,86.0,86.0,86.0,86.0,86.0,86.0,86.0,86.0,86.0,86.0,86.0,86.0,86.0,86.0,86.0,86.0,86.0,86.0,86.0,86.0,86.0,86.0,86.0,86.0,86.0,86.0,86.0,86.0,86.0,86.0,86.0,86.0,86.0,86.0,86.0,86.0,86.0,86.0,86.0,86.0,86.0,86.0,86.0,86.0,86.0,86.0,85.0,85.0,85.0,85.0,85.0,85.0,85.0,85.0,85.0,85.0,85.0,85.0,85.0,85.0,85.0,85.0,85.0,85.0,85.0,85.0,85.0,85.0,85.0,85.0,85.0,85.0,85.0,85.0,85.0,85.0,85.0,85.0,85.0,85.0,85.0,85.0,85.0,85.0,85.0,85.0,85.0,85.0,85.0,85.0,85.0,85.0,84.0,84.0,84.0,84.0,84.0,84.0,84.0,84.0,84.0,84.0,84.0,84.0,84.0,84.0,84.0,84.0,84.0,84.0,84.0,84.0,84.0,84.0,84.0,84.0,84.0,84.0,84.0,84.0,84.0,84.0,84.0,84.0,84.0,84.0,84.0,84.0,84.0,84.0,84.0,84.0,84.0,84.0,84.0,84.0,84.0,84.0,84.0,84.0,84.0,84.0,84.0,84.0,84.0,84.0,84.0,84.0,84.0,84.0,84.0,84.0,84.0,84.0,84.0,84.0,84.0,84.0,84.0,84.0,84.0,84.0,84.0,84.0,84.0,84.0,84.0,84.0,84.0,84.0,84.0,84.0,84.0,84.0,84.0,84.0,84.0,84.0,84.0,84.0,84.0,84.0,84.0,84.0,84.0,84.0,84.0,84.0,84.0,84.0,84.0,84.0,84.0,84.0,84.0,84.0,84.0,84.0,84.0,84.0,84.0,84.0,84.0,84.0,84.0,84.0,84.0,84.0,84.0,84.0,84.0,84.0,84.0,84.0,84.0,84.0,84.0,84.0,84.0,84.0,84.0,84.0,84.0,84.0,84.0,84.0,83.0,83.0,83.0,83.0,83.0,83.0,83.0,83.0,83.0,83.0,83.0,83.0,83.0,83.0,83.0,83.0,83.0,83.0,83.0,83.0,83.0,83.0,83.0,83.0,83.0,83.0,83.0,83.0,83.0,83.0,83.0,83.0,83.0,83.0,83.0,83.0,83.0,83.0,83.0,83.0,83.0,83.0,83.0,83.0,83.0,83.0,83.0,83.0,83.0,83.0,83.0,83.0,83.0,83.0,83.0,83.0,83.0,83.0,83.0,83.0,83.0,83.0,83.0,83.0,83.0,83.0,83.0,83.0,83.0,83.0,83.0,83.0,83.0,83.0,83.0,83.0,83.0,83.0,83.0,83.0,83.0,83.0,83.0,83.0,83.0,83.0,83.0,83.0,83.0,83.0,83.0,83.0,83.0,83.0,83.0,83.0,83.0,83.0,83.0,83.0,83.0,83.0,83.0,83.0,83.0,83.0,83.0,83.0,83.0,83.0,83.0,83.0,83.0,83.0,83.0,83.0,83.0,83.0,83.0,83.0,83.0,83.0,83.0,83.0,83.0,83.0,83.0,83.0,83.0,83.0,83.0,83.0,83.0,83.0,83.0,83.0,83.0,83.0,83.0,82.0,82.0,82.0,82.0,82.0,82.0,82.0,82.0,82.0,82.0,82.0,82.0,82.0,82.0,82.0,82.0,82.0,82.0,82.0,82.0,82.0,82.0,82.0,82.0,82.0,82.0,82.0,82.0,82.0,82.0,82.0,82.0,82.0,82.0,82.0,82.0,82.0,82.0,82.0,82.0,82.0,82.0,82.0,82.0,82.0,82.0,82.0,82.0,82.0,82.0,82.0,82.0,82.0,82.0,82.0,82.0,82.0,82.0,82.0,82.0,82.0,82.0,82.0,82.0,82.0,82.0,82.0,82.0,82.0,82.0,82.0,82.0,82.0,82.0,82.0,82.0,82.0,82.0,82.0,82.0,82.0,82.0,82.0,82.0,82.0,82.0,82.0,82.0,82.0,82.0,82.0,82.0,82.0,82.0,82.0,82.0,82.0,82.0,82.0,82.0,82.0,82.0,82.0,82.0,82.0,82.0,82.0,82.0,82.0,82.0,82.0,82.0,82.0,82.0,82.0,82.0,82.0,82.0,82.0,82.0,82.0,82.0,82.0,82.0,82.0,82.0,82.0,82.0,82.0,82.0,82.0,82.0,82.0,82.0,82.0,82.0,82.0,82.0,82.0,82.0,82.0,82.0,82.0,82.0,82.0,82.0,82.0,82.0,82.0,82.0,82.0,82.0,82.0,82.0,82.0,82.0,82.0,82.0,82.0,82.0,82.0,82.0,82.0,82.0,82.0,82.0,82.0,82.0,82.0,82.0,82.0,82.0,82.0,82.0,82.0,82.0,82.0,81.0,81.0,81.0,81.0,81.0,81.0,81.0,81.0,81.0,81.0,81.0,81.0,81.0,81.0,81.0,81.0,81.0,81.0,81.0,81.0,81.0,81.0,81.0,81.0,81.0,81.0,81.0,81.0,81.0,81.0,81.0,81.0,81.0,81.0,81.0,81.0,81.0,81.0,81.0,81.0,81.0,81.0,81.0,81.0,81.0,81.0,81.0,81.0,81.0,81.0,80.0,80.0,80.0,80.0,80.0,80.0,80.0,80.0,80.0,80.0,80.0,80.0,80.0,80.0,80.0,80.0,80.0,80.0,80.0,80.0,80.0,80.0,80.0,80.0,80.0,80.0,80.0,80.0,80.0,80.0,80.0,80.0,80.0,80.0,80.0,80.0,80.0,80.0,80.0,80.0,80.0,80.0,80.0,80.0,80.0,80.0,80.0,80.0,80.0,80.0,80.0,80.0,80.0,80.0,80.0,80.0,80.0,80.0,80.0,80.0,80.0,80.0,80.0,80.0,80.0,80.0,80.0,80.0,80.0,80.0,80.0,80.0,80.0,80.0,80.0,80.0,80.0,80.0,80.0,80.0,80.0,80.0,80.0,80.0,80.0,80.0,80.0,80.0,80.0,80.0,80.0,80.0,80.0,80.0,80.0,80.0,80.0,80.0,80.0,80.0,80.0,80.0,80.0,80.0,80.0,80.0,80.0,80.0,80.0,80.0,80.0,80.0,80.0,80.0,80.0,80.0,80.0,80.0,80.0,80.0,80.0,80.0,80.0,80.0,80.0,80.0,80.0,80.0,80.0,80.0,80.0,80.0,80.0,80.0,80.0,80.0,80.0,80.0,80.0,80.0,80.0,80.0,80.0,80.0,80.0,80.0,80.0,80.0,80.0,80.0,80.0,80.0,80.0,80.0,80.0,80.0,80.0,80.0,80.0,80.0,80.0,80.0,80.0,80.0,80.0,80.0,80.0,80.0,80.0,80.0,80.0,80.0,80.0,80.0,80.0,80.0,80.0,80.0,80.0,80.0,80.0,80.0,80.0,80.0,80.0,80.0,80.0,80.0,80.0,80.0,80.0,80.0,80.0,80.0,80.0,80.0,80.0,80.0,80.0,80.0,80.0,80.0,80.0,80.0,80.0,80.0,80.0,80.0,80.0,80.0,80.0,80.0,80.0,80.0,80.0,80.0,80.0,80.0,80.0,80.0,80.0,80.0,80.0,80.0,80.0,80.0,80.0,80.0,80.0,80.0,80.0,80.0,80.0,80.0,80.0,80.0,80.0,80.0,80.0,80.0,80.0,80.0,80.0,80.0,80.0,80.0,80.0,80.0,80.0,80.0,80.0,80.0,80.0,80.0,80.0,80.0,80.0,80.0,80.0,80.0,80.0,80.0,80.0,80.0,80.0,80.0,80.0,80.0,80.0,80.0,80.0,80.0,80.0,79.0,79.0,79.0,79.0,79.0,79.0,79.0,79.0,79.0,79.0,79.0,79.0,79.0,79.0,79.0,79.0,79.0,79.0,79.0,79.0,79.0,79.0,79.0,79.0,79.0,79.0,79.0,79.0,79.0,79.0,79.0,79.0,79.0,79.0,79.0,79.0,79.0,79.0,79.0,79.0,79.0,79.0,79.0,79.0,79.0,79.0,79.0,79.0,79.0,79.0,79.0,79.0,79.0,79.0,79.0,79.0,79.0,79.0,79.0,79.0,79.0,79.0,79.0,79.0,78.0,78.0,78.0,78.0,78.0,78.0,78.0,78.0,78.0,78.0,78.0,78.0,78.0,78.0,78.0,78.0,78.0,78.0,78.0,78.0,78.0,78.0,78.0,78.0,78.0,78.0,78.0,78.0,78.0,78.0,78.0,78.0,78.0,78.0,78.0,78.0,78.0,78.0,78.0,78.0,78.0,78.0,78.0,78.0,78.0,78.0,78.0,78.0,78.0,78.0,78.0,78.0,78.0,78.0,78.0,78.0,78.0,78.0,78.0,78.0,78.0,78.0,78.0,78.0,78.0,78.0,78.0,78.0,78.0,78.0,78.0,78.0,78.0,78.0,78.0,78.0,78.0,78.0,78.0,78.0,78.0,78.0,78.0,78.0,78.0,78.0,78.0,78.0,78.0,78.0,78.0,78.0,78.0,78.0,78.0,78.0,78.0,78.0,78.0,78.0,78.0,78.0,78.0,78.0,78.0,78.0,78.0,78.0,78.0,78.0,78.0,77.0,77.0,77.0,77.0,77.0,77.0,77.0,77.0,77.0,77.0,77.0,77.0,77.0,77.0,77.0,77.0,77.0,77.0,77.0,77.0,77.0,77.0,77.0,77.0,77.0,77.0,77.0,77.0,77.0,77.0,77.0,77.0,77.0,77.0,77.0,77.0,77.0,77.0,77.0,77.0,77.0,77.0,77.0,77.0,77.0,77.0,77.0,77.0,77.0,77.0,77.0,77.0,77.0,77.0,77.0,77.0,77.0,77.0,77.0,77.0,77.0,77.0,77.0,77.0,77.0,77.0,77.0,77.0,77.0,77.0,77.0,77.0,77.0,77.0,77.0,77.0,77.0,77.0,77.0,77.0,77.0,77.0,77.0,77.0,77.0,77.0,77.0,77.0,77.0,77.0,77.0,77.0,77.0,77.0,77.0,77.0,77.0,77.0,77.0,77.0,77.0,77.0,77.0,77.0,77.0,77.0,77.0,77.0,77.0,77.0,77.0,77.0,77.0,77.0,77.0,77.0,77.0,77.0,77.0,77.0,77.0,77.0,77.0,77.0,77.0,77.0,77.0,77.0,77.0,77.0,77.0,77.0,77.0,77.0,77.0,77.0,77.0,77.0,77.0,77.0,77.0,77.0,77.0,77.0,77.0,77.0,77.0,77.0,77.0,77.0,77.0,77.0,77.0,77.0,77.0,77.0,77.0,77.0,77.0,77.0,77.0,77.0,77.0,77.0,77.0,77.0,77.0,77.0,77.0,77.0,77.0,77.0,77.0,77.0,77.0,77.0,77.0,77.0,77.0,77.0,77.0,77.0,77.0,77.0,77.0,77.0,77.0,77.0,77.0,77.0,77.0,77.0,77.0,77.0,77.0,77.0,77.0,77.0,77.0,77.0,77.0,77.0,77.0,77.0,77.0,77.0,77.0,77.0,77.0,77.0,76.0,76.0,76.0,76.0,76.0,76.0,76.0,76.0,76.0,76.0,76.0,76.0,76.0,76.0,76.0,76.0,76.0,76.0,76.0,76.0,76.0,76.0,76.0,76.0,76.0,76.0,76.0,76.0,76.0,76.0,76.0,76.0,76.0,76.0,76.0,76.0,76.0,76.0,76.0,76.0,76.0,76.0,76.0,76.0,76.0,76.0,76.0,76.0,76.0,76.0,76.0,76.0,76.0,76.0,76.0,76.0,76.0,76.0,76.0,76.0,76.0,76.0,76.0,76.0,76.0,76.0,76.0,76.0,76.0,76.0,76.0,76.0,76.0,76.0,76.0,76.0,76.0,76.0,76.0,76.0,76.0,76.0,76.0,76.0,76.0,76.0,76.0,76.0,76.0,76.0,76.0,76.0,76.0,76.0,76.0,76.0,76.0,76.0,76.0,76.0,76.0,76.0,76.0,76.0,76.0,76.0,76.0,76.0,76.0,76.0,76.0,76.0,76.0,76.0,76.0,76.0,76.0,76.0,76.0,76.0,76.0,76.0,76.0,76.0,76.0,76.0,76.0,76.0,76.0,76.0,76.0,76.0,76.0,76.0,76.0,76.0,76.0,76.0,76.0,76.0,76.0,76.0,76.0,76.0,76.0,76.0,76.0,76.0,76.0,76.0,76.0,76.0,76.0,76.0,76.0,76.0,76.0,76.0,76.0,76.0,76.0,76.0,76.0,76.0,76.0,76.0,76.0,76.0,76.0,76.0,76.0,76.0,76.0,76.0,76.0,76.0,76.0,76.0,76.0,76.0,76.0,76.0,76.0,76.0,76.0,76.0,76.0,76.0,76.0,76.0,76.0,76.0,76.0,76.0,76.0,76.0,76.0,76.0,76.0,76.0,76.0,76.0,76.0,76.0,76.0,76.0,76.0,76.0,76.0,76.0,76.0,76.0,76.0,76.0,76.0,76.0,76.0,76.0,76.0,76.0,76.0,76.0,76.0,76.0,76.0,76.0,76.0,76.0,76.0,76.0,76.0,76.0,76.0,76.0,76.0,76.0,76.0,76.0,76.0,76.0,76.0,76.0,76.0,76.0,76.0,76.0,76.0,76.0,76.0,76.0,76.0,76.0,76.0,76.0,76.0,76.0,76.0,76.0,76.0,76.0,76.0,76.0,76.0,76.0,76.0,76.0,76.0,76.0,76.0,75.0,75.0,75.0,75.0,75.0,75.0,75.0,75.0,75.0,75.0,75.0,75.0,75.0,75.0,75.0,75.0,75.0,75.0,75.0,75.0,75.0,75.0,75.0,75.0,75.0,75.0,75.0,75.0,75.0,75.0,75.0,75.0,75.0,75.0,75.0,75.0,75.0,75.0,75.0,75.0,75.0,75.0,75.0,75.0,75.0,75.0,75.0,75.0,75.0,75.0,75.0,75.0,75.0,75.0,75.0,75.0,75.0,75.0,75.0,75.0,75.0,75.0,75.0,75.0,75.0,75.0,75.0,75.0,75.0,75.0,75.0,75.0,75.0,75.0,75.0,75.0,75.0,75.0,75.0,75.0,75.0,75.0,75.0,75.0,75.0,75.0,75.0,75.0,75.0,75.0,75.0,75.0,75.0,75.0,75.0,75.0,75.0,75.0,75.0,75.0,75.0,75.0,75.0,75.0,75.0,75.0,75.0,75.0,74.0,74.0,74.0,74.0,74.0,74.0,74.0,74.0,74.0,74.0,74.0,74.0,74.0,74.0,74.0,74.0,74.0,74.0,74.0,74.0,74.0,74.0,74.0,74.0,74.0,74.0,74.0,74.0,74.0,74.0,74.0,74.0,74.0,74.0,74.0,74.0,74.0,74.0,74.0,74.0,74.0,74.0,74.0,74.0,74.0,74.0,74.0,74.0,74.0,74.0,74.0,74.0,74.0,74.0,74.0,74.0,74.0,74.0,74.0,74.0,74.0,74.0,74.0,74.0,74.0,74.0,74.0,74.0,74.0,74.0,74.0,74.0,74.0,74.0,74.0,74.0,74.0,74.0,74.0,74.0,74.0,74.0,74.0,74.0,74.0,74.0,74.0,74.0,74.0,74.0,74.0,74.0,74.0,74.0,74.0,74.0,74.0,74.0,74.0,74.0,74.0,74.0,74.0,74.0,74.0,74.0,74.0,74.0,74.0,74.0,74.0,74.0,74.0,74.0,74.0,74.0,74.0,74.0,74.0,74.0,74.0,74.0,74.0,74.0,74.0,74.0,74.0,74.0,74.0,74.0,74.0,74.0,74.0,74.0,74.0,74.0,74.0,74.0,74.0,74.0,74.0,74.0,74.0,74.0,74.0,74.0,74.0,74.0,74.0,74.0,74.0,74.0,74.0,74.0,74.0,74.0,74.0,74.0,74.0,74.0,74.0,74.0,74.0,74.0,74.0,74.0,74.0,74.0,74.0,74.0,74.0,74.0,74.0,74.0,74.0,74.0,74.0,74.0,74.0,74.0,74.0,74.0,74.0,74.0,74.0,74.0,74.0,74.0,74.0,74.0,74.0,74.0,74.0,74.0,74.0,74.0,74.0,74.0,74.0,74.0,74.0,74.0,74.0,74.0,74.0,74.0,74.0,74.0,74.0,74.0,74.0,74.0,74.0,74.0,74.0,74.0,74.0,74.0,74.0,74.0,74.0,74.0,74.0,74.0,74.0,74.0,74.0,74.0,74.0,74.0,74.0,74.0,74.0,74.0,74.0,74.0,74.0,74.0,74.0,74.0,73.0,73.0,73.0,73.0,73.0,73.0,73.0,73.0,73.0,73.0,73.0,73.0,73.0,73.0,73.0,73.0,73.0,73.0,73.0,73.0,73.0,73.0,73.0,73.0,73.0,73.0,73.0,73.0,73.0,73.0,73.0,73.0,73.0,73.0,73.0,73.0,73.0,73.0,73.0,73.0,73.0,73.0,73.0,73.0,73.0,73.0,73.0,73.0,73.0,73.0,73.0,73.0,73.0,73.0,73.0,73.0,73.0,73.0,73.0,73.0,73.0,73.0,73.0,73.0,73.0,73.0,73.0,73.0,73.0,73.0,73.0,73.0,73.0,73.0,73.0,73.0,73.0,73.0,73.0,73.0,73.0,73.0,72.0,72.0,72.0,72.0,72.0,72.0,72.0,72.0,72.0,72.0,72.0,72.0,72.0,72.0,72.0,72.0,72.0,72.0,72.0,72.0,72.0,72.0,72.0,72.0,72.0,72.0,72.0,72.0,72.0,72.0,72.0,72.0,72.0,72.0,72.0,72.0,72.0,72.0,72.0,72.0,72.0,72.0,72.0,72.0,72.0,72.0,72.0,72.0,72.0,72.0,72.0,72.0,72.0,72.0,72.0,72.0,72.0,72.0,72.0,72.0,72.0,72.0,72.0,72.0,72.0,72.0,72.0,72.0,72.0,72.0,72.0,72.0,72.0,72.0,72.0,72.0,72.0,72.0,72.0,72.0,72.0,72.0,72.0,72.0,72.0,72.0,72.0,72.0,72.0,72.0,72.0,72.0,72.0,72.0,72.0,72.0,72.0,72.0,72.0,72.0,72.0,72.0,72.0,72.0,72.0,72.0,72.0,72.0,72.0,72.0,72.0,72.0,72.0,72.0,72.0,72.0,72.0,72.0,72.0,72.0,72.0,72.0,72.0,72.0,72.0,72.0,72.0,72.0,72.0,72.0,72.0,72.0,72.0,72.0,72.0,72.0,72.0,72.0,72.0,72.0,72.0,72.0,72.0,72.0,72.0,72.0,72.0,72.0,72.0,72.0,72.0,72.0,72.0,72.0,72.0,72.0,72.0,72.0,72.0,72.0,72.0,72.0,72.0,72.0,72.0,72.0,72.0,72.0,72.0,71.0,71.0,71.0,71.0,71.0,71.0,71.0,71.0,71.0,71.0,71.0,71.0,71.0,71.0,71.0,71.0,71.0,71.0,71.0,71.0,71.0,71.0,71.0,71.0,71.0,71.0,71.0,71.0,71.0,71.0,71.0,71.0,71.0,71.0,71.0,71.0,71.0,71.0,71.0,71.0,71.0,71.0,71.0,71.0,71.0,71.0,71.0,71.0,71.0,71.0,71.0,71.0,71.0,71.0,71.0,71.0,71.0,71.0,71.0,71.0,71.0,71.0,71.0,71.0,71.0,71.0,71.0,71.0,71.0,71.0,71.0,71.0,71.0,71.0,71.0,71.0,71.0,71.0,71.0,71.0,71.0,71.0,71.0,71.0,71.0,71.0,71.0,71.0,71.0,71.0,71.0,71.0,71.0,71.0,71.0,71.0,71.0,71.0,71.0,71.0,71.0,71.0,71.0,71.0,71.0,71.0,71.0,71.0,71.0,71.0,71.0,71.0,71.0,71.0,71.0,71.0,71.0,71.0,71.0,71.0,71.0,71.0,71.0,71.0,69.0,69.0,69.0,69.0,69.0,69.0,69.0,69.0,69.0,69.0,69.0,69.0,69.0,69.0,69.0,69.0,69.0,69.0,69.0,69.0,69.0,69.0,69.0,69.0,69.0,69.0,69.0,69.0,69.0,69.0,69.0,69.0,69.0,69.0,69.0,69.0,69.0,69.0,69.0,69.0,69.0,69.0,69.0,69.0,69.0,69.0,69.0,69.0,69.0,69.0,69.0,69.0,69.0,69.0,69.0,69.0,69.0,69.0,69.0,69.0,69.0,69.0,69.0,69.0,69.0,69.0,69.0,69.0,69.0,69.0,69.0,69.0,69.0,69.0,68.0,68.0,68.0,68.0,68.0,68.0,68.0,68.0,68.0,68.0,68.0,68.0,68.0,68.0,68.0,68.0,68.0,68.0,68.0,68.0,68.0,68.0,68.0,68.0,68.0,68.0,68.0,68.0,68.0,68.0,68.0,68.0,68.0,68.0,68.0,68.0,68.0,68.0,68.0,68.0,68.0,68.0,68.0,68.0,67.0,67.0,67.0,67.0,67.0,67.0,67.0,67.0,67.0,67.0,67.0,67.0,67.0,67.0,67.0,67.0,67.0,67.0,67.0,67.0,67.0,67.0,67.0,67.0,67.0,67.0,67.0,67.0,67.0,67.0,67.0,67.0,67.0,67.0,67.0,67.0,67.0,67.0,67.0,67.0,67.0,67.0,67.0,67.0,67.0,67.0,67.0,67.0,67.0,67.0,67.0,67.0,67.0,67.0,67.0,67.0,67.0,67.0,67.0,67.0,67.0,67.0,67.0,67.0,67.0,67.0,67.0,67.0,67.0,67.0,67.0,67.0,67.0,67.0,67.0,67.0,67.0,67.0,67.0,67.0,67.0,67.0,67.0,67.0,67.0,67.0,67.0,67.0,67.0,67.0,67.0,67.0,67.0,67.0,67.0,67.0,67.0,67.0,67.0,67.0,67.0,67.0,67.0,67.0,67.0,67.0,67.0,67.0,67.0,67.0,67.0,67.0,67.0,67.0,67.0,67.0,67.0,67.0,67.0,67.0,67.0,67.0,67.0,67.0,67.0,67.0,66.0,66.0,66.0,66.0,66.0,66.0,66.0,66.0,66.0,66.0,66.0,66.0,66.0,66.0,66.0,66.0,66.0,66.0,66.0,66.0,66.0,66.0,66.0,66.0,66.0,66.0,66.0,66.0,66.0,66.0,66.0,66.0,66.0,66.0,66.0,66.0,66.0,66.0,66.0,66.0,66.0,66.0,66.0,66.0,66.0,66.0,66.0,66.0,66.0,66.0,66.0,66.0,66.0,66.0,66.0,66.0,66.0,66.0,66.0,66.0,66.0,66.0,66.0,66.0,64.0,64.0,64.0,64.0,64.0,64.0,64.0,64.0,64.0,64.0,64.0,64.0,64.0,64.0,64.0,64.0,64.0,64.0,64.0,64.0,64.0,64.0,64.0,64.0,64.0,64.0,64.0,64.0,64.0,64.0,64.0,64.0,64.0,64.0,64.0,64.0,64.0,64.0,64.0,64.0,64.0,64.0,64.0,64.0,64.0,64.0,64.0,64.0,64.0,64.0,64.0,64.0,64.0,64.0,64.0,64.0,64.0,64.0,64.0,64.0,64.0,64.0,64.0,64.0,64.0,64.0,64.0,64.0,64.0,64.0,64.0,64.0,64.0,64.0,64.0,64.0,64.0,64.0,64.0,64.0,64.0,64.0,64.0,64.0,64.0,64.0,64.0,64.0,64.0,64.0,64.0,64.0,64.0,64.0,64.0,64.0,64.0,64.0,64.0,64.0,64.0,64.0,64.0,64.0,64.0,64.0,64.0,64.0,64.0,64.0,64.0,64.0,64.0,64.0,64.0,64.0,64.0,64.0,64.0,63.0,63.0,63.0,63.0,63.0,63.0,63.0,63.0,63.0,63.0,63.0,63.0,63.0,63.0,63.0,63.0,63.0,63.0,63.0,63.0,63.0,63.0,63.0,63.0,63.0,63.0,63.0,63.0,63.0,63.0,63.0,63.0,63.0,63.0,63.0,63.0,63.0,63.0,63.0,63.0,63.0,63.0,63.0,63.0,63.0,63.0,63.0,63.0,63.0,63.0,63.0,63.0,63.0,63.0,63.0,63.0,63.0,63.0,63.0,63.0,63.0,63.0,63.0,63.0,63.0,63.0,63.0,63.0,63.0,63.0,63.0,63.0,63.0,63.0,63.0,63.0,63.0,63.0,63.0,63.0,63.0,63.0,63.0,63.0,63.0,63.0,63.0,63.0,63.0,63.0,63.0,63.0,63.0,63.0,63.0,63.0,63.0,63.0,63.0,63.0,63.0,63.0,63.0,63.0,63.0,63.0,63.0,63.0,63.0,63.0,63.0,63.0,63.0,63.0,63.0,63.0,63.0,63.0,63.0,63.0,63.0,63.0,63.0,63.0,63.0,63.0,63.0,63.0,63.0,63.0,63.0,63.0,63.0,63.0,63.0,63.0,63.0,63.0,63.0,63.0,63.0,63.0,63.0,63.0,63.0,63.0,63.0,63.0,63.0,63.0,63.0,63.0,63.0,63.0,63.0,63.0,63.0,63.0,63.0,63.0,63.0,63.0,63.0,63.0,63.0,63.0,63.0,63.0,63.0,63.0,63.0,63.0,63.0,63.0,63.0,63.0,63.0,63.0,63.0,63.0,63.0,63.0,63.0,63.0,63.0,63.0,63.0,63.0,63.0,63.0,63.0,63.0,63.0,63.0,63.0,63.0,63.0,63.0,63.0,63.0,63.0,63.0,63.0,63.0,63.0,63.0,63.0,63.0,63.0,63.0,63.0,63.0,63.0,63.0,63.0,63.0,63.0,63.0,63.0,63.0,63.0,63.0,63.0,63.0,63.0,62.0,62.0,62.0,62.0,62.0,62.0,62.0,62.0,62.0,62.0,62.0,62.0,62.0,62.0,62.0,62.0,62.0,62.0,62.0,62.0,62.0,62.0,62.0,62.0,62.0,62.0,62.0,62.0,62.0,62.0,62.0,62.0,62.0,62.0,62.0,62.0,62.0,62.0,62.0,62.0,62.0,62.0,62.0,62.0,62.0,62.0,62.0,62.0,62.0,62.0,62.0,62.0,62.0,62.0,62.0,62.0,62.0,62.0,62.0,62.0,62.0,62.0,62.0,62.0,62.0,62.0,62.0,62.0,62.0,62.0,62.0,62.0,62.0,62.0,62.0,62.0,62.0,62.0,62.0,62.0,62.0,62.0,62.0,62.0,62.0,62.0,62.0,62.0,62.0,62.0,62.0,62.0,62.0,62.0,62.0,62.0,62.0,62.0,62.0,62.0,62.0,62.0,62.0,62.0,62.0,62.0,62.0,62.0,62.0,62.0,62.0,62.0,62.0,62.0,62.0,62.0,62.0,62.0,61.0,61.0,61.0,61.0,61.0,61.0,61.0,61.0,61.0,61.0,61.0,61.0,61.0,61.0,61.0,61.0,61.0,61.0,61.0,61.0,61.0,61.0,61.0,61.0,61.0,61.0,61.0,61.0,61.0,60.0,60.0,60.0,60.0,60.0,60.0,60.0,60.0,60.0,60.0,60.0,60.0,60.0,60.0,60.0,60.0,60.0,60.0,60.0,60.0,60.0,60.0,60.0,60.0,60.0,60.0,60.0,60.0,60.0,60.0,60.0,60.0,60.0,60.0,60.0,60.0,60.0,60.0,60.0,60.0,60.0,60.0,60.0,60.0,60.0,60.0,60.0,60.0,60.0,60.0,60.0,60.0,60.0,60.0,60.0,60.0,60.0,60.0,60.0,60.0,60.0,60.0,60.0,60.0,60.0,60.0,60.0,60.0,60.0,60.0,60.0,60.0,60.0,60.0,60.0,60.0,60.0,60.0,60.0,60.0,60.0,60.0,60.0,60.0,60.0,60.0,60.0,60.0,60.0,60.0,60.0,60.0,60.0,60.0,60.0,60.0,60.0,60.0,60.0,60.0,60.0,60.0,60.0,60.0,60.0,60.0,60.0,60.0,60.0,60.0,60.0,60.0,60.0,60.0,60.0,60.0,60.0,60.0,60.0,60.0,60.0,60.0,60.0,60.0,60.0,60.0,60.0,60.0,60.0,60.0,60.0,60.0,60.0,60.0,60.0,60.0,60.0,60.0,60.0,60.0,60.0,60.0,60.0,60.0,60.0,60.0,60.0,60.0,60.0,60.0,60.0,60.0,60.0,60.0,60.0,60.0,60.0,60.0,59.0,59.0,59.0,59.0,59.0,59.0,59.0,59.0,59.0,59.0,59.0,59.0,59.0,59.0,59.0,59.0,59.0,59.0,59.0,59.0,59.0,59.0,59.0,59.0,59.0,59.0,59.0,59.0,59.0,59.0,59.0,59.0,59.0,59.0,59.0,59.0,59.0,59.0,59.0,59.0,59.0,59.0,59.0,59.0,59.0,59.0,59.0,59.0,59.0,59.0,59.0,59.0,59.0,59.0,59.0,59.0,59.0,59.0,59.0,59.0,59.0,59.0,59.0,59.0,59.0,59.0,59.0,59.0,59.0,59.0,59.0,59.0,59.0,59.0,59.0,59.0,59.0,59.0,59.0,59.0,59.0,59.0,59.0,59.0,59.0,59.0,59.0,59.0,59.0,59.0,59.0,59.0,59.0,59.0,59.0,59.0,59.0,59.0,59.0,59.0,59.0,59.0,59.0,59.0,59.0,59.0,59.0,59.0,59.0,59.0,59.0,59.0,59.0,59.0,59.0,59.0,59.0,59.0,59.0,59.0,59.0,59.0,59.0,59.0,59.0,59.0,59.0,59.0,59.0,59.0,59.0,59.0,59.0,59.0,59.0,59.0,59.0,59.0,59.0,59.0,59.0,59.0,59.0,59.0,59.0,59.0,59.0,59.0,59.0,59.0,59.0,59.0,59.0,59.0,59.0,59.0,59.0,59.0,59.0,59.0,59.0,59.0,59.0,59.0,59.0,59.0,59.0,59.0,59.0,59.0,59.0,59.0,59.0,59.0,59.0,59.0,59.0,59.0,59.0,59.0,59.0,59.0,59.0,59.0,59.0,59.0,59.0,59.0,59.0,59.0,59.0,59.0,59.0,59.0,59.0,59.0,59.0,59.0,59.0,59.0,59.0,59.0,58.0,58.0,58.0,58.0,58.0,58.0,58.0,58.0,58.0,58.0,58.0,58.0,58.0,58.0,58.0,58.0,58.0,58.0,58.0,58.0,58.0,58.0,58.0,58.0,58.0,58.0,58.0,58.0,58.0,58.0,58.0,58.0,58.0,58.0,58.0,58.0,58.0,58.0,58.0,58.0,58.0,58.0,58.0,58.0,58.0,58.0,58.0,58.0,58.0,58.0,58.0,58.0,58.0,58.0,58.0,58.0,58.0,58.0,58.0,58.0,58.0,58.0,57.0,57.0,57.0,57.0,57.0,57.0,57.0,57.0,57.0,57.0,57.0,57.0,57.0,57.0,57.0,57.0,57.0,57.0,57.0,57.0,57.0,57.0,57.0,57.0,57.0,57.0,57.0,57.0,57.0,57.0,57.0,57.0,57.0,57.0,57.0,57.0,57.0,57.0,57.0,57.0,57.0,57.0,57.0,57.0,57.0,57.0,57.0,57.0,57.0,57.0,57.0,57.0,57.0,57.0,57.0,57.0,57.0,57.0,57.0,57.0,57.0,57.0,57.0,57.0,57.0,57.0,57.0,57.0,57.0,57.0,57.0,57.0,57.0,57.0,57.0,57.0,57.0,57.0,57.0,57.0,57.0,57.0,57.0,57.0,57.0,57.0,57.0,57.0,57.0,57.0,56.0,56.0,56.0,56.0,56.0,56.0,56.0,56.0,56.0,56.0,56.0,56.0,56.0,56.0,56.0,56.0,56.0,56.0,56.0,56.0,56.0,56.0,56.0,56.0,56.0,56.0,56.0,56.0,56.0,56.0,56.0,56.0,56.0,56.0,56.0,56.0,56.0,56.0,56.0,56.0,56.0,56.0,56.0,56.0,56.0,56.0,56.0,56.0,56.0,56.0,56.0,56.0,56.0,56.0,56.0,56.0,56.0,56.0,56.0,56.0,56.0,56.0,56.0,56.0,56.0,56.0,56.0,56.0,56.0,56.0,56.0,56.0,56.0,56.0,56.0,56.0,55.0,55.0,55.0,55.0,55.0,55.0,55.0,55.0,55.0,55.0,55.0,55.0,55.0,55.0,55.0,55.0,55.0,55.0,55.0,55.0,55.0,55.0,55.0,55.0,55.0,55.0,55.0,55.0,55.0,55.0,55.0,55.0,55.0,55.0,55.0,55.0,55.0,55.0,55.0,55.0,55.0,55.0,55.0,55.0,55.0,55.0,55.0,55.0,55.0,55.0,55.0,50.0,50.0,50.0,50.0,50.0,50.0,50.0,50.0,50.0,50.0,50.0,50.0,50.0,50.0,50.0,50.0,50.0,50.0,50.0,50.0,50.0,50.0,50.0,50.0,50.0,50.0,50.0,50.0,50.0,50.0,50.0,50.0,50.0,50.0,50.0,50.0,50.0,50.0,50.0,50.0,50.0,50.0,50.0,50.0,50.0,50.0,50.0,50.0,50.0,50.0,50.0,50.0,50.0,50.0,50.0,50.0,50.0,50.0,50.0,50.0,50.0,50.0,50.0,50.0,50.0,50.0,50.0,50.0,50.0,50.0,50.0,50.0,50.0,43.0,43.0,43.0,43.0,43.0,43.0,43.0,43.0,43.0,43.0,43.0,43.0,43.0,43.0,43.0,43.0,43.0,43.0,42.0,42.0,42.0,42.0,42.0,42.0,42.0,42.0,42.0,42.0,42.0,42.0,42.0,42.0,42.0,42.0,42.0,42.0,42.0,42.0,42.0,42.0,42.0,42.0,42.0,42.0,42.0,42.0,42.0,42.0,42.0,42.0,41.0,41.0,41.0,41.0,41.0,41.0,41.0,41.0,41.0,41.0,41.0,41.0,41.0,41.0,41.0,41.0,41.0,41.0,41.0,41.0,41.0,41.0,41.0,41.0,41.0,41.0,41.0,41.0,41.0,41.0,41.0,41.0,41.0,41.0,41.0,41.0,41.0,41.0,41.0,41.0,40.0,40.0,40.0,40.0,40.0,40.0,40.0,40.0,40.0,40.0,40.0,40.0,40.0,40.0,40.0,40.0,40.0,40.0,40.0,40.0,40.0,40.0,40.0,40.0,40.0,40.0,40.0,40.0,40.0,40.0,40.0,40.0,40.0,39.0,39.0,39.0,39.0,39.0,39.0,39.0,39.0,39.0,39.0,39.0,39.0,39.0,39.0,39.0,39.0,39.0,39.0,39.0,39.0,39.0,39.0,39.0,39.0,39.0,39.0,39.0,39.0,39.0,39.0,39.0,38.0,38.0,38.0,38.0,38.0,38.0,38.0,38.0,38.0,38.0,38.0,38.0,38.0,38.0,38.0,38.0,38.0,38.0,38.0,38.0,38.0,38.0,38.0,38.0,38.0,38.0,38.0,38.0,38.0,38.0,38.0,37.0,37.0,37.0,37.0,37.0,37.0,37.0,37.0,37.0,37.0,37.0,37.0,37.0,37.0,37.0,37.0,37.0,37.0,26.0,26.0,26.0,26.0,26.0,26.0,26.0,25.0,25.0,25.0,25.0,25.0,25.0,25.0,24.0,24.0,24.0,24.0,24.0,23.0,23.0,23.0,23.0,22.0,22.0,21.0,20.0,20.0,19.0,18.0,17.0,17.0,17.0,11.0,76.0,70.0,59.5,61.0,79.0,70.0,75.0,85.0,70.0,68.5,75.67,68.5,77.0,73.5,78.0,39.67,64.0,71.0,37.0,77.0,89.0,74.0,61.33,70.33,71.5,50.0,68.0,35.0,65.0,70.67,74.0,48.0,70.0,75.0,60.5,72.0,72.0,73.5,81.67,73.0,75.0,54.0,78.0,81.5,61.5,70.0,71.0,83.0,78.0,29.0,67.33,58.0,70.0,71.0,77.0,45.5,81.0,81.0,78.5,70.0,68.5,64.0,61.0,79.0,75.0,77.0,54.0,58.0,75.0,73.0,77.0,49.0,50.0,65.0,40.0,56.0,74.67,75.0,57.0,71.0,65.0,72.0,69.0,72.0,75.0,70.0,89.0,83.0,65.0,86.5,35.5,36.0,70.0,61.0,81.0,55.0,59.33,77.0,83.0,74.5,75.0,38.0,63.5,48.0,64.0,55.0,70.0,64.0,55.0,77.0,48.0,79.0,66.0,58.0,64.5,48.0,68.0,63.5,74.0,71.5,77.0,73.0,61.5,86.0,50.67,69.0,71.5,67.5,62.0,73.0,48.0,82.0,66.0,85.0,76.0,77.5,82.0,80.0,72.0,80.0,73.0,71.0,76.5,74.0,64.0,77.0,77.0,88.0,57.0,49.0,78.0,75.0,75.5,70.0,79.5,65.0,83.5,88.0,73.0,77.5,71.0,75.0,66.0,71.0,77.0,36.0,62.0,76.5,63.5,80.0,57.0,71.33,77.0,79.0,80.0,88.0,78.5,76.33,53.5,72.0,65.0,62.0,66.0,65.0,57.0,57.0,74.5,77.0,48.0,73.0,65.33,56.0,75.0,81.0,77.0,73.0,85.0,66.0,65.0,74.0,57.5,65.0,78.0,73.0,49.0,81.0,67.0,63.33,61.0,89.0,58.0,82.0,69.67,86.0,73.5,64.0,84.5,82.5,83.0,72.67,71.0,75.0,71.0,82.0,69.0,73.5,89.5,80.0,84.5,86.0,79.0,74.0,76.0,86.0,62.0,55.0,90.0,41.0,71.0,67.0,67.0,70.0,81.0,75.0,78.0,66.0,78.5,65.0,79.67,79.5,74.0,54.0,59.5,77.0,75.5,58.0,64.0,80.0,59.0,75.0,76.0,77.5,84.33,77.0,74.5,59.0,73.0,61.0,70.5,55.0,77.5,59.5,71.0,66.0,50.0,35.0,74.0,73.0,61.67,56.0,37.0,88.0,77.5,77.0,71.0,76.0,73.0,84.5,69.5,59.0,50.0,65.0,73.0,87.33,91.33,93.67,85.0,74.67,71.0,60.0,73.0,64.0,73.0,69.0,71.0,77.0,79.0,72.0,74.5,73.33,73.67,71.0,65.0,48.0,77.0,79.25,82.0,70.5,67.0,70.0,40.0,85.0,75.0,57.0,68.0,87.5,79.0,84.0,83.5,77.0,80.0,77.0,84.5,72.0,81.25,71.67,69.0,75.5,88.0,87.33,65.0,59.0,76.5,73.0,75.0,87.4,90.0,91.5,61.0,70.5,48.0,70.0,89.5,64.5,59.5,90.0,68.5,59.0,76.5,71.0,70.0,49.0,70.0,73.0,60.0,72.67,49.0,74.0,67.0,71.0,73.0,95.33,88.0,82.0,93.67,82.0,82.67,64.0,70.0,85.5,63.33,74.0,80.0,81.0,78.0,75.0,73.0,74.0,58.0,58.5,68.67,61.0,66.5,62.0,64.0,67.0,58.5,55.0,79.0,76.0,87.0,86.0,83.0,83.0,71.0,62.0,77.5,58.0,58.0,79.0,73.0,62.0,74.33,65.0,74.0,55.0,64.67,74.0,72.0,74.5,69.33,87.0,79.0,79.5,81.0,83.5,61.0,75.0,56.5,69.0,70.5,66.0,81.5,55.0,73.0,55.0,72.0,83.0,58.0,74.5,74.0,86.0,70.0,57.0,55.0,75.0,81.0,34.0,76.0,75.0,57.5,54.0,72.0,62.5,86.0,83.5,81.33,80.5,82.5,73.5,80.33,72.0,73.0,78.0,75.33,85.33,81.5,71.0,70.0,92.0,77.0,78.0,45.0,76.0,81.0,62.5,54.0,76.0,58.0,71.0,83.0,71.0,75.33,73.5,55.0,69.0,75.5,74.5,72.0,79.5,72.0,80.0,76.0,84.67,81.67,68.0,68.0,73.33,73.5,72.0,55.0,83.0,77.67,81.5,70.0,72.0,76.5,87.0,93.5,76.0,62.0,87.0,79.67,89.5,73.0,52.0,79.0,86.0,73.0,62.0,54.5,69.0,70.0,71.0,77.0,58.0,81.0,61.0,65.0,56.0,71.0,48.0,55.0,85.0,75.5,55.0,65.0,76.5,68.0,87.5,77.5,81.75,88.75,75.0,80.5,72.0,80.67,79.0,78.0,70.0,83.0,76.0,78.5,70.0,75.0,70.67,75.0,80.0,94.0,71.0,88.0,80.0,73.0,79.5,81.5,71.0,77.0,74.0,47.0,78.0,76.5,78.5,75.0,78.0,75.0,72.0,65.0,57.0,80.0,82.0,59.33,81.0,77.0,79.0,48.0,54.0,49.0,54.0,75.5,64.33,74.0,59.0,54.0,79.0,75.5,47.0,65.0,54.0,80.5,83.5,77.0,72.0,67.5,84.0,72.0,73.0,85.0,85.0,91.0,75.67,77.0,80.5,57.0,88.0,66.0,50.0,91.25,71.0,67.0,70.0,69.0,78.0,74.5,33.33,64.0,72.0,79.0,80.0,49.0,33.0,82.5,90.0,83.25,80.5,79.0,80.5,78.0,62.0,83.5,65.0,48.0,64.0,62.0,68.0,84.0,57.0,80.0,61.0,70.0,85.0,79.0,70.0,67.0,86.0,67.0,41.5,55.0,66.0,73.0,71.0,77.0,59.0,62.0,58.0,65.5,79.5,71.5,72.0,64.0,69.0,67.5,63.33,47.0,73.5,67.0,84.5,49.0,55.0,36.0,72.0,73.0,67.0,73.0,84.33,83.0,86.0,71.0,79.5,66.0,70.0,74.0,71.0,54.0,69.0,37.0,62.0,77.0,82.0,90.0,78.0,64.0,71.0,73.67,60.0,70.0,66.0,71.0,62.0,81.0,79.5,58.5,70.5,61.67,57.67,71.0,73.0,70.0,49.0,60.5,83.0,74.5,77.5,72.0,72.0,61.0,67.0,74.0,67.0,64.0,77.5,73.0,73.0,75.5,81.0,80.67,67.0,71.67,70.0,57.0,65.0,83.0,78.0,67.0,68.0,78.0,66.0,71.5,66.5,55.0,59.5,48.0,82.5,57.0,78.5,54.0,73.0,54.0,68.0,55.0,72.0,75.0,88.0,62.0,66.5,76.0,49.0,74.0,81.0,72.5,54.0,81.5,75.0,69.0,85.0,76.33,63.25,80.5,79.0,37.0,79.0,78.0,86.67,73.0,78.0,61.0,65.0,80.5,71.0,71.5,81.0,56.0,76.0,39.5,70.0,66.0,67.0,82.0,65.0,77.0,48.0,79.0,85.0,86.0,83.25,87.0,75.5,85.33,77.0,51.0,74.0,37.67,66.0,82.0,73.0,70.0,80.5,81.0,64.0,58.5,72.5,50.0,75.0,66.0,80.0,88.0,68.0,80.0,87.0,72.0,72.0,91.0,84.0,81.67,79.0,88.33,71.0,82.0,84.25,77.0,58.33,71.0,84.5,70.0,55.0,82.67,76.0,84.5,73.5,79.33,81.0,36.0,78.5,84.0,78.25,73.0,78.5,34.0,82.0,57.0,85.0,85.0,48.0,69.0,56.5,89.0,75.5,65.0,59.5,62.5,79.0,72.0,73.0,71.0,77.0,35.5,79.0,70.0,65.33,75.0,76.0,74.0,72.5,54.0,64.0,48.0,70.0,64.5,61.67,75.0,56.0,85.0,87.0,78.0,78.0,87.5,47.0,57.0,85.0,74.5,80.5,83.5,68.0,60.6,58.0,81.5,61.0,70.0,76.5,48.0,57.0,72.0,62.0,70.0,73.0,70.0,90.5,72.5,68.0,72.0,79.0,66.0,84.33,54.0,75.5,84.0,73.33,57.0,85.0,73.0,62.0,72.0,72.5,70.8,74.0,34.0,62.0,83.0,75.67,82.0,83.5,62.0,84.0,74.0,82.0,75.5,88.0,70.5,47.0,69.5,83.5,73.0,86.0,85.67,83.0,88.0,80.0,87.0,88.0,72.5,54.0,65.0,49.0,73.0,48.0,65.0,55.0,66.5,65.0,61.0,66.0,72.5,82.0,72.0,80.0,69.0,91.5,83.0,81.0,82.33,73.0,70.0,58.0,61.0,74.0,71.0,73.0,54.0,36.0,75.0,61.0,50.0,63.5,72.0,48.0,63.5,49.0,81.0,57.0,61.33,75.0,67.0,67.0,77.0,92.33,85.0,83.0,77.0,48.0,61.0,83.0,66.33,56.0,79.0,78.0,84.5,76.0,81.0,83.0,90.0,67.0,36.0,73.0,61.0,84.0,64.0,74.0,70.0,68.0,68.0,71.0,81.0,65.0,85.0,80.67,85.5,63.5,60.0,66.0,77.0,71.0,48.0,73.0,78.0,73.0,70.0,56.5,58.5,75.0,82.0,85.0,77.0,71.0,75.0,77.0,87.0,91.33,69.5,79.5,78.0,79.0,78.0,58.0,65.0,55.0,58.0,55.0,36.0,54.0,71.0,50.0,57.0,59.5,56.5,72.0,47.0,81.5,73.0,81.0,71.0,79.0,46.5,73.0,64.0,48.0,74.67,55.0,75.0,35.0,61.0,48.5,73.0,81.0,59.5,79.33,58.0,73.0,49.0,70.0,74.0,62.0,73.0,74.0,49.0,67.0,65.0,58.0,80.0,49.0,57.5,61.0,83.0,71.5,64.0,74.5,82.5,62.0,70.0,61.0,57.0,54.0,60.5,68.0,60.5,56.5,67.0,70.0,57.5,54.0,62.67,71.0,54.0,81.0,78.0,70.0,77.0,85.0,57.0,81.5,86.0,61.0,77.0,85.0,87.0,91.0,91.0,87.0,89.0,73.0,67.5,78.5,88.0,80.0,58.0,73.5,67.0,75.0,70.0,68.5,66.0,79.0,54.0,73.0,67.0,77.5,71.0,57.0,75.0,69.0,62.0,72.0,71.0,77.5,75.0,75.0,71.0,48.0,77.0,65.0,49.0,62.33,79.0,55.0,67.0,79.0,76.5,81.0,71.0,79.0,56.5,90.0,66.5,71.0,55.0,72.0,86.0,35.0,72.0,81.0,79.0,83.0,62.0,70.0,57.8,72.0,37.0,85.0,68.0,80.0,79.5,36.0,69.33,77.0,79.0,69.0,61.0,74.0,85.0,79.0,82.5,80.0,74.0,58.0,75.0,75.67,72.0,68.0,77.0,74.0,67.0,78.5,78.0,74.33,83.0,80.33,68.0,84.0,77.0,81.67,77.0,63.0,85.5,86.33,83.5,86.5,88.33,86.33,70.0,68.0,63.0,71.0,80.0,62.0,78.5,85.0,82.0,82.33,84.5,82.5,79.0,85.0,78.0,75.0,75.0,73.0,79.5,80.67,81.0,84.0,81.33,82.33,76.0,79.5,86.33,79.5,79.25,68.0,61.67,60.67,74.57,80.0,79.0,68.0,75.0,55.0,89.0,77.5,50.0,56.33,57.67,66.0,71.0,68.5,85.0,70.0,80.5,71.0,54.0,89.0,86.0,91.33,81.33,85.5,77.0,69.0,83.0,70.0,62.5,82.5,74.0,39.5,61.5,39.25,66.0,46.5,73.0,85.0,89.67,81.0,82.33,75.0,57.0,76.67,74.0,75.67,59.0,67.0,68.5,34.5,79.0,78.0,69.0,70.0,74.5,68.0,71.0,46.0,65.0,75.0,69.0,84.0,71.0,90.5,77.0,81.0,36.5,85.0,85.0,87.67,81.75,88.0,54.0,76.0,61.0,58.5,89.0,80.0,59.5,77.0,66.0,79.0,85.0,77.0,84.67,70.5,86.5,87.0,81.0,90.0,77.67,84.75,78.67,75.0,83.0,81.0,83.0,82.5,49.0,82.33,86.0,90.5,87.0,82.0,65.0,77.0,77.0,62.5,64.0,86.0,75.0,70.0,35.0,80.5,50.0,59.5,55.0,79.0,77.0,70.5,73.0,79.5,48.0,78.0,64.0,81.0,71.0,65.0,76.0,37.0,75.0,87.0,86.0,85.0,81.0,86.0,81.5,69.0,77.0,77.0,62.0,54.0,57.0,72.0,70.67,77.0,78.0,58.0,83.0,64.0,88.5,87.0,90.0,90.0,84.0,70.0,68.0,62.5,70.0,71.0,68.0,66.33,79.0,69.0,81.5,80.0,90.0,82.5,48.0,44.0,83.0,61.0,73.0,61.0,37.0,54.0,66.0,50.5,78.0,59.67,74.0,85.5,79.0,82.0,35.0,70.0,77.0,79.33,82.0,70.5,76.5,76.0,77.5,62.5,80.5,58.5,62.0,44.5,71.0,55.0,77.0,84.33,81.0,81.0,68.0,83.0,82.0,90.0,54.0,61.0,61.0,73.0,55.0,71.0,74.33,76.67,78.5,75.0,74.5,70.0,77.0,73.0,58.0,56.67,83.0,77.0,79.0,82.0,73.0,72.0,79.0,74.0,84.0,85.0,80.0,81.0,35.0,72.0,67.0,54.0,69.0,83.0,84.0,66.0,69.5,74.5,85.0,77.0,70.0,62.0,73.0,58.5,65.5,34.5,79.67,69.0,70.0,63.0,70.5,72.5,58.0,94.0,82.0,73.0,60.0,64.0,65.5,54.0,71.0,62.5,80.5,80.33,72.0,60.0,66.0,76.75,69.0,86.0,83.5,76.0,81.0,63.5,77.0,72.0,95.0,95.33,96.8,91.5,93.67,94.5,72.0,80.0,72.0,69.5,48.0,75.0,75.0,79.0,80.0,68.67,77.5,72.0,73.0,77.0,60.0,69.5,63.5,66.0,83.0,82.67,79.0,70.0,75.0,48.0,86.0,62.0,74.5,72.5,81.0,88.33,73.0,90.0,81.0,79.0,56.0,79.0,87.0,76.0,75.0,86.0,67.0,85.5,92.0,83.0,71.33,84.5,71.0,72.5,55.33,74.5,77.25,73.0,55.0,64.0,68.0,55.0,68.0,86.0,70.0,83.0,64.0,71.5,73.0,70.0,66.0,73.0,93.0,83.0,91.5,93.0,79.0,83.5,89.0,87.0,79.0,81.0,70.0,75.5,54.0,77.0,79.5,81.33,68.0,63.0,57.0,75.5,73.0,55.0,62.0,64.0,70.0,75.6,39.0,69.5,59.0,62.0,67.5,61.0,74.0,67.0,65.0,77.0,79.0,70.0,72.0,76.0,54.0,61.67,74.0,72.0,54.0,79.5,79.0,81.0,80.0,70.0,67.0,75.0,69.0,74.0,75.5,72.0,72.0,85.0,72.0,78.0,57.0,74.67,79.0,75.0,70.0,67.0,83.0,61.0,70.0,39.67,63.5,67.0,61.0,62.0,75.0,63.0,85.0,65.0,76.0,68.0,69.0,87.0,47.0,71.0,66.0,71.33,78.67,65.0,58.0,83.5,82.33,77.0,70.0,81.0,76.0,82.67,84.0,87.0,82.33,77.33,36.0,79.0,62.5,81.5,58.0,77.0,64.0,81.0,82.0,81.0,70.0,62.5,73.5,58.0,74.0,75.5,58.0,59.0,76.33,71.25,75.67,70.0,84.0,59.0,59.5,58.5,78.0,73.0,70.0,80.0,65.0,67.0,70.0,71.0,70.0,70.5,59.5,78.0,74.0,48.0,77.0,79.0,55.0,80.5,91.67,48.0,75.0,71.0,52.0,74.0,85.67,80.0,71.0,86.5,75.0,65.0,70.0,78.75,71.0,66.67,76.0,74.67,54.0,72.0,70.0,77.0,70.33,59.0,47.0,84.0,79.0,35.0,67.0,62.0,61.0,75.0,68.0,86.5,81.0,64.0,76.0,65.0,68.0,58.0,89.5,61.0,82.0,76.0,57.0,70.0,57.0,55.0,49.0,41.0,69.0,88.67,73.0,75.0,50.33,84.0,76.0,71.5,66.0,72.33,62.5,81.0,78.33,59.67,48.0,58.0,70.5,34.0,43.0,35.5,60.5,70.0,66.0,70.0,64.0,71.0,80.33,88.0,58.0,79.0,92.0,75.33,68.0,56.0,81.0,71.0,56.0,58.0,57.0,72.5,75.0,73.5,83.5,72.5,72.0,72.67,71.0,74.5,74.0,70.0,83.0,72.0,81.0,82.0,75.5,81.0,65.5,81.5,79.33,78.0,81.0,83.0,77.0,88.0,68.0,80.0,77.0,81.5,62.0,70.0,86.0,90.0,88.0,77.0,64.0,65.0,66.0,83.0,68.0,86.0,71.0,72.0,77.0,68.0,77.0,78.0,72.0,68.0,66.0,60.0,65.0,35.0,71.0,66.5,64.0,73.0,81.0,69.5,79.5,54.0,81.0,76.0,87.0,74.0,78.0,81.0,72.0,72.0,81.0,80.0,73.0,86.0,79.0,86.0,81.0,81.0,71.0,69.0,60.0,49.0,75.5,57.0,81.25,82.5,71.0,64.0,76.0,79.0,68.0,65.0,36.0,50.0,58.0,77.33,58.5,73.0,78.0,73.5,75.4,78.0,80.0,73.0,79.0,72.0,78.0,70.75,80.33,74.5,71.0,72.5,75.0,72.2,80.0,77.0,69.33,65.33,87.67,79.0,75.0,73.0,71.5,72.0,35.0,49.0,83.0,73.0,81.5,73.0,75.5,68.0,66.0,70.0,72.0,67.0,80.0,73.0,67.5,48.0,70.0,69.0,89.0,89.0,76.0,73.0,67.0,85.0,60.5,75.0,71.0,37.5,61.0,48.0,50.0,36.0,79.0,52.5,51.0,65.0,61.0,75.5,84.5,20.67,60.33,71.5,73.0,67.5,77.0,67.5,62.0,70.0,70.0,71.0,70.0,80.33,75.33,75.33,79.5,77.0,79.5,76.0,76.0,80.0,81.5,83.0,58.5,73.0,60.5,57.0,70.0,57.0,75.0,82.33,79.0,77.0,91.0,88.0,75.0,48.0,72.0,73.0,61.0,80.0,39.0,72.5,71.0,71.0,72.0,66.0,68.0,59.5,66.0,78.0,59.0,68.67,79.0,54.0,78.5,54.5,81.0,86.0,82.0,37.0,49.0,61.0,48.0,76.0,81.0,69.0,81.0,81.33,75.0,67.0,70.0,68.0,83.0,80.0,84.0,82.33,85.0,83.5,75.0,82.0,61.0,48.0,49.0,78.5,78.0,85.0,78.0,36.0,74.5,75.5,79.5,87.33,86.5,76.0,48.0,62.0,74.5,76.67,68.0,64.25,70.0,64.0,62.0,67.0,65.0,72.5,81.0,69.5,79.0,79.33,77.0,78.67,79.0,80.5,83.5,77.5,90.5,90.25,93.0,92.75,85.0,70.0,76.67,75.33,64.0,61.0,64.5,77.5,74.0,74.0,80.0,75.0,76.0,78.5,74.0,70.5,58.0,47.0,63.5,65.0,72.0,73.0,75.0,69.0,71.0,67.0,66.0,75.5,80.0,74.0,66.0,70.0,69.67,34.0,58.0,81.0,74.0,55.0,78.0,83.0,70.0,72.0,79.0,62.0,64.0,58.0,90.5,56.0,81.0,56.0,83.0,49.0,62.0,73.0,83.25,84.5,74.5,80.33,72.0,71.0,70.0,70.0,79.6,63.0,75.0,76.0,69.5,68.0,94.67,64.0,71.0,93.0,84.0,90.0,73.5,48.0,74.0,72.0,68.0,84.0,73.75,75.5,72.0,76.0,73.0,70.0,83.0,34.0,66.0,80.0,83.0,80.33,71.0,72.0,72.0,68.0,55.0,73.0,61.0,80.0,79.5,79.5,68.0,68.0,67.0,79.75,79.0,55.0,80.0,67.0,78.0,81.0,77.0,54.0,58.0,77.0,57.0,77.0,67.0,64.33,68.0,73.0,74.0,77.0,82.0,81.67,88.5,90.0,77.0,93.0,78.0,65.0,85.0,61.0,71.0,70.0,76.5,59.0,69.0,74.0,81.0,81.33,82.75,80.67,85.0,85.0,89.0,59.5,48.0,60.0,58.0,61.0,90.5,87.0,78.67,79.0,86.0,78.0,74.0,74.0,48.0,85.0,55.0,71.0,72.0,49.0,55.0,69.0,50.0,72.0,73.0,60.0,71.5,71.0,77.0,54.0,86.0,85.0,75.33,69.0,67.0,77.67,52.67,73.0,71.67,61.0,59.25,65.0,66.0,62.0,73.0,80.5,87.0,48.5,85.5,68.0,60.33,79.0,71.0,85.0,88.0,89.33,89.5,58.0,57.0,73.0,69.0,72.0,65.25,71.0,80.33,71.0,73.0,48.0,84.5,82.0,88.0,75.0,60.5,84.5,85.0,74.0,74.0,80.0,75.67,66.5,57.0,85.0,70.0,75.67,66.0,80.5,62.0,65.0,69.5,72.5,68.0,87.0,77.0,71.0,75.5,63.0,72.0,77.0,65.0,67.0,55.0,57.0,64.0,72.0,78.5,64.0,59.0,64.0,78.0,72.0,85.0,78.0,78.0,78.0,65.0,49.0,72.0,47.0,67.5,67.0,67.5,64.5,65.0,65.0,67.0,58.0,86.0,79.5,72.0,66.0,70.0,78.67,80.25,86.5,63.0,65.67,71.0,67.5,90.0,87.67,85.67,82.5,89.0,82.5,80.33,91.0,80.0,73.5,84.0,82.0,81.0,83.0,73.0,55.0,69.0,71.0,49.0,74.5,63.75,73.0,80.5,39.5,59.5,72.0,80.0,73.0,81.75,83.75,82.0,62.5,80.5,89.0,24.5,83.0,70.5,55.0,57.0,80.67,82.0,81.5,82.0,79.0,77.0,90.67,91.0,88.0,57.0,61.0,78.0,65.0,54.0,74.0,81.5,80.0,35.0,81.0,71.0,73.0,92.5,79.0,63.33,72.33,71.0,79.0,73.0,62.0,65.0,65.5,67.0,80.5,77.0,69.0,76.0,85.5,83.5,80.5,59.5,79.0,81.0,87.5,79.33,85.0,76.0,72.0,70.0,79.0,89.0,82.0,69.5,67.5,55.0,79.0,82.0,80.0,67.5,68.8,60.0,81.0,80.0,75.0,71.0,61.0,73.67,71.0,49.0,75.0,70.0,76.5,79.5,77.0,74.0,67.5,60.5,80.0,64.0,62.0,80.0,43.0,57.67,58.0,73.4,72.67,81.67,62.0,67.6,59.0,81.67,77.0,62.0,69.0,74.0,75.33,82.5,84.0,78.0,70.0,77.33,83.33,66.5,65.0,70.0,75.0,66.0,69.67,66.0,61.0,66.0,85.0,72.5,57.0,71.33,78.0,79.0,76.0,77.0,86.0,71.0,81.0,84.5,75.0,69.0,68.0,41.5,58.0,81.0,81.5,67.0,52.0,88.0,73.0,71.0,61.0,68.0,66.5,61.0,58.0,68.0,71.5,49.0,71.0,88.0,79.0,79.0,54.0,49.0,70.0,65.0,73.0,70.0,74.0,72.0,70.0,80.0,74.0,70.0,69.0,78.5,70.0,75.0,74.0,49.0,77.0,71.0,82.0,76.0,59.67,71.0,59.5,80.33,71.0,70.0,81.5,62.0,88.0,85.0,82.33,65.0,69.5,88.0,79.0,83.0,58.0,63.33,91.5,89.67,69.0,78.5,84.33,83.0,70.0,54.0,74.0,62.0,63.0,35.0,64.0,67.0,49.0,71.0,68.0,58.0,58.0,84.0,77.67,69.0,66.0,49.0,76.5,68.0,77.0,57.0,68.0,79.0,75.0,55.0,88.0,89.0,90.33,36.0,77.0,79.0,48.0,48.0,86.0,82.0,80.0,70.0,67.5,84.0,82.0,77.0,73.0,68.5,67.0,73.0,59.75,86.0,70.0,79.0,81.0,86.0,68.0,60.5,61.67,90.67,86.33,80.0,64.0,47.0,58.0,74.0,64.0,79.5,79.5,77.0,92.0,86.0,79.0,65.0,71.0,57.0,53.5,59.5,64.0,81.0,75.0,52.0,68.0,71.0,76.5,80.0,73.0,85.0,71.0,57.0,48.0,62.0,39.67,81.0,75.0,86.0,82.0,69.0,75.0,74.0,69.67,68.0,70.0,48.0,77.0,71.0,74.0,73.0,88.0,73.0,86.0,72.0,81.0,81.0,58.0,73.75,71.0,71.0,81.0,64.0,73.0,74.0,81.0,74.0,80.25,70.0,67.0,73.0,68.0,67.5,89.0,75.0,89.0,82.5,84.0,79.0,37.0,82.0,82.33,61.0,74.0,71.0,67.0,79.0,64.5,57.5,88.0,78.5,70.5,78.5,50.0,86.0,87.0,85.0,73.0,50.0,70.33,83.0,50.0,64.0,80.5,83.8,76.5,59.0,81.0,66.0,61.5,82.0,85.0,54.0,83.0,81.0,49.0,58.0,77.0,70.0,75.0,79.0,80.0,77.0,57.0,95.0,74.0,84.0,36.0,48.0,62.0,59.0,64.0,81.0,78.5,82.67,74.0,70.75,87.75,84.75,83.0,68.0,73.0,72.0,73.0,41.0,64.0,48.0,75.5,76.67,80.0,76.33,78.5,81.33,77.0,82.0,80.5,77.0,82.0,80.33,77.0,59.67,82.33,70.0,85.0,70.0,68.0,75.5,75.0,77.0,77.67,76.33,78.5,75.0,84.0,69.0,64.0,74.0,57.0,75.67,61.0,76.0,72.0,75.0,90.0,80.0,72.0,81.0,78.67,73.0,70.0,59.5,79.0,63.5,77.5,81.6,74.33,69.0,83.5,58.0,69.0,73.67,72.0,81.0,84.0,81.0,87.0,70.0,79.0,69.0,73.0,32.5,67.0,79.0,67.0,65.0,72.0,66.0,73.5,73.67,75.0,56.5,70.0,66.0,69.0,50.0,77.0,57.0,74.0,55.0,80.0,81.0,77.5,73.67,66.5,85.0,61.5,66.0,75.0,75.5,54.0,69.5,87.0,82.0,28.5,75.0,86.5,79.5,87.0,81.0,79.0,90.0,72.0,75.5,61.0,57.67,90.75,83.67,61.0,57.0,48.0,57.0,48.0,95.0,95.67,78.5,73.5,75.25,71.0,83.5,67.0,49.0,67.0,81.0,70.33,66.5,78.5,61.0,73.0,73.5,48.0,57.0,70.0,78.67,44.0,73.33,80.5,72.0,62.0,50.0,85.5,76.5,81.8,80.0,75.75,84.33,84.0,77.0,74.5,66.0,84.5,76.0,62.0,73.0,66.0,82.0,58.0,83.5,48.0,77.33,74.5,73.67,74.5,75.0,86.0,81.0,86.0,74.0,64.0,73.0,66.0,79.0,85.0,83.0,89.0,89.0,58.0,83.0,70.0,67.0,17.5,88.0,75.0,82.0,71.5,61.0,74.0,62.0,88.0,54.0,66.0,58.0,68.0,86.0,73.0,68.5,64.5,36.0,70.0,85.0,79.0,75.0,62.0,63.5,59.67,78.0,55.0,71.0,79.0,73.33,58.0,81.0,86.5,91.67,91.67,78.0,75.0,40.0,71.33,69.0,48.0,73.0,71.0,86.0,54.0,75.0,57.0,78.5,87.33,71.25,76.0,83.33,68.0,59.67,81.0,69.5,70.0,60.5,74.5,79.0,79.0,65.0,57.0,76.0,74.0,55.0,75.0,52.5,74.0,79.0,77.0,55.0,68.0,71.0,58.0,69.0,65.0,58.0,66.0,80.0,61.0,69.33,69.0,79.5,78.0,68.5,60.0,48.0,87.0,81.0,72.0,83.0,87.5,85.0,80.0,90.0,55.0,77.5,83.0,83.0,69.0,50.0,74.0,74.0,70.5,62.5,89.0,81.0,77.0,78.5,71.0,65.0,49.0,73.0,80.0,79.67,49.0,82.0,85.0,84.0,76.0,89.0,66.0,59.0,55.0,73.0,77.0,58.0,70.0,77.0,75.0,73.0,59.0,67.0,83.0,73.5,79.0,64.5,55.0,60.0,55.0,67.0,77.0,77.5,72.5,71.0,71.5,69.5,72.0,69.0,69.0,48.0,82.0,67.0,76.5,67.0,58.0,73.0,76.5,73.0,84.0,78.0,70.0,76.0,82.0,75.5,83.0,69.0,90.5,76.5,72.0,61.0,72.0,71.0,66.33,74.0,73.0,64.0,85.0,61.0,68.0,82.5,68.0,74.0,34.0,61.0,85.0,73.5,75.0,91.0,76.0,49.0,75.0,66.5,61.0,81.0,76.5,72.0,78.0,71.0,54.0,69.0,74.5,80.25,77.5,81.0,85.0,42.5,66.0,84.0,61.0,61.0,79.0,37.5,55.33,58.0,64.33,76.0,67.0,48.0,73.67,71.0,71.0,59.0,68.0,63.0,76.0,84.0,78.0,78.0,86.0,89.0,67.33,70.0,78.0,73.0,62.0,79.0,87.8,83.5,56.0,35.0,67.0,61.0,71.0,57.0,33.0,74.5,75.0,83.0,85.0,86.75,81.0,78.5,64.0,81.0,78.5,75.0,70.5,86.0,70.0,78.5,76.0,70.0,58.0,66.0,68.33,78.0,73.0,62.0,63.0,69.0,69.0,72.0,62.0,70.0,64.0,68.0,83.67,77.0,73.0,82.0,70.0,75.0,70.0,73.0,58.0,76.5,68.0,60.0,72.0,61.0,84.0,80.0,69.5,61.5,58.0,58.0,80.0,81.0,81.0,62.0,72.0,74.0,76.5,62.0,74.0,83.5,79.5,59.5,81.0,81.0,83.0,55.0,73.0,54.0,75.0,79.0,71.5,54.0,76.33,78.67,67.0,73.5,61.5,69.0,36.0,57.0,64.0,79.0,72.0,50.0,77.0,54.0,71.0,75.5,77.5,87.0,49.0,73.0,57.0,70.0,71.33,56.67,73.0,68.5,86.0,77.0,56.67,57.0,69.0,75.67,62.0,79.5,61.0,70.0,65.0,57.0,78.0,88.5,92.33,79.0,82.67,84.0,79.5,85.0,54.0,55.0,75.0,60.5,54.0,58.0,82.0,66.0,80.0,77.0,73.0,71.0,59.0,62.0,52.5,70.0,71.0,60.0,84.0,55.0,77.0,75.0,86.5,89.0,73.0,83.5,74.2,57.67,55.0,58.5,73.25,68.75,54.0,69.0,72.0,54.0,83.33,81.0,81.0,81.0,60.5,76.33,71.0,68.33,56.5,48.0,64.0,65.0,49.0,76.0,83.0,48.0,72.5,57.0,54.0,82.5,62.0,52.0,65.0,70.0,60.0,82.33,71.0,75.0,75.0,81.0,69.0,75.0,72.0,35.0,77.0,64.0,82.0,65.0,74.0,60.0,41.5,78.0,62.0,73.5,68.0,62.0,66.5,75.0,71.0,70.0,76.5,78.5,81.0,76.0,48.0,54.0,81.0,83.5,65.0,84.0,93.5,59.0,79.0,71.0,71.5,71.0,64.33,73.0,81.0,88.0,85.0,86.5,70.5,71.0,82.0,59.5,86.0,69.0,67.67,77.67,79.0,82.5,86.5,75.0,84.5,54.0,77.0,67.5,70.0,71.67,82.5,85.0,68.0,77.0,79.0,79.0,78.33,70.0,58.0,68.0,48.0,65.0,79.0,45.0,70.5,74.0,64.5,71.0,77.0,70.0,88.0,79.0,78.0,92.67,82.0,79.0,81.5,35.0,63.0,82.67,75.25,69.0,48.0,73.0,74.5,81.0,82.5,81.0,57.0,60.5,64.5,49.0,75.5,65.0,71.0,72.0,71.0,56.5,82.67,80.33,79.0,72.0,55.0,57.0,86.0,52.0,61.0,79.0,73.0,74.0,81.0,66.0,58.0,65.0,62.5,77.0,73.0,68.5,78.0,65.0,72.0,69.0,82.0,86.5,66.0,81.5,76.0,79.5,76.0,70.5,61.0,81.0,83.0,82.5,82.0,81.0,35.0,74.0,66.0,87.5,91.5,80.67,70.0,66.0,77.25,66.0,57.0,71.0,81.0,65.0,61.5,71.0,75.0,71.0,64.0,58.0,62.5,72.0,79.0,82.5,69.33,48.0,74.5,73.0,85.0,54.8,64.0,83.33,79.67,72.0,64.0,57.67,70.67,72.5,79.0,78.0,70.0,80.0,74.5,68.0,72.5,34.0,82.0,79.0,88.0,83.67,84.67,79.5,72.0,79.0,77.0,79.0,81.33,37.0,85.0,67.33,64.0,85.0,71.0,81.0,70.0,59.5,62.33,55.0,54.0,57.5,36.0,55.0,82.0,81.0,81.5,82.5,82.0,77.0,70.0,87.0,58.0,41.0,57.5,82.4,73.25,72.0,67.0,79.0,72.0,62.0,82.5,83.0,86.0,74.0,74.5,63.5,49.0,50.0,61.33,78.0,76.0,65.0,61.0,70.0,55.0,56.0,80.5,73.0,55.0,78.0,82.0,83.25,89.0,69.0,78.0,66.0,82.0,73.33,61.0,81.0,61.25,66.0,69.5,62.0,72.0,69.5,80.67,58.0,75.0,71.67,70.0,74.0,62.0,61.0,80.0,70.5,75.67,68.5,66.5,64.0,71.0,65.0,47.0,54.0,58.67,48.0,73.0,71.0,69.0,69.0,81.0,78.5,79.0,72.5,75.0,71.0,81.0,76.67,75.0,89.0,81.0,93.67,86.0,75.0,77.0,73.0,76.0,79.5,75.5,91.5,81.5,82.0,72.5,76.0,73.0,83.0,77.0,79.33,34.0,74.0,73.5,48.0,73.0,50.0,85.33,77.5,75.25,65.0,38.67,67.0,72.5,77.5,56.0,82.5,56.0,54.0,65.0,47.5,65.0,69.67,35.5,60.5,65.0,68.0,66.0,52.5,57.0,84.0,59.25,61.5,62.0,70.0,56.0,79.0,73.0,74.5,71.0,64.0,60.0,79.0,69.0,70.0,59.33,69.5,81.5,85.0,82.0,66.0,62.0,79.0,79.0,80.75,83.0,81.0,70.0,59.0,67.0,60.5,96.5,89.0,81.0,95.5,86.0,70.5,68.5,75.5,63.5,56.75,64.0,59.0,81.6,73.5,82.0,63.33,70.5,75.0,75.0,83.67,61.0,64.0,81.0,79.67,75.0,38.5,71.0,48.0,65.0,57.0,79.0,88.0,66.0,79.0,96.0,84.0,61.0,77.0,78.0,39.5,73.0,74.0,65.0,65.0,80.0,76.5,73.67,49.0,48.0,62.0,55.0,78.25,71.5,68.0,35.0,69.0,72.0,64.0,66.8,65.5,81.5,55.0,86.0,73.67,81.0,50.0,66.5,74.0,70.0,73.0,74.5,67.0,81.0,73.0,80.0,81.0,70.0,73.0,85.0,74.0,79.0,79.0,67.4,74.0,85.0,73.0,68.5,61.25,73.5,65.67,78.5,74.67,60.5,54.0,73.0,77.0,72.5,73.0,74.0,54.0,58.0,85.0,88.0,64.0,71.0,68.5,77.67,79.0,62.0,63.5,77.0,65.0,49.0,71.0,79.5,58.5,79.0,90.5,83.0,84.0,86.5,81.0,88.0,66.0,73.5,81.0,80.0,80.0,81.0,81.0,71.0,81.0,36.0,83.5,79.0,80.0,71.5,69.0,77.5,74.0,55.0,57.0,70.0,83.33,88.0,92.0,91.5,89.5,86.0,86.5,80.0,80.0,84.0,79.5,81.33,78.0,76.0,77.0,83.0,72.0,88.0,74.0,67.0,83.5,83.33,67.0,62.0,80.0,44.0,52.0,71.25,83.33,85.25,70.0,79.4,77.57,76.8,84.0,83.0,80.0,76.0,75.5,81.5,89.5,88.5,89.0,65.0,54.0,64.0,88.67,82.5,82.5,75.0,64.0,77.0,57.0,73.5,87.5,82.5,71.0,75.0,66.0,80.33,80.0,71.0,36.0,63.5,64.0,72.5,71.5,67.0,78.67,73.5,54.0,59.0,81.5,70.0,72.5,72.33,70.0,85.0,74.67,54.0,67.0,73.5,78.0,82.0,67.67,85.0,87.0,87.5,74.0,86.0,83.0,71.0,84.0,79.67,66.5,78.0,78.0,58.0,85.5,75.5,77.0,74.0,73.67,68.0,87.67,93.0,92.2,89.6,74.67,65.0,87.5,83.33,83.0,70.0,62.0,49.0,61.0,54.0,67.0,73.33,82.0,84.0,64.5,56.5,37.5,80.0,73.5,36.0,74.0,59.5,80.0,62.0,90.0,86.0,85.0,80.0,80.0,86.0,76.0,55.0,40.0,57.0,72.0,80.0,49.0,57.0,71.0,61.0,57.0,78.0,69.0,70.0,74.0,78.67,62.5,37.0,69.0,58.0,34.0,78.0,46.0,55.5,76.0,62.0,62.0,83.0,77.0,79.0,67.0,85.0,80.0,82.33,55.33,75.5,81.5,84.67,84.0,80.25,55.0,55.0,64.5,69.33,66.5,58.0,77.0,78.0,75.5,78.0,67.0,59.67,77.0,49.0,67.0,35.0,69.0,71.0,70.0,67.0,40.5,73.0,86.0,85.0,66.5,70.0,74.0,62.5,73.0,83.5,71.0,68.5,67.0,67.0,71.5,76.0,75.33,64.0,83.5,84.5,85.5,66.0,57.0,84.0,72.0,79.0,73.0,70.0,76.0,70.0,66.0,77.5,37.0,81.0,77.5,67.0,62.0,67.0,86.0,81.0,72.0,92.33,80.0,76.0,54.0,66.0,65.67,76.5,78.33,85.0,69.5,83.5,86.0,76.0,84.0,66.0,74.5,58.0,61.0,72.5,64.0,67.0,64.0,79.0,68.0,75.0,80.0,81.0,81.5,48.0,80.0,48.0,35.0,85.5,83.5,83.0,70.0,59.0,70.33,55.67,70.0,68.0,80.0,82.0,73.5,62.0,88.0,87.0,66.0,75.0,66.5,75.0,79.0,75.0,81.0,52.5,91.5,85.5,73.0,77.0,85.0,58.0,87.5,73.0,80.0,67.5,54.0,79.67,74.0,50.0,65.0,67.0,61.0,78.0,64.0,62.0,63.0,62.0,66.0,71.33,78.0,58.0,66.5,58.0,77.0,58.0,75.0,59.0,73.0,68.5,76.5,72.25,55.0,70.0,73.0,80.5,63.67,71.67,73.5,82.5,55.0,40.0,70.0,73.5,72.5,73.5,72.0,68.0,82.0,62.0,78.5,62.0,62.0,85.5,82.75,87.0,85.0,69.0,72.5,75.0,57.0,55.0,55.0,55.0,68.0,76.33,82.5,82.0,78.0,81.0,73.0,73.0,57.0,73.0,70.0,58.5,70.0,77.0,66.67,70.0,54.0,62.0,77.67,85.0,71.0,82.0,76.0,72.67,73.0,58.0,80.0,81.0,58.0,64.0,75.0,50.0,86.0,90.0,62.0,49.0,78.0,81.0,71.5,54.0,63.5,77.0,68.0,50.0,76.0,80.0,72.0,71.0,64.0,73.0,87.0,75.0,79.0,48.0,63.0,66.0,70.0,62.0,83.5,79.0,89.0,89.0,82.0,85.0,57.0,59.0,70.0,66.0,72.5,79.0,76.0,65.5,76.0,62.0,55.0,69.0,67.0,63.67,48.0,92.5,89.67,89.0,77.0,68.0,61.0,71.0,68.5,71.0,89.33,78.67,80.0,81.0,88.0,87.0,61.0,73.0,54.0,89.0,73.0,80.0,71.5,66.0,73.0,63.33,79.0,73.0,70.0,78.0,77.0,65.0,70.0,80.0,60.5,80.67,67.0,76.0,50.0,65.0,80.67,82.4,43.0,59.5,50.0,61.75,73.0,87.5,89.5,87.0,68.0,73.0,62.0,49.0,86.0,89.0,64.0,75.0,46.67,49.0,62.0,75.0,87.5,80.0,85.0,85.0,58.0,55.0,74.5,76.0,72.0,67.0,83.0,73.0,70.67,82.0,52.0,81.0,34.0,79.0,71.0,77.0,80.0,77.5,79.0,76.0,83.5,78.5,76.5,66.0,49.0,61.0,81.0,84.0,83.0,57.5,57.5,55.33,56.5,48.0,77.0,80.33,72.0,62.0,66.5,64.0,75.0,71.0,68.0,64.0,69.0,74.0,79.0,73.0,77.0,74.0,82.0,79.0,81.0,58.0,85.0,74.0,69.0,70.0,71.0,50.0],\"type\":\"box\"},{\"marker\":{\"color\":\"blue\"},\"name\":\"User score\",\"y\":[91.0,91.0,91.0,89.0,89.0,87.0,83.0,62.0,88.0,91.0,90.0,86.0,88.0,81.0,91.0,88.0,89.0,84.0,90.0,91.0,92.0,84.0,92.0,90.0,88.0,84.0,88.0,81.0,88.0,89.0,83.0,91.0,85.0,87.0,91.0,88.0,82.0,81.0,91.0,88.0,87.0,90.0,57.0,92.0,88.0,88.0,90.0,89.0,83.0,80.0,86.0,87.0,83.0,88.0,79.0,84.0,88.0,81.0,78.0,83.0,72.0,87.0,88.0,86.0,90.0,86.0,74.0,75.0,88.0,83.0,84.0,88.0,87.0,92.0,74.0,76.0,89.0,90.0,90.0,91.0,76.0,90.0,91.0,90.0,81.0,84.0,88.0,90.0,90.0,91.0,89.0,90.0,88.0,83.0,82.0,89.0,91.0,91.0,89.0,86.0,87.0,89.0,33.0,91.0,87.0,85.0,85.0,85.0,86.0,55.0,86.0,79.0,90.0,76.0,89.0,86.0,87.0,88.0,87.0,83.0,91.0,92.0,92.0,84.0,89.0,84.0,91.0,89.0,73.0,89.0,81.0,66.0,81.0,88.0,86.0,81.0,65.0,89.0,87.0,86.0,84.0,78.0,87.0,84.0,83.0,84.0,92.0,81.0,81.0,82.0,89.0,86.0,90.0,88.0,90.0,84.0,83.0,90.0,87.0,83.0,82.0,73.0,87.0,84.0,80.0,90.0,87.0,55.0,58.0,88.0,79.0,88.0,89.0,84.0,88.0,88.0,80.0,80.0,89.0,87.0,79.0,77.0,90.0,92.0,66.0,80.0,84.0,88.0,90.0,88.0,86.0,55.0,84.0,92.0,86.0,84.0,86.0,92.0,86.0,77.0,90.0,83.0,84.0,71.0,84.0,78.0,86.0,90.0,83.0,80.0,84.0,89.0,77.0,85.0,88.0,73.0,88.0,79.0,92.0,88.0,91.0,47.0,61.0,84.0,79.0,87.0,80.0,77.0,80.0,73.0,83.0,79.0,88.0,76.0,80.0,82.0,91.0,77.0,87.0,88.0,86.0,87.0,79.0,75.0,87.0,87.0,60.0,84.0,50.0,58.0,77.0,67.0,77.0,90.0,85.0,90.0,81.0,86.0,80.0,69.0,75.0,89.0,90.0,73.0,85.0,72.0,87.0,88.0,73.0,81.0,85.0,80.0,70.0,68.0,78.0,75.0,77.0,90.0,78.0,85.0,85.0,63.0,85.0,86.0,88.0,80.0,82.0,74.0,87.0,76.0,83.0,79.0,84.0,79.0,71.0,82.0,87.0,75.0,73.0,83.0,83.0,72.0,86.0,89.0,76.0,87.0,85.0,79.0,76.0,84.0,86.0,86.0,78.0,62.0,63.0,83.0,85.0,88.0,80.0,72.0,75.0,79.0,79.0,89.0,80.0,77.0,71.0,87.0,79.0,75.0,82.0,85.0,89.0,79.0,61.0,75.0,70.0,84.0,76.0,83.0,80.0,85.0,85.0,87.0,83.0,77.0,69.0,74.0,82.0,79.0,75.0,75.0,85.0,43.0,84.0,89.0,72.0,87.0,83.0,83.0,80.0,89.0,77.0,78.0,61.0,74.0,83.0,87.0,92.0,89.0,79.0,45.0,75.0,85.0,87.0,76.0,89.0,84.0,86.0,84.0,45.0,70.0,64.0,79.0,87.0,60.0,79.0,84.0,78.0,88.0,87.0,74.0,57.0,73.0,82.0,87.0,72.0,79.0,72.0,41.0,62.0,74.0,65.0,84.0,78.0,70.0,80.0,72.0,80.0,91.0,85.0,84.0,87.0,87.0,84.0,60.0,72.0,79.0,80.0,79.0,77.0,61.0,81.0,85.0,88.0,87.0,77.0,78.0,73.0,76.0,86.0,75.0,85.0,31.0,74.0,81.0,84.0,77.0,75.0,72.0,83.0,89.0,84.0,69.0,84.0,86.0,91.0,89.0,75.0,77.0,83.0,46.0,84.0,88.0,72.0,78.0,77.0,78.0,83.0,86.0,76.0,76.0,79.0,81.0,70.0,79.0,58.0,88.0,79.0,73.0,78.0,85.0,75.0,83.0,63.0,87.0,87.0,70.0,80.0,85.0,58.0,70.0,74.0,78.0,83.0,83.0,89.0,80.0,76.0,73.0,88.0,72.0,79.0,61.0,81.0,77.0,70.0,81.0,75.0,76.0,78.0,73.0,80.0,71.0,65.0,83.0,86.0,83.0,49.0,71.0,82.0,74.0,88.0,81.0,86.0,80.0,83.0,87.0,86.0,81.0,74.0,79.0,84.0,79.0,76.0,73.0,84.0,86.0,86.0,77.0,53.0,80.0,83.0,87.0,78.0,83.0,87.0,84.0,72.0,70.0,78.0,79.0,79.0,81.0,78.0,80.0,70.0,76.0,77.0,45.0,78.0,77.0,86.0,62.0,76.0,78.0,61.0,77.0,80.0,85.0,69.0,79.0,86.0,80.0,82.0,86.0,54.0,84.0,75.0,70.0,76.0,77.0,76.0,80.0,74.0,85.0,78.0,73.0,77.0,83.0,84.0,76.0,87.0,40.0,88.0,83.0,85.0,75.0,79.0,78.0,83.0,69.0,76.0,78.0,78.0,80.0,83.0,82.0,73.0,82.0,70.0,74.0,67.0,80.0,84.0,77.0,82.0,80.0,77.0,78.0,75.0,81.0,80.0,74.0,80.0,56.0,78.0,83.0,82.0,83.0,80.0,77.0,85.0,81.0,91.0,87.0,65.0,71.0,77.0,75.0,79.0,81.0,85.0,84.0,77.0,59.0,83.0,66.0,87.0,75.0,82.0,58.0,84.0,68.0,88.0,84.0,76.0,80.0,80.0,78.0,79.0,77.0,85.0,85.0,90.0,79.0,86.0,87.0,88.0,80.0,67.0,78.0,81.0,30.0,87.0,79.0,78.0,82.0,83.0,77.0,83.0,75.0,77.0,64.0,82.0,71.0,63.0,82.0,70.0,81.0,87.0,80.0,80.0,62.0,82.0,81.0,88.0,80.0,85.0,73.0,85.0,69.0,83.0,74.0,71.0,69.0,88.0,76.0,79.0,84.0,83.0,33.0,82.0,82.0,79.0,74.0,77.0,83.0,77.0,89.0,81.0,86.0,74.0,66.0,81.0,84.0,77.0,82.0,71.0,79.0,79.0,84.0,59.0,22.0,76.0,87.0,82.0,75.0,79.0,83.0,85.0,77.0,37.0,77.0,82.0,82.0,75.0,74.0,75.0,87.0,82.0,86.0,79.0,77.0,74.0,62.0,58.0,84.0,76.0,63.0,86.0,74.0,85.0,74.0,83.0,72.0,82.0,88.0,77.0,68.0,71.0,71.0,73.0,78.0,62.0,86.0,84.0,85.0,85.0,77.0,66.0,85.0,76.0,75.0,83.0,85.0,49.0,81.0,73.0,82.0,76.0,82.0,77.0,84.0,73.0,73.0,92.0,80.0,84.0,77.0,83.0,79.0,82.0,43.0,83.0,88.0,66.0,85.0,63.0,82.0,81.0,72.0,80.0,86.0,78.0,77.0,88.0,66.0,79.0,75.0,77.0,65.0,87.0,88.0,80.0,89.0,85.0,56.0,77.0,63.0,83.0,76.0,62.0,85.0,60.0,77.0,87.0,81.0,79.0,77.0,68.0,50.0,72.0,76.0,75.0,67.0,70.0,79.0,70.0,77.0,85.0,71.0,74.0,79.0,82.0,81.0,77.0,72.0,83.0,79.0,86.0,86.0,81.0,82.0,77.0,78.0,77.0,79.0,84.0,86.0,83.0,82.0,85.0,77.0,83.0,65.0,82.0,73.0,69.0,77.0,81.0,55.0,78.0,80.0,64.0,78.0,79.0,79.0,85.0,76.0,78.0,71.0,84.0,89.0,80.0,81.0,83.0,87.0,85.0,78.0,84.0,65.0,54.0,65.0,83.0,77.0,80.0,80.0,78.0,73.0,77.0,82.0,82.0,70.0,88.0,80.0,84.0,78.0,84.0,76.0,82.0,60.0,78.0,82.0,74.0,80.0,76.0,74.0,78.0,76.0,85.0,78.0,87.0,75.0,45.0,73.0,59.0,79.0,71.0,86.0,76.0,79.0,83.0,82.0,82.0,79.0,83.0,84.0,87.0,87.0,72.0,68.0,76.0,79.0,81.0,87.0,82.0,79.0,77.0,63.0,74.0,79.0,89.0,81.0,86.0,78.0,86.0,43.0,71.0,80.0,86.0,71.0,70.0,76.0,77.0,63.0,72.0,82.0,79.0,80.0,67.0,78.0,79.0,80.0,75.0,63.0,86.0,78.0,79.0,46.0,48.0,79.0,77.0,74.0,84.0,83.0,80.0,84.0,69.0,71.0,72.0,79.0,77.0,76.0,67.0,77.0,80.0,81.0,72.0,77.0,86.0,83.0,22.0,78.0,85.0,85.0,84.0,74.0,87.0,81.0,80.0,85.0,81.0,71.0,78.0,78.0,56.0,75.0,77.0,85.0,74.0,76.0,70.0,50.0,75.0,82.0,74.0,83.0,81.0,82.0,80.0,52.0,65.0,90.0,46.0,68.0,72.0,71.0,80.0,83.0,89.0,88.0,72.0,87.0,87.0,80.0,81.0,77.0,80.0,73.0,78.0,31.0,74.0,85.0,86.0,81.0,83.0,58.0,72.0,76.0,80.0,62.0,55.0,78.0,20.0,80.0,79.0,77.0,75.0,52.0,75.0,74.0,86.0,81.0,88.0,80.0,83.0,66.0,77.0,85.0,72.0,50.0,73.0,83.0,63.0,83.0,85.0,69.0,65.0,81.0,82.0,79.0,84.0,80.0,77.0,78.0,81.0,86.0,82.0,86.0,87.0,80.0,73.0,88.0,80.0,62.0,82.0,82.0,77.0,70.0,88.0,85.0,72.0,83.0,78.0,85.0,87.0,87.0,82.0,78.0,76.0,81.0,80.0,73.0,76.0,61.0,81.0,80.0,62.0,88.0,77.0,79.0,80.0,70.0,70.0,74.0,71.0,64.0,75.0,79.0,71.0,80.0,79.0,68.0,79.0,69.0,79.0,91.0,81.0,75.0,79.0,79.0,77.0,88.0,75.0,84.0,80.0,72.0,79.0,88.0,76.0,14.0,79.0,76.0,78.0,71.0,78.0,74.0,69.0,71.0,61.0,71.0,82.0,79.0,80.0,81.0,86.0,73.0,79.0,77.0,66.0,75.0,83.0,71.0,63.0,81.0,87.0,90.0,74.0,70.0,73.0,76.0,78.0,87.0,86.0,78.0,85.0,70.0,57.0,62.0,81.0,58.0,61.0,84.0,83.0,82.0,86.0,78.0,34.0,61.0,85.0,67.0,51.0,76.0,75.0,84.0,80.0,86.0,50.0,76.0,82.0,79.0,79.0,59.0,85.0,40.0,78.0,68.0,80.0,55.0,74.0,65.0,80.0,68.0,82.0,85.0,76.0,77.0,70.0,86.0,83.0,85.0,79.0,77.0,83.0,82.0,82.0,74.0,84.0,48.0,65.0,68.0,55.0,84.0,78.0,70.0,71.0,86.0,52.0,73.0,76.0,78.0,78.0,87.0,90.0,66.0,73.0,75.0,73.0,75.0,80.0,82.0,83.0,65.0,80.0,52.0,73.0,84.0,86.0,74.0,64.0,74.0,77.0,78.0,80.0,60.0,74.0,77.0,67.0,66.0,88.0,84.0,85.0,82.0,70.0,75.0,73.0,84.0,70.0,66.0,80.0,80.0,77.0,73.0,85.0,82.0,59.0,78.0,73.0,81.0,78.0,77.0,70.0,81.0,75.0,69.0,78.0,75.0,72.0,83.0,57.0,79.0,88.0,78.0,87.0,72.0,77.0,74.0,69.0,79.0,68.0,75.0,79.0,19.0,55.0,60.0,85.0,77.0,87.0,77.0,83.0,66.0,85.0,84.0,75.0,77.0,69.0,83.0,58.0,69.0,74.0,75.0,55.0,36.0,77.0,74.0,85.0,79.0,79.0,66.0,66.0,87.0,78.0,84.0,86.0,77.0,80.0,61.0,77.0,77.0,78.0,81.0,65.0,74.0,80.0,81.0,77.0,80.0,70.0,80.0,65.0,69.0,67.0,83.0,77.0,69.0,77.0,80.0,78.0,84.0,75.0,59.0,77.0,77.0,73.0,75.0,79.0,71.0,79.0,84.0,75.0,77.0,57.0,80.0,84.0,73.0,88.0,12.0,77.0,75.0,76.0,81.0,85.0,66.0,62.0,85.0,81.0,80.0,86.0,78.0,66.0,80.0,84.0,87.0,60.0,57.0,82.0,65.0,81.0,47.0,75.0,74.0,55.0,59.0,64.0,87.0,78.0,71.0,78.0,76.0,69.0,83.0,77.0,64.0,87.0,85.0,70.0,50.0,79.0,76.0,41.0,79.0,76.0,77.0,86.0,78.0,76.0,88.0,79.0,73.0,80.0,70.0,82.0,81.0,73.0,88.0,78.0,81.0,82.0,74.0,74.0,82.0,78.0,56.0,73.0,78.0,72.0,78.0,85.0,74.0,88.0,73.0,69.0,76.0,85.0,71.0,78.0,80.0,82.0,75.0,83.0,54.0,66.0,83.0,65.0,87.0,67.0,60.0,46.0,75.0,78.0,58.0,76.0,70.0,60.0,68.0,86.0,81.0,88.0,72.0,85.0,82.0,68.0,80.0,80.0,88.0,88.0,71.0,69.0,89.0,81.0,85.0,46.0,80.0,79.0,83.0,76.0,68.0,76.0,88.0,75.0,63.0,65.0,66.0,75.0,75.0,74.0,69.0,77.0,77.0,62.0,74.0,49.0,75.0,76.0,70.0,75.0,76.0,78.0,73.0,43.0,85.0,69.0,63.0,66.0,61.0,76.0,80.0,70.0,80.0,78.0,76.0,76.0,82.0,85.0,38.0,69.0,74.0,74.0,79.0,69.0,78.0,62.0,69.0,83.0,78.0,76.0,76.0,76.0,86.0,70.0,72.0,86.0,71.0,85.0,81.0,88.0,73.0,81.0,69.0,50.0,76.0,86.0,75.0,73.0,70.0,76.0,82.0,70.0,76.0,84.0,76.0,49.0,77.0,18.0,69.0,76.0,82.0,78.0,84.0,57.0,69.0,84.0,72.0,71.0,86.0,76.0,83.0,83.0,81.0,76.0,79.0,68.0,71.0,74.0,71.0,76.0,77.0,79.0,70.0,77.0,64.0,75.0,76.0,76.0,77.0,83.0,70.0,75.0,78.0,86.0,88.0,63.0,82.0,54.0,73.0,72.0,82.0,76.0,78.0,76.0,71.0,73.0,81.0,80.0,82.0,83.0,83.0,57.0,76.0,76.0,71.0,54.0,77.0,75.0,73.0,81.0,75.0,71.0,80.0,76.0,74.0,87.0,77.0,80.0,77.0,72.0,81.0,79.0,71.0,66.0,58.0,80.0,75.0,70.0,72.0,75.0,86.0,77.0,88.0,75.0,88.0,61.0,80.0,76.0,85.0,76.0,81.0,82.0,74.0,77.0,83.0,69.0,88.0,78.0,80.0,69.0,67.0,72.0,83.0,86.0,76.0,68.0,55.0,85.0,73.0,69.0,62.0,71.0,79.0,73.0,68.0,83.0,81.0,75.0,76.0,66.0,66.0,75.0,80.0,82.0,76.0,68.0,70.0,83.0,77.0,68.0,69.0,70.0,83.0,89.0,86.0,86.0,84.0,78.0,76.0,85.0,76.0,83.0,78.0,73.0,78.0,59.0,74.0,82.0,65.0,71.0,75.0,82.0,65.0,77.0,82.0,71.0,73.0,54.0,82.0,82.0,83.0,84.0,76.0,22.0,46.0,81.0,68.0,76.0,83.0,74.0,76.0,76.0,87.0,77.0,76.0,75.0,82.0,82.0,89.0,81.0,63.0,77.0,71.0,70.0,48.0,39.0,79.0,77.0,85.0,51.0,64.0,71.0,43.0,68.0,74.0,81.0,63.0,78.0,76.0,69.0,79.0,85.0,72.0,76.0,84.0,40.0,87.0,85.0,52.0,72.0,77.0,72.0,77.0,78.0,82.0,75.0,75.0,83.0,81.0,72.0,71.0,53.0,68.0,86.0,70.0,83.0,86.0,80.0,80.0,77.0,61.0,69.0,85.0,73.0,71.0,75.0,79.0,70.0,78.0,72.0,74.0,86.0,76.0,74.0,66.0,75.0,75.0,78.0,75.0,66.0,41.0,75.0,76.0,74.0,74.0,81.0,66.0,73.0,83.0,71.0,84.0,66.0,57.0,67.0,60.0,66.0,62.0,81.0,70.0,77.0,75.0,73.0,76.0,76.0,76.0,78.0,80.0,82.0,78.0,67.0,73.0,41.0,69.0,64.0,75.0,77.0,65.0,51.0,86.0,73.0,74.0,80.0,81.0,75.0,75.0,73.0,72.0,74.0,74.0,77.0,75.0,72.0,71.0,74.0,71.0,83.0,77.0,83.0,75.0,71.0,63.0,72.0,72.0,81.0,36.0,81.0,74.0,76.0,56.0,78.0,71.0,73.0,82.0,74.0,82.0,75.0,75.0,76.0,83.0,77.0,82.0,76.0,78.0,70.0,61.0,86.0,68.0,78.0,59.0,70.0,74.0,79.0,72.0,86.0,73.0,79.0,73.0,79.0,80.0,78.0,74.0,89.0,69.0,78.0,81.0,80.0,82.0,67.0,56.0,53.0,74.0,82.0,83.0,86.0,79.0,73.0,78.0,68.0,86.0,77.0,73.0,80.0,81.0,77.0,87.0,73.0,78.0,77.0,67.0,57.0,70.0,76.0,74.0,85.0,82.0,74.0,60.0,72.0,80.0,85.0,77.0,82.0,79.0,70.0,75.0,50.0,74.0,69.0,72.0,73.0,67.0,76.0,83.0,72.0,83.0,69.0,80.0,72.0,73.0,71.0,81.0,79.0,54.0,61.0,73.0,85.0,82.0,86.0,81.0,84.0,81.0,81.0,63.0,77.0,83.0,68.0,42.0,75.0,65.0,76.0,32.0,67.0,77.0,71.0,85.0,75.0,74.0,79.0,77.0,73.0,87.0,68.0,75.0,73.0,75.0,71.0,48.0,60.0,63.0,45.0,76.0,78.0,75.0,64.0,68.0,70.0,75.0,84.0,64.0,76.0,88.0,85.0,74.0,82.0,74.0,75.0,43.0,61.0,68.0,70.0,78.0,74.0,70.0,72.0,81.0,73.0,83.0,63.0,82.0,53.0,72.0,76.0,71.0,70.0,78.0,79.0,83.0,75.0,60.0,85.0,69.0,78.0,83.0,20.0,57.0,65.0,74.0,78.0,72.0,73.0,76.0,67.0,80.0,75.0,76.0,71.0,79.0,77.0,74.0,74.0,75.0,74.0,69.0,75.0,71.0,74.0,58.0,79.0,63.0,37.0,73.0,60.0,64.0,58.0,88.0,81.0,83.0,82.0,75.0,81.0,80.0,73.0,77.0,82.0,79.0,74.0,68.0,75.0,66.0,78.0,60.0,73.0,79.0,64.0,81.0,68.0,72.0,74.0,63.0,58.0,80.0,81.0,80.0,66.0,71.0,82.0,84.0,60.0,74.0,65.0,78.0,66.0,73.0,86.0,69.0,71.0,69.0,56.0,68.0,72.0,78.0,76.0,73.0,77.0,72.0,67.0,57.0,72.0,77.0,68.0,53.0,69.0,51.0,73.0,82.0,81.0,75.0,69.0,81.0,73.0,64.0,68.0,73.0,59.0,76.0,80.0,87.0,73.0,77.0,63.0,60.0,81.0,78.0,47.0,75.0,73.0,65.0,70.0,40.0,75.0,81.0,82.0,73.0,85.0,70.0,77.0,59.0,72.0,47.0,66.0,76.0,76.0,87.0,80.0,74.0,64.0,77.0,72.0,77.0,73.0,68.0,75.0,73.0,67.0,61.0,85.0,79.0,62.0,47.0,77.0,58.0,62.0,88.0,85.0,48.0,69.0,72.0,71.0,74.0,81.0,75.0,72.0,77.0,75.0,71.0,80.0,31.0,65.0,85.0,73.0,72.0,63.0,71.0,54.0,63.0,78.0,75.0,72.0,73.0,78.0,77.0,72.0,72.0,82.0,73.0,76.0,67.0,66.0,75.0,78.0,87.0,71.0,72.0,77.0,78.0,70.0,80.0,74.0,66.0,83.0,70.0,57.0,66.0,60.0,79.0,75.0,84.0,80.0,40.0,84.0,73.0,59.0,72.0,65.0,73.0,58.0,72.0,72.0,72.0,76.0,72.0,88.0,58.0,44.0,72.0,81.0,71.0,77.0,72.0,78.0,70.0,70.0,82.0,72.0,72.0,73.0,78.0,72.0,71.0,67.0,69.0,83.0,84.0,59.0,58.0,81.0,70.0,72.0,71.0,87.0,72.0,83.0,81.0,72.0,65.0,86.0,39.0,71.0,77.0,53.0,59.0,68.0,65.0,63.0,76.0,70.0,69.0,84.0,70.0,78.0,83.0,45.0,77.0,69.0,73.0,72.0,72.0,75.0,66.0,53.0,45.0,77.0,74.0,72.0,68.0,76.0,72.0,86.0,72.0,84.0,71.0,80.0,78.0,81.0,69.0,67.0,45.0,71.0,58.0,51.0,68.0,74.0,71.0,64.0,80.0,56.0,62.0,77.0,71.0,64.0,86.0,80.0,71.0,74.0,68.0,78.0,75.0,79.0,73.0,66.0,57.0,58.0,74.0,71.0,81.0,86.0,71.0,52.0,71.0,74.0,65.0,85.0,81.0,84.0,63.0,81.0,71.0,66.0,72.0,72.0,71.0,69.0,68.0,74.0,66.0,72.0,66.0,73.0,73.0,65.0,60.0,71.0,78.0,70.0,74.0,76.0,80.0,70.0,61.0,80.0,62.0,82.0,73.0,76.0,80.0,79.0,71.0,77.0,68.0,74.0,65.0,77.0,85.0,68.0,71.0,71.0,71.0,65.0,74.0,68.0,63.0,79.0,72.0,78.0,69.0,82.0,76.0,62.0,84.0,71.0,65.0,64.0,81.0,61.0,75.0,71.0,47.0,71.0,57.0,52.0,74.0,61.0,83.0,69.0,79.0,70.0,67.0,67.0,73.0,71.0,81.0,77.0,63.0,57.0,86.0,79.0,64.0,74.0,70.0,78.0,69.0,52.0,64.0,77.0,67.0,75.0,69.0,80.0,70.0,80.0,76.0,81.0,80.0,85.0,78.0,84.0,70.0,77.0,70.0,75.0,69.0,74.0,68.0,73.0,69.0,80.0,57.0,73.0,69.0,81.0,70.0,76.0,75.0,49.0,75.0,58.0,70.0,90.0,77.0,69.0,70.0,70.0,78.0,79.0,72.0,38.0,67.0,72.0,69.0,85.0,30.0,74.0,81.0,63.0,71.0,73.0,41.0,72.0,62.0,64.0,59.0,75.0,70.0,81.0,73.0,84.0,75.0,75.0,77.0,70.0,71.0,78.0,77.0,64.0,68.0,81.0,85.0,68.0,67.0,68.0,50.0,81.0,68.0,75.0,58.0,72.0,73.0,26.0,69.0,71.0,38.0,65.0,82.0,61.0,63.0,88.0,74.0,68.0,71.0,65.0,60.0,68.0,68.0,46.0,68.0,87.0,72.0,50.0,68.0,57.0,77.0,46.0,64.0,67.0,75.0,68.0,81.0,75.0,80.0,81.0,67.0,78.0,84.0,55.0,54.0,50.0,82.0,54.0,86.0,58.0,69.0,54.0,45.0,69.0,76.0,79.0,71.0,72.0,68.0,68.0,75.0,67.0,72.0,45.0,73.0,67.0,78.0,52.0,67.0,67.0,59.0,78.0,45.0,57.0,62.0,71.0,69.0,64.0,67.0,75.0,72.0,82.0,80.0,67.0,80.0,81.0,75.0,62.0,67.0,77.0,49.0,68.0,83.0,49.0,73.0,80.0,49.0,67.0,67.0,50.0,87.0,67.0,67.0,64.0,42.0,68.0,70.0,37.0,64.0,69.0,63.0,56.0,70.0,76.0,87.0,48.0,87.0,58.0,85.0,83.0,67.0,83.0,73.0,73.0,67.0,84.0,77.0,72.0,55.0,80.0,71.0,67.0,67.0,45.0,68.0,53.0,63.0,55.0,69.0,60.0,69.0,70.0,67.0,48.0,62.0,56.0,64.0,67.0,79.0,87.0,75.0,67.0,75.0,75.0,79.0,81.0,67.0,69.0,68.0,77.0,83.0,75.0,76.0,66.0,72.0,42.0,57.0,61.0,77.0,83.0,82.0,38.0,77.0,68.0,56.0,83.0,76.0,56.0,75.0,70.0,57.0,66.0,84.0,83.0,64.0,55.0,78.0,73.0,66.0,70.0,41.0,78.0,75.0,67.0,73.0,56.0,66.0,66.0,73.0,66.0,67.0,85.0,78.0,80.0,80.0,63.0,69.0,69.0,81.0,72.0,66.0,66.0,68.0,74.0,66.0,73.0,62.0,60.0,74.0,63.0,66.0,87.0,78.0,68.0,81.0,64.0,58.0,53.0,64.0,51.0,76.0,60.0,72.0,77.0,77.0,42.0,71.0,68.0,65.0,71.0,50.0,39.0,77.0,64.0,62.0,77.0,55.0,43.0,73.0,46.0,64.0,60.0,63.0,62.0,73.0,64.0,61.0,77.0,50.0,60.0,44.0,64.0,66.0,77.0,35.0,64.0,64.0,33.0,75.0,79.0,73.0,71.0,60.0,64.0,72.0,72.0,70.0,69.0,69.0,76.0,82.0,73.0,66.0,64.0,61.0,68.0,64.0,86.0,69.0,72.0,70.0,68.0,64.0,87.0,87.0,62.0,82.0,69.0,82.0,74.0,80.0,78.0,84.0,64.0,50.0,41.0,48.0,72.0,53.0,65.0,75.0,60.0,69.0,83.0,73.0,64.0,53.0,64.0,83.0,60.0,82.0,61.0,58.0,56.0,84.0,70.0,79.0,64.0,58.0,68.0,34.0,65.0,65.0,68.0,75.0,53.0,64.0,82.0,80.0,84.0,64.0,72.0,69.0,75.0,67.0,60.0,71.0,61.0,77.0,45.0,63.0,59.0,77.0,77.0,64.0,56.0,67.0,58.0,60.0,63.0,70.0,76.0,63.0,61.0,70.0,61.0,62.0,77.0,63.0,59.0,79.0,58.0,31.0,75.0,63.0,63.0,59.0,63.0,72.0,82.0,67.0,61.0,72.0,74.0,40.0,63.0,68.0,51.0,66.0,72.0,53.0,50.0,76.0,48.0,65.0,69.0,68.0,67.0,76.0,72.0,76.0,63.0,63.0,70.0,63.0,69.0,74.0,86.0,57.0,75.0,59.0,62.0,36.0,34.0,76.0,67.0,66.0,68.0,75.0,66.0,62.0,63.0,80.0,75.0,71.0,67.0,63.0,54.0,63.0,78.0,19.0,63.0,78.0,62.0,56.0,70.0,63.0,63.0,65.0,56.0,78.0,88.0,61.0,60.0,63.0,61.0,30.0,67.0,68.0,67.0,52.0,86.0,87.0,58.0,80.0,78.0,75.0,77.0,43.0,84.0,70.0,70.0,68.0,62.0,63.0,67.0,50.0,60.0,62.0,67.0,78.0,64.0,77.0,46.0,63.0,63.0,75.0,68.0,84.0,80.0,69.0,36.0,49.0,52.0,51.0,41.0,63.0,67.0,72.0,44.0,51.0,43.0,63.0,68.0,53.0,55.0,63.0,53.0,85.0,84.0,74.0,64.0,63.0,74.0,89.0,81.0,62.0,63.0,73.0,66.0,63.0,78.0,62.0,75.0,71.0,86.0,64.0,58.0,72.0,71.0,73.0,64.0,64.0,67.0,65.0,64.0,68.0,75.0,77.0,77.0,41.0,56.0,76.0,65.0,50.0,71.0,2.0,63.0,75.0,57.0,74.0,63.0,66.0,63.0,66.0,67.0,74.0,72.0,78.0,68.0,50.0,76.0,63.0,63.0,74.0,63.0,62.0,62.0,65.0,75.0,44.0,70.0,82.0,63.0,83.0,63.0,66.0,73.0,63.0,68.0,76.0,25.0,81.0,62.0,69.0,57.0,62.0,51.0,52.0,63.0,86.0,75.0,62.0,55.0,72.0,87.0,81.0,57.0,86.0,79.0,62.0,72.0,62.0,62.0,62.0,71.0,62.0,62.0,52.0,62.0,62.0,72.0,62.0,62.0,62.0,45.0,70.0,55.0,70.0,62.0,66.0,62.0,63.0,70.0,68.0,76.0,60.0,97.0,66.0,81.0,63.0,79.0,71.0,45.0,86.0,62.0,51.0,67.0,63.0,59.0,61.0,74.0,56.0,67.0,62.0,63.0,75.0,62.0,74.0,48.0,56.0,62.0,78.0,84.0,62.0,84.0,62.0,62.0,53.0,41.0,63.0,73.0,69.0,61.0,66.0,77.0,85.0,71.0,78.0,62.0,70.0,64.0,58.0,44.0,55.0,73.0,87.0,69.0,77.0,68.0,44.0,72.0,72.0,62.0,62.0,59.0,62.0,61.0,75.0,62.0,62.0,68.0,62.0,48.0,61.0,78.0,74.0,61.0,73.0,65.0,58.0,74.0,82.0,50.0,61.0,48.0,71.0,74.0,71.0,53.0,66.0,20.0,76.0,61.0,69.0,70.0,61.0,87.0,68.0,61.0,83.0,61.0,76.0,50.0,62.0,64.0,68.0,63.0,85.0,63.0,47.0,60.0,71.0,79.0,55.0,60.0,79.0,73.0,60.0,73.0,78.0,60.0,74.0,55.0,60.0,64.0,63.0,79.0,73.0,32.0,75.0,60.0,65.0,74.0,70.0,83.0,77.0,86.0,56.0,54.0,76.0,83.0,82.0,60.0,74.0,64.0,62.0,60.0,50.0,60.0,60.0,61.0,65.0,60.0,55.0,75.0,47.0,66.0,65.0,73.0,63.0,82.0,56.0,74.0,60.0,60.0,78.0,77.0,60.0,86.0,75.0,76.0,68.0,60.0,60.0,79.0,70.0,60.0,73.0,51.0,37.0,73.0,64.0,60.0,66.0,67.0,80.0,62.0,60.0,60.0,60.0,74.0,72.0,63.0,60.0,58.0,76.0,62.0,43.0,59.0,64.0,67.0,66.0,80.0,68.0,66.0,61.0,61.0,62.0,47.0,72.0,68.0,83.0,70.0,60.0,71.0,40.0,69.0,76.0,70.0,60.0,72.0,60.0,60.0,86.0,84.0,56.0,60.0,60.0,70.0,71.0,82.0,55.0,67.0,77.0,80.0,84.0,60.0,65.0,71.0,68.0,61.0,64.0,24.0,65.0,56.0,77.0,78.0,63.0,73.0,86.0,64.0,65.0,81.0,57.0,57.0,41.0,42.0,72.0,70.0,69.0,59.0,48.0,64.0,63.0,79.0,54.0,22.0,59.0,59.0,54.0,52.0,67.0,77.0,39.0,59.0,67.0,49.0,77.0,85.0,69.0,54.0,65.0,44.0,72.0,59.0,75.0,59.0,59.0,82.0,66.0,65.0,80.0,59.0,65.0,65.0,38.0,72.0,59.0,75.0,78.0,59.0,59.0,64.0,59.0,50.0,64.0,59.0,81.0,63.0,70.0,68.0,59.0,60.0,54.0,59.0,87.0,28.0,66.0,56.0,85.0,76.0,80.0,61.0,59.0,70.0,70.0,72.0,6.0,74.0,59.0,61.0,80.0,59.0,73.0,81.0,70.0,62.0,77.0,71.0,59.0,67.0,83.0,43.0,59.0,79.0,77.0,75.0,53.0,42.0,78.0,58.0,86.0,73.0,75.0,65.0,64.0,67.0,64.0,25.0,43.0,61.0,64.0,66.0,70.0,58.0,65.0,59.0,79.0,59.0,72.0,64.0,82.0,85.0,54.0,80.0,63.0,57.0,38.0,85.0,59.0,62.0,59.0,40.0,81.0,59.0,36.0,59.0,59.0,59.0,66.0,53.0,69.0,71.0,55.0,59.0,31.0,61.0,44.0,88.0,84.0,59.0,70.0,52.0,59.0,59.0,59.0,77.0,79.0,66.0,55.0,73.0,62.0,59.0,66.0,60.0,43.0,75.0,76.0,70.0,59.0,64.0,64.0,60.0,43.0,86.0,50.0,85.0,66.0,59.0,60.0,72.0,70.0,63.0,57.0,71.0,68.0,65.0,57.0,86.0,70.0,66.0,85.0,81.0,75.0,78.0,56.0,66.0,83.0,86.0,61.0,58.0,59.0,31.0,77.0,40.0,80.0,59.0,72.0,73.0,60.0,59.0,71.0,74.0,58.0,69.0,58.0,69.0,58.0,64.0,63.0,69.0,86.0,75.0,82.0,69.0,60.0,78.0,39.0,60.0,70.0,58.0,35.0,76.0,80.0,48.0,63.0,64.0,75.0,70.0,85.0,58.0,58.0,71.0,40.0,66.0,72.0,70.0,68.0,69.0,74.0,63.0,58.0,84.0,70.0,73.0,61.0,66.0,71.0,71.0,79.0,53.0,65.0,56.0,58.0,68.0,56.0,64.0,40.0,80.0,35.0,64.0,74.0,58.0,82.0,60.0,71.0,70.0,55.0,52.0,62.0,57.0,79.0,63.0,81.0,63.0,57.0,72.0,80.0,72.0,86.0,57.0,70.0,73.0,15.0,12.0,73.0,42.0,74.0,57.0,53.0,69.0,73.0,65.0,86.0,57.0,56.0,46.0,59.0,75.0,62.0,48.0,58.0,78.0,67.0,67.0,67.0,68.0,69.0,37.0,61.0,57.0,63.0,57.0,57.0,68.0,78.0,64.0,75.0,88.0,65.0,65.0,49.0,57.0,57.0,81.0,55.0,59.0,58.0,58.0,57.0,79.0,56.0,49.0,55.0,69.0,55.0,78.0,71.0,57.0,86.0,68.0,63.0,44.0,65.0,57.0,66.0,46.0,57.0,57.0,60.0,67.0,56.0,68.0,34.0,48.0,80.0,69.0,51.0,56.0,54.0,53.0,70.0,77.0,85.0,64.0,41.0,74.0,63.0,46.0,47.0,56.0,82.0,56.0,59.0,59.0,52.0,65.0,70.0,56.0,78.0,60.0,77.0,55.0,64.0,50.0,54.0,64.0,80.0,56.0,59.0,58.0,82.0,56.0,52.0,56.0,49.0,59.0,75.0,60.0,64.0,51.0,58.0,71.0,55.0,61.0,43.0,64.0,56.0,53.0,74.0,40.0,60.0,56.0,68.0,46.0,59.0,70.0,69.0,73.0,82.0,82.0,45.0,56.0,65.0,83.0,69.0,56.0,64.0,56.0,65.0,38.0,74.0,55.0,61.0,80.0,61.0,62.0,54.0,72.0,54.0,75.0,55.0,59.0,55.0,60.0,74.0,70.0,50.0,55.0,53.0,74.0,64.0,53.0,49.0,75.0,66.0,65.0,58.0,64.0,78.0,62.0,67.0,67.0,55.0,70.0,76.0,70.0,52.0,55.0,55.0,69.0,79.0,48.0,54.0,71.0,55.0,59.0,68.0,55.0,78.0,60.0,62.0,68.0,60.0,81.0,50.0,78.0,64.0,55.0,73.0,37.0,79.0,59.0,50.0,50.0,70.0,44.0,78.0,68.0,54.0,50.0,70.0,60.0,40.0,57.0,67.0,59.0,50.0,59.0,38.0,54.0,51.0,62.0,81.0,61.0,50.0,75.0,53.0,50.0,32.0,62.0,85.0,76.0,38.0,54.0,34.0,70.0,46.0,71.0,50.0,50.0,55.0,50.0,46.0,77.0,81.0,54.0,63.0,68.0,49.0,54.0,82.0,64.0,58.0,63.0,50.0,70.0,75.0,40.0,52.0,53.0,55.0,50.0,75.0,61.0,64.0,63.0,70.0,43.0,21.0,29.0,54.0,43.0,43.0,59.0,77.0,48.0,61.0,16.0,14.0,45.0,63.0,76.0,67.0,34.0,34.0,26.0,76.0,42.0,52.0,61.0,53.0,54.0,25.0,68.0,73.0,57.0,61.0,42.0,26.0,55.0,24.0,47.0,39.0,58.0,45.0,42.0,48.0,40.0,42.0,46.0,18.0,65.0,38.0,41.0,41.0,38.0,37.0,40.0,44.0,60.0,81.0,67.0,19.0,66.0,43.0,39.0,70.0,60.0,52.0,72.0,45.0,58.0,64.0,42.0,41.0,83.0,53.0,34.0,65.0,68.0,41.0,65.0,41.0,60.0,48.0,41.0,41.0,48.0,45.0,44.0,33.0,42.0,54.0,49.0,53.0,54.0,62.0,52.0,45.0,76.0,62.0,40.0,43.0,34.0,60.0,61.0,43.0,40.0,42.0,40.0,32.0,76.0,29.0,31.0,49.0,64.0,40.0,40.0,78.0,61.0,60.0,68.0,67.0,40.0,69.0,36.0,38.0,50.0,39.0,68.0,55.0,66.0,50.0,39.0,64.0,43.0,76.0,26.0,25.0,34.0,55.0,32.0,31.0,59.0,42.0,63.0,39.0,27.0,47.0,32.0,61.0,46.0,18.0,21.0,39.0,48.0,59.0,30.0,33.0,58.0,19.0,17.0,41.0,36.0,63.0,54.0,31.0,31.0,50.0,63.0,40.0,41.0,40.0,53.0,43.0,20.0,52.0,68.0,37.0,38.0,34.0,38.0,25.0,33.0,62.0,74.0,54.0,25.0,58.0,46.0,55.0,37.0,38.0,63.0,59.0,36.0,69.0,43.0,31.0,45.0,82.0,44.0,21.0,45.0,44.0,37.0,50.0,37.0,29.0,26.0,23.0,28.0,34.0,39.0,51.0,12.0,30.0,33.0,44.0,40.0,22.0,34.0,31.0,32.0,22.0,28.0,30.0,30.0,43.0,13.0,17.0,29.0,17.0,22.0,13.0,37.0,15.0,32.0,44.0,22.0,81.0,82.0,71.5,67.0,47.0,65.0,72.0,91.0,70.0,60.5,68.3,57.0,69.7,46.5,38.5,58.7,71.0,46.0,55.0,82.0,79.0,71.0,70.7,69.3,66.0,56.0,69.0,58.0,64.0,74.0,74.0,55.0,57.0,81.0,51.0,68.0,70.0,65.5,85.0,70.0,55.0,66.0,78.5,72.5,52.0,68.0,66.0,87.5,88.0,34.5,65.0,57.0,63.0,72.0,85.0,63.5,73.0,71.0,59.5,70.0,65.5,66.0,55.0,74.5,85.0,68.0,74.0,61.0,79.0,67.7,70.5,59.0,50.0,65.0,46.0,58.5,71.7,62.5,64.0,75.0,62.0,98.0,55.0,67.5,64.5,57.0,89.0,70.5,60.0,83.0,44.5,36.0,61.0,70.0,61.0,68.0,73.0,71.0,81.0,71.5,69.0,42.5,72.0,60.0,67.5,69.0,82.0,50.0,46.0,82.0,72.0,79.0,84.0,67.0,73.0,39.0,58.5,48.5,71.5,69.5,78.0,73.0,39.0,75.0,51.7,56.0,79.5,73.5,70.0,71.0,52.0,58.0,63.0,81.0,72.0,64.5,66.0,77.0,72.0,79.0,69.0,81.0,73.0,70.0,58.0,36.0,76.0,87.0,50.0,75.0,76.0,67.0,73.0,65.0,67.0,64.5,65.5,64.5,71.0,79.5,70.0,78.0,76.0,82.0,65.5,39.0,44.5,64.5,45.5,37.0,67.0,73.7,77.0,67.0,79.5,76.0,74.5,73.7,56.0,80.0,73.0,79.0,55.0,74.0,66.0,80.0,74.5,74.0,69.0,74.0,68.0,64.5,77.0,76.0,77.0,76.0,78.5,63.0,68.0,76.0,56.7,79.0,71.0,75.0,50.0,73.0,55.0,49.3,47.0,83.0,60.5,66.0,54.0,80.3,67.5,62.0,63.0,70.0,76.0,73.7,66.0,66.5,45.0,74.2,70.0,64.0,83.5,74.7,64.5,84.0,74.0,74.5,59.5,74.0,63.5,50.0,89.0,45.5,71.0,74.5,65.0,68.0,73.0,83.0,71.0,81.0,78.5,76.0,78.3,81.0,81.0,30.0,61.0,75.0,67.5,61.0,66.0,80.0,64.8,75.5,75.5,73.5,80.0,64.5,66.0,56.5,82.0,55.0,73.5,55.0,56.0,55.5,58.0,50.0,44.0,39.5,66.0,69.5,73.7,77.0,57.0,88.0,75.0,37.0,74.0,60.5,81.0,87.0,82.0,69.5,83.0,74.0,73.0,82.3,87.0,87.3,85.0,76.3,80.0,62.0,84.0,72.2,63.0,63.0,73.0,69.0,72.0,64.5,67.5,71.3,61.3,67.0,71.7,79.0,80.5,73.2,83.0,79.5,61.0,77.0,40.3,79.0,71.0,57.0,68.0,73.5,78.0,77.0,78.5,85.0,83.0,77.0,74.0,55.0,62.3,48.7,61.0,27.5,85.5,80.7,65.0,70.5,74.0,77.0,79.0,82.0,87.0,87.0,70.0,69.5,83.0,72.0,83.0,83.0,57.0,77.0,71.0,61.0,79.0,47.0,76.0,54.0,72.0,75.5,61.5,79.0,48.0,75.0,67.0,52.0,82.0,88.3,81.5,86.0,85.7,86.5,82.0,68.0,69.0,75.0,70.7,76.0,81.0,77.0,82.5,72.0,75.0,71.0,58.0,37.0,66.3,54.0,68.5,68.5,59.5,83.0,64.5,48.0,79.7,72.0,85.0,85.0,82.0,75.0,75.0,69.0,75.0,73.0,70.0,75.5,73.0,50.0,74.0,74.5,78.0,55.0,58.3,65.5,71.0,80.5,79.0,88.0,77.0,78.5,81.5,81.0,77.0,83.0,65.0,65.0,73.0,72.0,82.0,55.0,79.0,61.0,72.0,78.0,63.0,70.5,72.0,76.0,79.0,76.0,78.0,75.0,77.0,21.0,76.0,70.0,55.5,60.0,78.0,62.5,78.0,79.5,80.7,74.5,77.0,61.5,55.7,44.0,64.5,68.0,65.7,73.7,76.5,70.0,52.0,83.0,77.0,82.0,48.0,80.0,81.0,64.5,70.0,67.0,59.0,82.0,86.0,73.0,58.0,79.0,41.0,59.0,74.0,72.5,76.0,78.5,81.0,79.7,81.0,84.7,78.3,66.0,67.0,83.3,75.5,79.0,59.0,76.7,70.7,82.5,60.0,52.0,72.5,70.0,83.5,79.5,73.5,77.0,72.7,87.0,49.0,45.0,86.0,62.0,73.0,64.0,76.0,69.0,80.0,71.0,71.5,63.0,67.0,68.0,85.0,63.5,71.0,59.0,60.0,81.0,67.5,61.0,69.0,79.0,74.0,83.5,67.0,70.3,79.0,75.5,52.5,64.0,65.0,53.0,66.0,50.0,40.0,38.0,52.0,57.0,77.0,25.7,40.0,36.0,66.0,73.0,33.0,44.0,20.0,37.5,75.7,69.0,76.0,80.5,57.0,75.0,73.0,78.5,71.0,83.0,83.0,63.0,53.0,52.0,83.0,87.0,71.0,82.0,77.0,85.0,71.0,44.0,40.0,72.0,78.5,64.3,74.0,58.0,67.0,58.0,72.0,61.5,76.0,54.0,80.0,78.0,65.0,79.0,72.5,80.0,72.0,77.0,85.0,83.0,89.0,76.3,83.0,82.0,51.0,79.0,73.5,50.0,79.5,77.0,67.0,88.0,69.0,84.0,77.0,32.7,69.0,65.0,75.0,67.0,76.0,26.0,71.5,75.0,82.0,83.8,79.0,38.5,80.0,64.0,54.5,65.0,81.0,51.0,64.0,68.0,72.0,79.0,83.0,56.0,77.0,88.0,77.0,70.0,69.0,78.0,60.0,29.0,61.0,82.0,73.0,71.0,74.0,71.5,74.7,30.0,49.0,67.5,66.0,77.0,60.0,53.0,70.5,63.7,47.0,75.5,74.0,74.0,80.0,70.0,45.0,74.0,74.0,78.0,84.0,83.3,75.5,74.5,61.0,75.5,67.0,78.0,76.0,71.0,70.0,66.0,48.0,32.0,81.0,87.0,87.0,71.7,68.0,87.0,75.7,80.5,71.0,60.5,63.0,74.5,82.0,79.5,81.5,76.5,78.7,75.0,64.0,82.0,77.0,47.5,70.0,73.0,66.0,61.5,48.0,55.0,57.0,44.5,83.0,83.0,59.0,72.5,70.0,73.0,81.5,84.0,70.3,67.0,61.7,60.0,35.5,76.0,83.0,84.0,64.0,81.0,80.0,83.0,68.0,65.0,61.0,72.5,58.0,77.5,57.5,71.0,54.0,79.0,54.0,50.0,68.0,72.0,81.0,88.0,80.0,65.0,77.0,21.0,71.0,74.0,67.5,52.5,80.0,77.0,77.0,66.0,66.7,50.7,61.0,75.0,66.0,76.0,82.0,83.3,70.0,76.0,67.0,81.0,71.0,69.0,54.0,82.0,70.0,72.0,41.5,78.0,66.0,73.0,83.0,65.0,72.0,48.0,53.4,77.0,81.5,85.0,77.0,76.0,88.0,63.5,47.0,79.0,42.0,44.0,80.0,78.0,70.0,74.0,86.5,50.0,40.0,78.5,76.0,57.5,66.0,78.5,78.0,68.0,80.0,86.0,67.5,74.0,77.3,82.7,78.7,74.0,87.3,74.0,83.5,78.2,77.0,55.7,72.0,79.0,70.0,68.0,78.3,67.7,74.5,74.0,78.3,70.0,63.0,78.0,77.0,48.0,74.5,77.0,42.0,88.0,74.0,86.0,76.0,47.0,67.0,71.0,80.8,67.5,59.0,61.5,65.0,66.5,72.5,44.5,69.0,63.0,40.5,68.0,64.0,48.0,78.5,78.0,54.5,74.3,74.0,64.0,48.0,66.0,75.0,71.0,65.0,55.0,65.0,68.0,80.0,80.5,55.0,54.0,63.0,82.0,63.5,84.5,86.5,41.0,62.6,46.0,82.0,68.7,60.0,69.5,74.0,54.0,79.0,48.0,72.0,67.0,70.0,83.5,73.5,78.0,81.0,80.0,64.0,77.0,54.0,58.0,46.5,45.3,14.5,58.0,62.5,33.5,42.0,41.5,78.6,82.5,64.0,51.0,76.5,72.0,70.0,76.0,58.0,84.5,83.5,84.7,84.5,82.0,84.2,58.0,72.0,77.0,73.0,67.0,81.0,65.5,88.0,29.0,52.5,75.0,72.5,54.0,67.0,55.0,74.0,64.0,75.0,55.0,86.0,66.0,83.0,82.0,70.0,78.0,80.0,81.0,75.0,83.5,76.0,84.0,68.7,65.0,70.0,56.2,50.0,66.0,75.0,55.0,34.0,47.0,80.0,71.0,36.0,76.0,78.0,48.0,64.5,64.0,76.0,59.0,69.0,77.7,73.0,71.5,81.0,80.3,63.0,75.0,77.0,63.0,69.0,84.5,61.0,64.0,83.0,71.0,87.5,72.0,87.0,78.0,65.0,65.0,70.0,74.0,48.0,72.5,60.0,78.0,70.0,68.0,70.0,75.0,45.3,49.7,60.0,79.0,76.0,81.0,64.0,73.0,88.0,73.0,80.0,77.0,79.0,71.0,78.0,75.0,76.5,77.0,81.0,77.5,76.0,69.0,72.0,71.0,86.0,84.7,67.5,84.0,84.0,80.8,87.0,70.0,68.5,53.0,58.0,63.0,36.0,76.0,61.0,43.0,57.0,34.5,42.5,76.0,54.0,67.5,73.0,88.0,63.0,74.0,52.0,63.0,53.5,52.0,71.7,25.0,74.0,45.0,61.0,62.5,74.0,83.0,74.0,69.3,61.0,64.0,64.0,64.0,58.0,69.0,78.0,80.0,43.0,75.0,46.0,76.0,71.7,35.0,41.0,66.0,64.0,68.5,69.0,79.5,82.5,72.0,88.0,83.0,83.0,68.3,71.5,81.0,68.0,35.0,75.0,63.0,67.5,70.0,66.0,48.0,70.0,82.0,47.0,62.0,50.0,82.5,81.0,75.5,81.0,61.0,77.0,78.0,76.0,83.0,81.5,80.0,72.5,73.0,76.0,57.0,77.0,71.0,58.0,69.0,66.0,70.0,72.5,77.5,71.5,68.0,56.0,79.0,58.0,83.0,63.0,36.0,76.0,69.0,67.3,72.0,71.0,59.5,73.0,83.0,70.0,48.0,77.0,65.0,49.0,66.3,68.7,34.0,60.0,72.0,76.5,70.0,79.0,81.0,67.0,70.0,67.5,71.0,55.0,83.0,73.0,56.0,73.0,77.0,70.0,77.5,75.8,75.0,63.0,70.0,53.0,80.0,75.0,80.0,79.5,40.0,76.7,78.0,87.0,63.0,67.0,81.0,73.0,70.0,75.0,74.5,72.0,80.0,49.0,45.7,84.0,68.0,81.0,80.0,79.0,75.5,79.5,66.7,66.5,72.3,72.0,76.0,71.0,72.0,66.5,41.0,78.0,74.0,77.5,73.0,73.3,49.0,79.0,84.0,58.0,69.0,78.0,61.0,76.7,43.5,51.7,44.7,46.5,31.5,26.3,69.5,25.5,55.0,53.0,77.0,75.8,70.3,70.3,68.3,72.0,60.7,58.5,68.0,70.7,75.5,77.0,73.0,71.0,64.3,74.1,77.0,67.0,70.0,61.0,47.0,67.0,61.0,56.0,52.3,65.3,79.0,69.0,55.0,79.0,57.0,71.5,70.0,54.0,88.0,92.0,80.7,78.0,61.5,66.0,57.0,85.0,63.0,74.0,79.5,80.0,55.5,61.5,56.5,75.0,48.0,83.0,63.0,85.3,82.3,74.3,71.0,54.0,43.7,40.0,63.0,64.5,72.5,58.0,17.0,83.0,88.0,73.0,70.0,67.5,69.5,66.5,55.5,72.0,75.0,69.7,69.0,62.0,65.5,79.0,71.0,46.5,83.0,73.0,83.7,83.0,76.0,65.0,73.0,64.0,60.5,89.0,70.0,47.0,74.0,87.0,79.0,84.0,89.0,84.0,76.0,83.0,81.0,85.0,87.0,65.3,77.5,71.0,83.5,69.0,89.0,86.0,66.0,39.0,67.7,85.0,88.0,86.0,76.5,88.0,86.0,79.0,64.0,64.0,81.0,77.0,70.0,35.0,60.0,50.0,70.5,71.0,56.0,78.0,80.5,74.0,81.5,76.0,66.5,82.0,69.5,71.0,50.0,75.0,41.0,82.0,88.0,69.0,57.0,71.0,71.0,68.5,69.0,71.0,56.5,62.0,66.0,57.0,78.5,63.7,70.5,54.0,68.0,48.0,78.0,75.5,77.0,80.0,83.0,55.5,84.0,79.0,62.5,75.0,58.0,51.0,68.3,67.0,74.0,79.2,81.5,78.0,82.5,48.0,60.0,86.0,62.5,56.0,53.0,58.0,61.0,74.0,62.0,62.5,58.3,73.0,82.0,63.0,82.5,50.0,77.0,68.0,73.7,75.5,79.0,74.5,75.5,71.0,55.5,71.0,64.5,61.5,61.0,82.0,55.0,70.0,69.3,62.0,79.0,65.0,84.0,82.0,86.0,61.0,66.0,80.0,74.0,55.0,87.0,67.7,72.7,75.5,70.5,75.5,84.0,59.0,86.0,75.0,68.7,75.5,79.0,57.0,77.0,46.0,72.0,68.5,88.0,40.0,74.0,81.0,85.5,40.0,74.0,63.5,69.0,76.0,91.0,83.0,68.7,69.0,75.5,48.0,77.0,86.0,62.0,64.0,58.5,66.5,52.0,80.7,74.0,78.0,80.5,74.0,73.5,65.5,90.5,83.0,78.5,44.0,65.0,59.3,61.0,68.0,84.0,72.0,78.0,62.0,67.0,77.0,74.3,84.0,54.0,81.5,77.0,80.0,60.5,78.0,53.5,83.0,75.3,81.4,78.5,89.3,88.0,71.0,83.5,68.0,59.0,48.0,71.0,73.0,32.0,81.0,73.3,77.5,76.0,53.0,80.5,69.0,82.5,65.0,87.0,84.0,77.7,97.0,85.0,85.0,65.0,75.0,54.0,67.5,71.5,88.0,74.3,77.0,80.0,73.0,85.0,60.0,78.0,87.0,83.5,72.5,81.0,70.0,63.5,83.0,79.8,67.0,81.0,82.0,69.0,57.0,70.5,81.2,77.0,55.0,67.0,64.0,54.0,83.0,82.0,70.0,84.0,78.0,74.0,65.5,40.0,38.0,73.0,87.0,75.0,88.5,88.0,68.0,74.0,79.0,71.0,62.0,73.0,63.0,60.0,54.0,83.0,74.5,77.3,82.0,63.0,72.0,73.5,73.0,69.0,66.0,74.0,60.0,78.6,40.3,54.5,49.0,56.0,78.5,72.8,77.0,73.0,72.0,77.0,85.0,85.0,63.0,87.0,44.0,70.7,74.0,62.0,77.0,86.5,82.0,81.0,82.0,78.0,88.0,74.0,71.0,80.0,73.0,72.0,73.0,50.0,78.0,73.0,64.7,61.7,81.0,75.0,65.0,78.0,77.3,62.0,63.0,46.3,62.5,71.0,61.0,62.0,75.0,75.3,75.0,36.0,77.0,71.0,69.0,63.0,58.0,69.0,65.0,70.3,76.0,67.0,64.0,76.0,66.0,65.5,69.0,69.0,48.5,78.3,73.3,74.0,86.7,81.3,46.0,79.0,51.0,75.5,69.0,75.5,64.0,85.0,81.0,83.0,81.0,70.0,75.0,25.0,77.0,65.0,62.0,77.7,70.0,70.5,76.7,75.0,80.0,65.0,59.5,34.0,77.5,73.0,60.0,76.3,45.5,69.0,72.0,70.0,75.0,61.5,43.5,64.0,74.0,48.0,77.0,80.0,55.0,77.5,84.3,57.0,75.0,80.5,47.5,78.0,76.7,76.0,72.0,81.0,76.0,67.0,54.0,76.2,53.0,61.7,60.5,75.3,44.0,78.0,74.0,80.0,81.0,72.5,67.0,81.3,64.0,48.0,65.0,62.0,82.0,71.0,60.0,78.0,79.0,56.3,79.0,60.0,74.0,68.0,78.0,31.0,79.0,71.0,57.0,63.0,57.0,66.0,61.5,51.3,70.0,89.3,73.0,60.0,69.0,87.0,79.0,62.0,66.0,73.0,73.0,81.5,82.7,58.7,65.0,58.0,71.0,72.0,61.5,44.5,67.0,77.0,66.0,84.0,60.0,73.0,66.7,77.0,40.0,71.0,85.5,66.7,70.0,66.0,83.0,71.0,60.0,50.0,42.5,71.0,78.0,69.0,78.5,63.5,59.0,62.3,59.0,59.5,80.0,78.0,85.0,75.0,60.0,82.0,79.5,74.0,49.0,77.5,79.3,84.0,70.0,88.0,74.0,71.0,65.0,75.0,72.0,81.5,86.0,75.0,74.0,63.0,61.0,66.0,68.0,73.0,75.0,87.0,64.0,66.0,64.0,87.0,61.0,51.0,80.0,88.0,67.0,48.0,68.0,68.0,55.5,35.0,71.0,66.5,49.7,65.0,76.5,59.0,64.0,56.0,89.0,82.0,90.0,74.0,75.0,81.0,75.0,73.5,78.0,88.0,80.0,85.0,68.0,78.0,86.0,85.0,80.0,78.0,60.0,62.0,81.0,83.0,68.5,77.5,70.0,59.0,76.0,83.0,67.0,51.0,46.0,65.0,48.0,79.3,59.0,74.0,73.5,70.5,79.8,75.7,71.5,79.0,79.0,72.8,78.3,71.0,78.7,71.5,65.5,72.8,74.0,73.4,75.8,71.5,66.0,66.0,82.7,87.0,74.0,74.0,67.5,75.0,44.0,65.0,78.0,62.5,69.0,73.0,75.0,58.3,68.0,75.0,72.0,63.3,79.0,68.0,71.5,53.0,82.0,76.0,84.5,84.5,75.0,84.7,82.0,80.0,61.0,75.0,79.0,50.5,76.0,60.0,68.0,13.0,84.0,73.0,54.5,78.0,86.0,66.0,86.0,21.3,61.3,68.5,75.0,73.0,77.0,70.5,65.0,68.0,65.0,72.0,59.0,57.3,48.3,58.3,49.0,79.0,76.0,68.5,83.0,85.5,83.0,61.5,57.5,77.0,60.0,75.0,74.0,55.0,72.0,82.7,81.0,38.0,73.0,85.0,70.5,41.0,57.0,72.0,57.0,79.0,61.5,75.5,70.0,77.0,67.0,66.0,83.0,58.0,72.0,81.0,62.5,69.0,80.0,60.0,73.5,64.0,33.0,33.0,75.7,59.0,69.0,62.0,30.0,81.0,72.3,47.0,77.0,66.3,59.5,72.0,73.0,66.0,77.0,80.5,79.3,73.0,75.0,70.0,73.0,71.5,79.0,36.0,65.0,79.0,80.0,73.0,41.0,19.0,75.0,83.5,78.5,79.3,75.5,78.5,48.0,69.5,69.0,80.3,81.0,71.2,70.0,64.0,65.5,67.0,74.0,78.0,86.0,79.5,67.4,69.6,75.3,59.0,61.0,61.0,58.5,17.0,71.5,70.5,75.0,75.5,72.2,6.0,50.3,80.3,54.0,70.0,44.0,67.5,85.0,75.0,58.0,74.0,69.0,69.5,76.0,62.5,64.5,71.0,66.5,77.0,72.0,79.5,65.0,58.3,74.0,71.0,44.0,80.5,76.5,74.0,65.0,63.0,77.3,74.0,61.0,82.0,78.0,63.0,80.0,86.0,77.0,79.0,79.0,48.0,79.0,51.0,77.0,61.0,82.0,68.0,75.0,61.0,68.5,73.0,83.2,72.0,49.5,82.7,57.3,60.0,67.5,62.0,74.4,66.7,78.0,86.0,69.5,72.0,88.3,60.5,74.0,59.0,81.0,64.0,50.0,40.0,43.0,68.0,85.0,90.0,60.2,81.5,74.0,84.0,82.0,64.5,82.0,30.0,45.0,78.0,85.0,76.7,78.0,66.0,71.0,66.0,57.5,76.0,69.0,86.0,85.7,87.5,86.0,86.0,86.0,82.8,85.0,85.0,85.0,86.0,88.0,82.0,88.0,87.0,63.0,80.0,65.0,79.0,51.0,71.3,77.0,61.5,69.5,76.0,84.3,80.3,90.5,88.0,65.3,78.3,76.0,77.0,89.0,17.0,79.0,77.0,84.0,65.5,79.0,66.0,64.0,71.3,80.7,83.0,79.0,87.0,89.0,79.0,41.0,66.0,40.0,65.0,76.0,80.0,44.0,78.0,72.5,86.0,78.3,75.5,48.0,79.0,48.0,71.0,69.0,52.0,42.0,79.5,50.0,71.0,48.0,45.0,63.0,42.0,74.0,54.0,84.0,72.0,82.0,65.0,75.0,70.0,52.3,73.0,56.0,66.0,60.5,56.0,85.0,58.0,71.0,76.5,81.0,66.0,80.5,60.0,58.7,79.0,84.0,80.0,90.0,72.0,83.0,58.0,61.0,68.0,38.0,76.0,56.2,75.0,75.7,53.0,67.0,56.0,82.0,36.3,73.0,62.0,67.0,76.5,77.0,71.5,82.0,85.0,69.7,63.0,57.0,80.0,69.0,64.7,75.0,70.0,80.0,56.0,55.5,55.0,44.0,75.0,70.0,78.0,80.5,79.0,62.0,70.0,72.0,71.0,72.0,63.0,72.0,64.0,72.5,67.0,70.0,84.0,73.0,74.0,83.0,78.3,74.0,78.0,53.0,69.0,68.5,53.0,70.5,73.5,68.0,48.0,67.7,65.0,84.5,49.0,86.0,81.0,58.5,42.0,81.0,79.0,73.3,81.0,65.5,64.7,66.0,53.0,72.5,74.7,52.7,65.5,60.5,18.0,34.7,74.3,15.0,24.5,82.0,77.5,67.0,71.0,66.0,41.0,86.0,82.0,49.0,69.7,62.8,60.5,76.0,28.5,58.0,55.5,72.5,73.0,79.0,81.0,78.7,62.5,70.0,85.0,30.5,82.7,73.0,55.0,57.0,72.7,74.5,68.0,62.0,41.0,62.5,74.3,81.0,86.0,57.0,61.0,85.0,78.5,46.0,79.0,84.5,67.0,40.0,84.5,72.0,80.0,72.0,63.0,66.7,81.3,68.5,83.0,73.0,71.0,64.5,76.5,78.0,88.0,82.0,84.0,56.5,76.0,66.5,61.0,34.5,57.5,39.0,73.5,74.7,65.0,59.0,22.0,51.0,68.0,78.0,66.5,67.5,59.0,55.0,86.0,85.0,82.0,85.5,74.2,69.0,78.0,75.0,77.0,77.0,27.0,72.0,60.0,56.0,84.5,76.0,78.0,82.0,78.0,69.5,73.0,59.5,80.0,75.0,74.0,80.0,57.0,57.3,43.0,75.0,60.0,88.0,38.0,68.0,60.0,83.3,83.3,57.0,58.5,76.0,61.3,86.0,57.5,82.0,64.0,51.7,64.3,63.0,52.0,54.0,61.5,79.0,70.3,77.0,85.0,44.0,80.0,64.5,82.0,55.7,86.0,70.0,67.5,80.0,74.0,85.0,70.0,82.5,78.0,86.0,68.0,49.0,69.0,68.0,76.0,61.0,69.5,76.0,64.0,74.0,61.0,55.0,68.5,66.0,44.0,73.0,49.5,59.0,72.0,83.0,70.0,68.0,54.0,71.0,69.0,65.0,73.0,71.0,61.0,73.0,68.0,76.0,71.0,69.0,65.5,79.5,75.0,69.0,64.0,48.0,62.0,75.0,63.0,61.5,39.0,75.0,78.5,76.0,86.0,76.5,75.0,80.0,85.0,88.0,77.0,80.5,63.0,88.0,80.7,86.0,80.0,62.7,89.5,84.3,77.0,72.0,64.7,70.0,62.0,49.0,74.0,62.0,68.5,29.0,75.0,85.0,75.0,71.0,62.0,44.0,36.5,84.0,70.7,57.0,72.0,64.0,62.5,61.5,87.0,75.0,76.0,81.0,71.0,48.0,86.5,86.5,87.3,57.0,70.0,88.0,79.0,73.0,82.0,74.0,83.3,75.0,64.0,79.3,74.7,72.5,79.0,68.5,67.0,58.7,66.2,80.0,64.0,74.5,76.0,70.5,77.0,60.5,67.0,62.7,68.7,77.0,43.0,47.0,80.0,67.0,73.0,66.5,71.5,81.5,78.0,76.0,74.0,56.5,79.0,84.0,58.0,64.0,50.0,81.0,76.0,64.5,56.0,77.0,71.0,69.0,67.0,85.0,77.0,82.0,78.0,66.5,57.0,86.0,70.0,80.0,74.0,88.0,88.0,75.0,58.7,39.5,84.0,42.0,71.0,62.0,74.0,77.0,86.0,63.0,57.0,62.0,78.0,82.0,58.0,73.8,71.0,83.0,81.0,73.0,71.0,58.0,83.0,89.0,80.5,70.0,74.0,73.0,71.0,80.0,87.0,74.0,83.0,63.5,51.5,75.0,41.0,78.0,81.0,80.0,78.5,71.0,63.0,81.0,74.0,59.0,71.0,79.0,83.5,67.5,24.0,79.0,80.0,72.0,71.0,50.0,72.0,70.5,45.0,58.0,78.0,82.2,54.5,65.5,42.3,75.0,71.0,75.0,83.0,90.0,89.0,85.0,52.0,60.0,77.0,37.0,70.0,76.0,76.5,77.0,64.0,88.7,69.3,76.0,22.5,48.0,54.0,55.0,68.0,78.8,65.5,72.7,84.0,75.5,82.2,81.0,82.5,75.0,80.0,81.0,73.0,45.0,71.5,70.0,71.0,73.0,74.5,64.0,66.0,70.7,43.0,63.5,51.5,56.0,71.3,64.3,73.0,58.0,65.0,37.0,85.0,78.0,68.0,68.2,83.0,85.0,71.3,55.3,77.0,67.5,80.5,64.0,73.0,63.0,51.0,72.0,69.0,73.0,46.0,76.0,83.0,80.0,84.0,81.0,69.0,76.0,70.0,59.5,79.0,63.0,71.5,76.6,71.3,68.5,79.5,72.0,74.0,72.3,64.0,70.0,79.0,76.0,83.0,74.0,79.0,74.0,61.0,24.5,68.5,53.0,60.0,63.0,72.0,68.0,67.0,65.7,70.0,73.0,76.0,77.0,79.0,47.0,75.0,64.0,70.0,63.0,72.0,73.0,67.0,62.7,57.5,86.0,59.0,78.0,78.0,67.5,54.0,77.5,84.0,70.0,17.0,74.0,85.5,81.0,88.0,88.0,76.0,87.0,65.0,85.3,64.0,68.3,85.2,77.7,61.0,70.0,63.0,57.0,53.0,89.5,75.7,76.5,80.0,67.5,72.5,78.0,59.0,71.0,52.0,86.0,77.3,76.0,77.0,55.0,78.0,66.5,67.0,63.3,76.0,70.0,71.5,77.7,77.0,64.0,74.0,65.3,88.5,83.0,89.0,61.7,86.8,85.3,82.5,73.0,71.5,61.2,79.0,87.0,86.0,84.0,82.5,84.5,80.0,84.5,42.0,76.0,75.0,71.3,71.0,76.0,81.0,81.0,73.0,74.0,70.0,75.0,86.0,77.0,72.0,80.0,80.0,75.0,58.0,82.0,55.0,74.0,13.5,81.0,74.0,84.0,68.5,54.0,76.0,81.0,89.0,77.0,68.0,72.0,67.0,80.0,76.0,73.0,59.0,39.0,70.0,81.0,69.0,83.0,76.0,58.5,61.3,80.0,64.0,68.0,81.0,79.0,66.0,78.0,73.3,78.0,76.7,64.0,75.0,58.5,77.0,72.5,48.0,49.0,79.0,77.5,54.0,64.5,66.0,82.0,78.7,73.3,61.0,80.3,78.0,65.3,54.0,77.0,70.0,41.0,64.5,79.0,79.0,65.0,74.0,76.0,75.0,55.0,77.0,47.5,78.0,79.0,81.0,82.0,69.0,56.0,58.0,64.0,19.5,58.0,82.0,87.0,70.5,57.0,75.0,70.5,66.0,68.5,65.0,53.0,88.0,87.0,83.0,84.5,72.5,82.5,78.8,85.5,43.0,74.0,75.5,73.0,78.0,62.0,75.0,69.0,72.0,66.0,87.0,76.0,73.5,65.0,74.0,59.7,56.0,67.0,69.0,77.7,42.0,75.0,73.0,77.0,77.0,83.0,71.0,73.0,76.0,72.0,76.5,77.0,67.0,62.0,88.0,79.0,67.5,66.0,74.0,85.0,79.0,64.0,55.0,62.0,78.0,73.5,68.5,75.5,76.5,48.0,68.5,63.5,69.0,80.0,52.0,48.0,85.0,74.0,81.0,58.0,71.0,59.0,76.5,75.0,78.0,77.0,70.0,78.0,82.5,72.5,87.0,71.5,85.0,66.5,71.0,81.0,72.0,72.0,71.7,77.5,68.5,61.0,86.0,61.0,74.0,78.5,66.0,60.0,23.0,61.0,83.5,77.0,66.5,84.5,71.0,56.0,82.0,68.0,71.0,78.0,82.0,59.0,63.5,46.0,83.0,66.5,63.5,82.0,56.0,80.0,77.0,58.5,69.0,73.0,59.0,64.0,64.5,50.5,64.7,70.0,59.3,79.0,77.0,48.0,72.0,70.0,71.0,41.5,65.0,61.0,80.0,53.0,43.0,43.0,63.0,76.0,71.3,78.0,79.0,50.0,64.0,83.0,79.8,78.0,58.5,44.0,60.0,49.0,74.0,57.0,74.0,66.5,81.0,79.3,86.0,70.8,55.0,75.5,43.0,74.0,78.0,72.0,74.0,89.0,89.0,84.0,80.5,48.0,50.0,71.5,66.3,76.0,76.0,36.0,78.0,74.0,73.0,78.0,64.0,82.0,22.0,69.0,73.3,75.0,73.0,61.0,55.0,75.0,70.0,78.0,73.0,77.5,67.0,40.0,79.0,71.0,80.5,81.0,69.5,37.0,48.5,58.0,67.5,79.0,82.0,69.0,69.5,77.0,82.5,62.0,61.0,58.0,52.5,63.5,79.7,65.0,89.0,65.0,74.0,52.0,75.0,69.0,73.0,56.0,78.3,72.0,68.7,65.0,55.5,63.5,30.0,64.7,49.0,59.7,69.0,53.0,83.0,76.0,64.0,75.0,81.5,79.0,74.5,85.0,78.0,76.0,45.7,65.3,78.0,76.0,82.0,75.0,79.3,82.5,62.0,60.0,66.0,79.5,67.0,74.0,73.0,61.0,76.0,83.5,88.0,64.5,56.7,76.5,78.0,84.0,63.0,80.0,79.0,63.5,54.0,66.0,75.5,66.0,77.5,77.0,76.0,61.5,72.0,86.0,68.5,76.0,83.0,70.7,75.0,58.0,76.0,76.0,75.5,74.0,80.3,85.0,74.2,67.7,68.0,64.7,77.2,76.0,66.0,81.0,62.0,64.0,80.0,80.5,75.0,87.0,78.5,82.0,88.0,87.7,66.5,51.0,65.0,68.0,22.0,78.0,71.0,58.0,76.0,60.5,40.0,78.0,74.0,49.0,65.0,67.0,57.3,78.0,87.0,70.0,58.0,81.0,61.0,78.0,73.0,50.0,59.0,64.0,76.0,74.0,72.0,49.0,61.0,73.0,75.0,41.0,15.0,70.0,76.5,79.0,77.0,42.0,73.0,84.5,81.0,83.0,58.0,67.0,85.5,89.5,74.5,80.0,90.5,62.5,56.0,53.0,77.5,74.0,68.0,71.0,73.0,84.0,79.0,83.0,77.5,81.0,75.0,66.0,87.0,64.0,68.7,65.3,79.0,77.8,85.0,77.0,76.5,65.0,77.0,72.0,81.0,65.7,83.5,79.0,58.3,68.0,65.0,81.0,72.0,70.0,58.0,86.0,67.0,65.0,76.0,57.5,63.0,73.0,48.5,81.0,75.0,77.0,84.0,83.0,84.0,75.0,60.0,64.0,74.5,65.0,85.5,79.3,72.0,83.0,68.0,77.0,77.5,78.0,74.5,89.0,75.0,65.0,74.5,84.0,66.5,78.0,72.0,72.5,71.0,57.5,81.0,62.3,78.0,83.0,64.0,61.0,82.0,63.0,79.5,86.0,72.0,75.0,76.0,29.0,58.0,55.0,66.0,70.0,83.0,56.5,67.0,65.0,66.0,49.0,75.5,77.8,52.0,69.0,37.0,77.5,74.0,56.0,48.5,84.0,85.0,77.0,84.0,84.0,67.0,71.0,66.0,76.0,77.5,73.0,70.0,66.0,85.7,71.0,57.0,73.0,89.0,65.0,54.5,60.0,65.7,83.0,70.0,59.0,73.0,84.0,77.0,70.0,75.3,59.0,69.5,86.0,86.0,56.2,64.0,77.3,79.7,68.0,64.0,59.7,53.0,64.5,62.0,84.0,64.0,83.0,74.5,86.0,75.0,30.0,81.3,84.0,82.5,83.3,86.7,68.5,80.0,81.5,84.0,88.0,75.3,40.0,83.0,66.7,64.0,86.0,72.0,80.0,51.0,74.5,78.0,76.0,64.0,70.0,59.0,59.0,79.0,76.0,64.5,80.0,62.5,87.0,73.0,88.0,65.0,43.7,82.5,80.8,69.3,80.5,73.0,80.3,88.0,50.0,75.0,82.0,77.0,70.0,77.5,63.5,67.0,62.0,56.3,62.0,66.0,72.0,65.5,61.0,61.0,59.0,70.0,79.0,54.0,80.0,80.5,77.2,76.0,71.5,71.0,71.0,83.0,74.0,70.0,74.0,47.2,65.0,91.5,60.0,73.5,68.5,79.7,65.0,75.0,64.0,70.0,74.0,58.0,64.0,68.0,76.0,76.3,70.5,71.5,64.0,63.0,51.5,50.5,81.0,48.0,20.0,76.7,64.0,66.0,78.0,79.0,76.0,83.0,73.0,79.0,66.0,82.0,61.0,83.0,88.0,73.0,83.7,84.0,45.0,64.5,59.0,64.7,57.5,79.5,80.0,76.0,78.0,64.5,65.0,67.0,89.0,75.5,87.7,40.0,75.0,77.0,81.0,72.5,50.0,75.3,61.5,78.0,70.0,54.7,57.5,58.0,57.0,64.5,60.5,75.5,72.0,74.3,64.5,65.0,76.0,38.5,76.0,56.3,72.0,68.0,60.0,74.0,81.0,58.5,69.0,47.0,70.0,57.5,73.5,88.0,81.0,87.0,74.5,50.5,82.0,66.0,84.0,44.0,69.5,79.5,73.0,87.0,68.0,76.0,83.0,83.0,84.5,82.5,86.0,73.0,70.5,69.0,69.2,85.0,89.0,70.0,89.5,85.0,67.5,69.0,66.0,66.0,69.5,80.0,55.7,81.6,79.5,82.5,72.0,62.5,75.0,70.5,80.3,61.0,56.0,76.5,67.7,73.5,62.5,84.0,67.0,65.0,83.0,77.0,77.0,43.5,85.0,91.5,77.7,57.7,78.0,81.0,53.0,66.0,68.0,45.0,39.0,75.0,69.5,80.3,56.0,30.0,55.0,63.0,67.8,63.0,64.0,42.5,61.0,65.0,82.5,71.2,75.0,83.0,72.0,74.5,81.3,78.0,22.0,74.7,63.0,38.0,61.0,48.0,53.0,77.0,57.0,51.0,81.0,77.0,76.0,78.0,79.0,76.0,77.0,68.0,82.0,88.0,67.0,62.0,65.3,77.5,68.3,84.0,79.3,65.5,50.5,68.3,64.5,62.5,60.0,62.5,54.0,58.0,86.0,82.0,69.0,77.0,77.5,71.3,79.0,78.0,66.0,70.5,68.0,67.0,77.0,79.5,62.0,76.5,87.0,83.0,84.0,83.0,82.7,86.0,63.0,71.5,80.0,83.0,84.0,83.0,83.3,72.0,85.0,31.5,76.5,66.5,68.5,56.5,63.0,79.5,77.0,51.0,57.0,72.0,81.7,84.5,92.7,92.0,90.5,85.0,72.0,75.0,88.0,86.3,84.5,83.7,86.0,63.0,71.0,82.0,76.0,83.5,63.0,62.0,77.5,79.3,67.0,55.0,69.0,48.0,54.0,28.8,75.3,70.5,78.0,70.0,69.1,72.4,77.0,73.3,66.5,56.0,52.5,67.0,67.5,79.5,66.7,65.0,43.0,75.0,82.7,86.5,68.5,73.0,67.0,76.0,55.0,63.0,84.5,87.0,69.0,59.0,68.0,79.0,78.0,43.0,41.0,67.5,64.0,73.0,64.8,52.5,70.3,64.5,50.0,32.0,72.5,60.0,66.5,74.0,65.0,81.0,78.0,36.0,49.0,71.0,76.0,78.0,65.7,76.0,86.0,86.0,75.0,82.3,77.0,79.5,66.5,66.3,64.0,20.0,79.7,72.5,79.5,75.0,72.3,61.5,76.3,70.3,73.7,75.8,78.0,80.8,68.3,63.5,85.5,80.0,81.0,70.0,64.0,44.0,48.0,35.0,78.0,79.3,78.0,67.0,42.2,56.0,54.5,68.0,81.0,82.0,84.0,69.0,74.0,57.0,84.0,84.0,76.0,61.0,68.0,74.0,76.0,53.0,44.0,64.0,64.3,72.0,49.0,56.0,70.0,74.0,74.0,80.0,62.0,82.0,42.0,73.0,69.0,38.0,55.0,60.0,25.0,82.7,45.0,61.5,80.0,81.0,85.0,82.5,81.0,84.0,78.0,69.0,70.0,57.0,62.0,75.5,79.5,75.7,76.0,75.0,79.0,55.0,64.5,71.3,64.5,80.0,75.0,76.0,70.0,79.5,66.0,77.3,76.0,49.0,86.0,44.0,72.0,58.0,70.0,60.5,49.0,67.5,82.0,82.0,76.5,75.0,52.7,52.5,82.0,73.2,64.5,84.5,73.5,79.0,76.5,69.0,69.3,40.0,80.0,70.0,75.5,73.0,63.0,78.0,80.0,72.3,83.0,81.0,80.0,76.5,67.0,66.0,22.5,80.0,74.0,67.0,48.5,59.0,85.0,70.0,77.0,79.0,73.0,70.0,26.0,71.0,64.7,81.0,74.0,82.0,60.5,79.0,77.0,69.0,78.0,83.0,53.5,70.0,70.0,82.5,69.5,63.0,76.0,71.0,76.0,83.0,77.7,80.0,80.0,48.0,74.5,69.0,69.0,85.0,83.5,83.0,76.5,54.0,68.0,53.0,65.0,71.0,81.0,90.3,73.5,58.0,70.5,79.0,66.0,75.0,82.5,76.0,76.5,83.0,87.0,67.0,83.0,78.0,75.0,54.0,73.0,66.0,83.5,73.0,74.5,69.5,54.0,67.3,74.0,66.0,71.0,85.0,59.0,66.5,49.0,68.5,62.0,56.0,52.0,58.7,57.6,58.0,68.0,58.0,80.5,46.5,77.0,52.5,72.0,55.0,58.5,70.2,75.0,67.0,75.0,83.0,67.7,78.7,77.0,83.0,82.0,61.0,70.0,70.5,75.0,73.5,72.0,68.0,82.5,73.0,55.5,62.0,42.0,78.5,61.5,89.0,84.0,60.5,76.5,76.5,81.0,26.0,73.0,74.0,49.7,67.7,70.5,82.0,80.0,81.0,71.0,75.0,64.0,77.0,64.0,74.5,79.0,66.0,71.0,58.0,70.0,70.0,73.3,76.0,65.5,76.0,73.0,56.7,82.0,76.5,75.0,72.0,78.0,64.0,60.0,42.5,79.0,78.5,70.0,43.0,74.5,80.0,47.5,66.0,66.5,75.0,65.0,50.0,69.5,77.0,78.0,78.0,75.0,82.0,78.0,75.0,79.0,48.0,59.8,66.0,83.0,50.0,86.0,82.0,88.0,82.0,85.0,80.0,57.0,58.5,79.0,70.0,75.5,78.0,77.5,25.5,76.0,73.0,61.0,69.0,67.0,72.3,72.0,76.5,77.7,82.0,74.0,79.0,68.0,59.0,60.5,69.0,82.7,46.3,69.0,63.0,76.0,49.0,29.0,59.0,74.0,83.0,73.0,78.5,74.5,60.5,69.0,77.3,69.0,62.0,64.0,76.0,80.5,72.5,69.0,80.0,59.5,72.3,57.0,69.5,61.5,69.0,82.3,77.2,45.5,67.0,70.0,61.5,79.0,73.0,82.5,79.0,68.0,79.7,75.0,49.0,88.0,90.0,56.5,61.0,52.3,59.0,38.3,84.0,82.5,79.5,83.0,82.2,57.0,55.0,72.5,80.0,78.0,76.0,79.7,72.0,71.7,67.7,45.5,74.0,58.0,70.0,71.0,75.0,70.0,81.5,77.0,79.0,86.0,80.0,82.0,87.0,83.0,72.0,82.0,74.0,60.0,52.5,73.0,45.3,68.0,54.0,77.0,76.7,63.0,56.0,69.5,70.0,79.0,84.0,32.0,76.0,69.0,74.0,80.0,73.0,77.5,72.2,73.0,79.0,72.0,75.0,83.0,80.5,76.0,73.0,71.0,50.0],\"type\":\"box\"}],                        {\"template\":{\"data\":{\"bar\":[{\"error_x\":{\"color\":\"#2a3f5f\"},\"error_y\":{\"color\":\"#2a3f5f\"},\"marker\":{\"line\":{\"color\":\"#E5ECF6\",\"width\":0.5},\"pattern\":{\"fillmode\":\"overlay\",\"size\":10,\"solidity\":0.2}},\"type\":\"bar\"}],\"barpolar\":[{\"marker\":{\"line\":{\"color\":\"#E5ECF6\",\"width\":0.5},\"pattern\":{\"fillmode\":\"overlay\",\"size\":10,\"solidity\":0.2}},\"type\":\"barpolar\"}],\"carpet\":[{\"aaxis\":{\"endlinecolor\":\"#2a3f5f\",\"gridcolor\":\"white\",\"linecolor\":\"white\",\"minorgridcolor\":\"white\",\"startlinecolor\":\"#2a3f5f\"},\"baxis\":{\"endlinecolor\":\"#2a3f5f\",\"gridcolor\":\"white\",\"linecolor\":\"white\",\"minorgridcolor\":\"white\",\"startlinecolor\":\"#2a3f5f\"},\"type\":\"carpet\"}],\"choropleth\":[{\"colorbar\":{\"outlinewidth\":0,\"ticks\":\"\"},\"type\":\"choropleth\"}],\"contour\":[{\"colorbar\":{\"outlinewidth\":0,\"ticks\":\"\"},\"colorscale\":[[0.0,\"#0d0887\"],[0.1111111111111111,\"#46039f\"],[0.2222222222222222,\"#7201a8\"],[0.3333333333333333,\"#9c179e\"],[0.4444444444444444,\"#bd3786\"],[0.5555555555555556,\"#d8576b\"],[0.6666666666666666,\"#ed7953\"],[0.7777777777777778,\"#fb9f3a\"],[0.8888888888888888,\"#fdca26\"],[1.0,\"#f0f921\"]],\"type\":\"contour\"}],\"contourcarpet\":[{\"colorbar\":{\"outlinewidth\":0,\"ticks\":\"\"},\"type\":\"contourcarpet\"}],\"heatmap\":[{\"colorbar\":{\"outlinewidth\":0,\"ticks\":\"\"},\"colorscale\":[[0.0,\"#0d0887\"],[0.1111111111111111,\"#46039f\"],[0.2222222222222222,\"#7201a8\"],[0.3333333333333333,\"#9c179e\"],[0.4444444444444444,\"#bd3786\"],[0.5555555555555556,\"#d8576b\"],[0.6666666666666666,\"#ed7953\"],[0.7777777777777778,\"#fb9f3a\"],[0.8888888888888888,\"#fdca26\"],[1.0,\"#f0f921\"]],\"type\":\"heatmap\"}],\"heatmapgl\":[{\"colorbar\":{\"outlinewidth\":0,\"ticks\":\"\"},\"colorscale\":[[0.0,\"#0d0887\"],[0.1111111111111111,\"#46039f\"],[0.2222222222222222,\"#7201a8\"],[0.3333333333333333,\"#9c179e\"],[0.4444444444444444,\"#bd3786\"],[0.5555555555555556,\"#d8576b\"],[0.6666666666666666,\"#ed7953\"],[0.7777777777777778,\"#fb9f3a\"],[0.8888888888888888,\"#fdca26\"],[1.0,\"#f0f921\"]],\"type\":\"heatmapgl\"}],\"histogram\":[{\"marker\":{\"pattern\":{\"fillmode\":\"overlay\",\"size\":10,\"solidity\":0.2}},\"type\":\"histogram\"}],\"histogram2d\":[{\"colorbar\":{\"outlinewidth\":0,\"ticks\":\"\"},\"colorscale\":[[0.0,\"#0d0887\"],[0.1111111111111111,\"#46039f\"],[0.2222222222222222,\"#7201a8\"],[0.3333333333333333,\"#9c179e\"],[0.4444444444444444,\"#bd3786\"],[0.5555555555555556,\"#d8576b\"],[0.6666666666666666,\"#ed7953\"],[0.7777777777777778,\"#fb9f3a\"],[0.8888888888888888,\"#fdca26\"],[1.0,\"#f0f921\"]],\"type\":\"histogram2d\"}],\"histogram2dcontour\":[{\"colorbar\":{\"outlinewidth\":0,\"ticks\":\"\"},\"colorscale\":[[0.0,\"#0d0887\"],[0.1111111111111111,\"#46039f\"],[0.2222222222222222,\"#7201a8\"],[0.3333333333333333,\"#9c179e\"],[0.4444444444444444,\"#bd3786\"],[0.5555555555555556,\"#d8576b\"],[0.6666666666666666,\"#ed7953\"],[0.7777777777777778,\"#fb9f3a\"],[0.8888888888888888,\"#fdca26\"],[1.0,\"#f0f921\"]],\"type\":\"histogram2dcontour\"}],\"mesh3d\":[{\"colorbar\":{\"outlinewidth\":0,\"ticks\":\"\"},\"type\":\"mesh3d\"}],\"parcoords\":[{\"line\":{\"colorbar\":{\"outlinewidth\":0,\"ticks\":\"\"}},\"type\":\"parcoords\"}],\"pie\":[{\"automargin\":true,\"type\":\"pie\"}],\"scatter\":[{\"marker\":{\"colorbar\":{\"outlinewidth\":0,\"ticks\":\"\"}},\"type\":\"scatter\"}],\"scatter3d\":[{\"line\":{\"colorbar\":{\"outlinewidth\":0,\"ticks\":\"\"}},\"marker\":{\"colorbar\":{\"outlinewidth\":0,\"ticks\":\"\"}},\"type\":\"scatter3d\"}],\"scattercarpet\":[{\"marker\":{\"colorbar\":{\"outlinewidth\":0,\"ticks\":\"\"}},\"type\":\"scattercarpet\"}],\"scattergeo\":[{\"marker\":{\"colorbar\":{\"outlinewidth\":0,\"ticks\":\"\"}},\"type\":\"scattergeo\"}],\"scattergl\":[{\"marker\":{\"colorbar\":{\"outlinewidth\":0,\"ticks\":\"\"}},\"type\":\"scattergl\"}],\"scattermapbox\":[{\"marker\":{\"colorbar\":{\"outlinewidth\":0,\"ticks\":\"\"}},\"type\":\"scattermapbox\"}],\"scatterpolar\":[{\"marker\":{\"colorbar\":{\"outlinewidth\":0,\"ticks\":\"\"}},\"type\":\"scatterpolar\"}],\"scatterpolargl\":[{\"marker\":{\"colorbar\":{\"outlinewidth\":0,\"ticks\":\"\"}},\"type\":\"scatterpolargl\"}],\"scatterternary\":[{\"marker\":{\"colorbar\":{\"outlinewidth\":0,\"ticks\":\"\"}},\"type\":\"scatterternary\"}],\"surface\":[{\"colorbar\":{\"outlinewidth\":0,\"ticks\":\"\"},\"colorscale\":[[0.0,\"#0d0887\"],[0.1111111111111111,\"#46039f\"],[0.2222222222222222,\"#7201a8\"],[0.3333333333333333,\"#9c179e\"],[0.4444444444444444,\"#bd3786\"],[0.5555555555555556,\"#d8576b\"],[0.6666666666666666,\"#ed7953\"],[0.7777777777777778,\"#fb9f3a\"],[0.8888888888888888,\"#fdca26\"],[1.0,\"#f0f921\"]],\"type\":\"surface\"}],\"table\":[{\"cells\":{\"fill\":{\"color\":\"#EBF0F8\"},\"line\":{\"color\":\"white\"}},\"header\":{\"fill\":{\"color\":\"#C8D4E3\"},\"line\":{\"color\":\"white\"}},\"type\":\"table\"}]},\"layout\":{\"annotationdefaults\":{\"arrowcolor\":\"#2a3f5f\",\"arrowhead\":0,\"arrowwidth\":1},\"autotypenumbers\":\"strict\",\"coloraxis\":{\"colorbar\":{\"outlinewidth\":0,\"ticks\":\"\"}},\"colorscale\":{\"diverging\":[[0,\"#8e0152\"],[0.1,\"#c51b7d\"],[0.2,\"#de77ae\"],[0.3,\"#f1b6da\"],[0.4,\"#fde0ef\"],[0.5,\"#f7f7f7\"],[0.6,\"#e6f5d0\"],[0.7,\"#b8e186\"],[0.8,\"#7fbc41\"],[0.9,\"#4d9221\"],[1,\"#276419\"]],\"sequential\":[[0.0,\"#0d0887\"],[0.1111111111111111,\"#46039f\"],[0.2222222222222222,\"#7201a8\"],[0.3333333333333333,\"#9c179e\"],[0.4444444444444444,\"#bd3786\"],[0.5555555555555556,\"#d8576b\"],[0.6666666666666666,\"#ed7953\"],[0.7777777777777778,\"#fb9f3a\"],[0.8888888888888888,\"#fdca26\"],[1.0,\"#f0f921\"]],\"sequentialminus\":[[0.0,\"#0d0887\"],[0.1111111111111111,\"#46039f\"],[0.2222222222222222,\"#7201a8\"],[0.3333333333333333,\"#9c179e\"],[0.4444444444444444,\"#bd3786\"],[0.5555555555555556,\"#d8576b\"],[0.6666666666666666,\"#ed7953\"],[0.7777777777777778,\"#fb9f3a\"],[0.8888888888888888,\"#fdca26\"],[1.0,\"#f0f921\"]]},\"colorway\":[\"#636efa\",\"#EF553B\",\"#00cc96\",\"#ab63fa\",\"#FFA15A\",\"#19d3f3\",\"#FF6692\",\"#B6E880\",\"#FF97FF\",\"#FECB52\"],\"font\":{\"color\":\"#2a3f5f\"},\"geo\":{\"bgcolor\":\"white\",\"lakecolor\":\"white\",\"landcolor\":\"#E5ECF6\",\"showlakes\":true,\"showland\":true,\"subunitcolor\":\"white\"},\"hoverlabel\":{\"align\":\"left\"},\"hovermode\":\"closest\",\"mapbox\":{\"style\":\"light\"},\"paper_bgcolor\":\"white\",\"plot_bgcolor\":\"#E5ECF6\",\"polar\":{\"angularaxis\":{\"gridcolor\":\"white\",\"linecolor\":\"white\",\"ticks\":\"\"},\"bgcolor\":\"#E5ECF6\",\"radialaxis\":{\"gridcolor\":\"white\",\"linecolor\":\"white\",\"ticks\":\"\"}},\"scene\":{\"xaxis\":{\"backgroundcolor\":\"#E5ECF6\",\"gridcolor\":\"white\",\"gridwidth\":2,\"linecolor\":\"white\",\"showbackground\":true,\"ticks\":\"\",\"zerolinecolor\":\"white\"},\"yaxis\":{\"backgroundcolor\":\"#E5ECF6\",\"gridcolor\":\"white\",\"gridwidth\":2,\"linecolor\":\"white\",\"showbackground\":true,\"ticks\":\"\",\"zerolinecolor\":\"white\"},\"zaxis\":{\"backgroundcolor\":\"#E5ECF6\",\"gridcolor\":\"white\",\"gridwidth\":2,\"linecolor\":\"white\",\"showbackground\":true,\"ticks\":\"\",\"zerolinecolor\":\"white\"}},\"shapedefaults\":{\"line\":{\"color\":\"#2a3f5f\"}},\"ternary\":{\"aaxis\":{\"gridcolor\":\"white\",\"linecolor\":\"white\",\"ticks\":\"\"},\"baxis\":{\"gridcolor\":\"white\",\"linecolor\":\"white\",\"ticks\":\"\"},\"bgcolor\":\"#E5ECF6\",\"caxis\":{\"gridcolor\":\"white\",\"linecolor\":\"white\",\"ticks\":\"\"}},\"title\":{\"x\":0.05},\"xaxis\":{\"automargin\":true,\"gridcolor\":\"white\",\"linecolor\":\"white\",\"ticks\":\"\",\"title\":{\"standoff\":15},\"zerolinecolor\":\"white\",\"zerolinewidth\":2},\"yaxis\":{\"automargin\":true,\"gridcolor\":\"white\",\"linecolor\":\"white\",\"ticks\":\"\",\"title\":{\"standoff\":15},\"zerolinecolor\":\"white\",\"zerolinewidth\":2}}},\"yaxis\":{\"title\":{\"text\":\"\\u0420\\u0430\\u0441\\u043f\\u0440\\u0435\\u0434\\u0435\\u043b\\u0435\\u043d\\u0438\\u0435 \\u0441\\u0440\\u0435\\u0434\\u043d\\u0438\\u0445 \\u043e\\u0446\\u0435\\u043d\\u043e\\u043a\"}}},                        {\"responsive\": true}                    ).then(function(){\n",
              "                            \n",
              "var gd = document.getElementById('97945f09-2f40-47f1-9ac7-3cc1c9823748');\n",
              "var x = new MutationObserver(function (mutations, observer) {{\n",
              "        var display = window.getComputedStyle(gd).display;\n",
              "        if (!display || display === 'none') {{\n",
              "            console.log([gd, 'removed!']);\n",
              "            Plotly.purge(gd);\n",
              "            observer.disconnect();\n",
              "        }}\n",
              "}});\n",
              "\n",
              "// Listen for the removal of the full notebook cells\n",
              "var notebookContainer = gd.closest('#notebook-container');\n",
              "if (notebookContainer) {{\n",
              "    x.observe(notebookContainer, {childList: true});\n",
              "}}\n",
              "\n",
              "// Listen for the clearing of the current output cell\n",
              "var outputEl = gd.closest('.output');\n",
              "if (outputEl) {{\n",
              "    x.observe(outputEl, {childList: true});\n",
              "}}\n",
              "\n",
              "                        })                };                            </script>        </div>\n",
              "</body>\n",
              "</html>"
            ]
          },
          "metadata": {}
        }
      ]
    },
    {
      "cell_type": "markdown",
      "source": [
        "Сравнение распределений оценок"
      ],
      "metadata": {
        "id": "_mlUS-68GVIT"
      }
    },
    {
      "cell_type": "code",
      "source": [
        "df['meta_score'].plot(kind = 'hist', \n",
        "                     alpha = 0.5,\n",
        "                     bins = 30,\n",
        "                     density = True,\n",
        "                     label = 'Meta score', \n",
        "                     color = 'lightseagreen')\n",
        "\n",
        "\n",
        "df['user_score'].plot(kind = 'hist', \n",
        "                     alpha = 0.5,\n",
        "                     bins = 30,\n",
        "                     density = True,\n",
        "                     label = 'User score',\n",
        "                     color = 'blue')\n",
        "plt.legend(loc = 'upper right')\n",
        "plt.title('Сравнение распределений оценок видеоигр')"
      ],
      "metadata": {
        "colab": {
          "base_uri": "https://localhost:8080/",
          "height": 461
        },
        "id": "atT5RfYqFi2x",
        "outputId": "72191599-080b-4e56-ece7-00ea4b692e61"
      },
      "execution_count": null,
      "outputs": [
        {
          "output_type": "execute_result",
          "data": {
            "text/plain": [
              "Text(0.5, 1.0, 'Сравнение распределений оценок видеоигр')"
            ]
          },
          "metadata": {},
          "execution_count": 28
        },
        {
          "output_type": "display_data",
          "data": {
            "text/plain": [
              "<Figure size 792x504 with 1 Axes>"
            ],
            "image/png": "[encoded data removed]"
          },
          "metadata": {
            "needs_background": "light"
          }
        }
      ]
    },
    {
      "cell_type": "markdown",
      "source": [
        "## Статистика оценок."
      ],
      "metadata": {
        "id": "4lDCB0cQGZP6"
      }
    },
    {
      "cell_type": "markdown",
      "source": [
        "### Топ-10 видеоигр по оценкам критиков."
      ],
      "metadata": {
        "id": "tWhHKvLRIx_6"
      }
    },
    {
      "cell_type": "code",
      "source": [
        "crit = df[['game_name', 'meta_score']].sort_values(\n",
        "    'meta_score', ascending = False).iloc[0:10].set_index('game_name')"
      ],
      "metadata": {
        "id": "KPCfGil1sJj6"
      },
      "execution_count": null,
      "outputs": []
    },
    {
      "cell_type": "code",
      "source": [
        "crit.style.background_gradient(cmap = 'PuBu', subset = 'meta_score')"
      ],
      "metadata": {
        "colab": {
          "base_uri": "https://localhost:8080/",
          "height": 394
        },
        "id": "SJ6OHi9IDslh",
        "outputId": "33d89ae7-7dde-4122-fa21-797c6c308694"
      },
      "execution_count": null,
      "outputs": [
        {
          "output_type": "execute_result",
          "data": {
            "text/plain": [
              "<pandas.io.formats.style.Styler at 0x7f7fd7a99d10>"
            ],
            "text/html": [
              "<style type=\"text/css\">\n",
              "#T_90e30_row0_col0 {\n",
              "  background-color: #023858;\n",
              "  color: #f1f1f1;\n",
              "}\n",
              "#T_90e30_row1_col0, #T_90e30_row2_col0, #T_90e30_row3_col0, #T_90e30_row4_col0, #T_90e30_row5_col0, #T_90e30_row6_col0, #T_90e30_row7_col0 {\n",
              "  background-color: #dbdaeb;\n",
              "  color: #000000;\n",
              "}\n",
              "#T_90e30_row8_col0 {\n",
              "  background-color: #ede8f3;\n",
              "  color: #000000;\n",
              "}\n",
              "#T_90e30_row9_col0 {\n",
              "  background-color: #fff7fb;\n",
              "  color: #000000;\n",
              "}\n",
              "</style>\n",
              "<table id=\"T_90e30_\" class=\"dataframe\">\n",
              "  <thead>\n",
              "    <tr>\n",
              "      <th class=\"blank level0\" >&nbsp;</th>\n",
              "      <th class=\"col_heading level0 col0\" >meta_score</th>\n",
              "    </tr>\n",
              "    <tr>\n",
              "      <th class=\"index_name level0\" >game_name</th>\n",
              "      <th class=\"blank col0\" >&nbsp;</th>\n",
              "    </tr>\n",
              "  </thead>\n",
              "  <tbody>\n",
              "    <tr>\n",
              "      <th id=\"T_90e30_level0_row0\" class=\"row_heading level0 row0\" >The Legend of Zelda: Ocarina of Time</th>\n",
              "      <td id=\"T_90e30_row0_col0\" class=\"data row0 col0\" >99.000000</td>\n",
              "    </tr>\n",
              "    <tr>\n",
              "      <th id=\"T_90e30_level0_row1\" class=\"row_heading level0 row1\" >Super Mario Galaxy 2</th>\n",
              "      <td id=\"T_90e30_row1_col0\" class=\"data row1 col0\" >97.000000</td>\n",
              "    </tr>\n",
              "    <tr>\n",
              "      <th id=\"T_90e30_level0_row2\" class=\"row_heading level0 row2\" >Metroid Prime</th>\n",
              "      <td id=\"T_90e30_row2_col0\" class=\"data row2 col0\" >97.000000</td>\n",
              "    </tr>\n",
              "    <tr>\n",
              "      <th id=\"T_90e30_level0_row3\" class=\"row_heading level0 row3\" >Super Mario Odyssey</th>\n",
              "      <td id=\"T_90e30_row3_col0\" class=\"data row3 col0\" >97.000000</td>\n",
              "    </tr>\n",
              "    <tr>\n",
              "      <th id=\"T_90e30_level0_row4\" class=\"row_heading level0 row4\" >Halo: Combat Evolved</th>\n",
              "      <td id=\"T_90e30_row4_col0\" class=\"data row4 col0\" >97.000000</td>\n",
              "    </tr>\n",
              "    <tr>\n",
              "      <th id=\"T_90e30_level0_row5\" class=\"row_heading level0 row5\" >The House in Fata Morgana - Dreams of the Revenants Edition -</th>\n",
              "      <td id=\"T_90e30_row5_col0\" class=\"data row5 col0\" >97.000000</td>\n",
              "    </tr>\n",
              "    <tr>\n",
              "      <th id=\"T_90e30_level0_row6\" class=\"row_heading level0 row6\" >NFL 2K1</th>\n",
              "      <td id=\"T_90e30_row6_col0\" class=\"data row6 col0\" >97.000000</td>\n",
              "    </tr>\n",
              "    <tr>\n",
              "      <th id=\"T_90e30_level0_row7\" class=\"row_heading level0 row7\" >Super Mario Galaxy</th>\n",
              "      <td id=\"T_90e30_row7_col0\" class=\"data row7 col0\" >97.000000</td>\n",
              "    </tr>\n",
              "    <tr>\n",
              "      <th id=\"T_90e30_level0_row8\" class=\"row_heading level0 row8\" >Grand Theft Auto V</th>\n",
              "      <td id=\"T_90e30_row8_col0\" class=\"data row8 col0\" >96.800000</td>\n",
              "    </tr>\n",
              "    <tr>\n",
              "      <th id=\"T_90e30_level0_row9\" class=\"row_heading level0 row9\" >The Legend of Zelda: Breath of the Wild</th>\n",
              "      <td id=\"T_90e30_row9_col0\" class=\"data row9 col0\" >96.500000</td>\n",
              "    </tr>\n",
              "  </tbody>\n",
              "</table>\n"
            ]
          },
          "metadata": {},
          "execution_count": 30
        }
      ]
    },
    {
      "cell_type": "markdown",
      "source": [
        "### Топ-10 видеоигр по оценкам пользователей."
      ],
      "metadata": {
        "id": "rBhWlctBI8x6"
      }
    },
    {
      "cell_type": "code",
      "source": [
        "user = df[['game_name', 'user_score']].sort_values(\n",
        "    'user_score', ascending = False).iloc[0:10].set_index('game_name')"
      ],
      "metadata": {
        "id": "aRZ4ZnvqI8x7"
      },
      "execution_count": null,
      "outputs": []
    },
    {
      "cell_type": "code",
      "source": [
        "user.style.background_gradient(cmap = 'PuBu', subset = 'user_score')"
      ],
      "metadata": {
        "colab": {
          "base_uri": "https://localhost:8080/",
          "height": 394
        },
        "id": "okDEHoBWFU0c",
        "outputId": "d7c4461d-6e7f-47df-a12c-7cc1c1270c39"
      },
      "execution_count": null,
      "outputs": [
        {
          "output_type": "execute_result",
          "data": {
            "text/plain": [
              "<pandas.io.formats.style.Styler at 0x7f7fd7263110>"
            ],
            "text/html": [
              "<style type=\"text/css\">\n",
              "#T_fcb94_row0_col0 {\n",
              "  background-color: #023858;\n",
              "  color: #f1f1f1;\n",
              "}\n",
              "#T_fcb94_row1_col0, #T_fcb94_row2_col0 {\n",
              "  background-color: #046198;\n",
              "  color: #f1f1f1;\n",
              "}\n",
              "#T_fcb94_row3_col0 {\n",
              "  background-color: #eee8f3;\n",
              "  color: #000000;\n",
              "}\n",
              "#T_fcb94_row4_col0, #T_fcb94_row5_col0, #T_fcb94_row6_col0, #T_fcb94_row7_col0, #T_fcb94_row8_col0, #T_fcb94_row9_col0 {\n",
              "  background-color: #fff7fb;\n",
              "  color: #000000;\n",
              "}\n",
              "</style>\n",
              "<table id=\"T_fcb94_\" class=\"dataframe\">\n",
              "  <thead>\n",
              "    <tr>\n",
              "      <th class=\"blank level0\" >&nbsp;</th>\n",
              "      <th class=\"col_heading level0 col0\" >user_score</th>\n",
              "    </tr>\n",
              "    <tr>\n",
              "      <th class=\"index_name level0\" >game_name</th>\n",
              "      <th class=\"blank col0\" >&nbsp;</th>\n",
              "    </tr>\n",
              "  </thead>\n",
              "  <tbody>\n",
              "    <tr>\n",
              "      <th id=\"T_fcb94_level0_row0\" class=\"row_heading level0 row0\" >After Burner Climax</th>\n",
              "      <td id=\"T_fcb94_row0_col0\" class=\"data row0 col0\" >98.000000</td>\n",
              "    </tr>\n",
              "    <tr>\n",
              "      <th id=\"T_fcb94_level0_row1\" class=\"row_heading level0 row1\" >GrimGrimoire</th>\n",
              "      <td id=\"T_fcb94_row1_col0\" class=\"data row1 col0\" >97.000000</td>\n",
              "    </tr>\n",
              "    <tr>\n",
              "      <th id=\"T_fcb94_level0_row2\" class=\"row_heading level0 row2\" >Metal Torrent</th>\n",
              "      <td id=\"T_fcb94_row2_col0\" class=\"data row2 col0\" >97.000000</td>\n",
              "    </tr>\n",
              "    <tr>\n",
              "      <th id=\"T_fcb94_level0_row3\" class=\"row_heading level0 row3\" >The Witcher 3: Wild Hunt</th>\n",
              "      <td id=\"T_fcb94_row3_col0\" class=\"data row3 col0\" >92.700000</td>\n",
              "    </tr>\n",
              "    <tr>\n",
              "      <th id=\"T_fcb94_level0_row4\" class=\"row_heading level0 row4\" >Suikoden II</th>\n",
              "      <td id=\"T_fcb94_row4_col0\" class=\"data row4 col0\" >92.000000</td>\n",
              "    </tr>\n",
              "    <tr>\n",
              "      <th id=\"T_fcb94_level0_row5\" class=\"row_heading level0 row5\" >Half-Life: Alyx</th>\n",
              "      <td id=\"T_fcb94_row5_col0\" class=\"data row5 col0\" >92.000000</td>\n",
              "    </tr>\n",
              "    <tr>\n",
              "      <th id=\"T_fcb94_level0_row6\" class=\"row_heading level0 row6\" >Warcraft III: The Frozen Throne</th>\n",
              "      <td id=\"T_fcb94_row6_col0\" class=\"data row6 col0\" >92.000000</td>\n",
              "    </tr>\n",
              "    <tr>\n",
              "      <th id=\"T_fcb94_level0_row7\" class=\"row_heading level0 row7\" >The Last of Us Remastered</th>\n",
              "      <td id=\"T_fcb94_row7_col0\" class=\"data row7 col0\" >92.000000</td>\n",
              "    </tr>\n",
              "    <tr>\n",
              "      <th id=\"T_fcb94_level0_row8\" class=\"row_heading level0 row8\" >Resident Evil (2002)</th>\n",
              "      <td id=\"T_fcb94_row8_col0\" class=\"data row8 col0\" >92.000000</td>\n",
              "    </tr>\n",
              "    <tr>\n",
              "      <th id=\"T_fcb94_level0_row9\" class=\"row_heading level0 row9\" >Xenogears</th>\n",
              "      <td id=\"T_fcb94_row9_col0\" class=\"data row9 col0\" >92.000000</td>\n",
              "    </tr>\n",
              "  </tbody>\n",
              "</table>\n"
            ]
          },
          "metadata": {},
          "execution_count": 32
        }
      ]
    },
    {
      "cell_type": "markdown",
      "source": [
        "Ни одна игра не попала в 10 лучших по мнению одновременно и критиков, и пользователей."
      ],
      "metadata": {
        "id": "PYT5YwRLKAbS"
      }
    },
    {
      "cell_type": "markdown",
      "source": [
        "### Топ-10 разработчиков по среднему арифметическому средних оценок их проектов среди критиков."
      ],
      "metadata": {
        "id": "RKJRYP-GIsU6"
      }
    },
    {
      "cell_type": "code",
      "source": [
        "topcdev = df[['developer', 'meta_score']].groupby(\n",
        "    'developer').mean().sort_values('meta_score', ascending = False).iloc[0:10]"
      ],
      "metadata": {
        "id": "lAiFPgZYVH50"
      },
      "execution_count": null,
      "outputs": []
    },
    {
      "cell_type": "code",
      "source": [
        "topcount = df[['developer', 'game_name']].groupby(\n",
        "    'developer').count().sort_values('game_name', ascending = False)"
      ],
      "metadata": {
        "id": "2eXCACNMGkrL"
      },
      "execution_count": null,
      "outputs": []
    },
    {
      "cell_type": "code",
      "source": [
        "topcritdev = topcdev.merge(\n",
        "    topcount,\n",
        "    left_on = 'developer',\n",
        "    right_on = 'developer',\n",
        "    how = 'left'\n",
        ")"
      ],
      "metadata": {
        "id": "QgjPAftGHam_"
      },
      "execution_count": null,
      "outputs": []
    },
    {
      "cell_type": "code",
      "source": [
        "topcritdev.style.background_gradient(cmap = 'PuBu')"
      ],
      "metadata": {
        "colab": {
          "base_uri": "https://localhost:8080/",
          "height": 394
        },
        "id": "iHlPspFjIcwL",
        "outputId": "ae17e1b1-26f6-4862-f4da-0f8269267618"
      },
      "execution_count": null,
      "outputs": [
        {
          "output_type": "execute_result",
          "data": {
            "text/plain": [
              "<pandas.io.formats.style.Styler at 0x7f7fd7263490>"
            ],
            "text/html": [
              "<style type=\"text/css\">\n",
              "#T_acd5d_row0_col0, #T_acd5d_row7_col1 {\n",
              "  background-color: #023858;\n",
              "  color: #f1f1f1;\n",
              "}\n",
              "#T_acd5d_row0_col1, #T_acd5d_row1_col1, #T_acd5d_row2_col1, #T_acd5d_row3_col1, #T_acd5d_row4_col1, #T_acd5d_row5_col1, #T_acd5d_row6_col1, #T_acd5d_row8_col1, #T_acd5d_row9_col0, #T_acd5d_row9_col1 {\n",
              "  background-color: #fff7fb;\n",
              "  color: #000000;\n",
              "}\n",
              "#T_acd5d_row1_col0 {\n",
              "  background-color: #1b7eb7;\n",
              "  color: #f1f1f1;\n",
              "}\n",
              "#T_acd5d_row2_col0, #T_acd5d_row3_col0 {\n",
              "  background-color: #62a2cb;\n",
              "  color: #f1f1f1;\n",
              "}\n",
              "#T_acd5d_row4_col0 {\n",
              "  background-color: #c5cce3;\n",
              "  color: #000000;\n",
              "}\n",
              "#T_acd5d_row5_col0, #T_acd5d_row6_col0 {\n",
              "  background-color: #d4d4e8;\n",
              "  color: #000000;\n",
              "}\n",
              "#T_acd5d_row7_col0 {\n",
              "  background-color: #eee8f3;\n",
              "  color: #000000;\n",
              "}\n",
              "#T_acd5d_row8_col0 {\n",
              "  background-color: #f4edf6;\n",
              "  color: #000000;\n",
              "}\n",
              "</style>\n",
              "<table id=\"T_acd5d_\" class=\"dataframe\">\n",
              "  <thead>\n",
              "    <tr>\n",
              "      <th class=\"blank level0\" >&nbsp;</th>\n",
              "      <th class=\"col_heading level0 col0\" >meta_score</th>\n",
              "      <th class=\"col_heading level0 col1\" >game_name</th>\n",
              "    </tr>\n",
              "    <tr>\n",
              "      <th class=\"index_name level0\" >developer</th>\n",
              "      <th class=\"blank col0\" >&nbsp;</th>\n",
              "      <th class=\"blank col1\" >&nbsp;</th>\n",
              "    </tr>\n",
              "  </thead>\n",
              "  <tbody>\n",
              "    <tr>\n",
              "      <th id=\"T_acd5d_level0_row0\" class=\"row_heading level0 row0\" >HuneX</th>\n",
              "      <td id=\"T_acd5d_row0_col0\" class=\"data row0 col0\" >97.000000</td>\n",
              "      <td id=\"T_acd5d_row0_col1\" class=\"data row0 col1\" >1</td>\n",
              "    </tr>\n",
              "    <tr>\n",
              "      <th id=\"T_acd5d_level0_row1\" class=\"row_heading level0 row1\" >Monstars Inc.</th>\n",
              "      <td id=\"T_acd5d_row1_col0\" class=\"data row1 col0\" >95.000000</td>\n",
              "      <td id=\"T_acd5d_row1_col1\" class=\"data row1 col1\" >1</td>\n",
              "    </tr>\n",
              "    <tr>\n",
              "      <th id=\"T_acd5d_level0_row2\" class=\"row_heading level0 row2\" >MPS Labs</th>\n",
              "      <td id=\"T_acd5d_row2_col0\" class=\"data row2 col0\" >94.000000</td>\n",
              "      <td id=\"T_acd5d_row2_col1\" class=\"data row2 col1\" >1</td>\n",
              "    </tr>\n",
              "    <tr>\n",
              "      <th id=\"T_acd5d_level0_row3\" class=\"row_heading level0 row3\" >NexTech</th>\n",
              "      <td id=\"T_acd5d_row3_col0\" class=\"data row3 col0\" >94.000000</td>\n",
              "      <td id=\"T_acd5d_row3_col1\" class=\"data row3 col1\" >1</td>\n",
              "    </tr>\n",
              "    <tr>\n",
              "      <th id=\"T_acd5d_level0_row4\" class=\"row_heading level0 row4\" >tobyfox</th>\n",
              "      <td id=\"T_acd5d_row4_col0\" class=\"data row4 col0\" >92.330000</td>\n",
              "      <td id=\"T_acd5d_row4_col1\" class=\"data row4 col1\" >1</td>\n",
              "    </tr>\n",
              "    <tr>\n",
              "      <th id=\"T_acd5d_level0_row5\" class=\"row_heading level0 row5\" >Number None Inc.</th>\n",
              "      <td id=\"T_acd5d_row5_col0\" class=\"data row5 col0\" >92.000000</td>\n",
              "      <td id=\"T_acd5d_row5_col1\" class=\"data row5 col1\" >1</td>\n",
              "    </tr>\n",
              "    <tr>\n",
              "      <th id=\"T_acd5d_level0_row6\" class=\"row_heading level0 row6\" >Tricky Pixels</th>\n",
              "      <td id=\"T_acd5d_row6_col0\" class=\"data row6 col0\" >92.000000</td>\n",
              "      <td id=\"T_acd5d_row6_col1\" class=\"data row6 col1\" >1</td>\n",
              "    </tr>\n",
              "    <tr>\n",
              "      <th id=\"T_acd5d_level0_row7\" class=\"row_heading level0 row7\" >ZA/UM</th>\n",
              "      <td id=\"T_acd5d_row7_col0\" class=\"data row7 col0\" >91.250000</td>\n",
              "      <td id=\"T_acd5d_row7_col1\" class=\"data row7 col1\" >2</td>\n",
              "    </tr>\n",
              "    <tr>\n",
              "      <th id=\"T_acd5d_level0_row8\" class=\"row_heading level0 row8\" >Wube Software LTD.</th>\n",
              "      <td id=\"T_acd5d_row8_col0\" class=\"data row8 col0\" >91.000000</td>\n",
              "      <td id=\"T_acd5d_row8_col1\" class=\"data row8 col1\" >1</td>\n",
              "    </tr>\n",
              "    <tr>\n",
              "      <th id=\"T_acd5d_level0_row9\" class=\"row_heading level0 row9\" >Polytron Corp.</th>\n",
              "      <td id=\"T_acd5d_row9_col0\" class=\"data row9 col0\" >90.500000</td>\n",
              "      <td id=\"T_acd5d_row9_col1\" class=\"data row9 col1\" >1</td>\n",
              "    </tr>\n",
              "  </tbody>\n",
              "</table>\n"
            ]
          },
          "metadata": {},
          "execution_count": 36
        }
      ]
    },
    {
      "cell_type": "markdown",
      "source": [
        "### Топ-10 разработчиков по среднему арифметическому средних оценок их проектов среди пользователей."
      ],
      "metadata": {
        "id": "rLjzcxA2JIIw"
      }
    },
    {
      "cell_type": "code",
      "source": [
        "topudev = df[['developer', 'user_score']].groupby(\n",
        "    'developer').mean().sort_values('user_score', ascending = False).iloc[0:10]"
      ],
      "metadata": {
        "id": "k1J_za2-W-Lj"
      },
      "execution_count": null,
      "outputs": []
    },
    {
      "cell_type": "code",
      "source": [
        "topuserdev = topudev.merge(\n",
        "    topcount,\n",
        "    left_on = 'developer',\n",
        "    right_on = 'developer',\n",
        "    how = 'left'\n",
        ")"
      ],
      "metadata": {
        "id": "_kyp-q5PJsLV"
      },
      "execution_count": null,
      "outputs": []
    },
    {
      "cell_type": "code",
      "source": [
        "topuserdev.style.background_gradient(cmap = 'PuBu')"
      ],
      "metadata": {
        "colab": {
          "base_uri": "https://localhost:8080/",
          "height": 394
        },
        "id": "HbeCNcK0JzIA",
        "outputId": "26e46703-5689-4cee-bc8a-3e838eb5835a"
      },
      "execution_count": null,
      "outputs": [
        {
          "output_type": "execute_result",
          "data": {
            "text/plain": [
              "<pandas.io.formats.style.Styler at 0x7f7fd72d1190>"
            ],
            "text/html": [
              "<style type=\"text/css\">\n",
              "#T_adaff_row0_col0, #T_adaff_row1_col0, #T_adaff_row6_col1 {\n",
              "  background-color: #023858;\n",
              "  color: #f1f1f1;\n",
              "}\n",
              "#T_adaff_row0_col1, #T_adaff_row2_col1, #T_adaff_row3_col1, #T_adaff_row4_col1, #T_adaff_row5_col1, #T_adaff_row7_col1, #T_adaff_row8_col1, #T_adaff_row9_col0 {\n",
              "  background-color: #fff7fb;\n",
              "  color: #000000;\n",
              "}\n",
              "#T_adaff_row1_col1, #T_adaff_row3_col0, #T_adaff_row4_col0, #T_adaff_row9_col1 {\n",
              "  background-color: #73a9cf;\n",
              "  color: #f1f1f1;\n",
              "}\n",
              "#T_adaff_row2_col0 {\n",
              "  background-color: #046198;\n",
              "  color: #f1f1f1;\n",
              "}\n",
              "#T_adaff_row5_col0, #T_adaff_row6_col0, #T_adaff_row7_col0, #T_adaff_row8_col0 {\n",
              "  background-color: #e3e0ee;\n",
              "  color: #000000;\n",
              "}\n",
              "</style>\n",
              "<table id=\"T_adaff_\" class=\"dataframe\">\n",
              "  <thead>\n",
              "    <tr>\n",
              "      <th class=\"blank level0\" >&nbsp;</th>\n",
              "      <th class=\"col_heading level0 col0\" >user_score</th>\n",
              "      <th class=\"col_heading level0 col1\" >game_name</th>\n",
              "    </tr>\n",
              "    <tr>\n",
              "      <th class=\"index_name level0\" >developer</th>\n",
              "      <th class=\"blank col0\" >&nbsp;</th>\n",
              "      <th class=\"blank col1\" >&nbsp;</th>\n",
              "    </tr>\n",
              "  </thead>\n",
              "  <tbody>\n",
              "    <tr>\n",
              "      <th id=\"T_adaff_level0_row0\" class=\"row_heading level0 row0\" >historia Inc</th>\n",
              "      <td id=\"T_adaff_row0_col0\" class=\"data row0 col0\" >91.500000</td>\n",
              "      <td id=\"T_adaff_row0_col1\" class=\"data row0 col1\" >1</td>\n",
              "    </tr>\n",
              "    <tr>\n",
              "      <th id=\"T_adaff_level0_row1\" class=\"row_heading level0 row1\" >Vanilla Ware</th>\n",
              "      <td id=\"T_adaff_row1_col0\" class=\"data row1 col0\" >91.500000</td>\n",
              "      <td id=\"T_adaff_row1_col1\" class=\"data row1 col1\" >2</td>\n",
              "    </tr>\n",
              "    <tr>\n",
              "      <th id=\"T_adaff_level0_row2\" class=\"row_heading level0 row2\" >Wube Software LTD.</th>\n",
              "      <td id=\"T_adaff_row2_col0\" class=\"data row2 col0\" >91.000000</td>\n",
              "      <td id=\"T_adaff_row2_col1\" class=\"data row2 col1\" >1</td>\n",
              "    </tr>\n",
              "    <tr>\n",
              "      <th id=\"T_adaff_level0_row3\" class=\"row_heading level0 row3\" >SimTex</th>\n",
              "      <td id=\"T_adaff_row3_col0\" class=\"data row3 col0\" >90.000000</td>\n",
              "      <td id=\"T_adaff_row3_col1\" class=\"data row3 col1\" >1</td>\n",
              "    </tr>\n",
              "    <tr>\n",
              "      <th id=\"T_adaff_level0_row4\" class=\"row_heading level0 row4\" >Team Cherry</th>\n",
              "      <td id=\"T_adaff_row4_col0\" class=\"data row4 col0\" >90.000000</td>\n",
              "      <td id=\"T_adaff_row4_col1\" class=\"data row4 col1\" >1</td>\n",
              "    </tr>\n",
              "    <tr>\n",
              "      <th id=\"T_adaff_level0_row5\" class=\"row_heading level0 row5\" >Capcom R&D Division 1</th>\n",
              "      <td id=\"T_adaff_row5_col0\" class=\"data row5 col0\" >89.000000</td>\n",
              "      <td id=\"T_adaff_row5_col1\" class=\"data row5 col1\" >1</td>\n",
              "    </tr>\n",
              "    <tr>\n",
              "      <th id=\"T_adaff_level0_row6\" class=\"row_heading level0 row6\" >Looking Glass Studios</th>\n",
              "      <td id=\"T_adaff_row6_col0\" class=\"data row6 col0\" >89.000000</td>\n",
              "      <td id=\"T_adaff_row6_col1\" class=\"data row6 col1\" >3</td>\n",
              "    </tr>\n",
              "    <tr>\n",
              "      <th id=\"T_adaff_level0_row7\" class=\"row_heading level0 row7\" >Black Mesa Modification Team</th>\n",
              "      <td id=\"T_adaff_row7_col0\" class=\"data row7 col0\" >89.000000</td>\n",
              "      <td id=\"T_adaff_row7_col1\" class=\"data row7 col1\" >1</td>\n",
              "    </tr>\n",
              "    <tr>\n",
              "      <th id=\"T_adaff_level0_row8\" class=\"row_heading level0 row8\" >Creature Labs</th>\n",
              "      <td id=\"T_adaff_row8_col0\" class=\"data row8 col0\" >89.000000</td>\n",
              "      <td id=\"T_adaff_row8_col1\" class=\"data row8 col1\" >1</td>\n",
              "    </tr>\n",
              "    <tr>\n",
              "      <th id=\"T_adaff_level0_row9\" class=\"row_heading level0 row9\" >Quest</th>\n",
              "      <td id=\"T_adaff_row9_col0\" class=\"data row9 col0\" >88.500000</td>\n",
              "      <td id=\"T_adaff_row9_col1\" class=\"data row9 col1\" >2</td>\n",
              "    </tr>\n",
              "  </tbody>\n",
              "</table>\n"
            ]
          },
          "metadata": {},
          "execution_count": 39
        }
      ]
    },
    {
      "cell_type": "markdown",
      "source": [
        "Только одна студия попала в оба списка - \"Wube Software LTD.\".\n",
        "\n",
        "Интересно, что и критики, и пользователи были единодушны - результат по обеим категориям составляет 91 балл."
      ],
      "metadata": {
        "id": "N43uJz1RXhML"
      }
    },
    {
      "cell_type": "markdown",
      "source": [
        "## Статистика игровых платформ."
      ],
      "metadata": {
        "id": "wt3bzkPKRV3d"
      }
    },
    {
      "cell_type": "markdown",
      "source": [
        "Определим, для каких платформ и в каком объёме выпускаются видеоигры.\n",
        "\n",
        "Так как для каждого игрового тайтла данные по игровым платформам были объединены, нужно будет разбить их обратно."
      ],
      "metadata": {
        "id": "eJF1gMVuRhjF"
      }
    },
    {
      "cell_type": "code",
      "source": [
        "df.platform = df.platform.str.replace('\\'', '', regex = False) \\\n",
        ".str.strip('[]')"
      ],
      "metadata": {
        "id": "0IDwj3vthnDz"
      },
      "execution_count": null,
      "outputs": []
    },
    {
      "cell_type": "code",
      "source": [
        "plat = df[['game_name', 'platform']]\n",
        "plat.tail()"
      ],
      "metadata": {
        "colab": {
          "base_uri": "https://localhost:8080/",
          "height": 206
        },
        "outputId": "313d87ec-6121-4601-c592-10a83ee6cf18",
        "id": "8a3z0Q7Mw28D"
      },
      "execution_count": null,
      "outputs": [
        {
          "output_type": "execute_result",
          "data": {
            "text/plain": [
              "           game_name             platform\n",
              "8826     kill.switch  xbox, playstation-2\n",
              "8827          nail'd                   pc\n",
              "8828  oOo: Ascension             xbox-one\n",
              "8829    uDraw Studio                  wii\n",
              "8830             xXx     game-boy-advance"
            ],
            "text/html": [
              "\n",
              "  <div id=\"df-9d1ee709-028e-4a39-a41a-d9dafc84b150\">\n",
              "    <div class=\"colab-df-container\">\n",
              "      <div>\n",
              "<style scoped>\n",
              "    .dataframe tbody tr th:only-of-type {\n",
              "        vertical-align: middle;\n",
              "    }\n",
              "\n",
              "    .dataframe tbody tr th {\n",
              "        vertical-align: top;\n",
              "    }\n",
              "\n",
              "    .dataframe thead th {\n",
              "        text-align: right;\n",
              "    }\n",
              "</style>\n",
              "<table border=\"1\" class=\"dataframe\">\n",
              "  <thead>\n",
              "    <tr style=\"text-align: right;\">\n",
              "      <th></th>\n",
              "      <th>game_name</th>\n",
              "      <th>platform</th>\n",
              "    </tr>\n",
              "  </thead>\n",
              "  <tbody>\n",
              "    <tr>\n",
              "      <th>8826</th>\n",
              "      <td>kill.switch</td>\n",
              "      <td>xbox, playstation-2</td>\n",
              "    </tr>\n",
              "    <tr>\n",
              "      <th>8827</th>\n",
              "      <td>nail'd</td>\n",
              "      <td>pc</td>\n",
              "    </tr>\n",
              "    <tr>\n",
              "      <th>8828</th>\n",
              "      <td>oOo: Ascension</td>\n",
              "      <td>xbox-one</td>\n",
              "    </tr>\n",
              "    <tr>\n",
              "      <th>8829</th>\n",
              "      <td>uDraw Studio</td>\n",
              "      <td>wii</td>\n",
              "    </tr>\n",
              "    <tr>\n",
              "      <th>8830</th>\n",
              "      <td>xXx</td>\n",
              "      <td>game-boy-advance</td>\n",
              "    </tr>\n",
              "  </tbody>\n",
              "</table>\n",
              "</div>\n",
              "      <button class=\"colab-df-convert\" onclick=\"convertToInteractive('df-9d1ee709-028e-4a39-a41a-d9dafc84b150')\"\n",
              "              title=\"Convert this dataframe to an interactive table.\"\n",
              "              style=\"display:none;\">\n",
              "        \n",
              "  <svg xmlns=\"http://www.w3.org/2000/svg\" height=\"24px\"viewBox=\"0 0 24 24\"\n",
              "       width=\"24px\">\n",
              "    <path d=\"M0 0h24v24H0V0z\" fill=\"none\"/>\n",
              "    <path d=\"M18.56 5.44l.94 2.06.94-2.06 2.06-.94-2.06-.94-.94-2.06-.94 2.06-2.06.94zm-11 1L8.5 8.5l.94-2.06 2.06-.94-2.06-.94L8.5 2.5l-.94 2.06-2.06.94zm10 10l.94 2.06.94-2.06 2.06-.94-2.06-.94-.94-2.06-.94 2.06-2.06.94z\"/><path d=\"M17.41 7.96l-1.37-1.37c-.4-.4-.92-.59-1.43-.59-.52 0-1.04.2-1.43.59L10.3 9.45l-7.72 7.72c-.78.78-.78 2.05 0 2.83L4 21.41c.39.39.9.59 1.41.59.51 0 1.02-.2 1.41-.59l7.78-7.78 2.81-2.81c.8-.78.8-2.07 0-2.86zM5.41 20L4 18.59l7.72-7.72 1.47 1.35L5.41 20z\"/>\n",
              "  </svg>\n",
              "      </button>\n",
              "      \n",
              "  <style>\n",
              "    .colab-df-container {\n",
              "      display:flex;\n",
              "      flex-wrap:wrap;\n",
              "      gap: 12px;\n",
              "    }\n",
              "\n",
              "    .colab-df-convert {\n",
              "      background-color: #E8F0FE;\n",
              "      border: none;\n",
              "      border-radius: 50%;\n",
              "      cursor: pointer;\n",
              "      display: none;\n",
              "      fill: #1967D2;\n",
              "      height: 32px;\n",
              "      padding: 0 0 0 0;\n",
              "      width: 32px;\n",
              "    }\n",
              "\n",
              "    .colab-df-convert:hover {\n",
              "      background-color: #E2EBFA;\n",
              "      box-shadow: 0px 1px 2px rgba(60, 64, 67, 0.3), 0px 1px 3px 1px rgba(60, 64, 67, 0.15);\n",
              "      fill: #174EA6;\n",
              "    }\n",
              "\n",
              "    [theme=dark] .colab-df-convert {\n",
              "      background-color: #3B4455;\n",
              "      fill: #D2E3FC;\n",
              "    }\n",
              "\n",
              "    [theme=dark] .colab-df-convert:hover {\n",
              "      background-color: #434B5C;\n",
              "      box-shadow: 0px 1px 3px 1px rgba(0, 0, 0, 0.15);\n",
              "      filter: drop-shadow(0px 1px 2px rgba(0, 0, 0, 0.3));\n",
              "      fill: #FFFFFF;\n",
              "    }\n",
              "  </style>\n",
              "\n",
              "      <script>\n",
              "        const buttonEl =\n",
              "          document.querySelector('#df-9d1ee709-028e-4a39-a41a-d9dafc84b150 button.colab-df-convert');\n",
              "        buttonEl.style.display =\n",
              "          google.colab.kernel.accessAllowed ? 'block' : 'none';\n",
              "\n",
              "        async function convertToInteractive(key) {\n",
              "          const element = document.querySelector('#df-9d1ee709-028e-4a39-a41a-d9dafc84b150');\n",
              "          const dataTable =\n",
              "            await google.colab.kernel.invokeFunction('convertToInteractive',\n",
              "                                                     [key], {});\n",
              "          if (!dataTable) return;\n",
              "\n",
              "          const docLinkHtml = 'Like what you see? Visit the ' +\n",
              "            '<a target=\"_blank\" href=https://colab.research.google.com/notebooks/data_table.ipynb>data table notebook</a>'\n",
              "            + ' to learn more about interactive tables.';\n",
              "          element.innerHTML = '';\n",
              "          dataTable['output_type'] = 'display_data';\n",
              "          await google.colab.output.renderOutput(dataTable, element);\n",
              "          const docLink = document.createElement('div');\n",
              "          docLink.innerHTML = docLinkHtml;\n",
              "          element.appendChild(docLink);\n",
              "        }\n",
              "      </script>\n",
              "    </div>\n",
              "  </div>\n",
              "  "
            ]
          },
          "metadata": {},
          "execution_count": 41
        }
      ]
    },
    {
      "cell_type": "code",
      "source": [
        "plat.platform = plat.platform.str.split(',')"
      ],
      "metadata": {
        "colab": {
          "base_uri": "https://localhost:8080/"
        },
        "id": "XNDmv0FTzZ1g",
        "outputId": "c7d9502c-0863-4934-be57-3870ab1a5099"
      },
      "execution_count": null,
      "outputs": [
        {
          "output_type": "stream",
          "name": "stderr",
          "text": [
            "/usr/local/lib/python3.7/dist-packages/pandas/core/generic.py:5516: SettingWithCopyWarning:\n",
            "\n",
            "\n",
            "A value is trying to be set on a copy of a slice from a DataFrame.\n",
            "Try using .loc[row_indexer,col_indexer] = value instead\n",
            "\n",
            "See the caveats in the documentation: https://pandas.pydata.org/pandas-docs/stable/user_guide/indexing.html#returning-a-view-versus-a-copy\n",
            "\n"
          ]
        }
      ]
    },
    {
      "cell_type": "code",
      "source": [
        "rows = []\n",
        "_ = plat.apply(lambda row: [rows.append([row['game_name'], x]) \n",
        "                         for x in row.platform], axis=1)\n",
        "platforms = pd.DataFrame(rows, columns=plat.columns)"
      ],
      "metadata": {
        "id": "S3DDdOLfw28l"
      },
      "execution_count": null,
      "outputs": []
    },
    {
      "cell_type": "code",
      "source": [
        "platforms.platform = platforms.platform.str.strip()"
      ],
      "metadata": {
        "id": "W7iA-Tx99_b5"
      },
      "execution_count": null,
      "outputs": []
    },
    {
      "cell_type": "code",
      "source": [
        "p = platforms.platform.value_counts().to_frame()\n",
        "p.reset_index(inplace=True)\n",
        "p.rename(columns={'index': 'platform', 'platform': 'games'}, inplace=True)"
      ],
      "metadata": {
        "id": "Lkuq6tQGZERR"
      },
      "execution_count": null,
      "outputs": []
    },
    {
      "cell_type": "markdown",
      "source": [
        "### Популярность игровых платформ у разработчиков"
      ],
      "metadata": {
        "id": "XHrJwPLELHkY"
      }
    },
    {
      "cell_type": "code",
      "source": [
        "p.iloc[:3]"
      ],
      "metadata": {
        "colab": {
          "base_uri": "https://localhost:8080/",
          "height": 143
        },
        "id": "_ArIYyCfNo1A",
        "outputId": "1820e85a-be96-4e73-8e83-59cfbef3bd37"
      },
      "execution_count": null,
      "outputs": [
        {
          "output_type": "execute_result",
          "data": {
            "text/plain": [
              "        platform  games\n",
              "0             pc   3108\n",
              "1  playstation-4   1344\n",
              "2       xbox-360   1015"
            ],
            "text/html": [
              "\n",
              "  <div id=\"df-55829dff-e390-4b67-bcff-679be1076934\">\n",
              "    <div class=\"colab-df-container\">\n",
              "      <div>\n",
              "<style scoped>\n",
              "    .dataframe tbody tr th:only-of-type {\n",
              "        vertical-align: middle;\n",
              "    }\n",
              "\n",
              "    .dataframe tbody tr th {\n",
              "        vertical-align: top;\n",
              "    }\n",
              "\n",
              "    .dataframe thead th {\n",
              "        text-align: right;\n",
              "    }\n",
              "</style>\n",
              "<table border=\"1\" class=\"dataframe\">\n",
              "  <thead>\n",
              "    <tr style=\"text-align: right;\">\n",
              "      <th></th>\n",
              "      <th>platform</th>\n",
              "      <th>games</th>\n",
              "    </tr>\n",
              "  </thead>\n",
              "  <tbody>\n",
              "    <tr>\n",
              "      <th>0</th>\n",
              "      <td>pc</td>\n",
              "      <td>3108</td>\n",
              "    </tr>\n",
              "    <tr>\n",
              "      <th>1</th>\n",
              "      <td>playstation-4</td>\n",
              "      <td>1344</td>\n",
              "    </tr>\n",
              "    <tr>\n",
              "      <th>2</th>\n",
              "      <td>xbox-360</td>\n",
              "      <td>1015</td>\n",
              "    </tr>\n",
              "  </tbody>\n",
              "</table>\n",
              "</div>\n",
              "      <button class=\"colab-df-convert\" onclick=\"convertToInteractive('df-55829dff-e390-4b67-bcff-679be1076934')\"\n",
              "              title=\"Convert this dataframe to an interactive table.\"\n",
              "              style=\"display:none;\">\n",
              "        \n",
              "  <svg xmlns=\"http://www.w3.org/2000/svg\" height=\"24px\"viewBox=\"0 0 24 24\"\n",
              "       width=\"24px\">\n",
              "    <path d=\"M0 0h24v24H0V0z\" fill=\"none\"/>\n",
              "    <path d=\"M18.56 5.44l.94 2.06.94-2.06 2.06-.94-2.06-.94-.94-2.06-.94 2.06-2.06.94zm-11 1L8.5 8.5l.94-2.06 2.06-.94-2.06-.94L8.5 2.5l-.94 2.06-2.06.94zm10 10l.94 2.06.94-2.06 2.06-.94-2.06-.94-.94-2.06-.94 2.06-2.06.94z\"/><path d=\"M17.41 7.96l-1.37-1.37c-.4-.4-.92-.59-1.43-.59-.52 0-1.04.2-1.43.59L10.3 9.45l-7.72 7.72c-.78.78-.78 2.05 0 2.83L4 21.41c.39.39.9.59 1.41.59.51 0 1.02-.2 1.41-.59l7.78-7.78 2.81-2.81c.8-.78.8-2.07 0-2.86zM5.41 20L4 18.59l7.72-7.72 1.47 1.35L5.41 20z\"/>\n",
              "  </svg>\n",
              "      </button>\n",
              "      \n",
              "  <style>\n",
              "    .colab-df-container {\n",
              "      display:flex;\n",
              "      flex-wrap:wrap;\n",
              "      gap: 12px;\n",
              "    }\n",
              "\n",
              "    .colab-df-convert {\n",
              "      background-color: #E8F0FE;\n",
              "      border: none;\n",
              "      border-radius: 50%;\n",
              "      cursor: pointer;\n",
              "      display: none;\n",
              "      fill: #1967D2;\n",
              "      height: 32px;\n",
              "      padding: 0 0 0 0;\n",
              "      width: 32px;\n",
              "    }\n",
              "\n",
              "    .colab-df-convert:hover {\n",
              "      background-color: #E2EBFA;\n",
              "      box-shadow: 0px 1px 2px rgba(60, 64, 67, 0.3), 0px 1px 3px 1px rgba(60, 64, 67, 0.15);\n",
              "      fill: #174EA6;\n",
              "    }\n",
              "\n",
              "    [theme=dark] .colab-df-convert {\n",
              "      background-color: #3B4455;\n",
              "      fill: #D2E3FC;\n",
              "    }\n",
              "\n",
              "    [theme=dark] .colab-df-convert:hover {\n",
              "      background-color: #434B5C;\n",
              "      box-shadow: 0px 1px 3px 1px rgba(0, 0, 0, 0.15);\n",
              "      filter: drop-shadow(0px 1px 2px rgba(0, 0, 0, 0.3));\n",
              "      fill: #FFFFFF;\n",
              "    }\n",
              "  </style>\n",
              "\n",
              "      <script>\n",
              "        const buttonEl =\n",
              "          document.querySelector('#df-55829dff-e390-4b67-bcff-679be1076934 button.colab-df-convert');\n",
              "        buttonEl.style.display =\n",
              "          google.colab.kernel.accessAllowed ? 'block' : 'none';\n",
              "\n",
              "        async function convertToInteractive(key) {\n",
              "          const element = document.querySelector('#df-55829dff-e390-4b67-bcff-679be1076934');\n",
              "          const dataTable =\n",
              "            await google.colab.kernel.invokeFunction('convertToInteractive',\n",
              "                                                     [key], {});\n",
              "          if (!dataTable) return;\n",
              "\n",
              "          const docLinkHtml = 'Like what you see? Visit the ' +\n",
              "            '<a target=\"_blank\" href=https://colab.research.google.com/notebooks/data_table.ipynb>data table notebook</a>'\n",
              "            + ' to learn more about interactive tables.';\n",
              "          element.innerHTML = '';\n",
              "          dataTable['output_type'] = 'display_data';\n",
              "          await google.colab.output.renderOutput(dataTable, element);\n",
              "          const docLink = document.createElement('div');\n",
              "          docLink.innerHTML = docLinkHtml;\n",
              "          element.appendChild(docLink);\n",
              "        }\n",
              "      </script>\n",
              "    </div>\n",
              "  </div>\n",
              "  "
            ]
          },
          "metadata": {},
          "execution_count": 46
        }
      ]
    },
    {
      "cell_type": "code",
      "source": [
        "fig = px.scatter(p, x = 'games', y = 'platform',\n",
        "\t         size = 'games', color = 'games',\n",
        "           color_continuous_scale = px.colors.sequential.Aggrnyl,\n",
        "           hover_name = 'platform')\n",
        "fig.show()"
      ],
      "metadata": {
        "colab": {
          "base_uri": "https://localhost:8080/",
          "height": 542
        },
        "id": "PdfLT-h-qjNO",
        "outputId": "77a5d7d3-b64c-451c-e55b-c13d5854c2f7"
      },
      "execution_count": null,
      "outputs": [
        {
          "output_type": "display_data",
          "data": {
            "text/html": [
              "<html>\n",
              "<head><meta charset=\"utf-8\" /></head>\n",
              "<body>\n",
              "    <div>            <script src=\"https://cdnjs.cloudflare.com/ajax/libs/mathjax/2.7.5/MathJax.js?config=TeX-AMS-MML_SVG\"></script><script type=\"text/javascript\">if (window.MathJax) {MathJax.Hub.Config({SVG: {font: \"STIX-Web\"}});}</script>                <script type=\"text/javascript\">window.PlotlyConfig = {MathJaxConfig: 'local'};</script>\n",
              "        <script src=\"https://cdn.plot.ly/plotly-2.8.3.min.js\"></script>                <div id=\"deb43710-4bd6-442c-9e51-cc5f33728af8\" class=\"plotly-graph-div\" style=\"height:525px; width:100%;\"></div>            <script type=\"text/javascript\">                                    window.PLOTLYENV=window.PLOTLYENV || {};                                    if (document.getElementById(\"deb43710-4bd6-442c-9e51-cc5f33728af8\")) {                    Plotly.newPlot(                        \"deb43710-4bd6-442c-9e51-cc5f33728af8\",                        [{\"hovertemplate\":\"<b>%{hovertext}</b><br><br>games=%{marker.color}<br>platform=%{y}<extra></extra>\",\"hovertext\":[\"pc\",\"playstation-4\",\"xbox-360\",\"switch\",\"playstation-2\",\"playstation-3\",\"xbox-one\",\"xbox\",\"ds\",\"wii\",\"psp\",\"gamecube\",\"game-boy-advance\",\"3ds\",\"playstation-vita\",\"playstation\",\"wii-u\",\"playstation-5\",\"dreamcast\",\"xbox-series-x\",\"nintendo-64\",\"stadia\"],\"legendgroup\":\"\",\"marker\":{\"color\":[3108,1344,1015,931,881,821,747,484,453,398,325,300,295,246,170,127,123,90,80,49,48,3],\"coloraxis\":\"coloraxis\",\"size\":[3108,1344,1015,931,881,821,747,484,453,398,325,300,295,246,170,127,123,90,80,49,48,3],\"sizemode\":\"area\",\"sizeref\":7.77,\"symbol\":\"circle\"},\"mode\":\"markers\",\"name\":\"\",\"orientation\":\"h\",\"showlegend\":false,\"x\":[3108,1344,1015,931,881,821,747,484,453,398,325,300,295,246,170,127,123,90,80,49,48,3],\"xaxis\":\"x\",\"y\":[\"pc\",\"playstation-4\",\"xbox-360\",\"switch\",\"playstation-2\",\"playstation-3\",\"xbox-one\",\"xbox\",\"ds\",\"wii\",\"psp\",\"gamecube\",\"game-boy-advance\",\"3ds\",\"playstation-vita\",\"playstation\",\"wii-u\",\"playstation-5\",\"dreamcast\",\"xbox-series-x\",\"nintendo-64\",\"stadia\"],\"yaxis\":\"y\",\"type\":\"scatter\"}],                        {\"template\":{\"data\":{\"bar\":[{\"error_x\":{\"color\":\"#2a3f5f\"},\"error_y\":{\"color\":\"#2a3f5f\"},\"marker\":{\"line\":{\"color\":\"#E5ECF6\",\"width\":0.5},\"pattern\":{\"fillmode\":\"overlay\",\"size\":10,\"solidity\":0.2}},\"type\":\"bar\"}],\"barpolar\":[{\"marker\":{\"line\":{\"color\":\"#E5ECF6\",\"width\":0.5},\"pattern\":{\"fillmode\":\"overlay\",\"size\":10,\"solidity\":0.2}},\"type\":\"barpolar\"}],\"carpet\":[{\"aaxis\":{\"endlinecolor\":\"#2a3f5f\",\"gridcolor\":\"white\",\"linecolor\":\"white\",\"minorgridcolor\":\"white\",\"startlinecolor\":\"#2a3f5f\"},\"baxis\":{\"endlinecolor\":\"#2a3f5f\",\"gridcolor\":\"white\",\"linecolor\":\"white\",\"minorgridcolor\":\"white\",\"startlinecolor\":\"#2a3f5f\"},\"type\":\"carpet\"}],\"choropleth\":[{\"colorbar\":{\"outlinewidth\":0,\"ticks\":\"\"},\"type\":\"choropleth\"}],\"contour\":[{\"colorbar\":{\"outlinewidth\":0,\"ticks\":\"\"},\"colorscale\":[[0.0,\"#0d0887\"],[0.1111111111111111,\"#46039f\"],[0.2222222222222222,\"#7201a8\"],[0.3333333333333333,\"#9c179e\"],[0.4444444444444444,\"#bd3786\"],[0.5555555555555556,\"#d8576b\"],[0.6666666666666666,\"#ed7953\"],[0.7777777777777778,\"#fb9f3a\"],[0.8888888888888888,\"#fdca26\"],[1.0,\"#f0f921\"]],\"type\":\"contour\"}],\"contourcarpet\":[{\"colorbar\":{\"outlinewidth\":0,\"ticks\":\"\"},\"type\":\"contourcarpet\"}],\"heatmap\":[{\"colorbar\":{\"outlinewidth\":0,\"ticks\":\"\"},\"colorscale\":[[0.0,\"#0d0887\"],[0.1111111111111111,\"#46039f\"],[0.2222222222222222,\"#7201a8\"],[0.3333333333333333,\"#9c179e\"],[0.4444444444444444,\"#bd3786\"],[0.5555555555555556,\"#d8576b\"],[0.6666666666666666,\"#ed7953\"],[0.7777777777777778,\"#fb9f3a\"],[0.8888888888888888,\"#fdca26\"],[1.0,\"#f0f921\"]],\"type\":\"heatmap\"}],\"heatmapgl\":[{\"colorbar\":{\"outlinewidth\":0,\"ticks\":\"\"},\"colorscale\":[[0.0,\"#0d0887\"],[0.1111111111111111,\"#46039f\"],[0.2222222222222222,\"#7201a8\"],[0.3333333333333333,\"#9c179e\"],[0.4444444444444444,\"#bd3786\"],[0.5555555555555556,\"#d8576b\"],[0.6666666666666666,\"#ed7953\"],[0.7777777777777778,\"#fb9f3a\"],[0.8888888888888888,\"#fdca26\"],[1.0,\"#f0f921\"]],\"type\":\"heatmapgl\"}],\"histogram\":[{\"marker\":{\"pattern\":{\"fillmode\":\"overlay\",\"size\":10,\"solidity\":0.2}},\"type\":\"histogram\"}],\"histogram2d\":[{\"colorbar\":{\"outlinewidth\":0,\"ticks\":\"\"},\"colorscale\":[[0.0,\"#0d0887\"],[0.1111111111111111,\"#46039f\"],[0.2222222222222222,\"#7201a8\"],[0.3333333333333333,\"#9c179e\"],[0.4444444444444444,\"#bd3786\"],[0.5555555555555556,\"#d8576b\"],[0.6666666666666666,\"#ed7953\"],[0.7777777777777778,\"#fb9f3a\"],[0.8888888888888888,\"#fdca26\"],[1.0,\"#f0f921\"]],\"type\":\"histogram2d\"}],\"histogram2dcontour\":[{\"colorbar\":{\"outlinewidth\":0,\"ticks\":\"\"},\"colorscale\":[[0.0,\"#0d0887\"],[0.1111111111111111,\"#46039f\"],[0.2222222222222222,\"#7201a8\"],[0.3333333333333333,\"#9c179e\"],[0.4444444444444444,\"#bd3786\"],[0.5555555555555556,\"#d8576b\"],[0.6666666666666666,\"#ed7953\"],[0.7777777777777778,\"#fb9f3a\"],[0.8888888888888888,\"#fdca26\"],[1.0,\"#f0f921\"]],\"type\":\"histogram2dcontour\"}],\"mesh3d\":[{\"colorbar\":{\"outlinewidth\":0,\"ticks\":\"\"},\"type\":\"mesh3d\"}],\"parcoords\":[{\"line\":{\"colorbar\":{\"outlinewidth\":0,\"ticks\":\"\"}},\"type\":\"parcoords\"}],\"pie\":[{\"automargin\":true,\"type\":\"pie\"}],\"scatter\":[{\"marker\":{\"colorbar\":{\"outlinewidth\":0,\"ticks\":\"\"}},\"type\":\"scatter\"}],\"scatter3d\":[{\"line\":{\"colorbar\":{\"outlinewidth\":0,\"ticks\":\"\"}},\"marker\":{\"colorbar\":{\"outlinewidth\":0,\"ticks\":\"\"}},\"type\":\"scatter3d\"}],\"scattercarpet\":[{\"marker\":{\"colorbar\":{\"outlinewidth\":0,\"ticks\":\"\"}},\"type\":\"scattercarpet\"}],\"scattergeo\":[{\"marker\":{\"colorbar\":{\"outlinewidth\":0,\"ticks\":\"\"}},\"type\":\"scattergeo\"}],\"scattergl\":[{\"marker\":{\"colorbar\":{\"outlinewidth\":0,\"ticks\":\"\"}},\"type\":\"scattergl\"}],\"scattermapbox\":[{\"marker\":{\"colorbar\":{\"outlinewidth\":0,\"ticks\":\"\"}},\"type\":\"scattermapbox\"}],\"scatterpolar\":[{\"marker\":{\"colorbar\":{\"outlinewidth\":0,\"ticks\":\"\"}},\"type\":\"scatterpolar\"}],\"scatterpolargl\":[{\"marker\":{\"colorbar\":{\"outlinewidth\":0,\"ticks\":\"\"}},\"type\":\"scatterpolargl\"}],\"scatterternary\":[{\"marker\":{\"colorbar\":{\"outlinewidth\":0,\"ticks\":\"\"}},\"type\":\"scatterternary\"}],\"surface\":[{\"colorbar\":{\"outlinewidth\":0,\"ticks\":\"\"},\"colorscale\":[[0.0,\"#0d0887\"],[0.1111111111111111,\"#46039f\"],[0.2222222222222222,\"#7201a8\"],[0.3333333333333333,\"#9c179e\"],[0.4444444444444444,\"#bd3786\"],[0.5555555555555556,\"#d8576b\"],[0.6666666666666666,\"#ed7953\"],[0.7777777777777778,\"#fb9f3a\"],[0.8888888888888888,\"#fdca26\"],[1.0,\"#f0f921\"]],\"type\":\"surface\"}],\"table\":[{\"cells\":{\"fill\":{\"color\":\"#EBF0F8\"},\"line\":{\"color\":\"white\"}},\"header\":{\"fill\":{\"color\":\"#C8D4E3\"},\"line\":{\"color\":\"white\"}},\"type\":\"table\"}]},\"layout\":{\"annotationdefaults\":{\"arrowcolor\":\"#2a3f5f\",\"arrowhead\":0,\"arrowwidth\":1},\"autotypenumbers\":\"strict\",\"coloraxis\":{\"colorbar\":{\"outlinewidth\":0,\"ticks\":\"\"}},\"colorscale\":{\"diverging\":[[0,\"#8e0152\"],[0.1,\"#c51b7d\"],[0.2,\"#de77ae\"],[0.3,\"#f1b6da\"],[0.4,\"#fde0ef\"],[0.5,\"#f7f7f7\"],[0.6,\"#e6f5d0\"],[0.7,\"#b8e186\"],[0.8,\"#7fbc41\"],[0.9,\"#4d9221\"],[1,\"#276419\"]],\"sequential\":[[0.0,\"#0d0887\"],[0.1111111111111111,\"#46039f\"],[0.2222222222222222,\"#7201a8\"],[0.3333333333333333,\"#9c179e\"],[0.4444444444444444,\"#bd3786\"],[0.5555555555555556,\"#d8576b\"],[0.6666666666666666,\"#ed7953\"],[0.7777777777777778,\"#fb9f3a\"],[0.8888888888888888,\"#fdca26\"],[1.0,\"#f0f921\"]],\"sequentialminus\":[[0.0,\"#0d0887\"],[0.1111111111111111,\"#46039f\"],[0.2222222222222222,\"#7201a8\"],[0.3333333333333333,\"#9c179e\"],[0.4444444444444444,\"#bd3786\"],[0.5555555555555556,\"#d8576b\"],[0.6666666666666666,\"#ed7953\"],[0.7777777777777778,\"#fb9f3a\"],[0.8888888888888888,\"#fdca26\"],[1.0,\"#f0f921\"]]},\"colorway\":[\"#636efa\",\"#EF553B\",\"#00cc96\",\"#ab63fa\",\"#FFA15A\",\"#19d3f3\",\"#FF6692\",\"#B6E880\",\"#FF97FF\",\"#FECB52\"],\"font\":{\"color\":\"#2a3f5f\"},\"geo\":{\"bgcolor\":\"white\",\"lakecolor\":\"white\",\"landcolor\":\"#E5ECF6\",\"showlakes\":true,\"showland\":true,\"subunitcolor\":\"white\"},\"hoverlabel\":{\"align\":\"left\"},\"hovermode\":\"closest\",\"mapbox\":{\"style\":\"light\"},\"paper_bgcolor\":\"white\",\"plot_bgcolor\":\"#E5ECF6\",\"polar\":{\"angularaxis\":{\"gridcolor\":\"white\",\"linecolor\":\"white\",\"ticks\":\"\"},\"bgcolor\":\"#E5ECF6\",\"radialaxis\":{\"gridcolor\":\"white\",\"linecolor\":\"white\",\"ticks\":\"\"}},\"scene\":{\"xaxis\":{\"backgroundcolor\":\"#E5ECF6\",\"gridcolor\":\"white\",\"gridwidth\":2,\"linecolor\":\"white\",\"showbackground\":true,\"ticks\":\"\",\"zerolinecolor\":\"white\"},\"yaxis\":{\"backgroundcolor\":\"#E5ECF6\",\"gridcolor\":\"white\",\"gridwidth\":2,\"linecolor\":\"white\",\"showbackground\":true,\"ticks\":\"\",\"zerolinecolor\":\"white\"},\"zaxis\":{\"backgroundcolor\":\"#E5ECF6\",\"gridcolor\":\"white\",\"gridwidth\":2,\"linecolor\":\"white\",\"showbackground\":true,\"ticks\":\"\",\"zerolinecolor\":\"white\"}},\"shapedefaults\":{\"line\":{\"color\":\"#2a3f5f\"}},\"ternary\":{\"aaxis\":{\"gridcolor\":\"white\",\"linecolor\":\"white\",\"ticks\":\"\"},\"baxis\":{\"gridcolor\":\"white\",\"linecolor\":\"white\",\"ticks\":\"\"},\"bgcolor\":\"#E5ECF6\",\"caxis\":{\"gridcolor\":\"white\",\"linecolor\":\"white\",\"ticks\":\"\"}},\"title\":{\"x\":0.05},\"xaxis\":{\"automargin\":true,\"gridcolor\":\"white\",\"linecolor\":\"white\",\"ticks\":\"\",\"title\":{\"standoff\":15},\"zerolinecolor\":\"white\",\"zerolinewidth\":2},\"yaxis\":{\"automargin\":true,\"gridcolor\":\"white\",\"linecolor\":\"white\",\"ticks\":\"\",\"title\":{\"standoff\":15},\"zerolinecolor\":\"white\",\"zerolinewidth\":2}}},\"xaxis\":{\"anchor\":\"y\",\"domain\":[0.0,1.0],\"title\":{\"text\":\"games\"}},\"yaxis\":{\"anchor\":\"x\",\"domain\":[0.0,1.0],\"title\":{\"text\":\"platform\"}},\"coloraxis\":{\"colorbar\":{\"title\":{\"text\":\"games\"}},\"colorscale\":[[0.0,\"rgb(36, 86, 104)\"],[0.16666666666666666,\"rgb(15, 114, 121)\"],[0.3333333333333333,\"rgb(13, 143, 129)\"],[0.5,\"rgb(57, 171, 126)\"],[0.6666666666666666,\"rgb(110, 197, 116)\"],[0.8333333333333334,\"rgb(169, 220, 103)\"],[1.0,\"rgb(237, 239, 93)\"]]},\"legend\":{\"tracegroupgap\":0,\"itemsizing\":\"constant\"},\"margin\":{\"t\":60}},                        {\"responsive\": true}                    ).then(function(){\n",
              "                            \n",
              "var gd = document.getElementById('deb43710-4bd6-442c-9e51-cc5f33728af8');\n",
              "var x = new MutationObserver(function (mutations, observer) {{\n",
              "        var display = window.getComputedStyle(gd).display;\n",
              "        if (!display || display === 'none') {{\n",
              "            console.log([gd, 'removed!']);\n",
              "            Plotly.purge(gd);\n",
              "            observer.disconnect();\n",
              "        }}\n",
              "}});\n",
              "\n",
              "// Listen for the removal of the full notebook cells\n",
              "var notebookContainer = gd.closest('#notebook-container');\n",
              "if (notebookContainer) {{\n",
              "    x.observe(notebookContainer, {childList: true});\n",
              "}}\n",
              "\n",
              "// Listen for the clearing of the current output cell\n",
              "var outputEl = gd.closest('.output');\n",
              "if (outputEl) {{\n",
              "    x.observe(outputEl, {childList: true});\n",
              "}}\n",
              "\n",
              "                        })                };                            </script>        </div>\n",
              "</body>\n",
              "</html>"
            ]
          },
          "metadata": {}
        }
      ]
    },
    {
      "cell_type": "markdown",
      "source": [
        "Персональный компьютер как игровая платформа наиболее популярен для разработчиков. \n",
        "\n",
        "Думаю, ПК так интересен в силу большой распространённости среди пользователей и возможности модернизации его компонентов."
      ],
      "metadata": {
        "id": "rdL5tGBPuPxu"
      }
    },
    {
      "cell_type": "markdown",
      "source": [
        "### Топ кроссплатформенных игр"
      ],
      "metadata": {
        "id": "45KwS7SdaxUW"
      }
    },
    {
      "cell_type": "code",
      "source": [
        "platcount = platforms[['game_name','platform']].groupby(\n",
        "    'game_name').count().sort_values('platform', ascending = False)"
      ],
      "metadata": {
        "id": "_lSYRnaTPkZQ"
      },
      "execution_count": null,
      "outputs": []
    },
    {
      "cell_type": "code",
      "source": [
        "platcount.loc[platcount.platform > 5].style.background_gradient(cmap = 'PuBu')"
      ],
      "metadata": {
        "colab": {
          "base_uri": "https://localhost:8080/",
          "height": 363
        },
        "id": "VU_72K35SSiU",
        "outputId": "b2142f89-9d46-4913-9099-3574816e5321"
      },
      "execution_count": null,
      "outputs": [
        {
          "output_type": "execute_result",
          "data": {
            "text/plain": [
              "<pandas.io.formats.style.Styler at 0x7f7fd658bb10>"
            ],
            "text/html": [
              "<style type=\"text/css\">\n",
              "#T_76b99_row0_col0 {\n",
              "  background-color: #023858;\n",
              "  color: #f1f1f1;\n",
              "}\n",
              "#T_76b99_row1_col0, #T_76b99_row2_col0 {\n",
              "  background-color: #b4c4df;\n",
              "  color: #000000;\n",
              "}\n",
              "#T_76b99_row3_col0, #T_76b99_row4_col0, #T_76b99_row5_col0, #T_76b99_row6_col0, #T_76b99_row7_col0, #T_76b99_row8_col0 {\n",
              "  background-color: #fff7fb;\n",
              "  color: #000000;\n",
              "}\n",
              "</style>\n",
              "<table id=\"T_76b99_\" class=\"dataframe\">\n",
              "  <thead>\n",
              "    <tr>\n",
              "      <th class=\"blank level0\" >&nbsp;</th>\n",
              "      <th class=\"col_heading level0 col0\" >platform</th>\n",
              "    </tr>\n",
              "    <tr>\n",
              "      <th class=\"index_name level0\" >game_name</th>\n",
              "      <th class=\"blank col0\" >&nbsp;</th>\n",
              "    </tr>\n",
              "  </thead>\n",
              "  <tbody>\n",
              "    <tr>\n",
              "      <th id=\"T_76b99_level0_row0\" class=\"row_heading level0 row0\" >Madden NFL 07</th>\n",
              "      <td id=\"T_76b99_row0_col0\" class=\"data row0 col0\" >9</td>\n",
              "    </tr>\n",
              "    <tr>\n",
              "      <th id=\"T_76b99_level0_row1\" class=\"row_heading level0 row1\" >FIFA World Cup: Germany 2006</th>\n",
              "      <td id=\"T_76b99_row1_col0\" class=\"data row1 col0\" >7</td>\n",
              "    </tr>\n",
              "    <tr>\n",
              "      <th id=\"T_76b99_level0_row2\" class=\"row_heading level0 row2\" >Tiger Woods PGA Tour 07</th>\n",
              "      <td id=\"T_76b99_row2_col0\" class=\"data row2 col0\" >7</td>\n",
              "    </tr>\n",
              "    <tr>\n",
              "      <th id=\"T_76b99_level0_row3\" class=\"row_heading level0 row3\" >Cars</th>\n",
              "      <td id=\"T_76b99_row3_col0\" class=\"data row3 col0\" >6</td>\n",
              "    </tr>\n",
              "    <tr>\n",
              "      <th id=\"T_76b99_level0_row4\" class=\"row_heading level0 row4\" >Spider-Man: Friend or Foe</th>\n",
              "      <td id=\"T_76b99_row4_col0\" class=\"data row4 col0\" >6</td>\n",
              "    </tr>\n",
              "    <tr>\n",
              "      <th id=\"T_76b99_level0_row5\" class=\"row_heading level0 row5\" >NBA Live 06</th>\n",
              "      <td id=\"T_76b99_row5_col0\" class=\"data row5 col0\" >6</td>\n",
              "    </tr>\n",
              "    <tr>\n",
              "      <th id=\"T_76b99_level0_row6\" class=\"row_heading level0 row6\" >Dragon's Dogma: Dark Arisen</th>\n",
              "      <td id=\"T_76b99_row6_col0\" class=\"data row6 col0\" >6</td>\n",
              "    </tr>\n",
              "    <tr>\n",
              "      <th id=\"T_76b99_level0_row7\" class=\"row_heading level0 row7\" >Resident Evil 4</th>\n",
              "      <td id=\"T_76b99_row7_col0\" class=\"data row7 col0\" >6</td>\n",
              "    </tr>\n",
              "    <tr>\n",
              "      <th id=\"T_76b99_level0_row8\" class=\"row_heading level0 row8\" >Pro Evolution Soccer 2008</th>\n",
              "      <td id=\"T_76b99_row8_col0\" class=\"data row8 col0\" >6</td>\n",
              "    </tr>\n",
              "  </tbody>\n",
              "</table>\n"
            ]
          },
          "metadata": {},
          "execution_count": 49
        }
      ]
    },
    {
      "cell_type": "markdown",
      "source": [
        "## Статистика разработчиков"
      ],
      "metadata": {
        "id": "ATqKOEwuJLoB"
      }
    },
    {
      "cell_type": "markdown",
      "source": [
        "### Топ-10 разработчиков по количеству выпущенных ими игр."
      ],
      "metadata": {
        "id": "qYTqRGAZOTBy"
      }
    },
    {
      "cell_type": "code",
      "source": [
        "devs = df.developer.value_counts().iloc[0:10].to_frame()"
      ],
      "metadata": {
        "id": "Ac3CTyYyPCju"
      },
      "execution_count": null,
      "outputs": []
    },
    {
      "cell_type": "code",
      "source": [
        "dev = devs.plot(kind = 'barh', \n",
        "                    title = 'Топ-10 разработчиков по количеству релизов',\n",
        "                    xlabel = '',\n",
        "                    ylabel = 'Выпущено игр',\n",
        "                    legend = False,\n",
        "                  color = '#4EBABA')\n",
        "for i, val in enumerate(devs.values):\n",
        "    plt.text(val, i, int(val), ha='left', va='center', fontweight='bold')\n",
        "\n",
        "dev.invert_yaxis()"
      ],
      "metadata": {
        "colab": {
          "base_uri": "https://localhost:8080/",
          "height": 445
        },
        "id": "-BJxTcMxPRTX",
        "outputId": "caf109bd-63bf-42f2-e80d-5530c7092b23"
      },
      "execution_count": null,
      "outputs": [
        {
          "output_type": "display_data",
          "data": {
            "text/plain": [
              "<Figure size 792x504 with 1 Axes>"
            ],
            "image/png": "[encoded data removed]"
          },
          "metadata": {
            "needs_background": "light"
          }
        }
      ]
    },
    {
      "cell_type": "markdown",
      "source": [
        "### Топ-10 разработчиков по охвату платформ."
      ],
      "metadata": {
        "id": "rchGSNFLD2Uu"
      }
    },
    {
      "cell_type": "code",
      "source": [
        "devplat = df[['game_name','developer']]"
      ],
      "metadata": {
        "id": "PAAvVKV7eYxY"
      },
      "execution_count": null,
      "outputs": []
    },
    {
      "cell_type": "code",
      "source": [
        "devplat = devplat.merge(\n",
        "    platforms,\n",
        "    left_on = 'game_name',\n",
        "    right_on = 'game_name',\n",
        "    how = 'inner'\n",
        ")"
      ],
      "metadata": {
        "id": "qiRhKWJLeik-"
      },
      "execution_count": null,
      "outputs": []
    },
    {
      "cell_type": "code",
      "source": [
        "devplat = devplat[['developer','platform']]\n",
        "devplat.drop_duplicates(inplace = True)\n",
        "devplat = devplat['developer'].value_counts().iloc[:10].to_frame()"
      ],
      "metadata": {
        "id": "negSR4T1e3Xy"
      },
      "execution_count": null,
      "outputs": []
    },
    {
      "cell_type": "code",
      "source": [
        "devp = devplat.plot(kind = 'barh', \n",
        "                    title = 'Топ-10 разработчиков по охвату платформ',\n",
        "                    xlabel = '',\n",
        "                    ylabel = 'Платформ охвачено',\n",
        "                    legend = False,\n",
        "                  color = '#4EBABA')\n",
        "for i, val in enumerate(devplat.values):\n",
        "    plt.text(val, i, int(val), ha='left', va='center', fontweight='bold')\n",
        "\n",
        "devp.invert_yaxis()"
      ],
      "metadata": {
        "colab": {
          "base_uri": "https://localhost:8080/",
          "height": 445
        },
        "id": "0Xl_XmbyExyT",
        "outputId": "cc6e3f1e-10ed-4bf6-9587-8a59bfe19068"
      },
      "execution_count": null,
      "outputs": [
        {
          "output_type": "display_data",
          "data": {
            "text/plain": [
              "<Figure size 792x504 with 1 Axes>"
            ],
            "image/png": "[encoded data removed]"
          },
          "metadata": {
            "needs_background": "light"
          }
        }
      ]
    },
    {
      "cell_type": "markdown",
      "source": [
        "## Игровые жанры."
      ],
      "metadata": {
        "id": "ps7nRiNi1NIi"
      }
    },
    {
      "cell_type": "code",
      "source": [
        "gen = df.genre.value_counts().iloc[0:20].to_frame()\n",
        "gen.style.background_gradient(cmap = 'PuBu', subset = 'genre')"
      ],
      "metadata": {
        "colab": {
          "base_uri": "https://localhost:8080/",
          "height": 677
        },
        "id": "UgmJEHZd1L8p",
        "outputId": "e2bb6125-0d46-4769-aa87-310833bce4ba"
      },
      "execution_count": null,
      "outputs": [
        {
          "output_type": "execute_result",
          "data": {
            "text/plain": [
              "<pandas.io.formats.style.Styler at 0x7f7fd642c1d0>"
            ],
            "text/html": [
              "<style type=\"text/css\">\n",
              "#T_d1a4c_row0_col0 {\n",
              "  background-color: #023858;\n",
              "  color: #f1f1f1;\n",
              "}\n",
              "#T_d1a4c_row1_col0 {\n",
              "  background-color: #187cb6;\n",
              "  color: #f1f1f1;\n",
              "}\n",
              "#T_d1a4c_row2_col0 {\n",
              "  background-color: #4094c3;\n",
              "  color: #f1f1f1;\n",
              "}\n",
              "#T_d1a4c_row3_col0 {\n",
              "  background-color: #99b8d8;\n",
              "  color: #000000;\n",
              "}\n",
              "#T_d1a4c_row4_col0 {\n",
              "  background-color: #b8c6e0;\n",
              "  color: #000000;\n",
              "}\n",
              "#T_d1a4c_row5_col0 {\n",
              "  background-color: #c5cce3;\n",
              "  color: #000000;\n",
              "}\n",
              "#T_d1a4c_row6_col0 {\n",
              "  background-color: #dedcec;\n",
              "  color: #000000;\n",
              "}\n",
              "#T_d1a4c_row7_col0 {\n",
              "  background-color: #e8e4f0;\n",
              "  color: #000000;\n",
              "}\n",
              "#T_d1a4c_row8_col0 {\n",
              "  background-color: #eae6f1;\n",
              "  color: #000000;\n",
              "}\n",
              "#T_d1a4c_row9_col0 {\n",
              "  background-color: #f1ebf4;\n",
              "  color: #000000;\n",
              "}\n",
              "#T_d1a4c_row10_col0 {\n",
              "  background-color: #f1ebf5;\n",
              "  color: #000000;\n",
              "}\n",
              "#T_d1a4c_row11_col0 {\n",
              "  background-color: #f4edf6;\n",
              "  color: #000000;\n",
              "}\n",
              "#T_d1a4c_row12_col0 {\n",
              "  background-color: #f7f0f7;\n",
              "  color: #000000;\n",
              "}\n",
              "#T_d1a4c_row13_col0 {\n",
              "  background-color: #f8f1f8;\n",
              "  color: #000000;\n",
              "}\n",
              "#T_d1a4c_row14_col0 {\n",
              "  background-color: #faf2f8;\n",
              "  color: #000000;\n",
              "}\n",
              "#T_d1a4c_row15_col0 {\n",
              "  background-color: #fbf4f9;\n",
              "  color: #000000;\n",
              "}\n",
              "#T_d1a4c_row16_col0, #T_d1a4c_row17_col0 {\n",
              "  background-color: #fdf5fa;\n",
              "  color: #000000;\n",
              "}\n",
              "#T_d1a4c_row18_col0 {\n",
              "  background-color: #fef6fa;\n",
              "  color: #000000;\n",
              "}\n",
              "#T_d1a4c_row19_col0 {\n",
              "  background-color: #fff7fb;\n",
              "  color: #000000;\n",
              "}\n",
              "</style>\n",
              "<table id=\"T_d1a4c_\" class=\"dataframe\">\n",
              "  <thead>\n",
              "    <tr>\n",
              "      <th class=\"blank level0\" >&nbsp;</th>\n",
              "      <th class=\"col_heading level0 col0\" >genre</th>\n",
              "    </tr>\n",
              "  </thead>\n",
              "  <tbody>\n",
              "    <tr>\n",
              "      <th id=\"T_d1a4c_level0_row0\" class=\"row_heading level0 row0\" >['Action', 'Platformer', '2D']</th>\n",
              "      <td id=\"T_d1a4c_row0_col0\" class=\"data row0 col0\" >403</td>\n",
              "    </tr>\n",
              "    <tr>\n",
              "      <th id=\"T_d1a4c_level0_row1\" class=\"row_heading level0 row1\" >['Role-Playing', 'Action RPG']</th>\n",
              "      <td id=\"T_d1a4c_row1_col0\" class=\"data row1 col0\" >303</td>\n",
              "    </tr>\n",
              "    <tr>\n",
              "      <th id=\"T_d1a4c_level0_row2\" class=\"row_heading level0 row2\" >['Action', 'General']</th>\n",
              "      <td id=\"T_d1a4c_row2_col0\" class=\"data row2 col0\" >270</td>\n",
              "    </tr>\n",
              "    <tr>\n",
              "      <th id=\"T_d1a4c_level0_row3\" class=\"row_heading level0 row3\" >['Adventure', 'General']</th>\n",
              "      <td id=\"T_d1a4c_row3_col0\" class=\"data row3 col0\" >204</td>\n",
              "    </tr>\n",
              "    <tr>\n",
              "      <th id=\"T_d1a4c_level0_row4\" class=\"row_heading level0 row4\" >['Action', 'Platformer', '3D']</th>\n",
              "      <td id=\"T_d1a4c_row4_col0\" class=\"data row4 col0\" >175</td>\n",
              "    </tr>\n",
              "    <tr>\n",
              "      <th id=\"T_d1a4c_level0_row5\" class=\"row_heading level0 row5\" >['Action Adventure', 'General']</th>\n",
              "      <td id=\"T_d1a4c_row5_col0\" class=\"data row5 col0\" >162</td>\n",
              "    </tr>\n",
              "    <tr>\n",
              "      <th id=\"T_d1a4c_level0_row6\" class=\"row_heading level0 row6\" >['Miscellaneous', 'Compilation']</th>\n",
              "      <td id=\"T_d1a4c_row6_col0\" class=\"data row6 col0\" >130</td>\n",
              "    </tr>\n",
              "    <tr>\n",
              "      <th id=\"T_d1a4c_level0_row7\" class=\"row_heading level0 row7\" >['Action', 'Fighting', '3D']</th>\n",
              "      <td id=\"T_d1a4c_row7_col0\" class=\"data row7 col0\" >115</td>\n",
              "    </tr>\n",
              "    <tr>\n",
              "      <th id=\"T_d1a4c_level0_row8\" class=\"row_heading level0 row8\" >['Action', 'Shooter', 'First-Person', 'Sci-Fi', 'Arcade']</th>\n",
              "      <td id=\"T_d1a4c_row8_col0\" class=\"data row8 col0\" >112</td>\n",
              "    </tr>\n",
              "    <tr>\n",
              "      <th id=\"T_d1a4c_level0_row9\" class=\"row_heading level0 row9\" >['Miscellaneous', 'Puzzle', 'General']</th>\n",
              "      <td id=\"T_d1a4c_row9_col0\" class=\"data row9 col0\" >99</td>\n",
              "    </tr>\n",
              "    <tr>\n",
              "      <th id=\"T_d1a4c_level0_row10\" class=\"row_heading level0 row10\" >['Action', 'Fighting', '2D']</th>\n",
              "      <td id=\"T_d1a4c_row10_col0\" class=\"data row10 col0\" >98</td>\n",
              "    </tr>\n",
              "    <tr>\n",
              "      <th id=\"T_d1a4c_level0_row11\" class=\"row_heading level0 row11\" >['Action Adventure', 'Open-World']</th>\n",
              "      <td id=\"T_d1a4c_row11_col0\" class=\"data row11 col0\" >92</td>\n",
              "    </tr>\n",
              "    <tr>\n",
              "      <th id=\"T_d1a4c_level0_row12\" class=\"row_heading level0 row12\" >['Role-Playing', 'Console-style RPG']</th>\n",
              "      <td id=\"T_d1a4c_row12_col0\" class=\"data row12 col0\" >85</td>\n",
              "    </tr>\n",
              "    <tr>\n",
              "      <th id=\"T_d1a4c_level0_row13\" class=\"row_heading level0 row13\" >['Action', 'Shooter', 'First-Person', 'Arcade']</th>\n",
              "      <td id=\"T_d1a4c_row13_col0\" class=\"data row13 col0\" >83</td>\n",
              "    </tr>\n",
              "    <tr>\n",
              "      <th id=\"T_d1a4c_level0_row14\" class=\"row_heading level0 row14\" >['Role-Playing', 'General']</th>\n",
              "      <td id=\"T_d1a4c_row14_col0\" class=\"data row14 col0\" >79</td>\n",
              "    </tr>\n",
              "    <tr>\n",
              "      <th id=\"T_d1a4c_level0_row15\" class=\"row_heading level0 row15\" >['Role-Playing', 'Japanese-Style']</th>\n",
              "      <td id=\"T_d1a4c_row15_col0\" class=\"data row15 col0\" >75</td>\n",
              "    </tr>\n",
              "    <tr>\n",
              "      <th id=\"T_d1a4c_level0_row16\" class=\"row_heading level0 row16\" >['Action Adventure', 'Survival']</th>\n",
              "      <td id=\"T_d1a4c_row16_col0\" class=\"data row16 col0\" >72</td>\n",
              "    </tr>\n",
              "    <tr>\n",
              "      <th id=\"T_d1a4c_level0_row17\" class=\"row_heading level0 row17\" >['Strategy', 'General']</th>\n",
              "      <td id=\"T_d1a4c_row17_col0\" class=\"data row17 col0\" >71</td>\n",
              "    </tr>\n",
              "    <tr>\n",
              "      <th id=\"T_d1a4c_level0_row18\" class=\"row_heading level0 row18\" >['Adventure', '3D', 'First-Person']</th>\n",
              "      <td id=\"T_d1a4c_row18_col0\" class=\"data row18 col0\" >70</td>\n",
              "    </tr>\n",
              "    <tr>\n",
              "      <th id=\"T_d1a4c_level0_row19\" class=\"row_heading level0 row19\" >['Action Adventure', 'Fantasy']</th>\n",
              "      <td id=\"T_d1a4c_row19_col0\" class=\"data row19 col0\" >67</td>\n",
              "    </tr>\n",
              "  </tbody>\n",
              "</table>\n"
            ]
          },
          "metadata": {},
          "execution_count": 56
        }
      ]
    },
    {
      "cell_type": "markdown",
      "source": [
        "### Популярность отдельных жанров у разработчиков."
      ],
      "metadata": {
        "id": "mOWmQeGa4uaF"
      }
    },
    {
      "cell_type": "code",
      "source": [
        "genr = df[['game_name', 'genre']]"
      ],
      "metadata": {
        "id": "7NWa_VoP5MZ1"
      },
      "execution_count": null,
      "outputs": []
    },
    {
      "cell_type": "code",
      "source": [
        "genr.genre = genr.genre.str.replace('\\'', '', regex = False)\n",
        "genr.genre = genr.genre.str.strip('[]')"
      ],
      "metadata": {
        "id": "CJcRfDzID2rU",
        "colab": {
          "base_uri": "https://localhost:8080/"
        },
        "outputId": "70b6ccb9-cc4f-4b42-cc9f-03ed662eabb2"
      },
      "execution_count": null,
      "outputs": [
        {
          "output_type": "stream",
          "name": "stderr",
          "text": [
            "/usr/local/lib/python3.7/dist-packages/pandas/core/generic.py:5516: SettingWithCopyWarning:\n",
            "\n",
            "\n",
            "A value is trying to be set on a copy of a slice from a DataFrame.\n",
            "Try using .loc[row_indexer,col_indexer] = value instead\n",
            "\n",
            "See the caveats in the documentation: https://pandas.pydata.org/pandas-docs/stable/user_guide/indexing.html#returning-a-view-versus-a-copy\n",
            "\n"
          ]
        }
      ]
    },
    {
      "cell_type": "code",
      "source": [
        "genr.set_index(['game_name'])"
      ],
      "metadata": {
        "colab": {
          "base_uri": "https://localhost:8080/",
          "height": 455
        },
        "id": "_dZe1boxJQvo",
        "outputId": "c79a66d0-bc82-416e-ff92-8419d3b2f2b5"
      },
      "execution_count": null,
      "outputs": [
        {
          "output_type": "execute_result",
          "data": {
            "text/plain": [
              "                                                                      genre\n",
              "game_name                                                                  \n",
              "The Legend of Zelda: Ocarina of Time              Action Adventure, Fantasy\n",
              "Super Mario Galaxy                                   Action, Platformer, 3D\n",
              "Super Mario Galaxy 2                                 Action, Platformer, 3D\n",
              "Metroid Prime                         Action, Shooter, First-Person, Sci-Fi\n",
              "Super Mario Odyssey                                  Action, Platformer, 3D\n",
              "...                                                                     ...\n",
              "kill.switch                           Action, Shooter, Third-Person, Modern\n",
              "nail'd                                  Driving, Racing, Arcade, Automobile\n",
              "oOo: Ascension                                      Action, General, Arcade\n",
              "uDraw Studio                                         Miscellaneous, General\n",
              "xXx                                                  Action, Platformer, 2D\n",
              "\n",
              "[8831 rows x 1 columns]"
            ],
            "text/html": [
              "\n",
              "  <div id=\"df-2051321f-7713-4668-9bac-f8e1d873e6c2\">\n",
              "    <div class=\"colab-df-container\">\n",
              "      <div>\n",
              "<style scoped>\n",
              "    .dataframe tbody tr th:only-of-type {\n",
              "        vertical-align: middle;\n",
              "    }\n",
              "\n",
              "    .dataframe tbody tr th {\n",
              "        vertical-align: top;\n",
              "    }\n",
              "\n",
              "    .dataframe thead th {\n",
              "        text-align: right;\n",
              "    }\n",
              "</style>\n",
              "<table border=\"1\" class=\"dataframe\">\n",
              "  <thead>\n",
              "    <tr style=\"text-align: right;\">\n",
              "      <th></th>\n",
              "      <th>genre</th>\n",
              "    </tr>\n",
              "    <tr>\n",
              "      <th>game_name</th>\n",
              "      <th></th>\n",
              "    </tr>\n",
              "  </thead>\n",
              "  <tbody>\n",
              "    <tr>\n",
              "      <th>The Legend of Zelda: Ocarina of Time</th>\n",
              "      <td>Action Adventure, Fantasy</td>\n",
              "    </tr>\n",
              "    <tr>\n",
              "      <th>Super Mario Galaxy</th>\n",
              "      <td>Action, Platformer, 3D</td>\n",
              "    </tr>\n",
              "    <tr>\n",
              "      <th>Super Mario Galaxy 2</th>\n",
              "      <td>Action, Platformer, 3D</td>\n",
              "    </tr>\n",
              "    <tr>\n",
              "      <th>Metroid Prime</th>\n",
              "      <td>Action, Shooter, First-Person, Sci-Fi</td>\n",
              "    </tr>\n",
              "    <tr>\n",
              "      <th>Super Mario Odyssey</th>\n",
              "      <td>Action, Platformer, 3D</td>\n",
              "    </tr>\n",
              "    <tr>\n",
              "      <th>...</th>\n",
              "      <td>...</td>\n",
              "    </tr>\n",
              "    <tr>\n",
              "      <th>kill.switch</th>\n",
              "      <td>Action, Shooter, Third-Person, Modern</td>\n",
              "    </tr>\n",
              "    <tr>\n",
              "      <th>nail'd</th>\n",
              "      <td>Driving, Racing, Arcade, Automobile</td>\n",
              "    </tr>\n",
              "    <tr>\n",
              "      <th>oOo: Ascension</th>\n",
              "      <td>Action, General, Arcade</td>\n",
              "    </tr>\n",
              "    <tr>\n",
              "      <th>uDraw Studio</th>\n",
              "      <td>Miscellaneous, General</td>\n",
              "    </tr>\n",
              "    <tr>\n",
              "      <th>xXx</th>\n",
              "      <td>Action, Platformer, 2D</td>\n",
              "    </tr>\n",
              "  </tbody>\n",
              "</table>\n",
              "<p>8831 rows × 1 columns</p>\n",
              "</div>\n",
              "      <button class=\"colab-df-convert\" onclick=\"convertToInteractive('df-2051321f-7713-4668-9bac-f8e1d873e6c2')\"\n",
              "              title=\"Convert this dataframe to an interactive table.\"\n",
              "              style=\"display:none;\">\n",
              "        \n",
              "  <svg xmlns=\"http://www.w3.org/2000/svg\" height=\"24px\"viewBox=\"0 0 24 24\"\n",
              "       width=\"24px\">\n",
              "    <path d=\"M0 0h24v24H0V0z\" fill=\"none\"/>\n",
              "    <path d=\"M18.56 5.44l.94 2.06.94-2.06 2.06-.94-2.06-.94-.94-2.06-.94 2.06-2.06.94zm-11 1L8.5 8.5l.94-2.06 2.06-.94-2.06-.94L8.5 2.5l-.94 2.06-2.06.94zm10 10l.94 2.06.94-2.06 2.06-.94-2.06-.94-.94-2.06-.94 2.06-2.06.94z\"/><path d=\"M17.41 7.96l-1.37-1.37c-.4-.4-.92-.59-1.43-.59-.52 0-1.04.2-1.43.59L10.3 9.45l-7.72 7.72c-.78.78-.78 2.05 0 2.83L4 21.41c.39.39.9.59 1.41.59.51 0 1.02-.2 1.41-.59l7.78-7.78 2.81-2.81c.8-.78.8-2.07 0-2.86zM5.41 20L4 18.59l7.72-7.72 1.47 1.35L5.41 20z\"/>\n",
              "  </svg>\n",
              "      </button>\n",
              "      \n",
              "  <style>\n",
              "    .colab-df-container {\n",
              "      display:flex;\n",
              "      flex-wrap:wrap;\n",
              "      gap: 12px;\n",
              "    }\n",
              "\n",
              "    .colab-df-convert {\n",
              "      background-color: #E8F0FE;\n",
              "      border: none;\n",
              "      border-radius: 50%;\n",
              "      cursor: pointer;\n",
              "      display: none;\n",
              "      fill: #1967D2;\n",
              "      height: 32px;\n",
              "      padding: 0 0 0 0;\n",
              "      width: 32px;\n",
              "    }\n",
              "\n",
              "    .colab-df-convert:hover {\n",
              "      background-color: #E2EBFA;\n",
              "      box-shadow: 0px 1px 2px rgba(60, 64, 67, 0.3), 0px 1px 3px 1px rgba(60, 64, 67, 0.15);\n",
              "      fill: #174EA6;\n",
              "    }\n",
              "\n",
              "    [theme=dark] .colab-df-convert {\n",
              "      background-color: #3B4455;\n",
              "      fill: #D2E3FC;\n",
              "    }\n",
              "\n",
              "    [theme=dark] .colab-df-convert:hover {\n",
              "      background-color: #434B5C;\n",
              "      box-shadow: 0px 1px 3px 1px rgba(0, 0, 0, 0.15);\n",
              "      filter: drop-shadow(0px 1px 2px rgba(0, 0, 0, 0.3));\n",
              "      fill: #FFFFFF;\n",
              "    }\n",
              "  </style>\n",
              "\n",
              "      <script>\n",
              "        const buttonEl =\n",
              "          document.querySelector('#df-2051321f-7713-4668-9bac-f8e1d873e6c2 button.colab-df-convert');\n",
              "        buttonEl.style.display =\n",
              "          google.colab.kernel.accessAllowed ? 'block' : 'none';\n",
              "\n",
              "        async function convertToInteractive(key) {\n",
              "          const element = document.querySelector('#df-2051321f-7713-4668-9bac-f8e1d873e6c2');\n",
              "          const dataTable =\n",
              "            await google.colab.kernel.invokeFunction('convertToInteractive',\n",
              "                                                     [key], {});\n",
              "          if (!dataTable) return;\n",
              "\n",
              "          const docLinkHtml = 'Like what you see? Visit the ' +\n",
              "            '<a target=\"_blank\" href=https://colab.research.google.com/notebooks/data_table.ipynb>data table notebook</a>'\n",
              "            + ' to learn more about interactive tables.';\n",
              "          element.innerHTML = '';\n",
              "          dataTable['output_type'] = 'display_data';\n",
              "          await google.colab.output.renderOutput(dataTable, element);\n",
              "          const docLink = document.createElement('div');\n",
              "          docLink.innerHTML = docLinkHtml;\n",
              "          element.appendChild(docLink);\n",
              "        }\n",
              "      </script>\n",
              "    </div>\n",
              "  </div>\n",
              "  "
            ]
          },
          "metadata": {},
          "execution_count": 59
        }
      ]
    },
    {
      "cell_type": "code",
      "source": [
        "genr = _.apply(lambda x: x.str.split(',').explode())"
      ],
      "metadata": {
        "id": "qUwreLZQJliL"
      },
      "execution_count": null,
      "outputs": []
    },
    {
      "cell_type": "code",
      "source": [
        "genr.genre = genr.genre.str.strip()"
      ],
      "metadata": {
        "id": "yfrlkaMyLzpz"
      },
      "execution_count": null,
      "outputs": []
    },
    {
      "cell_type": "code",
      "source": [
        "g = genr.genre.value_counts().iloc[0:20].to_frame()\n",
        "g.style.background_gradient(cmap = 'PuBu', subset = 'genre')"
      ],
      "metadata": {
        "colab": {
          "base_uri": "https://localhost:8080/",
          "height": 677
        },
        "id": "1HAEYv-aJzQN",
        "outputId": "11f0ee13-fbca-4bb0-b323-004d4e504b9e"
      },
      "execution_count": null,
      "outputs": [
        {
          "output_type": "execute_result",
          "data": {
            "text/plain": [
              "<pandas.io.formats.style.Styler at 0x7f7fd5ffda90>"
            ],
            "text/html": [
              "<style type=\"text/css\">\n",
              "#T_e3865_row0_col0 {\n",
              "  background-color: #023858;\n",
              "  color: #f1f1f1;\n",
              "}\n",
              "#T_e3865_row1_col0 {\n",
              "  background-color: #056ead;\n",
              "  color: #f1f1f1;\n",
              "}\n",
              "#T_e3865_row2_col0 {\n",
              "  background-color: #c5cce3;\n",
              "  color: #000000;\n",
              "}\n",
              "#T_e3865_row3_col0 {\n",
              "  background-color: #d2d3e7;\n",
              "  color: #000000;\n",
              "}\n",
              "#T_e3865_row4_col0 {\n",
              "  background-color: #d6d6e9;\n",
              "  color: #000000;\n",
              "}\n",
              "#T_e3865_row5_col0 {\n",
              "  background-color: #dfddec;\n",
              "  color: #000000;\n",
              "}\n",
              "#T_e3865_row6_col0 {\n",
              "  background-color: #e0deed;\n",
              "  color: #000000;\n",
              "}\n",
              "#T_e3865_row7_col0 {\n",
              "  background-color: #e4e1ef;\n",
              "  color: #000000;\n",
              "}\n",
              "#T_e3865_row8_col0 {\n",
              "  background-color: #e9e5f1;\n",
              "  color: #000000;\n",
              "}\n",
              "#T_e3865_row9_col0 {\n",
              "  background-color: #eee9f3;\n",
              "  color: #000000;\n",
              "}\n",
              "#T_e3865_row10_col0, #T_e3865_row11_col0, #T_e3865_row12_col0 {\n",
              "  background-color: #f0eaf4;\n",
              "  color: #000000;\n",
              "}\n",
              "#T_e3865_row13_col0 {\n",
              "  background-color: #f1ebf5;\n",
              "  color: #000000;\n",
              "}\n",
              "#T_e3865_row14_col0 {\n",
              "  background-color: #f9f2f8;\n",
              "  color: #000000;\n",
              "}\n",
              "#T_e3865_row15_col0, #T_e3865_row16_col0 {\n",
              "  background-color: #fcf4fa;\n",
              "  color: #000000;\n",
              "}\n",
              "#T_e3865_row17_col0 {\n",
              "  background-color: #fdf5fa;\n",
              "  color: #000000;\n",
              "}\n",
              "#T_e3865_row18_col0, #T_e3865_row19_col0 {\n",
              "  background-color: #fff7fb;\n",
              "  color: #000000;\n",
              "}\n",
              "</style>\n",
              "<table id=\"T_e3865_\" class=\"dataframe\">\n",
              "  <thead>\n",
              "    <tr>\n",
              "      <th class=\"blank level0\" >&nbsp;</th>\n",
              "      <th class=\"col_heading level0 col0\" >genre</th>\n",
              "    </tr>\n",
              "  </thead>\n",
              "  <tbody>\n",
              "    <tr>\n",
              "      <th id=\"T_e3865_level0_row0\" class=\"row_heading level0 row0\" >Action</th>\n",
              "      <td id=\"T_e3865_row0_col0\" class=\"data row0 col0\" >3125</td>\n",
              "    </tr>\n",
              "    <tr>\n",
              "      <th id=\"T_e3865_level0_row1\" class=\"row_heading level0 row1\" >General</th>\n",
              "      <td id=\"T_e3865_row1_col0\" class=\"data row1 col0\" >2488</td>\n",
              "    </tr>\n",
              "    <tr>\n",
              "      <th id=\"T_e3865_level0_row2\" class=\"row_heading level0 row2\" >Action Adventure</th>\n",
              "      <td id=\"T_e3865_row2_col0\" class=\"data row2 col0\" >1208</td>\n",
              "    </tr>\n",
              "    <tr>\n",
              "      <th id=\"T_e3865_level0_row3\" class=\"row_heading level0 row3\" >Shooter</th>\n",
              "      <td id=\"T_e3865_row3_col0\" class=\"data row3 col0\" >1101</td>\n",
              "    </tr>\n",
              "    <tr>\n",
              "      <th id=\"T_e3865_level0_row4\" class=\"row_heading level0 row4\" >Role-Playing</th>\n",
              "      <td id=\"T_e3865_row4_col0\" class=\"data row4 col0\" >1059</td>\n",
              "    </tr>\n",
              "    <tr>\n",
              "      <th id=\"T_e3865_level0_row5\" class=\"row_heading level0 row5\" >Miscellaneous</th>\n",
              "      <td id=\"T_e3865_row5_col0\" class=\"data row5 col0\" >954</td>\n",
              "    </tr>\n",
              "    <tr>\n",
              "      <th id=\"T_e3865_level0_row6\" class=\"row_heading level0 row6\" >Strategy</th>\n",
              "      <td id=\"T_e3865_row6_col0\" class=\"data row6 col0\" >934</td>\n",
              "    </tr>\n",
              "    <tr>\n",
              "      <th id=\"T_e3865_level0_row7\" class=\"row_heading level0 row7\" >Arcade</th>\n",
              "      <td id=\"T_e3865_row7_col0\" class=\"data row7 col0\" >892</td>\n",
              "    </tr>\n",
              "    <tr>\n",
              "      <th id=\"T_e3865_level0_row8\" class=\"row_heading level0 row8\" >Adventure</th>\n",
              "      <td id=\"T_e3865_row8_col0\" class=\"data row8 col0\" >823</td>\n",
              "    </tr>\n",
              "    <tr>\n",
              "      <th id=\"T_e3865_level0_row9\" class=\"row_heading level0 row9\" >First-Person</th>\n",
              "      <td id=\"T_e3865_row9_col0\" class=\"data row9 col0\" >758</td>\n",
              "    </tr>\n",
              "    <tr>\n",
              "      <th id=\"T_e3865_level0_row10\" class=\"row_heading level0 row10\" >Platformer</th>\n",
              "      <td id=\"T_e3865_row10_col0\" class=\"data row10 col0\" >731</td>\n",
              "    </tr>\n",
              "    <tr>\n",
              "      <th id=\"T_e3865_level0_row11\" class=\"row_heading level0 row11\" >3D</th>\n",
              "      <td id=\"T_e3865_row11_col0\" class=\"data row11 col0\" >724</td>\n",
              "    </tr>\n",
              "    <tr>\n",
              "      <th id=\"T_e3865_level0_row12\" class=\"row_heading level0 row12\" >2D</th>\n",
              "      <td id=\"T_e3865_row12_col0\" class=\"data row12 col0\" >721</td>\n",
              "    </tr>\n",
              "    <tr>\n",
              "      <th id=\"T_e3865_level0_row13\" class=\"row_heading level0 row13\" >Sports</th>\n",
              "      <td id=\"T_e3865_row13_col0\" class=\"data row13 col0\" >707</td>\n",
              "    </tr>\n",
              "    <tr>\n",
              "      <th id=\"T_e3865_level0_row14\" class=\"row_heading level0 row14\" >Sci-Fi</th>\n",
              "      <td id=\"T_e3865_row14_col0\" class=\"data row14 col0\" >568</td>\n",
              "    </tr>\n",
              "    <tr>\n",
              "      <th id=\"T_e3865_level0_row15\" class=\"row_heading level0 row15\" >Fantasy</th>\n",
              "      <td id=\"T_e3865_row15_col0\" class=\"data row15 col0\" >518</td>\n",
              "    </tr>\n",
              "    <tr>\n",
              "      <th id=\"T_e3865_level0_row16\" class=\"row_heading level0 row16\" >Racing</th>\n",
              "      <td id=\"T_e3865_row16_col0\" class=\"data row16 col0\" >514</td>\n",
              "    </tr>\n",
              "    <tr>\n",
              "      <th id=\"T_e3865_level0_row17\" class=\"row_heading level0 row17\" >Simulation</th>\n",
              "      <td id=\"T_e3865_row17_col0\" class=\"data row17 col0\" >507</td>\n",
              "    </tr>\n",
              "    <tr>\n",
              "      <th id=\"T_e3865_level0_row18\" class=\"row_heading level0 row18\" >Modern</th>\n",
              "      <td id=\"T_e3865_row18_col0\" class=\"data row18 col0\" >458</td>\n",
              "    </tr>\n",
              "    <tr>\n",
              "      <th id=\"T_e3865_level0_row19\" class=\"row_heading level0 row19\" >Driving</th>\n",
              "      <td id=\"T_e3865_row19_col0\" class=\"data row19 col0\" >457</td>\n",
              "    </tr>\n",
              "  </tbody>\n",
              "</table>\n"
            ]
          },
          "metadata": {},
          "execution_count": 62
        }
      ]
    },
    {
      "cell_type": "markdown",
      "source": [
        "## Возрастной рейтинг."
      ],
      "metadata": {
        "id": "mQHdRzIIG0wf"
      }
    },
    {
      "cell_type": "code",
      "source": [
        "rati = df.rating.value_counts().to_frame()\n",
        "rati.reset_index(inplace = True)\n",
        "rati.style.background_gradient(cmap = 'PuBu', subset = 'rating')"
      ],
      "metadata": {
        "colab": {
          "base_uri": "https://localhost:8080/",
          "height": 269
        },
        "id": "sQbBEyQxLDzW",
        "outputId": "40c91598-75fc-4ad5-e810-5a0f236d885c"
      },
      "execution_count": null,
      "outputs": [
        {
          "output_type": "execute_result",
          "data": {
            "text/plain": [
              "<pandas.io.formats.style.Styler at 0x7f7fd6000910>"
            ],
            "text/html": [
              "<style type=\"text/css\">\n",
              "#T_27f01_row0_col1 {\n",
              "  background-color: #023858;\n",
              "  color: #f1f1f1;\n",
              "}\n",
              "#T_27f01_row1_col1 {\n",
              "  background-color: #045382;\n",
              "  color: #f1f1f1;\n",
              "}\n",
              "#T_27f01_row2_col1 {\n",
              "  background-color: #4a98c5;\n",
              "  color: #f1f1f1;\n",
              "}\n",
              "#T_27f01_row3_col1 {\n",
              "  background-color: #8fb4d6;\n",
              "  color: #000000;\n",
              "}\n",
              "#T_27f01_row4_col1 {\n",
              "  background-color: #91b5d6;\n",
              "  color: #000000;\n",
              "}\n",
              "#T_27f01_row5_col1 {\n",
              "  background-color: #fef6fb;\n",
              "  color: #000000;\n",
              "}\n",
              "#T_27f01_row6_col1 {\n",
              "  background-color: #fff7fb;\n",
              "  color: #000000;\n",
              "}\n",
              "</style>\n",
              "<table id=\"T_27f01_\" class=\"dataframe\">\n",
              "  <thead>\n",
              "    <tr>\n",
              "      <th class=\"blank level0\" >&nbsp;</th>\n",
              "      <th class=\"col_heading level0 col0\" >index</th>\n",
              "      <th class=\"col_heading level0 col1\" >rating</th>\n",
              "    </tr>\n",
              "  </thead>\n",
              "  <tbody>\n",
              "    <tr>\n",
              "      <th id=\"T_27f01_level0_row0\" class=\"row_heading level0 row0\" >0</th>\n",
              "      <td id=\"T_27f01_row0_col0\" class=\"data row0 col0\" >rating_T</td>\n",
              "      <td id=\"T_27f01_row0_col1\" class=\"data row0 col1\" >2636</td>\n",
              "    </tr>\n",
              "    <tr>\n",
              "      <th id=\"T_27f01_level0_row1\" class=\"row_heading level0 row1\" >1</th>\n",
              "      <td id=\"T_27f01_row1_col0\" class=\"data row1 col0\" >rating_E</td>\n",
              "      <td id=\"T_27f01_row1_col1\" class=\"data row1 col1\" >2377</td>\n",
              "    </tr>\n",
              "    <tr>\n",
              "      <th id=\"T_27f01_level0_row2\" class=\"row_heading level0 row2\" >2</th>\n",
              "      <td id=\"T_27f01_row2_col0\" class=\"data row2 col0\" >rating_M</td>\n",
              "      <td id=\"T_27f01_row2_col1\" class=\"data row2 col1\" >1535</td>\n",
              "    </tr>\n",
              "    <tr>\n",
              "      <th id=\"T_27f01_level0_row3\" class=\"row_heading level0 row3\" >3</th>\n",
              "      <td id=\"T_27f01_row3_col0\" class=\"data row3 col0\" >NULL</td>\n",
              "      <td id=\"T_27f01_row3_col1\" class=\"data row3 col1\" >1140</td>\n",
              "    </tr>\n",
              "    <tr>\n",
              "      <th id=\"T_27f01_level0_row4\" class=\"row_heading level0 row4\" >4</th>\n",
              "      <td id=\"T_27f01_row4_col0\" class=\"data row4 col0\" >rating_E10+</td>\n",
              "      <td id=\"T_27f01_row4_col1\" class=\"data row4 col1\" >1128</td>\n",
              "    </tr>\n",
              "    <tr>\n",
              "      <th id=\"T_27f01_level0_row5\" class=\"row_heading level0 row5\" >5</th>\n",
              "      <td id=\"T_27f01_row5_col0\" class=\"data row5 col0\" >rating_RP</td>\n",
              "      <td id=\"T_27f01_row5_col1\" class=\"data row5 col1\" >14</td>\n",
              "    </tr>\n",
              "    <tr>\n",
              "      <th id=\"T_27f01_level0_row6\" class=\"row_heading level0 row6\" >6</th>\n",
              "      <td id=\"T_27f01_row6_col0\" class=\"data row6 col0\" >rating_AO</td>\n",
              "      <td id=\"T_27f01_row6_col1\" class=\"data row6 col1\" >1</td>\n",
              "    </tr>\n",
              "  </tbody>\n",
              "</table>\n"
            ]
          },
          "metadata": {},
          "execution_count": 63
        }
      ]
    },
    {
      "cell_type": "markdown",
      "source": [
        "# 4.Рекомендации стейкхолдерам\n",
        "* Оценки критиков и пользователей следует сделать частными для каждой платформы, на которой представлен игровой тайтл.\n",
        "\n",
        "* При пополнении коллекции цифровых продуктов сервиса следует обратить внимание на:\n",
        "  * тайтлы, поддерживаемые ПК (из-за большой распространённости платформы)\n",
        "  * тайтлы, представленные на нескольких платформах (охват большой аудитории)\n",
        "  * тайтлы разработчиков, лидирующих по охвату игровых платформ и количеству выпущенных игр \n",
        "  * тайтлы в наиболее часто встречающихся жанрах (такие жанры явно востребованы больше других)\n",
        "\n",
        "* Требования к данным:\n",
        "  * учесть различия возрастных рейтингов для пользователей сервиса из других стран.\n",
        "  * данные о странах выпуска и датах выхода видеоигр могли бы значительно повысить ценность данных и помогли бы найти новые закономерности.\n"
      ],
      "metadata": {
        "id": "MO430-RWxrpq"
      }
    },
    {
      "cell_type": "markdown",
      "source": [
        "# 5.Создание функции рекомендаций"
      ],
      "metadata": {
        "id": "YN27ySGBw8tW"
      }
    },
    {
      "cell_type": "markdown",
      "source": [
        "## Выбор оптимального типа рекомендательной системы\n",
        "В данных по видеоиграм преимущественно содержатся характеристики игровых тайтлов, а именно: жанр, платформа, тип игры, разработчик, возрастной рейтинг. \n",
        "\n",
        "Исходя из этого, оптимальным вариантом реализации рекомендательной системы будет функция, составляющая рекомендацию на основе метаданных игровых тайтлов.\n"
      ],
      "metadata": {
        "id": "BlsRnyxLxPNi"
      }
    },
    {
      "cell_type": "markdown",
      "source": [
        "## Отбор ключевых слов для добавления в метаданные."
      ],
      "metadata": {
        "id": "OSxeQtm66H2N"
      }
    },
    {
      "cell_type": "markdown",
      "source": [
        "### Загружаю библиотеку SpaCy, необходимую для обработки текстовых описаний видеоигр."
      ],
      "metadata": {
        "id": "RRlkuhLx6H2P"
      }
    },
    {
      "cell_type": "code",
      "source": [
        "import spacy"
      ],
      "metadata": {
        "id": "nifeskWD6H2P"
      },
      "execution_count": null,
      "outputs": []
    },
    {
      "cell_type": "markdown",
      "source": [
        "Создам новый датафрейм на основе названий игр и их описаний."
      ],
      "metadata": {
        "id": "BpFCWAP76H2Q"
      }
    },
    {
      "cell_type": "code",
      "source": [
        "kw = df.copy()\n",
        "kw = kw[['game_name','description']]"
      ],
      "metadata": {
        "id": "pEdWP8gA6H2Q"
      },
      "execution_count": null,
      "outputs": []
    },
    {
      "cell_type": "code",
      "source": [
        "kw.head()"
      ],
      "metadata": {
        "colab": {
          "base_uri": "https://localhost:8080/",
          "height": 206
        },
        "outputId": "d78fea5c-0833-4c44-d3cc-58b64ce037e8",
        "id": "40LA0WEt6H2R"
      },
      "execution_count": null,
      "outputs": [
        {
          "output_type": "execute_result",
          "data": {
            "text/plain": [
              "                              game_name  \\\n",
              "0  The Legend of Zelda: Ocarina of Time   \n",
              "1                    Super Mario Galaxy   \n",
              "2                  Super Mario Galaxy 2   \n",
              "3                         Metroid Prime   \n",
              "4                   Super Mario Odyssey   \n",
              "\n",
              "                                         description  \n",
              "0  As a young boy, Link is tricked by Ganondorf, ...  \n",
              "1  [Metacritic's 2007 Wii Game of the Year] The u...  \n",
              "2  Super Mario Galaxy 2, the sequel to the galaxy...  \n",
              "3  Samus returns in a new mission to unravel the ...  \n",
              "4  New Evolution of Mario Sandbox-Style Gameplay....  "
            ],
            "text/html": [
              "\n",
              "  <div id=\"df-af0e2cfa-30a3-48a1-bdb7-8a789c230ab1\">\n",
              "    <div class=\"colab-df-container\">\n",
              "      <div>\n",
              "<style scoped>\n",
              "    .dataframe tbody tr th:only-of-type {\n",
              "        vertical-align: middle;\n",
              "    }\n",
              "\n",
              "    .dataframe tbody tr th {\n",
              "        vertical-align: top;\n",
              "    }\n",
              "\n",
              "    .dataframe thead th {\n",
              "        text-align: right;\n",
              "    }\n",
              "</style>\n",
              "<table border=\"1\" class=\"dataframe\">\n",
              "  <thead>\n",
              "    <tr style=\"text-align: right;\">\n",
              "      <th></th>\n",
              "      <th>game_name</th>\n",
              "      <th>description</th>\n",
              "    </tr>\n",
              "  </thead>\n",
              "  <tbody>\n",
              "    <tr>\n",
              "      <th>0</th>\n",
              "      <td>The Legend of Zelda: Ocarina of Time</td>\n",
              "      <td>As a young boy, Link is tricked by Ganondorf, ...</td>\n",
              "    </tr>\n",
              "    <tr>\n",
              "      <th>1</th>\n",
              "      <td>Super Mario Galaxy</td>\n",
              "      <td>[Metacritic's 2007 Wii Game of the Year] The u...</td>\n",
              "    </tr>\n",
              "    <tr>\n",
              "      <th>2</th>\n",
              "      <td>Super Mario Galaxy 2</td>\n",
              "      <td>Super Mario Galaxy 2, the sequel to the galaxy...</td>\n",
              "    </tr>\n",
              "    <tr>\n",
              "      <th>3</th>\n",
              "      <td>Metroid Prime</td>\n",
              "      <td>Samus returns in a new mission to unravel the ...</td>\n",
              "    </tr>\n",
              "    <tr>\n",
              "      <th>4</th>\n",
              "      <td>Super Mario Odyssey</td>\n",
              "      <td>New Evolution of Mario Sandbox-Style Gameplay....</td>\n",
              "    </tr>\n",
              "  </tbody>\n",
              "</table>\n",
              "</div>\n",
              "      <button class=\"colab-df-convert\" onclick=\"convertToInteractive('df-af0e2cfa-30a3-48a1-bdb7-8a789c230ab1')\"\n",
              "              title=\"Convert this dataframe to an interactive table.\"\n",
              "              style=\"display:none;\">\n",
              "        \n",
              "  <svg xmlns=\"http://www.w3.org/2000/svg\" height=\"24px\"viewBox=\"0 0 24 24\"\n",
              "       width=\"24px\">\n",
              "    <path d=\"M0 0h24v24H0V0z\" fill=\"none\"/>\n",
              "    <path d=\"M18.56 5.44l.94 2.06.94-2.06 2.06-.94-2.06-.94-.94-2.06-.94 2.06-2.06.94zm-11 1L8.5 8.5l.94-2.06 2.06-.94-2.06-.94L8.5 2.5l-.94 2.06-2.06.94zm10 10l.94 2.06.94-2.06 2.06-.94-2.06-.94-.94-2.06-.94 2.06-2.06.94z\"/><path d=\"M17.41 7.96l-1.37-1.37c-.4-.4-.92-.59-1.43-.59-.52 0-1.04.2-1.43.59L10.3 9.45l-7.72 7.72c-.78.78-.78 2.05 0 2.83L4 21.41c.39.39.9.59 1.41.59.51 0 1.02-.2 1.41-.59l7.78-7.78 2.81-2.81c.8-.78.8-2.07 0-2.86zM5.41 20L4 18.59l7.72-7.72 1.47 1.35L5.41 20z\"/>\n",
              "  </svg>\n",
              "      </button>\n",
              "      \n",
              "  <style>\n",
              "    .colab-df-container {\n",
              "      display:flex;\n",
              "      flex-wrap:wrap;\n",
              "      gap: 12px;\n",
              "    }\n",
              "\n",
              "    .colab-df-convert {\n",
              "      background-color: #E8F0FE;\n",
              "      border: none;\n",
              "      border-radius: 50%;\n",
              "      cursor: pointer;\n",
              "      display: none;\n",
              "      fill: #1967D2;\n",
              "      height: 32px;\n",
              "      padding: 0 0 0 0;\n",
              "      width: 32px;\n",
              "    }\n",
              "\n",
              "    .colab-df-convert:hover {\n",
              "      background-color: #E2EBFA;\n",
              "      box-shadow: 0px 1px 2px rgba(60, 64, 67, 0.3), 0px 1px 3px 1px rgba(60, 64, 67, 0.15);\n",
              "      fill: #174EA6;\n",
              "    }\n",
              "\n",
              "    [theme=dark] .colab-df-convert {\n",
              "      background-color: #3B4455;\n",
              "      fill: #D2E3FC;\n",
              "    }\n",
              "\n",
              "    [theme=dark] .colab-df-convert:hover {\n",
              "      background-color: #434B5C;\n",
              "      box-shadow: 0px 1px 3px 1px rgba(0, 0, 0, 0.15);\n",
              "      filter: drop-shadow(0px 1px 2px rgba(0, 0, 0, 0.3));\n",
              "      fill: #FFFFFF;\n",
              "    }\n",
              "  </style>\n",
              "\n",
              "      <script>\n",
              "        const buttonEl =\n",
              "          document.querySelector('#df-af0e2cfa-30a3-48a1-bdb7-8a789c230ab1 button.colab-df-convert');\n",
              "        buttonEl.style.display =\n",
              "          google.colab.kernel.accessAllowed ? 'block' : 'none';\n",
              "\n",
              "        async function convertToInteractive(key) {\n",
              "          const element = document.querySelector('#df-af0e2cfa-30a3-48a1-bdb7-8a789c230ab1');\n",
              "          const dataTable =\n",
              "            await google.colab.kernel.invokeFunction('convertToInteractive',\n",
              "                                                     [key], {});\n",
              "          if (!dataTable) return;\n",
              "\n",
              "          const docLinkHtml = 'Like what you see? Visit the ' +\n",
              "            '<a target=\"_blank\" href=https://colab.research.google.com/notebooks/data_table.ipynb>data table notebook</a>'\n",
              "            + ' to learn more about interactive tables.';\n",
              "          element.innerHTML = '';\n",
              "          dataTable['output_type'] = 'display_data';\n",
              "          await google.colab.output.renderOutput(dataTable, element);\n",
              "          const docLink = document.createElement('div');\n",
              "          docLink.innerHTML = docLinkHtml;\n",
              "          element.appendChild(docLink);\n",
              "        }\n",
              "      </script>\n",
              "    </div>\n",
              "  </div>\n",
              "  "
            ]
          },
          "metadata": {},
          "execution_count": 66
        }
      ]
    },
    {
      "cell_type": "markdown",
      "source": [
        "### Нужно определить слова, используемые в описании наиболее и наименее часто."
      ],
      "metadata": {
        "id": "pS9_-bQN6H2S"
      }
    },
    {
      "cell_type": "markdown",
      "source": [
        "50 наиболее часто употребляемых слов."
      ],
      "metadata": {
        "id": "Nf5zTOTQ6H2S"
      }
    },
    {
      "cell_type": "code",
      "source": [
        "more = pd.Series(' '.join(kw.description).split()).value_counts()[:50]\n",
        "more"
      ],
      "metadata": {
        "colab": {
          "base_uri": "https://localhost:8080/"
        },
        "outputId": "5c05ad8f-37e5-49b3-b780-6b7d198c6140",
        "id": "YmtetVzl6H2S"
      },
      "execution_count": null,
      "outputs": [
        {
          "output_type": "execute_result",
          "data": {
            "text/plain": [
              "the         47531\n",
              "and         33352\n",
              "of          25809\n",
              "to          23231\n",
              "a           20083\n",
              "in          13280\n",
              "with         8950\n",
              "your         8067\n",
              "is           7135\n",
              "you          6698\n",
              "as           6218\n",
              "on           5694\n",
              "for          5569\n",
              "new          5271\n",
              "The          5026\n",
              "from         4701\n",
              "an           4652\n",
              "that         4537\n",
              "game         4118\n",
              "their        3459\n",
              "by           3417\n",
              "or           3227\n",
              "players      3187\n",
              "will         3172\n",
              "can          3059\n",
              "are          2515\n",
              "through      2419\n",
              "into         2385\n",
              "his          2314\n",
              "all          2252\n",
              "up           2235\n",
              "world        2201\n",
              "this         1943\n",
              "be           1888\n",
              "has          1863\n",
              "-            1838\n",
              "more         1765\n",
              "have         1729\n",
              "In           1640\n",
              "they         1499\n",
              "at           1478\n",
              "one          1432\n",
              "take         1389\n",
              "it           1359\n",
              "play         1334\n",
              "unique       1306\n",
              "out          1288\n",
              "each         1250\n",
              "who          1244\n",
              "features     1227\n",
              "dtype: int64"
            ]
          },
          "metadata": {},
          "execution_count": 67
        }
      ]
    },
    {
      "cell_type": "markdown",
      "source": [
        "50 наименее часто употребляемых слов."
      ],
      "metadata": {
        "id": "4b-FX7xu6H2T"
      }
    },
    {
      "cell_type": "code",
      "source": [
        "less =  pd.Series(' '.join(kw \n",
        "         ['description']).split()).value_counts()[-50:]\n",
        "less"
      ],
      "metadata": {
        "colab": {
          "base_uri": "https://localhost:8080/"
        },
        "outputId": "2ae71b14-efe0-49ef-998c-9706d96af523",
        "id": "Xz71iQUy6H2T"
      },
      "execution_count": null,
      "outputs": [
        {
          "output_type": "execute_result",
          "data": {
            "text/plain": [
              "“research          1\n",
              "any.               1\n",
              "Mii-like           1\n",
              "Nationals          1\n",
              "scooter)           1\n",
              "(racing            1\n",
              "Investigation.     1\n",
              "simulations:       1\n",
              "n°1                1\n",
              "personal.          1\n",
              "Seat’              1\n",
              "Marks,             1\n",
              "inhabit.           1\n",
              "grit,              1\n",
              "SPORTS,            1\n",
              "COMPLETELY         1\n",
              "MotionPlus™.       1\n",
              "winner’s           1\n",
              "Kayaking,          1\n",
              "Fencing,           1\n",
              "(Snowboarding),    1\n",
              "(Skiing),          1\n",
              "Springboard        1\n",
              "Diving,            1\n",
              "there:             1\n",
              "Cutting!           1\n",
              "(Volleyball,       1\n",
              "Fencing)!          1\n",
              "overlord.          1\n",
              "’Hot               1\n",
              "Hermann            1\n",
              "chase.             1\n",
              "Klempt             1\n",
              "brawler,           1\n",
              "Cannoli’s          1\n",
              "Vinnie             1\n",
              "straggler          1\n",
              "Sapein             1\n",
              "Liz                1\n",
              "Cannoli,           1\n",
              "Ock.               1\n",
              "WINTER             1\n",
              "arcade-oriented    1\n",
              "Tarawa.            1\n",
              "TVTV               1\n",
              "Conlin             1\n",
              "1941-1944,         1\n",
              "Atoll.             1\n",
              "Tarawa             1\n",
              "pulse-pounding,    1\n",
              "dtype: int64"
            ]
          },
          "metadata": {},
          "execution_count": 68
        }
      ]
    },
    {
      "cell_type": "markdown",
      "source": [
        "Одни и те же слова, написанные в разном регистре, считаются как разные. Также есть проблема с \"засорённостью\" знаками пунктуации."
      ],
      "metadata": {
        "id": "E21kPQtz6H2U"
      }
    },
    {
      "cell_type": "markdown",
      "source": [
        "### Очистка данных."
      ],
      "metadata": {
        "id": "5PZA4JLy6H2U"
      }
    },
    {
      "cell_type": "markdown",
      "source": [
        "Чтобы исключить шумы в виде очень часто встречающихся слов, воспользуюсь готовым списком стоп-слов и добавлю к нему:\n",
        "\n",
        "* слова игровой тематики, такие как \"игра\" или \"игрок\" \n",
        "* слова, попавшие в перечень часто используемых\n",
        "* 'NULL', используемый как индикатор отсутствия значения в ячейке."
      ],
      "metadata": {
        "id": "-6PiyF9q6H2V"
      }
    },
    {
      "cell_type": "code",
      "source": [
        "nlp = spacy.load(\"en_core_web_sm\", disable=['parser', 'ner'])\n",
        "stop_words = nlp.Defaults.stop_words\n",
        "my_stop_words = ['game', 'play', 'player', 'gameplay', 'feature', 'new', 'world', 'null']\n",
        "stop_words = stop_words.union(my_stop_words)"
      ],
      "metadata": {
        "id": "_I7xG4Jr6H2V"
      },
      "execution_count": null,
      "outputs": []
    },
    {
      "cell_type": "markdown",
      "source": [
        "Приведу слова, используемые в описаниях, к словарной форме с помощью лемматизации."
      ],
      "metadata": {
        "id": "nVmMHSzv6H2Y"
      }
    },
    {
      "cell_type": "code",
      "source": [
        "kw['description'] = kw['description'].apply(lambda x: \" \".join([y.lemma_ for y in nlp(x)]))"
      ],
      "metadata": {
        "id": "x_ZXLsnK6H2Y"
      },
      "execution_count": null,
      "outputs": []
    },
    {
      "cell_type": "code",
      "source": [
        "kw.head()"
      ],
      "metadata": {
        "colab": {
          "base_uri": "https://localhost:8080/",
          "height": 206
        },
        "outputId": "cbe899b4-7a2d-437b-a42b-a79d3f2d36d6",
        "id": "c0B_RmdW6H2Z"
      },
      "execution_count": null,
      "outputs": [
        {
          "output_type": "execute_result",
          "data": {
            "text/plain": [
              "                              game_name  \\\n",
              "0  The Legend of Zelda: Ocarina of Time   \n",
              "1                    Super Mario Galaxy   \n",
              "2                  Super Mario Galaxy 2   \n",
              "3                         Metroid Prime   \n",
              "4                   Super Mario Odyssey   \n",
              "\n",
              "                                         description  \n",
              "0  as a young boy , Link be trick by Ganondorf , ...  \n",
              "1  [ Metacritic 's 2007 Wii Game of the Year ] th...  \n",
              "2  Super Mario Galaxy 2 , the sequel to the galax...  \n",
              "3  samus return in a new mission to unravel the m...  \n",
              "4  New Evolution of Mario Sandbox - Style Gamepla...  "
            ],
            "text/html": [
              "\n",
              "  <div id=\"df-5275c29a-f431-4063-8012-b4c669375d33\">\n",
              "    <div class=\"colab-df-container\">\n",
              "      <div>\n",
              "<style scoped>\n",
              "    .dataframe tbody tr th:only-of-type {\n",
              "        vertical-align: middle;\n",
              "    }\n",
              "\n",
              "    .dataframe tbody tr th {\n",
              "        vertical-align: top;\n",
              "    }\n",
              "\n",
              "    .dataframe thead th {\n",
              "        text-align: right;\n",
              "    }\n",
              "</style>\n",
              "<table border=\"1\" class=\"dataframe\">\n",
              "  <thead>\n",
              "    <tr style=\"text-align: right;\">\n",
              "      <th></th>\n",
              "      <th>game_name</th>\n",
              "      <th>description</th>\n",
              "    </tr>\n",
              "  </thead>\n",
              "  <tbody>\n",
              "    <tr>\n",
              "      <th>0</th>\n",
              "      <td>The Legend of Zelda: Ocarina of Time</td>\n",
              "      <td>as a young boy , Link be trick by Ganondorf , ...</td>\n",
              "    </tr>\n",
              "    <tr>\n",
              "      <th>1</th>\n",
              "      <td>Super Mario Galaxy</td>\n",
              "      <td>[ Metacritic 's 2007 Wii Game of the Year ] th...</td>\n",
              "    </tr>\n",
              "    <tr>\n",
              "      <th>2</th>\n",
              "      <td>Super Mario Galaxy 2</td>\n",
              "      <td>Super Mario Galaxy 2 , the sequel to the galax...</td>\n",
              "    </tr>\n",
              "    <tr>\n",
              "      <th>3</th>\n",
              "      <td>Metroid Prime</td>\n",
              "      <td>samus return in a new mission to unravel the m...</td>\n",
              "    </tr>\n",
              "    <tr>\n",
              "      <th>4</th>\n",
              "      <td>Super Mario Odyssey</td>\n",
              "      <td>New Evolution of Mario Sandbox - Style Gamepla...</td>\n",
              "    </tr>\n",
              "  </tbody>\n",
              "</table>\n",
              "</div>\n",
              "      <button class=\"colab-df-convert\" onclick=\"convertToInteractive('df-5275c29a-f431-4063-8012-b4c669375d33')\"\n",
              "              title=\"Convert this dataframe to an interactive table.\"\n",
              "              style=\"display:none;\">\n",
              "        \n",
              "  <svg xmlns=\"http://www.w3.org/2000/svg\" height=\"24px\"viewBox=\"0 0 24 24\"\n",
              "       width=\"24px\">\n",
              "    <path d=\"M0 0h24v24H0V0z\" fill=\"none\"/>\n",
              "    <path d=\"M18.56 5.44l.94 2.06.94-2.06 2.06-.94-2.06-.94-.94-2.06-.94 2.06-2.06.94zm-11 1L8.5 8.5l.94-2.06 2.06-.94-2.06-.94L8.5 2.5l-.94 2.06-2.06.94zm10 10l.94 2.06.94-2.06 2.06-.94-2.06-.94-.94-2.06-.94 2.06-2.06.94z\"/><path d=\"M17.41 7.96l-1.37-1.37c-.4-.4-.92-.59-1.43-.59-.52 0-1.04.2-1.43.59L10.3 9.45l-7.72 7.72c-.78.78-.78 2.05 0 2.83L4 21.41c.39.39.9.59 1.41.59.51 0 1.02-.2 1.41-.59l7.78-7.78 2.81-2.81c.8-.78.8-2.07 0-2.86zM5.41 20L4 18.59l7.72-7.72 1.47 1.35L5.41 20z\"/>\n",
              "  </svg>\n",
              "      </button>\n",
              "      \n",
              "  <style>\n",
              "    .colab-df-container {\n",
              "      display:flex;\n",
              "      flex-wrap:wrap;\n",
              "      gap: 12px;\n",
              "    }\n",
              "\n",
              "    .colab-df-convert {\n",
              "      background-color: #E8F0FE;\n",
              "      border: none;\n",
              "      border-radius: 50%;\n",
              "      cursor: pointer;\n",
              "      display: none;\n",
              "      fill: #1967D2;\n",
              "      height: 32px;\n",
              "      padding: 0 0 0 0;\n",
              "      width: 32px;\n",
              "    }\n",
              "\n",
              "    .colab-df-convert:hover {\n",
              "      background-color: #E2EBFA;\n",
              "      box-shadow: 0px 1px 2px rgba(60, 64, 67, 0.3), 0px 1px 3px 1px rgba(60, 64, 67, 0.15);\n",
              "      fill: #174EA6;\n",
              "    }\n",
              "\n",
              "    [theme=dark] .colab-df-convert {\n",
              "      background-color: #3B4455;\n",
              "      fill: #D2E3FC;\n",
              "    }\n",
              "\n",
              "    [theme=dark] .colab-df-convert:hover {\n",
              "      background-color: #434B5C;\n",
              "      box-shadow: 0px 1px 3px 1px rgba(0, 0, 0, 0.15);\n",
              "      filter: drop-shadow(0px 1px 2px rgba(0, 0, 0, 0.3));\n",
              "      fill: #FFFFFF;\n",
              "    }\n",
              "  </style>\n",
              "\n",
              "      <script>\n",
              "        const buttonEl =\n",
              "          document.querySelector('#df-5275c29a-f431-4063-8012-b4c669375d33 button.colab-df-convert');\n",
              "        buttonEl.style.display =\n",
              "          google.colab.kernel.accessAllowed ? 'block' : 'none';\n",
              "\n",
              "        async function convertToInteractive(key) {\n",
              "          const element = document.querySelector('#df-5275c29a-f431-4063-8012-b4c669375d33');\n",
              "          const dataTable =\n",
              "            await google.colab.kernel.invokeFunction('convertToInteractive',\n",
              "                                                     [key], {});\n",
              "          if (!dataTable) return;\n",
              "\n",
              "          const docLinkHtml = 'Like what you see? Visit the ' +\n",
              "            '<a target=\"_blank\" href=https://colab.research.google.com/notebooks/data_table.ipynb>data table notebook</a>'\n",
              "            + ' to learn more about interactive tables.';\n",
              "          element.innerHTML = '';\n",
              "          dataTable['output_type'] = 'display_data';\n",
              "          await google.colab.output.renderOutput(dataTable, element);\n",
              "          const docLink = document.createElement('div');\n",
              "          docLink.innerHTML = docLinkHtml;\n",
              "          element.appendChild(docLink);\n",
              "        }\n",
              "      </script>\n",
              "    </div>\n",
              "  </div>\n",
              "  "
            ]
          },
          "metadata": {},
          "execution_count": 71
        }
      ]
    },
    {
      "cell_type": "markdown",
      "source": [
        "### Создам новый столбец, куда будут записаны ключевые слова.\n",
        "* приведу все слова к нижнему регистру\n",
        "* в процессе переноса отдельных слов из описания в новый столбец отфильтрую данные на наличие стоп-слов\n",
        "* удалю числительные и знаки препинания\n",
        "* представлю содержимое нового столбца в виде списка ключевых слов для каждого игрового тайтла\n",
        "* столбец с описаниями мне больше не пригодится - исключу его"
      ],
      "metadata": {
        "id": "qNO7eTVp6H2Z"
      }
    },
    {
      "cell_type": "code",
      "source": [
        "kw['description'] = kw['description'].str.lower()"
      ],
      "metadata": {
        "id": "SMkd53hA6H2a"
      },
      "execution_count": null,
      "outputs": []
    },
    {
      "cell_type": "code",
      "source": [
        "kw['keywords'] = kw['description'].apply(\n",
        "    lambda x: ' '.join([item for item in x.split() if item not in stop_words]))"
      ],
      "metadata": {
        "id": "-PzoVUzN6H2b"
      },
      "execution_count": null,
      "outputs": []
    },
    {
      "cell_type": "code",
      "source": [
        "kw['keywords'] = kw['keywords'].str.replace('[^a-z]', ' ',regex = True)"
      ],
      "metadata": {
        "id": "8HuBguZ_6H2b"
      },
      "execution_count": null,
      "outputs": []
    },
    {
      "cell_type": "code",
      "source": [
        "kw['keywords'] = kw['keywords'].str.split()"
      ],
      "metadata": {
        "id": "wN5j1B8g6H2c"
      },
      "execution_count": null,
      "outputs": []
    },
    {
      "cell_type": "code",
      "source": [
        "kw = kw[['game_name', 'keywords']]"
      ],
      "metadata": {
        "id": "XOCR6-NG6H2c"
      },
      "execution_count": null,
      "outputs": []
    },
    {
      "cell_type": "code",
      "source": [
        "kw.head()"
      ],
      "metadata": {
        "colab": {
          "base_uri": "https://localhost:8080/",
          "height": 206
        },
        "outputId": "d73f894d-bb7b-453f-f691-ceb567cf7762",
        "id": "-EJZ1UKP6H2d"
      },
      "execution_count": null,
      "outputs": [
        {
          "output_type": "execute_result",
          "data": {
            "text/plain": [
              "                              game_name  \\\n",
              "0  The Legend of Zelda: Ocarina of Time   \n",
              "1                    Super Mario Galaxy   \n",
              "2                  Super Mario Galaxy 2   \n",
              "3                         Metroid Prime   \n",
              "4                   Super Mario Odyssey   \n",
              "\n",
              "                                            keywords  \n",
              "0  [young, boy, link, trick, ganondorf, king, ger...  \n",
              "1  [metacritic, wii, year, ultimate, nintendo, he...  \n",
              "2  [super, mario, galaxy, sequel, galaxy, hop, or...  \n",
              "3  [samus, return, mission, unravel, mystery, rui...  \n",
              "4  [evolution, mario, sandbox, style, mario, emba...  "
            ],
            "text/html": [
              "\n",
              "  <div id=\"df-d9994a4e-67de-446b-b122-a75a0657ae6c\">\n",
              "    <div class=\"colab-df-container\">\n",
              "      <div>\n",
              "<style scoped>\n",
              "    .dataframe tbody tr th:only-of-type {\n",
              "        vertical-align: middle;\n",
              "    }\n",
              "\n",
              "    .dataframe tbody tr th {\n",
              "        vertical-align: top;\n",
              "    }\n",
              "\n",
              "    .dataframe thead th {\n",
              "        text-align: right;\n",
              "    }\n",
              "</style>\n",
              "<table border=\"1\" class=\"dataframe\">\n",
              "  <thead>\n",
              "    <tr style=\"text-align: right;\">\n",
              "      <th></th>\n",
              "      <th>game_name</th>\n",
              "      <th>keywords</th>\n",
              "    </tr>\n",
              "  </thead>\n",
              "  <tbody>\n",
              "    <tr>\n",
              "      <th>0</th>\n",
              "      <td>The Legend of Zelda: Ocarina of Time</td>\n",
              "      <td>[young, boy, link, trick, ganondorf, king, ger...</td>\n",
              "    </tr>\n",
              "    <tr>\n",
              "      <th>1</th>\n",
              "      <td>Super Mario Galaxy</td>\n",
              "      <td>[metacritic, wii, year, ultimate, nintendo, he...</td>\n",
              "    </tr>\n",
              "    <tr>\n",
              "      <th>2</th>\n",
              "      <td>Super Mario Galaxy 2</td>\n",
              "      <td>[super, mario, galaxy, sequel, galaxy, hop, or...</td>\n",
              "    </tr>\n",
              "    <tr>\n",
              "      <th>3</th>\n",
              "      <td>Metroid Prime</td>\n",
              "      <td>[samus, return, mission, unravel, mystery, rui...</td>\n",
              "    </tr>\n",
              "    <tr>\n",
              "      <th>4</th>\n",
              "      <td>Super Mario Odyssey</td>\n",
              "      <td>[evolution, mario, sandbox, style, mario, emba...</td>\n",
              "    </tr>\n",
              "  </tbody>\n",
              "</table>\n",
              "</div>\n",
              "      <button class=\"colab-df-convert\" onclick=\"convertToInteractive('df-d9994a4e-67de-446b-b122-a75a0657ae6c')\"\n",
              "              title=\"Convert this dataframe to an interactive table.\"\n",
              "              style=\"display:none;\">\n",
              "        \n",
              "  <svg xmlns=\"http://www.w3.org/2000/svg\" height=\"24px\"viewBox=\"0 0 24 24\"\n",
              "       width=\"24px\">\n",
              "    <path d=\"M0 0h24v24H0V0z\" fill=\"none\"/>\n",
              "    <path d=\"M18.56 5.44l.94 2.06.94-2.06 2.06-.94-2.06-.94-.94-2.06-.94 2.06-2.06.94zm-11 1L8.5 8.5l.94-2.06 2.06-.94-2.06-.94L8.5 2.5l-.94 2.06-2.06.94zm10 10l.94 2.06.94-2.06 2.06-.94-2.06-.94-.94-2.06-.94 2.06-2.06.94z\"/><path d=\"M17.41 7.96l-1.37-1.37c-.4-.4-.92-.59-1.43-.59-.52 0-1.04.2-1.43.59L10.3 9.45l-7.72 7.72c-.78.78-.78 2.05 0 2.83L4 21.41c.39.39.9.59 1.41.59.51 0 1.02-.2 1.41-.59l7.78-7.78 2.81-2.81c.8-.78.8-2.07 0-2.86zM5.41 20L4 18.59l7.72-7.72 1.47 1.35L5.41 20z\"/>\n",
              "  </svg>\n",
              "      </button>\n",
              "      \n",
              "  <style>\n",
              "    .colab-df-container {\n",
              "      display:flex;\n",
              "      flex-wrap:wrap;\n",
              "      gap: 12px;\n",
              "    }\n",
              "\n",
              "    .colab-df-convert {\n",
              "      background-color: #E8F0FE;\n",
              "      border: none;\n",
              "      border-radius: 50%;\n",
              "      cursor: pointer;\n",
              "      display: none;\n",
              "      fill: #1967D2;\n",
              "      height: 32px;\n",
              "      padding: 0 0 0 0;\n",
              "      width: 32px;\n",
              "    }\n",
              "\n",
              "    .colab-df-convert:hover {\n",
              "      background-color: #E2EBFA;\n",
              "      box-shadow: 0px 1px 2px rgba(60, 64, 67, 0.3), 0px 1px 3px 1px rgba(60, 64, 67, 0.15);\n",
              "      fill: #174EA6;\n",
              "    }\n",
              "\n",
              "    [theme=dark] .colab-df-convert {\n",
              "      background-color: #3B4455;\n",
              "      fill: #D2E3FC;\n",
              "    }\n",
              "\n",
              "    [theme=dark] .colab-df-convert:hover {\n",
              "      background-color: #434B5C;\n",
              "      box-shadow: 0px 1px 3px 1px rgba(0, 0, 0, 0.15);\n",
              "      filter: drop-shadow(0px 1px 2px rgba(0, 0, 0, 0.3));\n",
              "      fill: #FFFFFF;\n",
              "    }\n",
              "  </style>\n",
              "\n",
              "      <script>\n",
              "        const buttonEl =\n",
              "          document.querySelector('#df-d9994a4e-67de-446b-b122-a75a0657ae6c button.colab-df-convert');\n",
              "        buttonEl.style.display =\n",
              "          google.colab.kernel.accessAllowed ? 'block' : 'none';\n",
              "\n",
              "        async function convertToInteractive(key) {\n",
              "          const element = document.querySelector('#df-d9994a4e-67de-446b-b122-a75a0657ae6c');\n",
              "          const dataTable =\n",
              "            await google.colab.kernel.invokeFunction('convertToInteractive',\n",
              "                                                     [key], {});\n",
              "          if (!dataTable) return;\n",
              "\n",
              "          const docLinkHtml = 'Like what you see? Visit the ' +\n",
              "            '<a target=\"_blank\" href=https://colab.research.google.com/notebooks/data_table.ipynb>data table notebook</a>'\n",
              "            + ' to learn more about interactive tables.';\n",
              "          element.innerHTML = '';\n",
              "          dataTable['output_type'] = 'display_data';\n",
              "          await google.colab.output.renderOutput(dataTable, element);\n",
              "          const docLink = document.createElement('div');\n",
              "          docLink.innerHTML = docLinkHtml;\n",
              "          element.appendChild(docLink);\n",
              "        }\n",
              "      </script>\n",
              "    </div>\n",
              "  </div>\n",
              "  "
            ]
          },
          "metadata": {},
          "execution_count": 77
        }
      ]
    },
    {
      "cell_type": "markdown",
      "source": [
        "Удалю появившиеся в результате лемматизации слов дубли."
      ],
      "metadata": {
        "id": "m5bRYAy36H2d"
      }
    },
    {
      "cell_type": "code",
      "source": [
        "for i in range(0,8831):\n",
        "  kw['keywords'][i] = list(dict.fromkeys(kw['keywords'][i]))"
      ],
      "metadata": {
        "id": "941VPDbJ6H2e"
      },
      "execution_count": null,
      "outputs": []
    },
    {
      "cell_type": "code",
      "source": [
        "kw.head()"
      ],
      "metadata": {
        "colab": {
          "base_uri": "https://localhost:8080/",
          "height": 206
        },
        "outputId": "1cda5db9-93dc-4070-836a-fc88167a17dc",
        "id": "KLBsJQ786H2e"
      },
      "execution_count": null,
      "outputs": [
        {
          "output_type": "execute_result",
          "data": {
            "text/plain": [
              "                              game_name  \\\n",
              "0  The Legend of Zelda: Ocarina of Time   \n",
              "1                    Super Mario Galaxy   \n",
              "2                  Super Mario Galaxy 2   \n",
              "3                         Metroid Prime   \n",
              "4                   Super Mario Odyssey   \n",
              "\n",
              "                                            keywords  \n",
              "0  [young, boy, link, trick, ganondorf, king, ger...  \n",
              "1  [metacritic, wii, year, ultimate, nintendo, he...  \n",
              "2  [super, mario, galaxy, sequel, hop, original, ...  \n",
              "3  [samus, return, mission, unravel, mystery, rui...  \n",
              "4  [evolution, mario, sandbox, style, embark, jou...  "
            ],
            "text/html": [
              "\n",
              "  <div id=\"df-9fc3e4b0-22d6-41d0-8a53-34dbb8ebebba\">\n",
              "    <div class=\"colab-df-container\">\n",
              "      <div>\n",
              "<style scoped>\n",
              "    .dataframe tbody tr th:only-of-type {\n",
              "        vertical-align: middle;\n",
              "    }\n",
              "\n",
              "    .dataframe tbody tr th {\n",
              "        vertical-align: top;\n",
              "    }\n",
              "\n",
              "    .dataframe thead th {\n",
              "        text-align: right;\n",
              "    }\n",
              "</style>\n",
              "<table border=\"1\" class=\"dataframe\">\n",
              "  <thead>\n",
              "    <tr style=\"text-align: right;\">\n",
              "      <th></th>\n",
              "      <th>game_name</th>\n",
              "      <th>keywords</th>\n",
              "    </tr>\n",
              "  </thead>\n",
              "  <tbody>\n",
              "    <tr>\n",
              "      <th>0</th>\n",
              "      <td>The Legend of Zelda: Ocarina of Time</td>\n",
              "      <td>[young, boy, link, trick, ganondorf, king, ger...</td>\n",
              "    </tr>\n",
              "    <tr>\n",
              "      <th>1</th>\n",
              "      <td>Super Mario Galaxy</td>\n",
              "      <td>[metacritic, wii, year, ultimate, nintendo, he...</td>\n",
              "    </tr>\n",
              "    <tr>\n",
              "      <th>2</th>\n",
              "      <td>Super Mario Galaxy 2</td>\n",
              "      <td>[super, mario, galaxy, sequel, hop, original, ...</td>\n",
              "    </tr>\n",
              "    <tr>\n",
              "      <th>3</th>\n",
              "      <td>Metroid Prime</td>\n",
              "      <td>[samus, return, mission, unravel, mystery, rui...</td>\n",
              "    </tr>\n",
              "    <tr>\n",
              "      <th>4</th>\n",
              "      <td>Super Mario Odyssey</td>\n",
              "      <td>[evolution, mario, sandbox, style, embark, jou...</td>\n",
              "    </tr>\n",
              "  </tbody>\n",
              "</table>\n",
              "</div>\n",
              "      <button class=\"colab-df-convert\" onclick=\"convertToInteractive('df-9fc3e4b0-22d6-41d0-8a53-34dbb8ebebba')\"\n",
              "              title=\"Convert this dataframe to an interactive table.\"\n",
              "              style=\"display:none;\">\n",
              "        \n",
              "  <svg xmlns=\"http://www.w3.org/2000/svg\" height=\"24px\"viewBox=\"0 0 24 24\"\n",
              "       width=\"24px\">\n",
              "    <path d=\"M0 0h24v24H0V0z\" fill=\"none\"/>\n",
              "    <path d=\"M18.56 5.44l.94 2.06.94-2.06 2.06-.94-2.06-.94-.94-2.06-.94 2.06-2.06.94zm-11 1L8.5 8.5l.94-2.06 2.06-.94-2.06-.94L8.5 2.5l-.94 2.06-2.06.94zm10 10l.94 2.06.94-2.06 2.06-.94-2.06-.94-.94-2.06-.94 2.06-2.06.94z\"/><path d=\"M17.41 7.96l-1.37-1.37c-.4-.4-.92-.59-1.43-.59-.52 0-1.04.2-1.43.59L10.3 9.45l-7.72 7.72c-.78.78-.78 2.05 0 2.83L4 21.41c.39.39.9.59 1.41.59.51 0 1.02-.2 1.41-.59l7.78-7.78 2.81-2.81c.8-.78.8-2.07 0-2.86zM5.41 20L4 18.59l7.72-7.72 1.47 1.35L5.41 20z\"/>\n",
              "  </svg>\n",
              "      </button>\n",
              "      \n",
              "  <style>\n",
              "    .colab-df-container {\n",
              "      display:flex;\n",
              "      flex-wrap:wrap;\n",
              "      gap: 12px;\n",
              "    }\n",
              "\n",
              "    .colab-df-convert {\n",
              "      background-color: #E8F0FE;\n",
              "      border: none;\n",
              "      border-radius: 50%;\n",
              "      cursor: pointer;\n",
              "      display: none;\n",
              "      fill: #1967D2;\n",
              "      height: 32px;\n",
              "      padding: 0 0 0 0;\n",
              "      width: 32px;\n",
              "    }\n",
              "\n",
              "    .colab-df-convert:hover {\n",
              "      background-color: #E2EBFA;\n",
              "      box-shadow: 0px 1px 2px rgba(60, 64, 67, 0.3), 0px 1px 3px 1px rgba(60, 64, 67, 0.15);\n",
              "      fill: #174EA6;\n",
              "    }\n",
              "\n",
              "    [theme=dark] .colab-df-convert {\n",
              "      background-color: #3B4455;\n",
              "      fill: #D2E3FC;\n",
              "    }\n",
              "\n",
              "    [theme=dark] .colab-df-convert:hover {\n",
              "      background-color: #434B5C;\n",
              "      box-shadow: 0px 1px 3px 1px rgba(0, 0, 0, 0.15);\n",
              "      filter: drop-shadow(0px 1px 2px rgba(0, 0, 0, 0.3));\n",
              "      fill: #FFFFFF;\n",
              "    }\n",
              "  </style>\n",
              "\n",
              "      <script>\n",
              "        const buttonEl =\n",
              "          document.querySelector('#df-9fc3e4b0-22d6-41d0-8a53-34dbb8ebebba button.colab-df-convert');\n",
              "        buttonEl.style.display =\n",
              "          google.colab.kernel.accessAllowed ? 'block' : 'none';\n",
              "\n",
              "        async function convertToInteractive(key) {\n",
              "          const element = document.querySelector('#df-9fc3e4b0-22d6-41d0-8a53-34dbb8ebebba');\n",
              "          const dataTable =\n",
              "            await google.colab.kernel.invokeFunction('convertToInteractive',\n",
              "                                                     [key], {});\n",
              "          if (!dataTable) return;\n",
              "\n",
              "          const docLinkHtml = 'Like what you see? Visit the ' +\n",
              "            '<a target=\"_blank\" href=https://colab.research.google.com/notebooks/data_table.ipynb>data table notebook</a>'\n",
              "            + ' to learn more about interactive tables.';\n",
              "          element.innerHTML = '';\n",
              "          dataTable['output_type'] = 'display_data';\n",
              "          await google.colab.output.renderOutput(dataTable, element);\n",
              "          const docLink = document.createElement('div');\n",
              "          docLink.innerHTML = docLinkHtml;\n",
              "          element.appendChild(docLink);\n",
              "        }\n",
              "      </script>\n",
              "    </div>\n",
              "  </div>\n",
              "  "
            ]
          },
          "metadata": {},
          "execution_count": 79
        }
      ]
    },
    {
      "cell_type": "markdown",
      "source": [
        "В результате я получил ключевые слова, которые в дальнейшем включу в метаданные для использования в функции рекомендаций."
      ],
      "metadata": {
        "id": "HVO-PlBk6H2f"
      }
    },
    {
      "cell_type": "markdown",
      "source": [
        "## Функция составления рекомендаций"
      ],
      "metadata": {
        "id": "638qc3y3Ry0v"
      }
    },
    {
      "cell_type": "markdown",
      "source": [
        "### Логика работы функции рекомендаций.\n",
        "* в качестве данных для ввода функция берёт название игрового тайтла.\n",
        "* использует индекс этого тайтла, чтобы создать пронумерованный список, содержащий значения косинусного сходства векторов метаданных каждой игры с вектором тайтла.\n",
        "* сортирует этот список по убыванию величины сходства\n",
        "* функция игнорирует первое значение в списке, так как это значение \"основной\" игры, и оставляет следующие за ним 10 значений.\n",
        "* у них берутся индексы, по которым функция возвращает названия игр, наиболее близких по косинусному сходству векторов их метаданных с вектором метаданных \"основного\" тайтла."
      ],
      "metadata": {
        "id": "SC2WxhiSgze4"
      }
    },
    {
      "cell_type": "markdown",
      "source": [
        "### Загружаю необходимые библиотеки."
      ],
      "metadata": {
        "id": "RMq7T-NLriYW"
      }
    },
    {
      "cell_type": "code",
      "source": [
        "from sklearn.metrics.pairwise import cosine_similarity\n",
        "from sklearn.feature_extraction.text import CountVectorizer"
      ],
      "metadata": {
        "id": "M0X3-Te2bDVm"
      },
      "execution_count": null,
      "outputs": []
    },
    {
      "cell_type": "markdown",
      "source": [
        "### Создаю копию начального датасета для работы по внесению изменений в данные."
      ],
      "metadata": {
        "id": "hobQ3TZdln2M"
      }
    },
    {
      "cell_type": "code",
      "source": [
        "gms = df.copy()"
      ],
      "metadata": {
        "id": "eTwhLtjDbcGL"
      },
      "execution_count": null,
      "outputs": []
    },
    {
      "cell_type": "markdown",
      "source": [
        "Столбцы с описаниями и ссылками мне не понадобятся."
      ],
      "metadata": {
        "id": "fw-6JC6EAIKn"
      }
    },
    {
      "cell_type": "code",
      "source": [
        "gms = gms[['game_name', 'meta_score', 'user_score', 'platform',\n",
        "           'developer', 'genre', 'type', 'rating']]"
      ],
      "metadata": {
        "id": "3Rw3RUy5czVu"
      },
      "execution_count": null,
      "outputs": []
    },
    {
      "cell_type": "markdown",
      "source": [
        "### Уберу из ячеек всё, что может помешать воспринимать данные, как уникальные:\n",
        " * например, Action Adventure нужно воспринимать как уникальный жанр, а не как жанры Action и Adventure. Необходимо убрать пробелы и лишние квадратные скобки.\n",
        " \n",
        " * для удобства представлю содержимое ячеек с метаданными в виде списков."
      ],
      "metadata": {
        "id": "dg3PInm3BI7j"
      }
    },
    {
      "cell_type": "code",
      "source": [
        "gms.platform = gms.platform.str.split(',')"
      ],
      "metadata": {
        "id": "nOWIrK3Wi5hE"
      },
      "execution_count": null,
      "outputs": []
    },
    {
      "cell_type": "code",
      "source": [
        "gms.genre = gms.genre.str.replace(' ', '', regex = False)\n",
        "gms.genre = gms.genre.str.replace(\n",
        "    '\\'', '', regex = False).str.strip('[]').str.split(',')"
      ],
      "metadata": {
        "id": "jzkyUiG19Tm5"
      },
      "execution_count": null,
      "outputs": []
    },
    {
      "cell_type": "code",
      "source": [
        "gms.meta_score = gms.meta_score.astype(str).str.replace(\n",
        "    ' ', '', regex = False).str.split(',')\n",
        "gms.user_score = gms.user_score.astype(str).str.replace(\n",
        "    ' ', '', regex = False).str.split(',')\n",
        "gms.developer = gms.developer.str.replace(' ', '', regex = False).str.split(',')\n",
        "gms.type = gms.type.str.replace(' ', '', regex = False).str.split(',')\n",
        "gms.rating = gms.rating.str.replace(' ', '', regex = False).str.split(',')"
      ],
      "metadata": {
        "id": "xRgJe0yqaJbL"
      },
      "execution_count": null,
      "outputs": []
    },
    {
      "cell_type": "code",
      "source": [
        "gms.head()"
      ],
      "metadata": {
        "colab": {
          "base_uri": "https://localhost:8080/",
          "height": 354
        },
        "outputId": "5e3a97c4-bb61-4688-cd04-96f6699449c3",
        "id": "sI6jhS-faJbM"
      },
      "execution_count": null,
      "outputs": [
        {
          "output_type": "execute_result",
          "data": {
            "text/plain": [
              "                              game_name meta_score user_score       platform  \\\n",
              "0  The Legend of Zelda: Ocarina of Time     [99.0]     [91.0]  [nintendo-64]   \n",
              "1                    Super Mario Galaxy     [97.0]     [91.0]          [wii]   \n",
              "2                  Super Mario Galaxy 2     [97.0]     [91.0]          [wii]   \n",
              "3                         Metroid Prime     [97.0]     [89.0]     [gamecube]   \n",
              "4                   Super Mario Odyssey     [97.0]     [89.0]       [switch]   \n",
              "\n",
              "            developer                                    genre  \\\n",
              "0          [Nintendo]               [ActionAdventure, Fantasy]   \n",
              "1          [Nintendo]                 [Action, Platformer, 3D]   \n",
              "2  [NintendoEADTokyo]                 [Action, Platformer, 3D]   \n",
              "3      [RetroStudios]  [Action, Shooter, First-Person, Sci-Fi]   \n",
              "4          [Nintendo]                 [Action, Platformer, 3D]   \n",
              "\n",
              "             type         rating  \n",
              "0  [singleplayer]     [rating_E]  \n",
              "1  [singleplayer]     [rating_E]  \n",
              "2  [singleplayer]     [rating_E]  \n",
              "3  [singleplayer]     [rating_T]  \n",
              "4  [singleplayer]  [rating_E10+]  "
            ],
            "text/html": [
              "\n",
              "  <div id=\"df-07e4a24e-9d40-4c0a-8286-0858907cbccb\">\n",
              "    <div class=\"colab-df-container\">\n",
              "      <div>\n",
              "<style scoped>\n",
              "    .dataframe tbody tr th:only-of-type {\n",
              "        vertical-align: middle;\n",
              "    }\n",
              "\n",
              "    .dataframe tbody tr th {\n",
              "        vertical-align: top;\n",
              "    }\n",
              "\n",
              "    .dataframe thead th {\n",
              "        text-align: right;\n",
              "    }\n",
              "</style>\n",
              "<table border=\"1\" class=\"dataframe\">\n",
              "  <thead>\n",
              "    <tr style=\"text-align: right;\">\n",
              "      <th></th>\n",
              "      <th>game_name</th>\n",
              "      <th>meta_score</th>\n",
              "      <th>user_score</th>\n",
              "      <th>platform</th>\n",
              "      <th>developer</th>\n",
              "      <th>genre</th>\n",
              "      <th>type</th>\n",
              "      <th>rating</th>\n",
              "    </tr>\n",
              "  </thead>\n",
              "  <tbody>\n",
              "    <tr>\n",
              "      <th>0</th>\n",
              "      <td>The Legend of Zelda: Ocarina of Time</td>\n",
              "      <td>[99.0]</td>\n",
              "      <td>[91.0]</td>\n",
              "      <td>[nintendo-64]</td>\n",
              "      <td>[Nintendo]</td>\n",
              "      <td>[ActionAdventure, Fantasy]</td>\n",
              "      <td>[singleplayer]</td>\n",
              "      <td>[rating_E]</td>\n",
              "    </tr>\n",
              "    <tr>\n",
              "      <th>1</th>\n",
              "      <td>Super Mario Galaxy</td>\n",
              "      <td>[97.0]</td>\n",
              "      <td>[91.0]</td>\n",
              "      <td>[wii]</td>\n",
              "      <td>[Nintendo]</td>\n",
              "      <td>[Action, Platformer, 3D]</td>\n",
              "      <td>[singleplayer]</td>\n",
              "      <td>[rating_E]</td>\n",
              "    </tr>\n",
              "    <tr>\n",
              "      <th>2</th>\n",
              "      <td>Super Mario Galaxy 2</td>\n",
              "      <td>[97.0]</td>\n",
              "      <td>[91.0]</td>\n",
              "      <td>[wii]</td>\n",
              "      <td>[NintendoEADTokyo]</td>\n",
              "      <td>[Action, Platformer, 3D]</td>\n",
              "      <td>[singleplayer]</td>\n",
              "      <td>[rating_E]</td>\n",
              "    </tr>\n",
              "    <tr>\n",
              "      <th>3</th>\n",
              "      <td>Metroid Prime</td>\n",
              "      <td>[97.0]</td>\n",
              "      <td>[89.0]</td>\n",
              "      <td>[gamecube]</td>\n",
              "      <td>[RetroStudios]</td>\n",
              "      <td>[Action, Shooter, First-Person, Sci-Fi]</td>\n",
              "      <td>[singleplayer]</td>\n",
              "      <td>[rating_T]</td>\n",
              "    </tr>\n",
              "    <tr>\n",
              "      <th>4</th>\n",
              "      <td>Super Mario Odyssey</td>\n",
              "      <td>[97.0]</td>\n",
              "      <td>[89.0]</td>\n",
              "      <td>[switch]</td>\n",
              "      <td>[Nintendo]</td>\n",
              "      <td>[Action, Platformer, 3D]</td>\n",
              "      <td>[singleplayer]</td>\n",
              "      <td>[rating_E10+]</td>\n",
              "    </tr>\n",
              "  </tbody>\n",
              "</table>\n",
              "</div>\n",
              "      <button class=\"colab-df-convert\" onclick=\"convertToInteractive('df-07e4a24e-9d40-4c0a-8286-0858907cbccb')\"\n",
              "              title=\"Convert this dataframe to an interactive table.\"\n",
              "              style=\"display:none;\">\n",
              "        \n",
              "  <svg xmlns=\"http://www.w3.org/2000/svg\" height=\"24px\"viewBox=\"0 0 24 24\"\n",
              "       width=\"24px\">\n",
              "    <path d=\"M0 0h24v24H0V0z\" fill=\"none\"/>\n",
              "    <path d=\"M18.56 5.44l.94 2.06.94-2.06 2.06-.94-2.06-.94-.94-2.06-.94 2.06-2.06.94zm-11 1L8.5 8.5l.94-2.06 2.06-.94-2.06-.94L8.5 2.5l-.94 2.06-2.06.94zm10 10l.94 2.06.94-2.06 2.06-.94-2.06-.94-.94-2.06-.94 2.06-2.06.94z\"/><path d=\"M17.41 7.96l-1.37-1.37c-.4-.4-.92-.59-1.43-.59-.52 0-1.04.2-1.43.59L10.3 9.45l-7.72 7.72c-.78.78-.78 2.05 0 2.83L4 21.41c.39.39.9.59 1.41.59.51 0 1.02-.2 1.41-.59l7.78-7.78 2.81-2.81c.8-.78.8-2.07 0-2.86zM5.41 20L4 18.59l7.72-7.72 1.47 1.35L5.41 20z\"/>\n",
              "  </svg>\n",
              "      </button>\n",
              "      \n",
              "  <style>\n",
              "    .colab-df-container {\n",
              "      display:flex;\n",
              "      flex-wrap:wrap;\n",
              "      gap: 12px;\n",
              "    }\n",
              "\n",
              "    .colab-df-convert {\n",
              "      background-color: #E8F0FE;\n",
              "      border: none;\n",
              "      border-radius: 50%;\n",
              "      cursor: pointer;\n",
              "      display: none;\n",
              "      fill: #1967D2;\n",
              "      height: 32px;\n",
              "      padding: 0 0 0 0;\n",
              "      width: 32px;\n",
              "    }\n",
              "\n",
              "    .colab-df-convert:hover {\n",
              "      background-color: #E2EBFA;\n",
              "      box-shadow: 0px 1px 2px rgba(60, 64, 67, 0.3), 0px 1px 3px 1px rgba(60, 64, 67, 0.15);\n",
              "      fill: #174EA6;\n",
              "    }\n",
              "\n",
              "    [theme=dark] .colab-df-convert {\n",
              "      background-color: #3B4455;\n",
              "      fill: #D2E3FC;\n",
              "    }\n",
              "\n",
              "    [theme=dark] .colab-df-convert:hover {\n",
              "      background-color: #434B5C;\n",
              "      box-shadow: 0px 1px 3px 1px rgba(0, 0, 0, 0.15);\n",
              "      filter: drop-shadow(0px 1px 2px rgba(0, 0, 0, 0.3));\n",
              "      fill: #FFFFFF;\n",
              "    }\n",
              "  </style>\n",
              "\n",
              "      <script>\n",
              "        const buttonEl =\n",
              "          document.querySelector('#df-07e4a24e-9d40-4c0a-8286-0858907cbccb button.colab-df-convert');\n",
              "        buttonEl.style.display =\n",
              "          google.colab.kernel.accessAllowed ? 'block' : 'none';\n",
              "\n",
              "        async function convertToInteractive(key) {\n",
              "          const element = document.querySelector('#df-07e4a24e-9d40-4c0a-8286-0858907cbccb');\n",
              "          const dataTable =\n",
              "            await google.colab.kernel.invokeFunction('convertToInteractive',\n",
              "                                                     [key], {});\n",
              "          if (!dataTable) return;\n",
              "\n",
              "          const docLinkHtml = 'Like what you see? Visit the ' +\n",
              "            '<a target=\"_blank\" href=https://colab.research.google.com/notebooks/data_table.ipynb>data table notebook</a>'\n",
              "            + ' to learn more about interactive tables.';\n",
              "          element.innerHTML = '';\n",
              "          dataTable['output_type'] = 'display_data';\n",
              "          await google.colab.output.renderOutput(dataTable, element);\n",
              "          const docLink = document.createElement('div');\n",
              "          docLink.innerHTML = docLinkHtml;\n",
              "          element.appendChild(docLink);\n",
              "        }\n",
              "      </script>\n",
              "    </div>\n",
              "  </div>\n",
              "  "
            ]
          },
          "metadata": {},
          "execution_count": 86
        }
      ]
    },
    {
      "cell_type": "markdown",
      "source": [
        "### Присоединю к данным столбец с ключевыми словами"
      ],
      "metadata": {
        "id": "JYxLGmB-ase0"
      }
    },
    {
      "cell_type": "code",
      "source": [
        "gms = gms.merge(\n",
        "    kw,\n",
        "    left_on = 'game_name',\n",
        "    right_on = 'game_name',\n",
        "    how = 'inner'\n",
        ")"
      ],
      "metadata": {
        "id": "745IFxz59zif"
      },
      "execution_count": null,
      "outputs": []
    },
    {
      "cell_type": "code",
      "source": [
        "gms.head()"
      ],
      "metadata": {
        "colab": {
          "base_uri": "https://localhost:8080/",
          "height": 669
        },
        "id": "kBTuvuL--yRL",
        "outputId": "2aefd248-e3f7-4446-c463-e99d96e90e5a"
      },
      "execution_count": null,
      "outputs": [
        {
          "output_type": "execute_result",
          "data": {
            "text/plain": [
              "                              game_name meta_score user_score       platform  \\\n",
              "0  The Legend of Zelda: Ocarina of Time     [99.0]     [91.0]  [nintendo-64]   \n",
              "1                    Super Mario Galaxy     [97.0]     [91.0]          [wii]   \n",
              "2                  Super Mario Galaxy 2     [97.0]     [91.0]          [wii]   \n",
              "3                         Metroid Prime     [97.0]     [89.0]     [gamecube]   \n",
              "4                   Super Mario Odyssey     [97.0]     [89.0]       [switch]   \n",
              "\n",
              "            developer                                    genre  \\\n",
              "0          [Nintendo]               [ActionAdventure, Fantasy]   \n",
              "1          [Nintendo]                 [Action, Platformer, 3D]   \n",
              "2  [NintendoEADTokyo]                 [Action, Platformer, 3D]   \n",
              "3      [RetroStudios]  [Action, Shooter, First-Person, Sci-Fi]   \n",
              "4          [Nintendo]                 [Action, Platformer, 3D]   \n",
              "\n",
              "             type         rating  \\\n",
              "0  [singleplayer]     [rating_E]   \n",
              "1  [singleplayer]     [rating_E]   \n",
              "2  [singleplayer]     [rating_E]   \n",
              "3  [singleplayer]     [rating_T]   \n",
              "4  [singleplayer]  [rating_E10+]   \n",
              "\n",
              "                                            keywords  \n",
              "0  [young, boy, link, trick, ganondorf, king, ger...  \n",
              "1  [metacritic, wii, year, ultimate, nintendo, he...  \n",
              "2  [super, mario, galaxy, sequel, hop, original, ...  \n",
              "3  [samus, return, mission, unravel, mystery, rui...  \n",
              "4  [evolution, mario, sandbox, style, embark, jou...  "
            ],
            "text/html": [
              "\n",
              "  <div id=\"df-20ecbb8e-1f29-49d4-9e53-8507e8647a2b\">\n",
              "    <div class=\"colab-df-container\">\n",
              "      <div>\n",
              "<style scoped>\n",
              "    .dataframe tbody tr th:only-of-type {\n",
              "        vertical-align: middle;\n",
              "    }\n",
              "\n",
              "    .dataframe tbody tr th {\n",
              "        vertical-align: top;\n",
              "    }\n",
              "\n",
              "    .dataframe thead th {\n",
              "        text-align: right;\n",
              "    }\n",
              "</style>\n",
              "<table border=\"1\" class=\"dataframe\">\n",
              "  <thead>\n",
              "    <tr style=\"text-align: right;\">\n",
              "      <th></th>\n",
              "      <th>game_name</th>\n",
              "      <th>meta_score</th>\n",
              "      <th>user_score</th>\n",
              "      <th>platform</th>\n",
              "      <th>developer</th>\n",
              "      <th>genre</th>\n",
              "      <th>type</th>\n",
              "      <th>rating</th>\n",
              "      <th>keywords</th>\n",
              "    </tr>\n",
              "  </thead>\n",
              "  <tbody>\n",
              "    <tr>\n",
              "      <th>0</th>\n",
              "      <td>The Legend of Zelda: Ocarina of Time</td>\n",
              "      <td>[99.0]</td>\n",
              "      <td>[91.0]</td>\n",
              "      <td>[nintendo-64]</td>\n",
              "      <td>[Nintendo]</td>\n",
              "      <td>[ActionAdventure, Fantasy]</td>\n",
              "      <td>[singleplayer]</td>\n",
              "      <td>[rating_E]</td>\n",
              "      <td>[young, boy, link, trick, ganondorf, king, ger...</td>\n",
              "    </tr>\n",
              "    <tr>\n",
              "      <th>1</th>\n",
              "      <td>Super Mario Galaxy</td>\n",
              "      <td>[97.0]</td>\n",
              "      <td>[91.0]</td>\n",
              "      <td>[wii]</td>\n",
              "      <td>[Nintendo]</td>\n",
              "      <td>[Action, Platformer, 3D]</td>\n",
              "      <td>[singleplayer]</td>\n",
              "      <td>[rating_E]</td>\n",
              "      <td>[metacritic, wii, year, ultimate, nintendo, he...</td>\n",
              "    </tr>\n",
              "    <tr>\n",
              "      <th>2</th>\n",
              "      <td>Super Mario Galaxy 2</td>\n",
              "      <td>[97.0]</td>\n",
              "      <td>[91.0]</td>\n",
              "      <td>[wii]</td>\n",
              "      <td>[NintendoEADTokyo]</td>\n",
              "      <td>[Action, Platformer, 3D]</td>\n",
              "      <td>[singleplayer]</td>\n",
              "      <td>[rating_E]</td>\n",
              "      <td>[super, mario, galaxy, sequel, hop, original, ...</td>\n",
              "    </tr>\n",
              "    <tr>\n",
              "      <th>3</th>\n",
              "      <td>Metroid Prime</td>\n",
              "      <td>[97.0]</td>\n",
              "      <td>[89.0]</td>\n",
              "      <td>[gamecube]</td>\n",
              "      <td>[RetroStudios]</td>\n",
              "      <td>[Action, Shooter, First-Person, Sci-Fi]</td>\n",
              "      <td>[singleplayer]</td>\n",
              "      <td>[rating_T]</td>\n",
              "      <td>[samus, return, mission, unravel, mystery, rui...</td>\n",
              "    </tr>\n",
              "    <tr>\n",
              "      <th>4</th>\n",
              "      <td>Super Mario Odyssey</td>\n",
              "      <td>[97.0]</td>\n",
              "      <td>[89.0]</td>\n",
              "      <td>[switch]</td>\n",
              "      <td>[Nintendo]</td>\n",
              "      <td>[Action, Platformer, 3D]</td>\n",
              "      <td>[singleplayer]</td>\n",
              "      <td>[rating_E10+]</td>\n",
              "      <td>[evolution, mario, sandbox, style, embark, jou...</td>\n",
              "    </tr>\n",
              "  </tbody>\n",
              "</table>\n",
              "</div>\n",
              "      <button class=\"colab-df-convert\" onclick=\"convertToInteractive('df-20ecbb8e-1f29-49d4-9e53-8507e8647a2b')\"\n",
              "              title=\"Convert this dataframe to an interactive table.\"\n",
              "              style=\"display:none;\">\n",
              "        \n",
              "  <svg xmlns=\"http://www.w3.org/2000/svg\" height=\"24px\"viewBox=\"0 0 24 24\"\n",
              "       width=\"24px\">\n",
              "    <path d=\"M0 0h24v24H0V0z\" fill=\"none\"/>\n",
              "    <path d=\"M18.56 5.44l.94 2.06.94-2.06 2.06-.94-2.06-.94-.94-2.06-.94 2.06-2.06.94zm-11 1L8.5 8.5l.94-2.06 2.06-.94-2.06-.94L8.5 2.5l-.94 2.06-2.06.94zm10 10l.94 2.06.94-2.06 2.06-.94-2.06-.94-.94-2.06-.94 2.06-2.06.94z\"/><path d=\"M17.41 7.96l-1.37-1.37c-.4-.4-.92-.59-1.43-.59-.52 0-1.04.2-1.43.59L10.3 9.45l-7.72 7.72c-.78.78-.78 2.05 0 2.83L4 21.41c.39.39.9.59 1.41.59.51 0 1.02-.2 1.41-.59l7.78-7.78 2.81-2.81c.8-.78.8-2.07 0-2.86zM5.41 20L4 18.59l7.72-7.72 1.47 1.35L5.41 20z\"/>\n",
              "  </svg>\n",
              "      </button>\n",
              "      \n",
              "  <style>\n",
              "    .colab-df-container {\n",
              "      display:flex;\n",
              "      flex-wrap:wrap;\n",
              "      gap: 12px;\n",
              "    }\n",
              "\n",
              "    .colab-df-convert {\n",
              "      background-color: #E8F0FE;\n",
              "      border: none;\n",
              "      border-radius: 50%;\n",
              "      cursor: pointer;\n",
              "      display: none;\n",
              "      fill: #1967D2;\n",
              "      height: 32px;\n",
              "      padding: 0 0 0 0;\n",
              "      width: 32px;\n",
              "    }\n",
              "\n",
              "    .colab-df-convert:hover {\n",
              "      background-color: #E2EBFA;\n",
              "      box-shadow: 0px 1px 2px rgba(60, 64, 67, 0.3), 0px 1px 3px 1px rgba(60, 64, 67, 0.15);\n",
              "      fill: #174EA6;\n",
              "    }\n",
              "\n",
              "    [theme=dark] .colab-df-convert {\n",
              "      background-color: #3B4455;\n",
              "      fill: #D2E3FC;\n",
              "    }\n",
              "\n",
              "    [theme=dark] .colab-df-convert:hover {\n",
              "      background-color: #434B5C;\n",
              "      box-shadow: 0px 1px 3px 1px rgba(0, 0, 0, 0.15);\n",
              "      filter: drop-shadow(0px 1px 2px rgba(0, 0, 0, 0.3));\n",
              "      fill: #FFFFFF;\n",
              "    }\n",
              "  </style>\n",
              "\n",
              "      <script>\n",
              "        const buttonEl =\n",
              "          document.querySelector('#df-20ecbb8e-1f29-49d4-9e53-8507e8647a2b button.colab-df-convert');\n",
              "        buttonEl.style.display =\n",
              "          google.colab.kernel.accessAllowed ? 'block' : 'none';\n",
              "\n",
              "        async function convertToInteractive(key) {\n",
              "          const element = document.querySelector('#df-20ecbb8e-1f29-49d4-9e53-8507e8647a2b');\n",
              "          const dataTable =\n",
              "            await google.colab.kernel.invokeFunction('convertToInteractive',\n",
              "                                                     [key], {});\n",
              "          if (!dataTable) return;\n",
              "\n",
              "          const docLinkHtml = 'Like what you see? Visit the ' +\n",
              "            '<a target=\"_blank\" href=https://colab.research.google.com/notebooks/data_table.ipynb>data table notebook</a>'\n",
              "            + ' to learn more about interactive tables.';\n",
              "          element.innerHTML = '';\n",
              "          dataTable['output_type'] = 'display_data';\n",
              "          await google.colab.output.renderOutput(dataTable, element);\n",
              "          const docLink = document.createElement('div');\n",
              "          docLink.innerHTML = docLinkHtml;\n",
              "          element.appendChild(docLink);\n",
              "        }\n",
              "      </script>\n",
              "    </div>\n",
              "  </div>\n",
              "  "
            ]
          },
          "metadata": {},
          "execution_count": 88
        }
      ]
    },
    {
      "cell_type": "markdown",
      "source": [
        "### Создам столбец, который будет включать в себя все метаданные, имеющиеся у каждой видеоигры."
      ],
      "metadata": {
        "id": "UsNmw8cQD9qi"
      }
    },
    {
      "cell_type": "code",
      "source": [
        "gms['metadata'] = gms.apply(\n",
        "    lambda x: ' '.join(x['meta_score']) +\n",
        "    ' ' + ' '.join(x['user_score']) +\n",
        "    ' ' + ' '.join(x['platform']) + \n",
        "    ' ' + ' '.join(x['developer']) + \n",
        "    ' ' + ' '.join(x['genre']) + \n",
        "    ' ' + ' '.join(x['type']) + \n",
        "    ' ' + ' '.join(x['rating']) + \n",
        "    ' ' + ' '.join(x['keywords']),\n",
        "     axis = 1)"
      ],
      "metadata": {
        "id": "lL5CGNJAaJbO"
      },
      "execution_count": null,
      "outputs": []
    },
    {
      "cell_type": "code",
      "source": [
        "gms.head()"
      ],
      "metadata": {
        "colab": {
          "base_uri": "https://localhost:8080/",
          "height": 669
        },
        "outputId": "25720d49-4de6-483c-e99d-39afd7b93331",
        "id": "nwK1lNm_aJbP"
      },
      "execution_count": null,
      "outputs": [
        {
          "output_type": "execute_result",
          "data": {
            "text/plain": [
              "                              game_name meta_score user_score       platform  \\\n",
              "0  The Legend of Zelda: Ocarina of Time     [99.0]     [91.0]  [nintendo-64]   \n",
              "1                    Super Mario Galaxy     [97.0]     [91.0]          [wii]   \n",
              "2                  Super Mario Galaxy 2     [97.0]     [91.0]          [wii]   \n",
              "3                         Metroid Prime     [97.0]     [89.0]     [gamecube]   \n",
              "4                   Super Mario Odyssey     [97.0]     [89.0]       [switch]   \n",
              "\n",
              "            developer                                    genre  \\\n",
              "0          [Nintendo]               [ActionAdventure, Fantasy]   \n",
              "1          [Nintendo]                 [Action, Platformer, 3D]   \n",
              "2  [NintendoEADTokyo]                 [Action, Platformer, 3D]   \n",
              "3      [RetroStudios]  [Action, Shooter, First-Person, Sci-Fi]   \n",
              "4          [Nintendo]                 [Action, Platformer, 3D]   \n",
              "\n",
              "             type         rating  \\\n",
              "0  [singleplayer]     [rating_E]   \n",
              "1  [singleplayer]     [rating_E]   \n",
              "2  [singleplayer]     [rating_E]   \n",
              "3  [singleplayer]     [rating_T]   \n",
              "4  [singleplayer]  [rating_E10+]   \n",
              "\n",
              "                                            keywords  \\\n",
              "0  [young, boy, link, trick, ganondorf, king, ger...   \n",
              "1  [metacritic, wii, year, ultimate, nintendo, he...   \n",
              "2  [super, mario, galaxy, sequel, hop, original, ...   \n",
              "3  [samus, return, mission, unravel, mystery, rui...   \n",
              "4  [evolution, mario, sandbox, style, embark, jou...   \n",
              "\n",
              "                                            metadata  \n",
              "0  99.0 91.0 nintendo-64 Nintendo ActionAdventure...  \n",
              "1  97.0 91.0 wii Nintendo Action Platformer 3D si...  \n",
              "2  97.0 91.0 wii NintendoEADTokyo Action Platform...  \n",
              "3  97.0 89.0 gamecube RetroStudios Action Shooter...  \n",
              "4  97.0 89.0 switch Nintendo Action Platformer 3D...  "
            ],
            "text/html": [
              "\n",
              "  <div id=\"df-4cd0b497-d265-4d7a-baa2-442ac137ce1e\">\n",
              "    <div class=\"colab-df-container\">\n",
              "      <div>\n",
              "<style scoped>\n",
              "    .dataframe tbody tr th:only-of-type {\n",
              "        vertical-align: middle;\n",
              "    }\n",
              "\n",
              "    .dataframe tbody tr th {\n",
              "        vertical-align: top;\n",
              "    }\n",
              "\n",
              "    .dataframe thead th {\n",
              "        text-align: right;\n",
              "    }\n",
              "</style>\n",
              "<table border=\"1\" class=\"dataframe\">\n",
              "  <thead>\n",
              "    <tr style=\"text-align: right;\">\n",
              "      <th></th>\n",
              "      <th>game_name</th>\n",
              "      <th>meta_score</th>\n",
              "      <th>user_score</th>\n",
              "      <th>platform</th>\n",
              "      <th>developer</th>\n",
              "      <th>genre</th>\n",
              "      <th>type</th>\n",
              "      <th>rating</th>\n",
              "      <th>keywords</th>\n",
              "      <th>metadata</th>\n",
              "    </tr>\n",
              "  </thead>\n",
              "  <tbody>\n",
              "    <tr>\n",
              "      <th>0</th>\n",
              "      <td>The Legend of Zelda: Ocarina of Time</td>\n",
              "      <td>[99.0]</td>\n",
              "      <td>[91.0]</td>\n",
              "      <td>[nintendo-64]</td>\n",
              "      <td>[Nintendo]</td>\n",
              "      <td>[ActionAdventure, Fantasy]</td>\n",
              "      <td>[singleplayer]</td>\n",
              "      <td>[rating_E]</td>\n",
              "      <td>[young, boy, link, trick, ganondorf, king, ger...</td>\n",
              "      <td>99.0 91.0 nintendo-64 Nintendo ActionAdventure...</td>\n",
              "    </tr>\n",
              "    <tr>\n",
              "      <th>1</th>\n",
              "      <td>Super Mario Galaxy</td>\n",
              "      <td>[97.0]</td>\n",
              "      <td>[91.0]</td>\n",
              "      <td>[wii]</td>\n",
              "      <td>[Nintendo]</td>\n",
              "      <td>[Action, Platformer, 3D]</td>\n",
              "      <td>[singleplayer]</td>\n",
              "      <td>[rating_E]</td>\n",
              "      <td>[metacritic, wii, year, ultimate, nintendo, he...</td>\n",
              "      <td>97.0 91.0 wii Nintendo Action Platformer 3D si...</td>\n",
              "    </tr>\n",
              "    <tr>\n",
              "      <th>2</th>\n",
              "      <td>Super Mario Galaxy 2</td>\n",
              "      <td>[97.0]</td>\n",
              "      <td>[91.0]</td>\n",
              "      <td>[wii]</td>\n",
              "      <td>[NintendoEADTokyo]</td>\n",
              "      <td>[Action, Platformer, 3D]</td>\n",
              "      <td>[singleplayer]</td>\n",
              "      <td>[rating_E]</td>\n",
              "      <td>[super, mario, galaxy, sequel, hop, original, ...</td>\n",
              "      <td>97.0 91.0 wii NintendoEADTokyo Action Platform...</td>\n",
              "    </tr>\n",
              "    <tr>\n",
              "      <th>3</th>\n",
              "      <td>Metroid Prime</td>\n",
              "      <td>[97.0]</td>\n",
              "      <td>[89.0]</td>\n",
              "      <td>[gamecube]</td>\n",
              "      <td>[RetroStudios]</td>\n",
              "      <td>[Action, Shooter, First-Person, Sci-Fi]</td>\n",
              "      <td>[singleplayer]</td>\n",
              "      <td>[rating_T]</td>\n",
              "      <td>[samus, return, mission, unravel, mystery, rui...</td>\n",
              "      <td>97.0 89.0 gamecube RetroStudios Action Shooter...</td>\n",
              "    </tr>\n",
              "    <tr>\n",
              "      <th>4</th>\n",
              "      <td>Super Mario Odyssey</td>\n",
              "      <td>[97.0]</td>\n",
              "      <td>[89.0]</td>\n",
              "      <td>[switch]</td>\n",
              "      <td>[Nintendo]</td>\n",
              "      <td>[Action, Platformer, 3D]</td>\n",
              "      <td>[singleplayer]</td>\n",
              "      <td>[rating_E10+]</td>\n",
              "      <td>[evolution, mario, sandbox, style, embark, jou...</td>\n",
              "      <td>97.0 89.0 switch Nintendo Action Platformer 3D...</td>\n",
              "    </tr>\n",
              "  </tbody>\n",
              "</table>\n",
              "</div>\n",
              "      <button class=\"colab-df-convert\" onclick=\"convertToInteractive('df-4cd0b497-d265-4d7a-baa2-442ac137ce1e')\"\n",
              "              title=\"Convert this dataframe to an interactive table.\"\n",
              "              style=\"display:none;\">\n",
              "        \n",
              "  <svg xmlns=\"http://www.w3.org/2000/svg\" height=\"24px\"viewBox=\"0 0 24 24\"\n",
              "       width=\"24px\">\n",
              "    <path d=\"M0 0h24v24H0V0z\" fill=\"none\"/>\n",
              "    <path d=\"M18.56 5.44l.94 2.06.94-2.06 2.06-.94-2.06-.94-.94-2.06-.94 2.06-2.06.94zm-11 1L8.5 8.5l.94-2.06 2.06-.94-2.06-.94L8.5 2.5l-.94 2.06-2.06.94zm10 10l.94 2.06.94-2.06 2.06-.94-2.06-.94-.94-2.06-.94 2.06-2.06.94z\"/><path d=\"M17.41 7.96l-1.37-1.37c-.4-.4-.92-.59-1.43-.59-.52 0-1.04.2-1.43.59L10.3 9.45l-7.72 7.72c-.78.78-.78 2.05 0 2.83L4 21.41c.39.39.9.59 1.41.59.51 0 1.02-.2 1.41-.59l7.78-7.78 2.81-2.81c.8-.78.8-2.07 0-2.86zM5.41 20L4 18.59l7.72-7.72 1.47 1.35L5.41 20z\"/>\n",
              "  </svg>\n",
              "      </button>\n",
              "      \n",
              "  <style>\n",
              "    .colab-df-container {\n",
              "      display:flex;\n",
              "      flex-wrap:wrap;\n",
              "      gap: 12px;\n",
              "    }\n",
              "\n",
              "    .colab-df-convert {\n",
              "      background-color: #E8F0FE;\n",
              "      border: none;\n",
              "      border-radius: 50%;\n",
              "      cursor: pointer;\n",
              "      display: none;\n",
              "      fill: #1967D2;\n",
              "      height: 32px;\n",
              "      padding: 0 0 0 0;\n",
              "      width: 32px;\n",
              "    }\n",
              "\n",
              "    .colab-df-convert:hover {\n",
              "      background-color: #E2EBFA;\n",
              "      box-shadow: 0px 1px 2px rgba(60, 64, 67, 0.3), 0px 1px 3px 1px rgba(60, 64, 67, 0.15);\n",
              "      fill: #174EA6;\n",
              "    }\n",
              "\n",
              "    [theme=dark] .colab-df-convert {\n",
              "      background-color: #3B4455;\n",
              "      fill: #D2E3FC;\n",
              "    }\n",
              "\n",
              "    [theme=dark] .colab-df-convert:hover {\n",
              "      background-color: #434B5C;\n",
              "      box-shadow: 0px 1px 3px 1px rgba(0, 0, 0, 0.15);\n",
              "      filter: drop-shadow(0px 1px 2px rgba(0, 0, 0, 0.3));\n",
              "      fill: #FFFFFF;\n",
              "    }\n",
              "  </style>\n",
              "\n",
              "      <script>\n",
              "        const buttonEl =\n",
              "          document.querySelector('#df-4cd0b497-d265-4d7a-baa2-442ac137ce1e button.colab-df-convert');\n",
              "        buttonEl.style.display =\n",
              "          google.colab.kernel.accessAllowed ? 'block' : 'none';\n",
              "\n",
              "        async function convertToInteractive(key) {\n",
              "          const element = document.querySelector('#df-4cd0b497-d265-4d7a-baa2-442ac137ce1e');\n",
              "          const dataTable =\n",
              "            await google.colab.kernel.invokeFunction('convertToInteractive',\n",
              "                                                     [key], {});\n",
              "          if (!dataTable) return;\n",
              "\n",
              "          const docLinkHtml = 'Like what you see? Visit the ' +\n",
              "            '<a target=\"_blank\" href=https://colab.research.google.com/notebooks/data_table.ipynb>data table notebook</a>'\n",
              "            + ' to learn more about interactive tables.';\n",
              "          element.innerHTML = '';\n",
              "          dataTable['output_type'] = 'display_data';\n",
              "          await google.colab.output.renderOutput(dataTable, element);\n",
              "          const docLink = document.createElement('div');\n",
              "          docLink.innerHTML = docLinkHtml;\n",
              "          element.appendChild(docLink);\n",
              "        }\n",
              "      </script>\n",
              "    </div>\n",
              "  </div>\n",
              "  "
            ]
          },
          "metadata": {},
          "execution_count": 90
        }
      ]
    },
    {
      "cell_type": "markdown",
      "source": [
        "### Преобразую текстовое содержимое столбца \"metadata\" \n",
        "сначала в матрицу с числовыми данными векторов с помощью метода CountVectorizer, а затем в многомерный массив значений косинусного сходства этих векторов при помощи cosine_similarity."
      ],
      "metadata": {
        "id": "gHfliV4lHZSo"
      }
    },
    {
      "cell_type": "code",
      "source": [
        "count_vec = CountVectorizer()\n",
        "count_vec_matrix = count_vec.fit_transform(gms['metadata'])\n",
        "count_vec_matrix"
      ],
      "metadata": {
        "id": "nANOrw9caJbR"
      },
      "execution_count": null,
      "outputs": []
    },
    {
      "cell_type": "code",
      "source": [
        "cosine_sim_matrix = cosine_similarity(count_vec_matrix, count_vec_matrix)\n",
        "cosine_sim_matrix"
      ],
      "metadata": {
        "colab": {
          "base_uri": "https://localhost:8080/"
        },
        "outputId": "016e4a61-1dd9-4880-891a-404d835383e9",
        "id": "IfqmEH7-xmxq"
      },
      "execution_count": null,
      "outputs": [
        {
          "output_type": "execute_result",
          "data": {
            "text/plain": [
              "array([[1.        , 0.13900961, 0.13206764, ..., 0.02551552, 0.07319251,\n",
              "        0.08333333],\n",
              "       [0.13900961, 1.        , 0.36717341, ..., 0.06384424, 0.06104677,\n",
              "        0.10425721],\n",
              "       [0.13206764, 0.36717341, 1.        , ..., 0.05391639, 0.05155393,\n",
              "        0.11005636],\n",
              "       ...,\n",
              "       [0.02551552, 0.06384424, 0.05391639, ..., 1.        , 0.05976143,\n",
              "        0.07654655],\n",
              "       [0.07319251, 0.06104677, 0.05155393, ..., 0.05976143, 1.        ,\n",
              "        0.0243975 ],\n",
              "       [0.08333333, 0.10425721, 0.11005636, ..., 0.07654655, 0.0243975 ,\n",
              "        1.        ]])"
            ]
          },
          "metadata": {},
          "execution_count": 100
        }
      ]
    },
    {
      "cell_type": "markdown",
      "source": [
        "## Реализация функции рекомендаций."
      ],
      "metadata": {
        "id": "gwY_sGll3jMQ"
      }
    },
    {
      "cell_type": "markdown",
      "source": [
        "Создам структуру с индексами и названиями видеоигр для дальнейшего сопоставления полей данных."
      ],
      "metadata": {
        "id": "Sl8y0tTqOfV-"
      }
    },
    {
      "cell_type": "code",
      "source": [
        "mapping = pd.Series(gms.index,index = gms['game_name'])\n",
        "mapping"
      ],
      "metadata": {
        "colab": {
          "base_uri": "https://localhost:8080/"
        },
        "outputId": "85f2d526-4655-495c-b394-6d5f7e66f8b5",
        "id": "YmN95QL6aJbS"
      },
      "execution_count": null,
      "outputs": [
        {
          "output_type": "execute_result",
          "data": {
            "text/plain": [
              "game_name\n",
              "The Legend of Zelda: Ocarina of Time       0\n",
              "Super Mario Galaxy                         1\n",
              "Super Mario Galaxy 2                       2\n",
              "Metroid Prime                              3\n",
              "Super Mario Odyssey                        4\n",
              "                                        ... \n",
              "kill.switch                             8826\n",
              "nail'd                                  8827\n",
              "oOo: Ascension                          8828\n",
              "uDraw Studio                            8829\n",
              "xXx                                     8830\n",
              "Length: 8831, dtype: int64"
            ]
          },
          "metadata": {},
          "execution_count": 92
        }
      ]
    },
    {
      "cell_type": "markdown",
      "source": [
        "В качестве видеоигры для реализации и последующей проверки работоспособности функции возьму игру “Batman: Arkham City”."
      ],
      "metadata": {
        "id": "TtU1Qfro37Nn"
      }
    },
    {
      "cell_type": "code",
      "source": [
        "df.loc[df.game_name == 'Batman: Arkham City']"
      ],
      "metadata": {
        "colab": {
          "base_uri": "https://localhost:8080/",
          "height": 232
        },
        "id": "b3jKTVagOHW6",
        "outputId": "34fba533-91d0-4bfc-b752-e82cb2b9fbe5"
      },
      "execution_count": null,
      "outputs": [
        {
          "output_type": "execute_result",
          "data": {
            "text/plain": [
              "                game_name  meta_score  user_score  \\\n",
              "4554  Batman: Arkham City       93.67        87.3   \n",
              "\n",
              "                         platform  \\\n",
              "4554  playstation-3, xbox-360, pc   \n",
              "\n",
              "                                            description  \\\n",
              "4554  Developed by Rocksteady Studios, Batman: Arkha...   \n",
              "\n",
              "                                                    url           developer  \\\n",
              "4554  https://www.metacritic.com/game/playstation-3/...  Rocksteady Studios   \n",
              "\n",
              "                                              genre          type    rating  \n",
              "4554  ['Action Adventure', 'Fantasy', 'Open-World']  singleplayer  rating_T  "
            ],
            "text/html": [
              "\n",
              "  <div id=\"df-ee2d8740-f505-4ffb-9029-20b9e5ca6def\">\n",
              "    <div class=\"colab-df-container\">\n",
              "      <div>\n",
              "<style scoped>\n",
              "    .dataframe tbody tr th:only-of-type {\n",
              "        vertical-align: middle;\n",
              "    }\n",
              "\n",
              "    .dataframe tbody tr th {\n",
              "        vertical-align: top;\n",
              "    }\n",
              "\n",
              "    .dataframe thead th {\n",
              "        text-align: right;\n",
              "    }\n",
              "</style>\n",
              "<table border=\"1\" class=\"dataframe\">\n",
              "  <thead>\n",
              "    <tr style=\"text-align: right;\">\n",
              "      <th></th>\n",
              "      <th>game_name</th>\n",
              "      <th>meta_score</th>\n",
              "      <th>user_score</th>\n",
              "      <th>platform</th>\n",
              "      <th>description</th>\n",
              "      <th>url</th>\n",
              "      <th>developer</th>\n",
              "      <th>genre</th>\n",
              "      <th>type</th>\n",
              "      <th>rating</th>\n",
              "    </tr>\n",
              "  </thead>\n",
              "  <tbody>\n",
              "    <tr>\n",
              "      <th>4554</th>\n",
              "      <td>Batman: Arkham City</td>\n",
              "      <td>93.67</td>\n",
              "      <td>87.3</td>\n",
              "      <td>playstation-3, xbox-360, pc</td>\n",
              "      <td>Developed by Rocksteady Studios, Batman: Arkha...</td>\n",
              "      <td>https://www.metacritic.com/game/playstation-3/...</td>\n",
              "      <td>Rocksteady Studios</td>\n",
              "      <td>['Action Adventure', 'Fantasy', 'Open-World']</td>\n",
              "      <td>singleplayer</td>\n",
              "      <td>rating_T</td>\n",
              "    </tr>\n",
              "  </tbody>\n",
              "</table>\n",
              "</div>\n",
              "      <button class=\"colab-df-convert\" onclick=\"convertToInteractive('df-ee2d8740-f505-4ffb-9029-20b9e5ca6def')\"\n",
              "              title=\"Convert this dataframe to an interactive table.\"\n",
              "              style=\"display:none;\">\n",
              "        \n",
              "  <svg xmlns=\"http://www.w3.org/2000/svg\" height=\"24px\"viewBox=\"0 0 24 24\"\n",
              "       width=\"24px\">\n",
              "    <path d=\"M0 0h24v24H0V0z\" fill=\"none\"/>\n",
              "    <path d=\"M18.56 5.44l.94 2.06.94-2.06 2.06-.94-2.06-.94-.94-2.06-.94 2.06-2.06.94zm-11 1L8.5 8.5l.94-2.06 2.06-.94-2.06-.94L8.5 2.5l-.94 2.06-2.06.94zm10 10l.94 2.06.94-2.06 2.06-.94-2.06-.94-.94-2.06-.94 2.06-2.06.94z\"/><path d=\"M17.41 7.96l-1.37-1.37c-.4-.4-.92-.59-1.43-.59-.52 0-1.04.2-1.43.59L10.3 9.45l-7.72 7.72c-.78.78-.78 2.05 0 2.83L4 21.41c.39.39.9.59 1.41.59.51 0 1.02-.2 1.41-.59l7.78-7.78 2.81-2.81c.8-.78.8-2.07 0-2.86zM5.41 20L4 18.59l7.72-7.72 1.47 1.35L5.41 20z\"/>\n",
              "  </svg>\n",
              "      </button>\n",
              "      \n",
              "  <style>\n",
              "    .colab-df-container {\n",
              "      display:flex;\n",
              "      flex-wrap:wrap;\n",
              "      gap: 12px;\n",
              "    }\n",
              "\n",
              "    .colab-df-convert {\n",
              "      background-color: #E8F0FE;\n",
              "      border: none;\n",
              "      border-radius: 50%;\n",
              "      cursor: pointer;\n",
              "      display: none;\n",
              "      fill: #1967D2;\n",
              "      height: 32px;\n",
              "      padding: 0 0 0 0;\n",
              "      width: 32px;\n",
              "    }\n",
              "\n",
              "    .colab-df-convert:hover {\n",
              "      background-color: #E2EBFA;\n",
              "      box-shadow: 0px 1px 2px rgba(60, 64, 67, 0.3), 0px 1px 3px 1px rgba(60, 64, 67, 0.15);\n",
              "      fill: #174EA6;\n",
              "    }\n",
              "\n",
              "    [theme=dark] .colab-df-convert {\n",
              "      background-color: #3B4455;\n",
              "      fill: #D2E3FC;\n",
              "    }\n",
              "\n",
              "    [theme=dark] .colab-df-convert:hover {\n",
              "      background-color: #434B5C;\n",
              "      box-shadow: 0px 1px 3px 1px rgba(0, 0, 0, 0.15);\n",
              "      filter: drop-shadow(0px 1px 2px rgba(0, 0, 0, 0.3));\n",
              "      fill: #FFFFFF;\n",
              "    }\n",
              "  </style>\n",
              "\n",
              "      <script>\n",
              "        const buttonEl =\n",
              "          document.querySelector('#df-ee2d8740-f505-4ffb-9029-20b9e5ca6def button.colab-df-convert');\n",
              "        buttonEl.style.display =\n",
              "          google.colab.kernel.accessAllowed ? 'block' : 'none';\n",
              "\n",
              "        async function convertToInteractive(key) {\n",
              "          const element = document.querySelector('#df-ee2d8740-f505-4ffb-9029-20b9e5ca6def');\n",
              "          const dataTable =\n",
              "            await google.colab.kernel.invokeFunction('convertToInteractive',\n",
              "                                                     [key], {});\n",
              "          if (!dataTable) return;\n",
              "\n",
              "          const docLinkHtml = 'Like what you see? Visit the ' +\n",
              "            '<a target=\"_blank\" href=https://colab.research.google.com/notebooks/data_table.ipynb>data table notebook</a>'\n",
              "            + ' to learn more about interactive tables.';\n",
              "          element.innerHTML = '';\n",
              "          dataTable['output_type'] = 'display_data';\n",
              "          await google.colab.output.renderOutput(dataTable, element);\n",
              "          const docLink = document.createElement('div');\n",
              "          docLink.innerHTML = docLinkHtml;\n",
              "          element.appendChild(docLink);\n",
              "        }\n",
              "      </script>\n",
              "    </div>\n",
              "  </div>\n",
              "  "
            ]
          },
          "metadata": {},
          "execution_count": 93
        }
      ]
    },
    {
      "cell_type": "code",
      "source": [
        "game_input = 'Batman: Arkham City'"
      ],
      "metadata": {
        "id": "L9scyNe1Gdv9"
      },
      "execution_count": null,
      "outputs": []
    },
    {
      "cell_type": "markdown",
      "source": [
        "Сначала получу индекс игрового тайтла"
      ],
      "metadata": {
        "id": "sANFAj0_Evyq"
      }
    },
    {
      "cell_type": "code",
      "source": [
        "game_index = mapping[game_input]"
      ],
      "metadata": {
        "id": "1xnEfZ2iEbbw"
      },
      "execution_count": null,
      "outputs": []
    },
    {
      "cell_type": "markdown",
      "source": [
        "Далее создам пронумерованный список значений косинусного сходства векторов метаданных каждой игры.\n",
        "\n",
        "Отсортирую этот список по убыванию величины сходства, игнорируя первое значение в списке.\n",
        "\n",
        "Следующие 10 значений будут использованы для рекомендации"
      ],
      "metadata": {
        "id": "IZvYyni959Qe"
      }
    },
    {
      "cell_type": "code",
      "source": [
        "similarity_score = list(enumerate(cosine_sim_matrix[game_index]))\n",
        "similarity_score = sorted(similarity_score, key=lambda x: x[1], reverse=True)\n",
        "similarity_score = similarity_score[1:11]\n",
        "similarity_score"
      ],
      "metadata": {
        "colab": {
          "base_uri": "https://localhost:8080/"
        },
        "id": "xx_V9WPcGpS9",
        "outputId": "a14ed819-34d4-4518-da95-902b2bb3e239"
      },
      "execution_count": null,
      "outputs": [
        {
          "output_type": "execute_result",
          "data": {
            "text/plain": [
              "[(4559, 0.4627381113705622),\n",
              " (4555, 0.4322030794290975),\n",
              " (4556, 0.3782460108307676),\n",
              " (2358, 0.32639560491693337),\n",
              " (4553, 0.31520500902563964),\n",
              " (460, 0.251259453814803),\n",
              " (6233, 0.23652495839563306),\n",
              " (7989, 0.23652495839563306),\n",
              " (4557, 0.22591299788996194),\n",
              " (1908, 0.2247332874877473)]"
            ]
          },
          "metadata": {},
          "execution_count": 96
        }
      ]
    },
    {
      "cell_type": "markdown",
      "source": [
        "На основе индексов из сформированного списка можно получить названия 10 игр, наиболее близких к \"основному\" тайтлу."
      ],
      "metadata": {
        "id": "LTYreDSO9JEq"
      }
    },
    {
      "cell_type": "code",
      "source": [
        "game_indexes = [i[0] for i in similarity_score]\n",
        "df['game_name'].iloc[game_indexes]"
      ],
      "metadata": {
        "colab": {
          "base_uri": "https://localhost:8080/"
        },
        "id": "4wXGTxSdGtlg",
        "outputId": "799ee8e8-ed04-4f3d-e2d7-efa11e965a27"
      },
      "execution_count": null,
      "outputs": [
        {
          "output_type": "execute_result",
          "data": {
            "text/plain": [
              "4559                        Batman: Return to Arkham\n",
              "4555           Batman: Arkham City - Armored Edition\n",
              "4556                          Batman: Arkham Origins\n",
              "2358    Batman: Arkham City - Harley Quinn's Revenge\n",
              "4553                           Batman: Arkham Asylum\n",
              "460               Marvel's Spider-Man: Miles Morales\n",
              "6233                        LEGO Marvel Super Heroes\n",
              "7989                        The Amazing Spider-Man 2\n",
              "4557       Batman: Arkham Origins - Cold, Cold Heart\n",
              "1908                               Batman: Arkham VR\n",
              "Name: game_name, dtype: object"
            ]
          },
          "metadata": {},
          "execution_count": 97
        }
      ]
    },
    {
      "cell_type": "markdown",
      "source": [
        "Теперь заверну все проделанные шаги в функцию и дополню вывод полезной информацией о рекомендуемых играх."
      ],
      "metadata": {
        "id": "bA5VmdRF989i"
      }
    },
    {
      "cell_type": "code",
      "source": [
        "def recommendation(game_input):   \n",
        "  game_index = mapping[game_input]\n",
        "  similarity_score = list(enumerate(cosine_sim_matrix[game_index]))\n",
        "  similarity_score = sorted(similarity_score, key=lambda x: x[1], reverse=True)\n",
        "  similarity_score = similarity_score[1:11]\n",
        "  game_indexes = [i[0] for i in similarity_score]\n",
        "  print(f\"Рекомендация на основе тайтла составлена:\\n\")\n",
        "  return df[['game_name',\n",
        "             'developer',\n",
        "             'platform',\n",
        "             'meta_score',\n",
        "             'user_score']].iloc[game_indexes]"
      ],
      "metadata": {
        "id": "sLeSlU8LGWfJ"
      },
      "execution_count": null,
      "outputs": []
    },
    {
      "cell_type": "markdown",
      "source": [
        "### Результат работы функции рекомендаций."
      ],
      "metadata": {
        "id": "FIOsh8Cu-ub7"
      }
    },
    {
      "cell_type": "code",
      "source": [
        "recommendation(input('Введите игровой тайтл для поиска рекомендаций:\\n'))"
      ],
      "metadata": {
        "colab": {
          "base_uri": "https://localhost:8080/",
          "height": 432
        },
        "id": "JAR_nljHQGYu",
        "outputId": "34d510f6-80d9-4784-a9a1-87d094aaa5e2"
      },
      "execution_count": null,
      "outputs": [
        {
          "output_type": "stream",
          "name": "stdout",
          "text": [
            "Введите игровой тайтл для поиска рекомендаций:\n",
            "Batman: Arkham City\n",
            "Рекомендация на основе тайтла составлена:\n",
            "\n"
          ]
        },
        {
          "output_type": "execute_result",
          "data": {
            "text/plain": [
              "                                         game_name           developer  \\\n",
              "4559                      Batman: Return to Arkham  Rocksteady Studios   \n",
              "4555         Batman: Arkham City - Armored Edition  Rocksteady Studios   \n",
              "4556                        Batman: Arkham Origins   WB Games Montreal   \n",
              "2358  Batman: Arkham City - Harley Quinn's Revenge  Rocksteady Studios   \n",
              "4553                         Batman: Arkham Asylum  Rocksteady Studios   \n",
              "460             Marvel's Spider-Man: Miles Morales     Insomniac Games   \n",
              "6233                      LEGO Marvel Super Heroes            TT Games   \n",
              "7989                      The Amazing Spider-Man 2              Beenox   \n",
              "4557     Batman: Arkham Origins - Cold, Cold Heart   WB Games Montreal   \n",
              "1908                             Batman: Arkham VR  Rocksteady Studios   \n",
              "\n",
              "                         platform  meta_score  user_score  \n",
              "4559                playstation-4       73.00        84.0  \n",
              "4555                        wii-u       85.00        85.0  \n",
              "4556  playstation-3, pc, xbox-360       74.67        76.3  \n",
              "2358                     xbox-360       72.00        68.0  \n",
              "4553  xbox-360, pc, playstation-3       91.33        87.0  \n",
              "460                 playstation-4       84.00        76.0  \n",
              "6233  playstation-4, xbox-360, pc       80.33        78.7  \n",
              "7989                 pc, xbox-360       56.00        59.0  \n",
              "4557                     xbox-360       71.00        80.0  \n",
              "1908                playstation-4       74.00        72.0  "
            ],
            "text/html": [
              "\n",
              "  <div id=\"df-6b47fa48-b9c6-43e5-9be0-8d5b5cf154b5\">\n",
              "    <div class=\"colab-df-container\">\n",
              "      <div>\n",
              "<style scoped>\n",
              "    .dataframe tbody tr th:only-of-type {\n",
              "        vertical-align: middle;\n",
              "    }\n",
              "\n",
              "    .dataframe tbody tr th {\n",
              "        vertical-align: top;\n",
              "    }\n",
              "\n",
              "    .dataframe thead th {\n",
              "        text-align: right;\n",
              "    }\n",
              "</style>\n",
              "<table border=\"1\" class=\"dataframe\">\n",
              "  <thead>\n",
              "    <tr style=\"text-align: right;\">\n",
              "      <th></th>\n",
              "      <th>game_name</th>\n",
              "      <th>developer</th>\n",
              "      <th>platform</th>\n",
              "      <th>meta_score</th>\n",
              "      <th>user_score</th>\n",
              "    </tr>\n",
              "  </thead>\n",
              "  <tbody>\n",
              "    <tr>\n",
              "      <th>4559</th>\n",
              "      <td>Batman: Return to Arkham</td>\n",
              "      <td>Rocksteady Studios</td>\n",
              "      <td>playstation-4</td>\n",
              "      <td>73.00</td>\n",
              "      <td>84.0</td>\n",
              "    </tr>\n",
              "    <tr>\n",
              "      <th>4555</th>\n",
              "      <td>Batman: Arkham City - Armored Edition</td>\n",
              "      <td>Rocksteady Studios</td>\n",
              "      <td>wii-u</td>\n",
              "      <td>85.00</td>\n",
              "      <td>85.0</td>\n",
              "    </tr>\n",
              "    <tr>\n",
              "      <th>4556</th>\n",
              "      <td>Batman: Arkham Origins</td>\n",
              "      <td>WB Games Montreal</td>\n",
              "      <td>playstation-3, pc, xbox-360</td>\n",
              "      <td>74.67</td>\n",
              "      <td>76.3</td>\n",
              "    </tr>\n",
              "    <tr>\n",
              "      <th>2358</th>\n",
              "      <td>Batman: Arkham City - Harley Quinn's Revenge</td>\n",
              "      <td>Rocksteady Studios</td>\n",
              "      <td>xbox-360</td>\n",
              "      <td>72.00</td>\n",
              "      <td>68.0</td>\n",
              "    </tr>\n",
              "    <tr>\n",
              "      <th>4553</th>\n",
              "      <td>Batman: Arkham Asylum</td>\n",
              "      <td>Rocksteady Studios</td>\n",
              "      <td>xbox-360, pc, playstation-3</td>\n",
              "      <td>91.33</td>\n",
              "      <td>87.0</td>\n",
              "    </tr>\n",
              "    <tr>\n",
              "      <th>460</th>\n",
              "      <td>Marvel's Spider-Man: Miles Morales</td>\n",
              "      <td>Insomniac Games</td>\n",
              "      <td>playstation-4</td>\n",
              "      <td>84.00</td>\n",
              "      <td>76.0</td>\n",
              "    </tr>\n",
              "    <tr>\n",
              "      <th>6233</th>\n",
              "      <td>LEGO Marvel Super Heroes</td>\n",
              "      <td>TT Games</td>\n",
              "      <td>playstation-4, xbox-360, pc</td>\n",
              "      <td>80.33</td>\n",
              "      <td>78.7</td>\n",
              "    </tr>\n",
              "    <tr>\n",
              "      <th>7989</th>\n",
              "      <td>The Amazing Spider-Man 2</td>\n",
              "      <td>Beenox</td>\n",
              "      <td>pc, xbox-360</td>\n",
              "      <td>56.00</td>\n",
              "      <td>59.0</td>\n",
              "    </tr>\n",
              "    <tr>\n",
              "      <th>4557</th>\n",
              "      <td>Batman: Arkham Origins - Cold, Cold Heart</td>\n",
              "      <td>WB Games Montreal</td>\n",
              "      <td>xbox-360</td>\n",
              "      <td>71.00</td>\n",
              "      <td>80.0</td>\n",
              "    </tr>\n",
              "    <tr>\n",
              "      <th>1908</th>\n",
              "      <td>Batman: Arkham VR</td>\n",
              "      <td>Rocksteady Studios</td>\n",
              "      <td>playstation-4</td>\n",
              "      <td>74.00</td>\n",
              "      <td>72.0</td>\n",
              "    </tr>\n",
              "  </tbody>\n",
              "</table>\n",
              "</div>\n",
              "      <button class=\"colab-df-convert\" onclick=\"convertToInteractive('df-6b47fa48-b9c6-43e5-9be0-8d5b5cf154b5')\"\n",
              "              title=\"Convert this dataframe to an interactive table.\"\n",
              "              style=\"display:none;\">\n",
              "        \n",
              "  <svg xmlns=\"http://www.w3.org/2000/svg\" height=\"24px\"viewBox=\"0 0 24 24\"\n",
              "       width=\"24px\">\n",
              "    <path d=\"M0 0h24v24H0V0z\" fill=\"none\"/>\n",
              "    <path d=\"M18.56 5.44l.94 2.06.94-2.06 2.06-.94-2.06-.94-.94-2.06-.94 2.06-2.06.94zm-11 1L8.5 8.5l.94-2.06 2.06-.94-2.06-.94L8.5 2.5l-.94 2.06-2.06.94zm10 10l.94 2.06.94-2.06 2.06-.94-2.06-.94-.94-2.06-.94 2.06-2.06.94z\"/><path d=\"M17.41 7.96l-1.37-1.37c-.4-.4-.92-.59-1.43-.59-.52 0-1.04.2-1.43.59L10.3 9.45l-7.72 7.72c-.78.78-.78 2.05 0 2.83L4 21.41c.39.39.9.59 1.41.59.51 0 1.02-.2 1.41-.59l7.78-7.78 2.81-2.81c.8-.78.8-2.07 0-2.86zM5.41 20L4 18.59l7.72-7.72 1.47 1.35L5.41 20z\"/>\n",
              "  </svg>\n",
              "      </button>\n",
              "      \n",
              "  <style>\n",
              "    .colab-df-container {\n",
              "      display:flex;\n",
              "      flex-wrap:wrap;\n",
              "      gap: 12px;\n",
              "    }\n",
              "\n",
              "    .colab-df-convert {\n",
              "      background-color: #E8F0FE;\n",
              "      border: none;\n",
              "      border-radius: 50%;\n",
              "      cursor: pointer;\n",
              "      display: none;\n",
              "      fill: #1967D2;\n",
              "      height: 32px;\n",
              "      padding: 0 0 0 0;\n",
              "      width: 32px;\n",
              "    }\n",
              "\n",
              "    .colab-df-convert:hover {\n",
              "      background-color: #E2EBFA;\n",
              "      box-shadow: 0px 1px 2px rgba(60, 64, 67, 0.3), 0px 1px 3px 1px rgba(60, 64, 67, 0.15);\n",
              "      fill: #174EA6;\n",
              "    }\n",
              "\n",
              "    [theme=dark] .colab-df-convert {\n",
              "      background-color: #3B4455;\n",
              "      fill: #D2E3FC;\n",
              "    }\n",
              "\n",
              "    [theme=dark] .colab-df-convert:hover {\n",
              "      background-color: #434B5C;\n",
              "      box-shadow: 0px 1px 3px 1px rgba(0, 0, 0, 0.15);\n",
              "      filter: drop-shadow(0px 1px 2px rgba(0, 0, 0, 0.3));\n",
              "      fill: #FFFFFF;\n",
              "    }\n",
              "  </style>\n",
              "\n",
              "      <script>\n",
              "        const buttonEl =\n",
              "          document.querySelector('#df-6b47fa48-b9c6-43e5-9be0-8d5b5cf154b5 button.colab-df-convert');\n",
              "        buttonEl.style.display =\n",
              "          google.colab.kernel.accessAllowed ? 'block' : 'none';\n",
              "\n",
              "        async function convertToInteractive(key) {\n",
              "          const element = document.querySelector('#df-6b47fa48-b9c6-43e5-9be0-8d5b5cf154b5');\n",
              "          const dataTable =\n",
              "            await google.colab.kernel.invokeFunction('convertToInteractive',\n",
              "                                                     [key], {});\n",
              "          if (!dataTable) return;\n",
              "\n",
              "          const docLinkHtml = 'Like what you see? Visit the ' +\n",
              "            '<a target=\"_blank\" href=https://colab.research.google.com/notebooks/data_table.ipynb>data table notebook</a>'\n",
              "            + ' to learn more about interactive tables.';\n",
              "          element.innerHTML = '';\n",
              "          dataTable['output_type'] = 'display_data';\n",
              "          await google.colab.output.renderOutput(dataTable, element);\n",
              "          const docLink = document.createElement('div');\n",
              "          docLink.innerHTML = docLinkHtml;\n",
              "          element.appendChild(docLink);\n",
              "        }\n",
              "      </script>\n",
              "    </div>\n",
              "  </div>\n",
              "  "
            ]
          },
          "metadata": {},
          "execution_count": 203
        }
      ]
    },
    {
      "cell_type": "markdown",
      "source": [
        "# 6.Итоги\n",
        "В результате проделанной работы был проведён анализ имеющихся данных, показавший ряд важных особенностей. Их рекомендуется учитывать при улучшении качества работы сервиса, который занимается распространением видеоигр.\n",
        "\n",
        "На основе набора данных была реализована функция видеоигровых рекомендаций, работающая на принципе косинусного сходства числовых значений векторов метаданных видеоигр. \n",
        "\n",
        "Реализованная функция отвечает поставленным задачам и выдаёт корректные рекомендации, основанные на схожести метаданных. Интеграция функции в работу видеоигрового сервиса поможет увеличить количество, и значительно улучшить качество предоставляемых пользователям сервиса возможностей."
      ],
      "metadata": {
        "id": "UT360cZVDnqX"
      }
    }
  ]
}